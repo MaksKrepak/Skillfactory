{
 "cells": [
  {
   "cell_type": "code",
   "execution_count": 46,
   "id": "769d728b",
   "metadata": {},
   "outputs": [],
   "source": [
    "import numpy as np  # linear algebra\n",
    "import pandas as pd  # data processing, CSV file I/O (e.g. pd.read_csv)\n",
    "\n",
    "import matplotlib.pyplot as plt\n",
    "import seaborn as sns\n",
    "%matplotlib inline\n",
    "\n",
    "from geopy.distance import geodesic as gd"
   ]
  },
  {
   "cell_type": "markdown",
   "id": "22cc07d3",
   "metadata": {},
   "source": [
    "### Устанавливаем модуль для пересчета координат в расстояния"
   ]
  },
  {
   "cell_type": "code",
   "execution_count": 48,
   "id": "496c82e9",
   "metadata": {},
   "outputs": [],
   "source": [
    "# pip install geopy"
   ]
  },
  {
   "cell_type": "markdown",
   "id": "7618be7a",
   "metadata": {},
   "source": [
    "### Читаем датасет и проводим первое знакомство"
   ]
  },
  {
   "cell_type": "code",
   "execution_count": 3,
   "id": "3322d480",
   "metadata": {},
   "outputs": [],
   "source": [
    "df = pd.read_csv('query_result_2021-11-21T20_07_29.560345Z.csv')"
   ]
  },
  {
   "cell_type": "code",
   "execution_count": 60,
   "id": "7dd31d78",
   "metadata": {},
   "outputs": [
    {
     "data": {
      "text/html": [
       "<div>\n",
       "<style scoped>\n",
       "    .dataframe tbody tr th:only-of-type {\n",
       "        vertical-align: middle;\n",
       "    }\n",
       "\n",
       "    .dataframe tbody tr th {\n",
       "        vertical-align: top;\n",
       "    }\n",
       "\n",
       "    .dataframe thead th {\n",
       "        text-align: right;\n",
       "    }\n",
       "</style>\n",
       "<table border=\"1\" class=\"dataframe\">\n",
       "  <thead>\n",
       "    <tr style=\"text-align: right;\">\n",
       "      <th></th>\n",
       "      <th>flight_id</th>\n",
       "      <th>flight_no</th>\n",
       "      <th>dep_city</th>\n",
       "      <th>dep_tz</th>\n",
       "      <th>dep_lon</th>\n",
       "      <th>dep_lat</th>\n",
       "      <th>arr_city</th>\n",
       "      <th>arr_tz</th>\n",
       "      <th>arr_lon</th>\n",
       "      <th>arr_lat</th>\n",
       "      <th>...</th>\n",
       "      <th>actual_departure_month</th>\n",
       "      <th>actual_arrival_month</th>\n",
       "      <th>dist</th>\n",
       "      <th>sum_per_km</th>\n",
       "      <th>fuel</th>\n",
       "      <th>inc_per_person</th>\n",
       "      <th>profit_per_flight</th>\n",
       "      <th>min_rev</th>\n",
       "      <th>res</th>\n",
       "      <th>prfbty</th>\n",
       "    </tr>\n",
       "  </thead>\n",
       "  <tbody>\n",
       "    <tr>\n",
       "      <th>75</th>\n",
       "      <td>136630</td>\n",
       "      <td>PG0480</td>\n",
       "      <td>Anapa</td>\n",
       "      <td>Europe/Moscow</td>\n",
       "      <td>37.347301</td>\n",
       "      <td>45.002102</td>\n",
       "      <td>Belgorod</td>\n",
       "      <td>Europe/Moscow</td>\n",
       "      <td>36.590099</td>\n",
       "      <td>50.643799</td>\n",
       "      <td>...</td>\n",
       "      <td>2</td>\n",
       "      <td>2</td>\n",
       "      <td>629</td>\n",
       "      <td>1186.645469</td>\n",
       "      <td>108333.333333</td>\n",
       "      <td>7940.425532</td>\n",
       "      <td>6.889846</td>\n",
       "      <td>425000.0</td>\n",
       "      <td>321400.0</td>\n",
       "      <td>26.499408</td>\n",
       "    </tr>\n",
       "    <tr>\n",
       "      <th>95</th>\n",
       "      <td>136758</td>\n",
       "      <td>PG0480</td>\n",
       "      <td>Anapa</td>\n",
       "      <td>Europe/Moscow</td>\n",
       "      <td>37.347301</td>\n",
       "      <td>45.002102</td>\n",
       "      <td>Belgorod</td>\n",
       "      <td>Europe/Moscow</td>\n",
       "      <td>36.590099</td>\n",
       "      <td>50.643799</td>\n",
       "      <td>...</td>\n",
       "      <td>1</td>\n",
       "      <td>1</td>\n",
       "      <td>629</td>\n",
       "      <td>1216.693164</td>\n",
       "      <td>108333.333333</td>\n",
       "      <td>7889.690722</td>\n",
       "      <td>7.064308</td>\n",
       "      <td>425000.0</td>\n",
       "      <td>340300.0</td>\n",
       "      <td>27.170414</td>\n",
       "    </tr>\n",
       "    <tr>\n",
       "      <th>11</th>\n",
       "      <td>136172</td>\n",
       "      <td>PG0252</td>\n",
       "      <td>Anapa</td>\n",
       "      <td>Europe/Moscow</td>\n",
       "      <td>37.347301</td>\n",
       "      <td>45.002102</td>\n",
       "      <td>Moscow</td>\n",
       "      <td>Europe/Moscow</td>\n",
       "      <td>37.414600</td>\n",
       "      <td>55.972599</td>\n",
       "      <td>...</td>\n",
       "      <td>1</td>\n",
       "      <td>1</td>\n",
       "      <td>1220</td>\n",
       "      <td>1325.901639</td>\n",
       "      <td>216666.666667</td>\n",
       "      <td>14705.454545</td>\n",
       "      <td>7.465846</td>\n",
       "      <td>850000.0</td>\n",
       "      <td>767600.0</td>\n",
       "      <td>28.714793</td>\n",
       "    </tr>\n",
       "    <tr>\n",
       "      <th>92</th>\n",
       "      <td>136754</td>\n",
       "      <td>PG0480</td>\n",
       "      <td>Anapa</td>\n",
       "      <td>Europe/Moscow</td>\n",
       "      <td>37.347301</td>\n",
       "      <td>45.002102</td>\n",
       "      <td>Belgorod</td>\n",
       "      <td>Europe/Moscow</td>\n",
       "      <td>36.590099</td>\n",
       "      <td>50.643799</td>\n",
       "      <td>...</td>\n",
       "      <td>2</td>\n",
       "      <td>2</td>\n",
       "      <td>629</td>\n",
       "      <td>1146.581876</td>\n",
       "      <td>108333.333333</td>\n",
       "      <td>8013.333333</td>\n",
       "      <td>6.657231</td>\n",
       "      <td>425000.0</td>\n",
       "      <td>296200.0</td>\n",
       "      <td>25.604734</td>\n",
       "    </tr>\n",
       "    <tr>\n",
       "      <th>113</th>\n",
       "      <td>136869</td>\n",
       "      <td>PG0480</td>\n",
       "      <td>Anapa</td>\n",
       "      <td>Europe/Moscow</td>\n",
       "      <td>37.347301</td>\n",
       "      <td>45.002102</td>\n",
       "      <td>Belgorod</td>\n",
       "      <td>Europe/Moscow</td>\n",
       "      <td>36.590099</td>\n",
       "      <td>50.643799</td>\n",
       "      <td>...</td>\n",
       "      <td>1</td>\n",
       "      <td>1</td>\n",
       "      <td>629</td>\n",
       "      <td>1216.693164</td>\n",
       "      <td>108333.333333</td>\n",
       "      <td>7889.690722</td>\n",
       "      <td>7.064308</td>\n",
       "      <td>425000.0</td>\n",
       "      <td>340300.0</td>\n",
       "      <td>27.170414</td>\n",
       "    </tr>\n",
       "  </tbody>\n",
       "</table>\n",
       "<p>5 rows × 36 columns</p>\n",
       "</div>"
      ],
      "text/plain": [
       "     flight_id flight_no dep_city         dep_tz    dep_lon    dep_lat  \\\n",
       "75      136630    PG0480    Anapa  Europe/Moscow  37.347301  45.002102   \n",
       "95      136758    PG0480    Anapa  Europe/Moscow  37.347301  45.002102   \n",
       "11      136172    PG0252    Anapa  Europe/Moscow  37.347301  45.002102   \n",
       "92      136754    PG0480    Anapa  Europe/Moscow  37.347301  45.002102   \n",
       "113     136869    PG0480    Anapa  Europe/Moscow  37.347301  45.002102   \n",
       "\n",
       "     arr_city         arr_tz    arr_lon    arr_lat  ...  \\\n",
       "75   Belgorod  Europe/Moscow  36.590099  50.643799  ...   \n",
       "95   Belgorod  Europe/Moscow  36.590099  50.643799  ...   \n",
       "11     Moscow  Europe/Moscow  37.414600  55.972599  ...   \n",
       "92   Belgorod  Europe/Moscow  36.590099  50.643799  ...   \n",
       "113  Belgorod  Europe/Moscow  36.590099  50.643799  ...   \n",
       "\n",
       "    actual_departure_month  actual_arrival_month  dist   sum_per_km  \\\n",
       "75                       2                     2   629  1186.645469   \n",
       "95                       1                     1   629  1216.693164   \n",
       "11                       1                     1  1220  1325.901639   \n",
       "92                       2                     2   629  1146.581876   \n",
       "113                      1                     1   629  1216.693164   \n",
       "\n",
       "              fuel inc_per_person profit_per_flight   min_rev       res  \\\n",
       "75   108333.333333    7940.425532          6.889846  425000.0  321400.0   \n",
       "95   108333.333333    7889.690722          7.064308  425000.0  340300.0   \n",
       "11   216666.666667   14705.454545          7.465846  850000.0  767600.0   \n",
       "92   108333.333333    8013.333333          6.657231  425000.0  296200.0   \n",
       "113  108333.333333    7889.690722          7.064308  425000.0  340300.0   \n",
       "\n",
       "        prfbty  \n",
       "75   26.499408  \n",
       "95   27.170414  \n",
       "11   28.714793  \n",
       "92   25.604734  \n",
       "113  27.170414  \n",
       "\n",
       "[5 rows x 36 columns]"
      ]
     },
     "execution_count": 60,
     "metadata": {},
     "output_type": "execute_result"
    }
   ],
   "source": [
    "df.sample(5)"
   ]
  },
  {
   "cell_type": "code",
   "execution_count": 49,
   "id": "d28740e6",
   "metadata": {
    "scrolled": false
   },
   "outputs": [
    {
     "name": "stdout",
     "output_type": "stream",
     "text": [
      "<class 'pandas.core.frame.DataFrame'>\n",
      "Int64Index: 118 entries, 0 to 126\n",
      "Data columns (total 35 columns):\n",
      " #   Column                     Non-Null Count  Dtype              \n",
      "---  ------                     --------------  -----              \n",
      " 0   flight_id                  118 non-null    int64              \n",
      " 1   flight_no                  118 non-null    object             \n",
      " 2   dep_city                   118 non-null    object             \n",
      " 3   dep_tz                     118 non-null    object             \n",
      " 4   dep_lon                    118 non-null    float64            \n",
      " 5   dep_lat                    118 non-null    float64            \n",
      " 6   arr_city                   118 non-null    object             \n",
      " 7   arr_tz                     118 non-null    object             \n",
      " 8   arr_lon                    118 non-null    float64            \n",
      " 9   arr_lat                    118 non-null    float64            \n",
      " 10  model                      118 non-null    object             \n",
      " 11  range                      118 non-null    int64              \n",
      " 12  scheduled_departure        118 non-null    datetime64[ns, UTC]\n",
      " 13  scheduled_arrival          118 non-null    datetime64[ns, UTC]\n",
      " 14  actual_departure           118 non-null    datetime64[ns, UTC]\n",
      " 15  actual_arrival             118 non-null    datetime64[ns, UTC]\n",
      " 16  departure_airport          118 non-null    object             \n",
      " 17  arrival_airport            118 non-null    object             \n",
      " 18  aircraft_code              118 non-null    object             \n",
      " 19  way_minutes                118 non-null    float64            \n",
      " 20  count_seats                118 non-null    int64              \n",
      " 21  count_ticket               118 non-null    int64              \n",
      " 22  occupancy                  118 non-null    int64              \n",
      " 23  sum_amount                 118 non-null    float64            \n",
      " 24  scheduled_departure_month  118 non-null    int64              \n",
      " 25  scheduled_arrival_month    118 non-null    int64              \n",
      " 26  actual_departure_month     118 non-null    int64              \n",
      " 27  actual_arrival_month       118 non-null    int64              \n",
      " 28  dist                       118 non-null    int64              \n",
      " 29  sum_per_km                 118 non-null    float64            \n",
      " 30  fuel                       118 non-null    float64            \n",
      " 31  inc_per_person             118 non-null    float64            \n",
      " 32  profit_per_flight          118 non-null    float64            \n",
      " 33  min_rev                    118 non-null    float64            \n",
      " 34  res                        118 non-null    float64            \n",
      "dtypes: datetime64[ns, UTC](4), float64(12), int64(10), object(9)\n",
      "memory usage: 33.2+ KB\n"
     ]
    }
   ],
   "source": [
    "df.info()"
   ]
  },
  {
   "cell_type": "markdown",
   "id": "859b4028",
   "metadata": {},
   "source": [
    "### Переводим формат столбцов с датами в datetime"
   ]
  },
  {
   "cell_type": "code",
   "execution_count": 50,
   "id": "c2c27cc3",
   "metadata": {},
   "outputs": [],
   "source": [
    "df.scheduled_departure = pd.to_datetime(df.scheduled_departure)\n",
    "df.scheduled_arrival = pd.to_datetime(df.scheduled_arrival)\n",
    "df.actual_departure = pd.to_datetime(df.actual_departure)\n",
    "df.actual_arrival = pd.to_datetime(df.actual_arrival)"
   ]
  },
  {
   "cell_type": "markdown",
   "id": "be0aced7",
   "metadata": {},
   "source": [
    "### Выделяем месяц из дат"
   ]
  },
  {
   "cell_type": "code",
   "execution_count": 7,
   "id": "118c0dae",
   "metadata": {},
   "outputs": [],
   "source": [
    "df['scheduled_departure_month'] = df['scheduled_departure'].dt.month\n",
    "df['scheduled_arrival_month'] = df['scheduled_arrival'].dt.month\n",
    "df['actual_departure_month'] = df['actual_departure'].dt.month\n",
    "df['actual_arrival_month'] = df['actual_arrival'].dt.month"
   ]
  },
  {
   "cell_type": "markdown",
   "id": "80d635ca",
   "metadata": {},
   "source": [
    "### Рассчитываем расстояния между Анапой и портами прилета"
   ]
  },
  {
   "cell_type": "code",
   "execution_count": 8,
   "id": "35084967",
   "metadata": {},
   "outputs": [
    {
     "name": "stderr",
     "output_type": "stream",
     "text": [
      "<ipython-input-8-52ce5fee7c79>:7: SettingWithCopyWarning: \n",
      "A value is trying to be set on a copy of a slice from a DataFrame\n",
      "\n",
      "See the caveats in the documentation: https://pandas.pydata.org/pandas-docs/stable/user_guide/indexing.html#returning-a-view-versus-a-copy\n",
      "  df.dist[row] = gd((dep_lat,dep_lon),(arr_lat,arr_lon)).km\n"
     ]
    }
   ],
   "source": [
    "dep_lat = df.dep_lat[0]\n",
    "dep_lon = df.dep_lon[0]\n",
    "df.loc[:, 'dist'] = 0\n",
    "for row in range(df.shape[0]):\n",
    "    arr_lat = df.arr_lat[row]\n",
    "    arr_lon = df.arr_lon[row]\n",
    "    df.dist[row] = gd((dep_lat,dep_lon),(arr_lat,arr_lon)).km"
   ]
  },
  {
   "cell_type": "code",
   "execution_count": 51,
   "id": "d58a0b66",
   "metadata": {
    "scrolled": false
   },
   "outputs": [
    {
     "data": {
      "text/plain": [
       "0      1220\n",
       "1      1220\n",
       "2      1220\n",
       "3      1220\n",
       "4      1220\n",
       "       ... \n",
       "122     629\n",
       "123     629\n",
       "124     629\n",
       "125     629\n",
       "126     629\n",
       "Name: dist, Length: 118, dtype: int64"
      ]
     },
     "execution_count": 51,
     "metadata": {},
     "output_type": "execute_result"
    }
   ],
   "source": [
    "df['dist']"
   ]
  },
  {
   "cell_type": "markdown",
   "id": "abbff7d4",
   "metadata": {},
   "source": [
    "### Удаляем пустые строки"
   ]
  },
  {
   "cell_type": "code",
   "execution_count": 10,
   "id": "34caad33",
   "metadata": {},
   "outputs": [
    {
     "data": {
      "text/plain": [
       "flight_id                    0\n",
       "flight_no                    0\n",
       "dep_city                     0\n",
       "dep_tz                       0\n",
       "dep_lon                      0\n",
       "dep_lat                      0\n",
       "arr_city                     0\n",
       "arr_tz                       0\n",
       "arr_lon                      0\n",
       "arr_lat                      0\n",
       "model                        0\n",
       "range                        0\n",
       "scheduled_departure          0\n",
       "scheduled_arrival            0\n",
       "actual_departure             0\n",
       "actual_arrival               0\n",
       "departure_airport            0\n",
       "arrival_airport              0\n",
       "aircraft_code                0\n",
       "way_minutes                  0\n",
       "count_seats                  0\n",
       "count_ticket                 0\n",
       "occupancy                    0\n",
       "sum_amount                   9\n",
       "scheduled_departure_month    0\n",
       "scheduled_arrival_month      0\n",
       "actual_departure_month       0\n",
       "actual_arrival_month         0\n",
       "dist                         0\n",
       "dtype: int64"
      ]
     },
     "execution_count": 10,
     "metadata": {},
     "output_type": "execute_result"
    }
   ],
   "source": [
    "df.isna().sum()"
   ]
  },
  {
   "cell_type": "code",
   "execution_count": 11,
   "id": "4e35156e",
   "metadata": {},
   "outputs": [],
   "source": [
    "df.dropna(subset=['sum_amount'], inplace=True)"
   ]
  },
  {
   "cell_type": "markdown",
   "id": "03611678",
   "metadata": {},
   "source": [
    "### Рассчитываем различные производные показатели"
   ]
  },
  {
   "cell_type": "code",
   "execution_count": 13,
   "id": "1c0031dc",
   "metadata": {},
   "outputs": [],
   "source": [
    "df['sum_per_km'] = df.sum_amount / df.dist  # выручка на км полета"
   ]
  },
  {
   "cell_type": "code",
   "execution_count": 14,
   "id": "e469de0c",
   "metadata": {},
   "outputs": [],
   "source": [
    "df['fuel'] = df.way_minutes / 60 * 2600 * 50  # затраты на топливо\n",
    "                                              # расход 2600 кг/ч, стоимость 50 р./кг"
   ]
  },
  {
   "cell_type": "code",
   "execution_count": 15,
   "id": "49063ff0",
   "metadata": {},
   "outputs": [],
   "source": [
    "df['inc_per_person'] = df.sum_amount / df.count_ticket  # выручка на пассажира"
   ]
  },
  {
   "cell_type": "code",
   "execution_count": 56,
   "id": "7988728e",
   "metadata": {},
   "outputs": [],
   "source": [
    "df['profit_per_flight'] = df.sum_amount / df.fuel  # выручка к затратам на топливо"
   ]
  },
  {
   "cell_type": "markdown",
   "id": "c2279f00",
   "metadata": {},
   "source": [
    "### Выявление убыточных рейсов"
   ]
  },
  {
   "cell_type": "code",
   "execution_count": 42,
   "id": "7b750fbd",
   "metadata": {},
   "outputs": [],
   "source": [
    "'''Для получения 2% рентабельности продаж (средняя по рынку) на рейсах и при доле затрат\n",
    "на топливо в структуре всех расходов 26%, расчитываем минимальную выручку, \n",
    "которая должна быть получена на рейсе'''\n",
    "df['min_rev'] = df.fuel / 0.26 * 1.02"
   ]
  },
  {
   "cell_type": "code",
   "execution_count": 43,
   "id": "259cc04d",
   "metadata": {},
   "outputs": [],
   "source": [
    "df['res'] = df.sum_amount - df.min_rev  # разница между фактической и минимальной необходимой выручкой"
   ]
  },
  {
   "cell_type": "code",
   "execution_count": 57,
   "id": "620c2662",
   "metadata": {},
   "outputs": [
    {
     "data": {
      "text/plain": [
       "False    118\n",
       "Name: res, dtype: int64"
      ]
     },
     "execution_count": 57,
     "metadata": {},
     "output_type": "execute_result"
    }
   ],
   "source": [
    "(df.res <= 0).value_counts()  # убыточных рейсов не обнаружено"
   ]
  },
  {
   "cell_type": "markdown",
   "id": "08796e18",
   "metadata": {},
   "source": [
    "**Вывод:** В данном приближении убыточных рейсов не выявлено."
   ]
  },
  {
   "cell_type": "markdown",
   "id": "086f4a1f",
   "metadata": {},
   "source": [
    "### Расчет прибыльности рейсов"
   ]
  },
  {
   "cell_type": "code",
   "execution_count": 88,
   "id": "f1598738",
   "metadata": {},
   "outputs": [],
   "source": [
    "df['prfbty'] = (df.sum_amount / df.fuel * .26 - 1)*100"
   ]
  },
  {
   "cell_type": "code",
   "execution_count": 89,
   "id": "02f10439",
   "metadata": {},
   "outputs": [
    {
     "name": "stdout",
     "output_type": "stream",
     "text": [
      "27.439999999999998\n",
      "126.32\n",
      "83.80684745762711\n"
     ]
    }
   ],
   "source": [
    "print(df['prfbty'].min())\n",
    "print(df['prfbty'].max())\n",
    "print(df['prfbty'].mean())"
   ]
  },
  {
   "cell_type": "markdown",
   "id": "5f409963",
   "metadata": {},
   "source": [
    "Средняя рентабельность (рентабельность продаж) перевозок составляет 84%. Величина сильно отличается от данных по отраслевой рентабельности - 1-2%. Нужно учитывать ненадежность и малое количество основных показателей, применяемых в расчетах - стоимость топлива (50 р./кг) и доля затрат на топливо в общих расходах (26%). \n",
    "\n",
    "Скорее всего, в статьях в интернете имелось в виду, что 26% - это доля в себестомости, а не в суммарных затратах, как эту долю обозначали. Накладные расходы могут вносить существенный вклад в распределение долей расходов.\n",
    "\n",
    "Снижение этой доли за счет накладных до 20% сразу приводит к появлению убыточных рейсов в данном датасете.\n",
    "\n",
    "\n",
    "В целом, еще раз подтверждается правило, что себестоимость нужно считать и весьма тщательно, а не оценивать."
   ]
  },
  {
   "cell_type": "markdown",
   "id": "35119c4a",
   "metadata": {},
   "source": [
    "### Распределение рентабельности сырья (выручка/стоимость топлива)"
   ]
  },
  {
   "cell_type": "code",
   "execution_count": 17,
   "id": "a39bafb8",
   "metadata": {
    "scrolled": true
   },
   "outputs": [
    {
     "name": "stdout",
     "output_type": "stream",
     "text": [
      "4.901538461538461\n",
      "8.704615384615384\n",
      "7.069494132985662\n"
     ]
    }
   ],
   "source": [
    "print(df['profit_per_flight'].min())\n",
    "print(df['profit_per_flight'].max())\n",
    "print(df['profit_per_flight'].mean())"
   ]
  },
  {
   "cell_type": "code",
   "execution_count": 22,
   "id": "4c7e110a",
   "metadata": {
    "scrolled": true
   },
   "outputs": [
    {
     "data": {
      "text/plain": [
       "<AxesSubplot:>"
      ]
     },
     "execution_count": 22,
     "metadata": {},
     "output_type": "execute_result"
    },
    {
     "data": {
      "image/png": "[encoded data removed]",
      "text/plain": [
       "<Figure size 432x288 with 1 Axes>"
      ]
     },
     "metadata": {
      "needs_background": "light"
     },
     "output_type": "display_data"
    }
   ],
   "source": [
    "df['profit_per_flight'].hist()"
   ]
  },
  {
   "cell_type": "markdown",
   "id": "db1af2bd",
   "metadata": {},
   "source": [
    "### Визуализация"
   ]
  },
  {
   "cell_type": "code",
   "execution_count": 58,
   "id": "31b19eed",
   "metadata": {
    "scrolled": false
   },
   "outputs": [
    {
     "data": {
      "image/png": "[encoded data removed]",
      "text/plain": [
       "<Figure size 432x288 with 1 Axes>"
      ]
     },
     "metadata": {
      "needs_background": "light"
     },
     "output_type": "display_data"
    },
    {
     "data": {
      "image/png": "[encoded data removed]",
      "text/plain": [
       "<Figure size 432x288 with 1 Axes>"
      ]
     },
     "metadata": {
      "needs_background": "light"
     },
     "output_type": "display_data"
    },
    {
     "data": {
      "image/png": "[encoded data removed]",
      "text/plain": [
       "<Figure size 432x288 with 1 Axes>"
      ]
     },
     "metadata": {
      "needs_background": "light"
     },
     "output_type": "display_data"
    },
    {
     "data": {
      "image/png": "[encoded data removed]",
      "text/plain": [
       "<Figure size 432x288 with 1 Axes>"
      ]
     },
     "metadata": {
      "needs_background": "light"
     },
     "output_type": "display_data"
    },
    {
     "data": {
      "image/png": "[encoded data removed]",
      "text/plain": [
       "<Figure size 432x288 with 1 Axes>"
      ]
     },
     "metadata": {
      "needs_background": "light"
     },
     "output_type": "display_data"
    },
    {
     "data": {
      "image/png": "[encoded data removed]",
      "text/plain": [
       "<Figure size 432x288 with 1 Axes>"
      ]
     },
     "metadata": {
      "needs_background": "light"
     },
     "output_type": "display_data"
    },
    {
     "data": {
      "image/png": "[encoded data removed]",
      "text/plain": [
       "<Figure size 432x288 with 1 Axes>"
      ]
     },
     "metadata": {
      "needs_background": "light"
     },
     "output_type": "display_data"
    },
    {
     "data": {
      "image/png": "[encoded data removed]",
      "text/plain": [
       "<Figure size 432x288 with 1 Axes>"
      ]
     },
     "metadata": {
      "needs_background": "light"
     },
     "output_type": "display_data"
    },
    {
     "data": {
      "image/png": "[encoded data removed]",
      "text/plain": [
       "<Figure size 432x288 with 1 Axes>"
      ]
     },
     "metadata": {
      "needs_background": "light"
     },
     "output_type": "display_data"
    },
    {
     "data": {
      "image/png": "[encoded data removed]",
      "text/plain": [
       "<Figure size 432x288 with 1 Axes>"
      ]
     },
     "metadata": {
      "needs_background": "light"
     },
     "output_type": "display_data"
    }
   ],
   "source": [
    "df.pivot_table(values = ['sum_amount'], \n",
    "               index = 'model', \n",
    "               aggfunc = 'sum').plot(kind = 'bar', rot=0)\n",
    "plt.title (\"Доход от проданных билетов\")\n",
    "df.pivot_table(values = ['way_minutes'], \n",
    "               index = 'model', \n",
    "               aggfunc = 'sum').plot(kind = 'bar', rot=0)\n",
    "plt.title (\"Общее время налета, мин.\")\n",
    "\n",
    "df.pivot_table(values = ['count_seats'], \n",
    "               index = 'model', \n",
    "               aggfunc = 'sum').plot(kind = 'bar', rot=0)\n",
    "plt.title (\"Общее количество мест\")\n",
    "df.pivot_table(values = ['count_ticket'], \n",
    "               index = 'model', \n",
    "               aggfunc = 'sum').plot(kind = 'bar', rot=0)\n",
    "plt.title (\"Количество проданных билетов\")\n",
    "df.pivot_table(values = ['dist'], \n",
    "               index = 'model', \n",
    "               aggfunc = 'sum').plot(kind = 'bar', rot=0)\n",
    "plt.title (\"Общий налет, км\")\n",
    "df.pivot_table(values = ['sum_per_km'], \n",
    "               index = 'model', \n",
    "               aggfunc = 'mean').plot(kind = 'bar', rot=0)\n",
    "plt.title (\"Средняя выручка на км\")\n",
    "df.pivot_table(values = ['occupancy'], \n",
    "               index = 'model', \n",
    "               aggfunc = 'mean').plot(kind = 'bar', rot=0)\n",
    "plt.title (\"Заполняемость\")\n",
    "df.pivot_table(values = ['sum_amount','fuel'], \n",
    "               index = 'model', \n",
    "               aggfunc = 'sum').plot(kind = 'bar', rot=0)\n",
    "plt.title (\"Доход от проданных билетов и затраты на топливо\")\n",
    "df.pivot_table(values = ['inc_per_person'], \n",
    "               index = 'model', \n",
    "               aggfunc = 'mean').plot(kind = 'bar', rot=0)\n",
    "plt.title (\"Доход на пассажира\")\n",
    "df.pivot_table(values = ['flight_id'], \n",
    "               index = 'scheduled_departure_month', \n",
    "               aggfunc = 'sum').plot(kind = 'bar', rot=0)\n",
    "plt.title (\"Распределение вылетов по месяцам\")\n",
    "plt.show()\n"
   ]
  },
  {
   "cell_type": "code",
   "execution_count": 21,
   "id": "e3e9e8c4",
   "metadata": {
    "scrolled": false
   },
   "outputs": [
    {
     "data": {
      "image/png": "[encoded data removed]",
      "text/plain": [
       "<Figure size 432x288 with 1 Axes>"
      ]
     },
     "metadata": {
      "needs_background": "light"
     },
     "output_type": "display_data"
    },
    {
     "data": {
      "image/png": "[encoded data removed]",
      "text/plain": [
       "<Figure size 432x288 with 1 Axes>"
      ]
     },
     "metadata": {
      "needs_background": "light"
     },
     "output_type": "display_data"
    },
    {
     "data": {
      "image/png": "[encoded data removed]",
      "text/plain": [
       "<Figure size 432x288 with 1 Axes>"
      ]
     },
     "metadata": {
      "needs_background": "light"
     },
     "output_type": "display_data"
    },
    {
     "data": {
      "image/png": "[encoded data removed]",
      "text/plain": [
       "<Figure size 432x288 with 1 Axes>"
      ]
     },
     "metadata": {
      "needs_background": "light"
     },
     "output_type": "display_data"
    },
    {
     "data": {
      "image/png": "[encoded data removed]",
      "text/plain": [
       "<Figure size 432x288 with 1 Axes>"
      ]
     },
     "metadata": {
      "needs_background": "light"
     },
     "output_type": "display_data"
    }
   ],
   "source": [
    "df.pivot_table(values = ['sum_amount'], \n",
    "               index = 'arr_city', \n",
    "               aggfunc = 'sum').plot(kind = 'bar', rot=0)\n",
    "plt.title (\"Доход от проданных билетов\")\n",
    "\n",
    "df.pivot_table(values = ['dist'], \n",
    "               index = 'arr_city', \n",
    "               aggfunc = 'sum').plot(kind = 'bar', rot=0)\n",
    "plt.title (\"Расстояние, км\")\n",
    "\n",
    "df.pivot_table(values = ['occupancy'], \n",
    "               index = 'arr_city', \n",
    "               aggfunc = 'mean').plot(kind = 'bar', rot=0)\n",
    "plt.title (\"Заполняемость\")\n",
    "df.pivot_table(values = ['sum_amount','fuel'], \n",
    "               index = 'arr_city', \n",
    "               aggfunc = 'sum').plot(kind = 'bar', rot=0)\n",
    "plt.title (\"Доход от проданных билетов и затраты на топливо по городам\")\n",
    "df.pivot_table(values = ['inc_per_person'], \n",
    "               index = 'arr_city', \n",
    "               aggfunc = 'sum').plot(kind = 'bar', rot=0)\n",
    "plt.title (\"Доход на пассажира\")\n",
    "plt.show()\n"
   ]
  }
 ],
 "metadata": {
  "kernelspec": {
   "display_name": "Python 3",
   "language": "python",
   "name": "python3"
  },
  "language_info": {
   "codemirror_mode": {
    "name": "ipython",
    "version": 3
   },
   "file_extension": ".py",
   "mimetype": "text/x-python",
   "name": "python",
   "nbconvert_exporter": "python",
   "pygments_lexer": "ipython3",
   "version": "3.8.8"
  }
 },
 "nbformat": 4,
 "nbformat_minor": 5
}
