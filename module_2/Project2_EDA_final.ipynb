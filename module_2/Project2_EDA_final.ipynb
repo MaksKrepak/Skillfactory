{
 "cells": [
  {
   "cell_type": "code",
   "execution_count": 1,
   "id": "0c480b67",
   "metadata": {},
   "outputs": [],
   "source": [
    "import pandas as pd\n",
    "import matplotlib.pyplot as plt\n",
    "import numpy as np\n",
    "import seaborn as sns\n",
    "from itertools import combinations\n",
    "from scipy.stats import ttest_ind\n",
    "from scipy.stats import ttest_rel\n",
    "from statsmodels.stats import weightstats\n",
    "%matplotlib inline"
   ]
  },
  {
   "cell_type": "code",
   "execution_count": 2,
   "id": "110a5327",
   "metadata": {},
   "outputs": [],
   "source": [
    "df = pd.read_csv('stud_math.csv')"
   ]
  },
  {
   "cell_type": "markdown",
   "id": "92ba863c",
   "metadata": {},
   "source": [
    "# Предобработка"
   ]
  },
  {
   "cell_type": "code",
   "execution_count": 3,
   "id": "18837a16",
   "metadata": {},
   "outputs": [],
   "source": [
    "def fill_with_none(var):\n",
    "    '''функция заполнения пустых ячеек None'''\n",
    "    var = var.apply(lambda x: None if pd.isnull(x) else x)\n",
    "    return var\n",
    "\n",
    "\n",
    "def iqr(var):\n",
    "    '''функция расчета параметров межквартильного интервала'''\n",
    "    global perc25, perc75, IQR\n",
    "    IQR = df[var].quantile(0.75) - df[var].quantile(0.25)\n",
    "    perc25 = df[var].quantile(0.25)\n",
    "    perc75 = df[var].quantile(0.75)\n",
    "\n",
    "    print(\n",
    "    '25-й перцентиль: {},'.format(perc25),\n",
    "    '75-й перцентиль: {},'.format(perc75),\n",
    "    \"IQR: {}, \".format(IQR),\n",
    "    \"Границы выбросов: [{f}, {l}].\".format(f=perc25 - 1.5*IQR, l=perc75 + 1.5*IQR))\n",
    "\n",
    "    \n",
    "def label_encoding(data, col):\n",
    "    '''функция перевода категориального признака в числовой'''\n",
    "    unique_values = data[col].dropna().unique()\n",
    "    enconding_values = range(len(unique_values))\n",
    "    encoding_dict = dict(zip(unique_values, enconding_values))\n",
    "    print(encoding_dict)\n",
    "    return data[col].replace(encoding_dict, inplace=True)   \n",
    "\n",
    "\n",
    "def fill_mod(col):\n",
    "    '''функция заполнения пропусков модой'''\n",
    "    df[col] = df[col].fillna(df[col].mode()[0])\n",
    "\n",
    "    \n",
    "def fill_med(col):\n",
    "    '''функция заполнения пропусков медианой'''\n",
    "    df[col] = df[col].fillna(df[col].median())\n",
    "    \n",
    "\n",
    "def fill_aver(col):\n",
    "    '''функция заполнения пропусков средним арифметическим'''\n",
    "    df[col] = df[col].fillna(df[col].mean())"
   ]
  },
  {
   "cell_type": "markdown",
   "id": "ae21a0a1",
   "metadata": {},
   "source": [
    "# Цель проекта"
   ]
  },
  {
   "cell_type": "markdown",
   "id": "4ac017b4",
   "metadata": {},
   "source": [
    "Суть проекта — отследить влияние условий жизни учащихся в возрасте от 15 до 22 лет на их успеваемость по математике, чтобы на ранней стадии выявлять студентов, находящихся в группе риска.\n",
    "\n",
    "И сделать это можно с помощью модели, которая предсказывала бы результаты госэкзамена по математике для каждого ученика школы (вот она, сила ML!). Чтобы определиться с параметрами будущей модели, провдится разведывательный анализ данных. \n",
    "\n",
    "**Цель данного проекта: провести разведывательный анализ данных и составить отчёт по его результатам.**"
   ]
  },
  {
   "cell_type": "markdown",
   "id": "c464080e",
   "metadata": {},
   "source": [
    "# Знакомство с датасетом"
   ]
  },
  {
   "cell_type": "markdown",
   "id": "4eedda49",
   "metadata": {},
   "source": [
    "Переменные, которые содержит датасет:\n",
    "1. school — аббревиатура школы, в которой учится ученик\n",
    "2. sex — пол ученика ('F' - женский, 'M' - мужской)\n",
    "3. age — возраст ученика (от 15 до 22)\n",
    "4. address — тип адреса ученика ('U' - городской, 'R' - за городом)\n",
    "5. famsize — размер семьи('LE3' <= 3, 'GT3' >3)\n",
    "6. Pstatus — статус совместного жилья родителей ('T' - живут вместе 'A' - раздельно)\n",
    "7. Medu — образование матери (0 - нет, 1 - 4 класса, 2 - 5-9 классы, 3 - среднее специальное или 11 классов, 4 - высшее)\n",
    "8. Fedu — образование отца (0 - нет, 1 - 4 класса, 2 - 5-9 классы, 3 - среднее специальное или 11 классов, 4 - высшее)\n",
    "9. Mjob — работа матери ('teacher' - учитель, 'health' - сфера здравоохранения, 'services' - гос служба, 'at_home' - не работает, 'other' - другое)\n",
    "10. Fjob — работа отца ('teacher' - учитель, 'health' - сфера здравоохранения, 'services' - гос служба, 'at_home' - не работает, 'other' - другое)\n",
    "11. reason — причина выбора школы ('home' - близость к дому, 'reputation' - репутация школы, 'course' - образовательная программа, 'other' - другое)\n",
    "12. guardian — опекун ('mother' - мать, 'father' - отец, 'other' - другое)\n",
    "13. traveltime — время в пути до школы (1 - <15 мин., 2 - 15-30 мин., 3 - 30-60 мин., 4 - >60 мин.)\n",
    "14. studytime — время на учёбу помимо школы в неделю (1 - <2 часов, 2 - 2-5 часов, 3 - 5-10 часов, 4 - >10 часов)\n",
    "15. failures — количество внеучебных неудач (n, если 1<=n<=3, иначе 0)\n",
    "16. schoolsup — дополнительная образовательная поддержка (yes или no)\n",
    "17. famsup — семейная образовательная поддержка (yes или no)\n",
    "18. paid — дополнительные платные занятия по математике (yes или no)\n",
    "19. activities — дополнительные внеучебные занятия (yes или no)\n",
    "20. nursery — посещал детский сад (yes или no)\n",
    "21. higher — хочет получить высшее образование (yes или no)\n",
    "22. internet — наличие интернета дома (yes или no)\n",
    "23. romantic — в романтических отношениях (yes или no)\n",
    "24. famrel — семейные отношения (от 1 - очень плохо до 5 - очень хорошо)\n",
    "25. freetime — свободное время после школы (от 1 - очень мало до 5 - очень мого)\n",
    "26. goout — проведение времени с друзьями (от 1 - очень мало до 5 - очень много)\n",
    "27. health — текущее состояние здоровья (от 1 - очень плохо до 5 - очень хорошо)\n",
    "28. absences — количество пропущенных занятий\n",
    "29. score — баллы по госэкзамену по математике"
   ]
  },
  {
   "cell_type": "code",
   "execution_count": 4,
   "id": "f7fece2a",
   "metadata": {},
   "outputs": [
    {
     "name": "stdout",
     "output_type": "stream",
     "text": [
      "<class 'pandas.core.frame.DataFrame'>\n",
      "RangeIndex: 395 entries, 0 to 394\n",
      "Data columns (total 30 columns):\n",
      " #   Column               Non-Null Count  Dtype  \n",
      "---  ------               --------------  -----  \n",
      " 0   school               395 non-null    object \n",
      " 1   sex                  395 non-null    object \n",
      " 2   age                  395 non-null    int64  \n",
      " 3   address              378 non-null    object \n",
      " 4   famsize              368 non-null    object \n",
      " 5   Pstatus              350 non-null    object \n",
      " 6   Medu                 392 non-null    float64\n",
      " 7   Fedu                 371 non-null    float64\n",
      " 8   Mjob                 376 non-null    object \n",
      " 9   Fjob                 359 non-null    object \n",
      " 10  reason               378 non-null    object \n",
      " 11  guardian             364 non-null    object \n",
      " 12  traveltime           367 non-null    float64\n",
      " 13  studytime            388 non-null    float64\n",
      " 14  failures             373 non-null    float64\n",
      " 15  schoolsup            386 non-null    object \n",
      " 16  famsup               356 non-null    object \n",
      " 17  paid                 355 non-null    object \n",
      " 18  activities           381 non-null    object \n",
      " 19  nursery              379 non-null    object \n",
      " 20  studytime, granular  388 non-null    float64\n",
      " 21  higher               375 non-null    object \n",
      " 22  internet             361 non-null    object \n",
      " 23  romantic             364 non-null    object \n",
      " 24  famrel               368 non-null    float64\n",
      " 25  freetime             384 non-null    float64\n",
      " 26  goout                387 non-null    float64\n",
      " 27  health               380 non-null    float64\n",
      " 28  absences             383 non-null    float64\n",
      " 29  score                389 non-null    float64\n",
      "dtypes: float64(12), int64(1), object(17)\n",
      "memory usage: 92.7+ KB\n"
     ]
    }
   ],
   "source": [
    "df.info()"
   ]
  },
  {
   "cell_type": "markdown",
   "id": "bc141855",
   "metadata": {},
   "source": [
    "Чтобы не путаться впоследствии, названия всех столбцов сделаем строчными буквами: "
   ]
  },
  {
   "cell_type": "code",
   "execution_count": 5,
   "id": "9efb7fcc",
   "metadata": {},
   "outputs": [],
   "source": [
    "df.columns = [col.lower() for col in df.columns]"
   ]
  },
  {
   "cell_type": "markdown",
   "id": "9a49e8ef",
   "metadata": {},
   "source": [
    "Переименуем столбец studytime, granular, чтобы он был в приемлемом для работы формате:"
   ]
  },
  {
   "cell_type": "code",
   "execution_count": 6,
   "id": "26e15d1c",
   "metadata": {},
   "outputs": [],
   "source": [
    "df.rename(columns={'studytime, granular': 'studytime_granular'}, inplace=True)"
   ]
  },
  {
   "cell_type": "code",
   "execution_count": 7,
   "id": "0fbfe73f",
   "metadata": {},
   "outputs": [
    {
     "name": "stdout",
     "output_type": "stream",
     "text": [
      "<class 'pandas.core.frame.DataFrame'>\n",
      "RangeIndex: 395 entries, 0 to 394\n",
      "Data columns (total 30 columns):\n",
      " #   Column              Non-Null Count  Dtype  \n",
      "---  ------              --------------  -----  \n",
      " 0   school              395 non-null    object \n",
      " 1   sex                 395 non-null    object \n",
      " 2   age                 395 non-null    int64  \n",
      " 3   address             378 non-null    object \n",
      " 4   famsize             368 non-null    object \n",
      " 5   pstatus             350 non-null    object \n",
      " 6   medu                392 non-null    float64\n",
      " 7   fedu                371 non-null    float64\n",
      " 8   mjob                376 non-null    object \n",
      " 9   fjob                359 non-null    object \n",
      " 10  reason              378 non-null    object \n",
      " 11  guardian            364 non-null    object \n",
      " 12  traveltime          367 non-null    float64\n",
      " 13  studytime           388 non-null    float64\n",
      " 14  failures            373 non-null    float64\n",
      " 15  schoolsup           386 non-null    object \n",
      " 16  famsup              356 non-null    object \n",
      " 17  paid                355 non-null    object \n",
      " 18  activities          381 non-null    object \n",
      " 19  nursery             379 non-null    object \n",
      " 20  studytime_granular  388 non-null    float64\n",
      " 21  higher              375 non-null    object \n",
      " 22  internet            361 non-null    object \n",
      " 23  romantic            364 non-null    object \n",
      " 24  famrel              368 non-null    float64\n",
      " 25  freetime            384 non-null    float64\n",
      " 26  goout               387 non-null    float64\n",
      " 27  health              380 non-null    float64\n",
      " 28  absences            383 non-null    float64\n",
      " 29  score               389 non-null    float64\n",
      "dtypes: float64(12), int64(1), object(17)\n",
      "memory usage: 92.7+ KB\n"
     ]
    }
   ],
   "source": [
    "df.info()"
   ]
  },
  {
   "cell_type": "code",
   "execution_count": 8,
   "id": "6aaae539",
   "metadata": {},
   "outputs": [
    {
     "data": {
      "text/html": [
       "<div>\n",
       "<style scoped>\n",
       "    .dataframe tbody tr th:only-of-type {\n",
       "        vertical-align: middle;\n",
       "    }\n",
       "\n",
       "    .dataframe tbody tr th {\n",
       "        vertical-align: top;\n",
       "    }\n",
       "\n",
       "    .dataframe thead th {\n",
       "        text-align: right;\n",
       "    }\n",
       "</style>\n",
       "<table border=\"1\" class=\"dataframe\">\n",
       "  <thead>\n",
       "    <tr style=\"text-align: right;\">\n",
       "      <th></th>\n",
       "      <th>school</th>\n",
       "      <th>sex</th>\n",
       "      <th>age</th>\n",
       "      <th>address</th>\n",
       "      <th>famsize</th>\n",
       "      <th>pstatus</th>\n",
       "      <th>medu</th>\n",
       "      <th>fedu</th>\n",
       "      <th>mjob</th>\n",
       "      <th>fjob</th>\n",
       "      <th>...</th>\n",
       "      <th>studytime_granular</th>\n",
       "      <th>higher</th>\n",
       "      <th>internet</th>\n",
       "      <th>romantic</th>\n",
       "      <th>famrel</th>\n",
       "      <th>freetime</th>\n",
       "      <th>goout</th>\n",
       "      <th>health</th>\n",
       "      <th>absences</th>\n",
       "      <th>score</th>\n",
       "    </tr>\n",
       "  </thead>\n",
       "  <tbody>\n",
       "    <tr>\n",
       "      <th>0</th>\n",
       "      <td>GP</td>\n",
       "      <td>F</td>\n",
       "      <td>18</td>\n",
       "      <td>U</td>\n",
       "      <td>NaN</td>\n",
       "      <td>A</td>\n",
       "      <td>4.0</td>\n",
       "      <td>4.0</td>\n",
       "      <td>at_home</td>\n",
       "      <td>teacher</td>\n",
       "      <td>...</td>\n",
       "      <td>-6.0</td>\n",
       "      <td>yes</td>\n",
       "      <td>NaN</td>\n",
       "      <td>no</td>\n",
       "      <td>4.0</td>\n",
       "      <td>3.0</td>\n",
       "      <td>4.0</td>\n",
       "      <td>3.0</td>\n",
       "      <td>6.0</td>\n",
       "      <td>30.0</td>\n",
       "    </tr>\n",
       "    <tr>\n",
       "      <th>1</th>\n",
       "      <td>GP</td>\n",
       "      <td>F</td>\n",
       "      <td>17</td>\n",
       "      <td>U</td>\n",
       "      <td>GT3</td>\n",
       "      <td>NaN</td>\n",
       "      <td>1.0</td>\n",
       "      <td>1.0</td>\n",
       "      <td>at_home</td>\n",
       "      <td>other</td>\n",
       "      <td>...</td>\n",
       "      <td>-6.0</td>\n",
       "      <td>yes</td>\n",
       "      <td>yes</td>\n",
       "      <td>no</td>\n",
       "      <td>5.0</td>\n",
       "      <td>3.0</td>\n",
       "      <td>3.0</td>\n",
       "      <td>3.0</td>\n",
       "      <td>4.0</td>\n",
       "      <td>30.0</td>\n",
       "    </tr>\n",
       "    <tr>\n",
       "      <th>2</th>\n",
       "      <td>GP</td>\n",
       "      <td>F</td>\n",
       "      <td>15</td>\n",
       "      <td>U</td>\n",
       "      <td>LE3</td>\n",
       "      <td>T</td>\n",
       "      <td>1.0</td>\n",
       "      <td>1.0</td>\n",
       "      <td>at_home</td>\n",
       "      <td>other</td>\n",
       "      <td>...</td>\n",
       "      <td>-6.0</td>\n",
       "      <td>yes</td>\n",
       "      <td>yes</td>\n",
       "      <td>NaN</td>\n",
       "      <td>4.0</td>\n",
       "      <td>3.0</td>\n",
       "      <td>2.0</td>\n",
       "      <td>3.0</td>\n",
       "      <td>10.0</td>\n",
       "      <td>50.0</td>\n",
       "    </tr>\n",
       "    <tr>\n",
       "      <th>3</th>\n",
       "      <td>GP</td>\n",
       "      <td>F</td>\n",
       "      <td>15</td>\n",
       "      <td>U</td>\n",
       "      <td>GT3</td>\n",
       "      <td>T</td>\n",
       "      <td>4.0</td>\n",
       "      <td>2.0</td>\n",
       "      <td>health</td>\n",
       "      <td>NaN</td>\n",
       "      <td>...</td>\n",
       "      <td>-9.0</td>\n",
       "      <td>yes</td>\n",
       "      <td>yes</td>\n",
       "      <td>yes</td>\n",
       "      <td>3.0</td>\n",
       "      <td>2.0</td>\n",
       "      <td>2.0</td>\n",
       "      <td>5.0</td>\n",
       "      <td>2.0</td>\n",
       "      <td>75.0</td>\n",
       "    </tr>\n",
       "    <tr>\n",
       "      <th>4</th>\n",
       "      <td>GP</td>\n",
       "      <td>F</td>\n",
       "      <td>16</td>\n",
       "      <td>U</td>\n",
       "      <td>GT3</td>\n",
       "      <td>T</td>\n",
       "      <td>3.0</td>\n",
       "      <td>3.0</td>\n",
       "      <td>other</td>\n",
       "      <td>other</td>\n",
       "      <td>...</td>\n",
       "      <td>-6.0</td>\n",
       "      <td>yes</td>\n",
       "      <td>no</td>\n",
       "      <td>no</td>\n",
       "      <td>4.0</td>\n",
       "      <td>3.0</td>\n",
       "      <td>2.0</td>\n",
       "      <td>5.0</td>\n",
       "      <td>4.0</td>\n",
       "      <td>50.0</td>\n",
       "    </tr>\n",
       "    <tr>\n",
       "      <th>...</th>\n",
       "      <td>...</td>\n",
       "      <td>...</td>\n",
       "      <td>...</td>\n",
       "      <td>...</td>\n",
       "      <td>...</td>\n",
       "      <td>...</td>\n",
       "      <td>...</td>\n",
       "      <td>...</td>\n",
       "      <td>...</td>\n",
       "      <td>...</td>\n",
       "      <td>...</td>\n",
       "      <td>...</td>\n",
       "      <td>...</td>\n",
       "      <td>...</td>\n",
       "      <td>...</td>\n",
       "      <td>...</td>\n",
       "      <td>...</td>\n",
       "      <td>...</td>\n",
       "      <td>...</td>\n",
       "      <td>...</td>\n",
       "      <td>...</td>\n",
       "    </tr>\n",
       "    <tr>\n",
       "      <th>390</th>\n",
       "      <td>MS</td>\n",
       "      <td>M</td>\n",
       "      <td>20</td>\n",
       "      <td>U</td>\n",
       "      <td>LE3</td>\n",
       "      <td>A</td>\n",
       "      <td>2.0</td>\n",
       "      <td>2.0</td>\n",
       "      <td>services</td>\n",
       "      <td>services</td>\n",
       "      <td>...</td>\n",
       "      <td>-6.0</td>\n",
       "      <td>yes</td>\n",
       "      <td>no</td>\n",
       "      <td>no</td>\n",
       "      <td>5.0</td>\n",
       "      <td>5.0</td>\n",
       "      <td>4.0</td>\n",
       "      <td>4.0</td>\n",
       "      <td>212.0</td>\n",
       "      <td>45.0</td>\n",
       "    </tr>\n",
       "    <tr>\n",
       "      <th>391</th>\n",
       "      <td>MS</td>\n",
       "      <td>M</td>\n",
       "      <td>17</td>\n",
       "      <td>U</td>\n",
       "      <td>LE3</td>\n",
       "      <td>T</td>\n",
       "      <td>3.0</td>\n",
       "      <td>1.0</td>\n",
       "      <td>services</td>\n",
       "      <td>services</td>\n",
       "      <td>...</td>\n",
       "      <td>-3.0</td>\n",
       "      <td>yes</td>\n",
       "      <td>yes</td>\n",
       "      <td>no</td>\n",
       "      <td>2.0</td>\n",
       "      <td>4.0</td>\n",
       "      <td>5.0</td>\n",
       "      <td>2.0</td>\n",
       "      <td>3.0</td>\n",
       "      <td>80.0</td>\n",
       "    </tr>\n",
       "    <tr>\n",
       "      <th>392</th>\n",
       "      <td>MS</td>\n",
       "      <td>M</td>\n",
       "      <td>21</td>\n",
       "      <td>R</td>\n",
       "      <td>GT3</td>\n",
       "      <td>T</td>\n",
       "      <td>1.0</td>\n",
       "      <td>1.0</td>\n",
       "      <td>other</td>\n",
       "      <td>other</td>\n",
       "      <td>...</td>\n",
       "      <td>-3.0</td>\n",
       "      <td>NaN</td>\n",
       "      <td>no</td>\n",
       "      <td>no</td>\n",
       "      <td>5.0</td>\n",
       "      <td>5.0</td>\n",
       "      <td>3.0</td>\n",
       "      <td>3.0</td>\n",
       "      <td>3.0</td>\n",
       "      <td>35.0</td>\n",
       "    </tr>\n",
       "    <tr>\n",
       "      <th>393</th>\n",
       "      <td>MS</td>\n",
       "      <td>M</td>\n",
       "      <td>18</td>\n",
       "      <td>R</td>\n",
       "      <td>LE3</td>\n",
       "      <td>T</td>\n",
       "      <td>3.0</td>\n",
       "      <td>2.0</td>\n",
       "      <td>services</td>\n",
       "      <td>other</td>\n",
       "      <td>...</td>\n",
       "      <td>-3.0</td>\n",
       "      <td>yes</td>\n",
       "      <td>yes</td>\n",
       "      <td>no</td>\n",
       "      <td>4.0</td>\n",
       "      <td>4.0</td>\n",
       "      <td>1.0</td>\n",
       "      <td>5.0</td>\n",
       "      <td>0.0</td>\n",
       "      <td>50.0</td>\n",
       "    </tr>\n",
       "    <tr>\n",
       "      <th>394</th>\n",
       "      <td>MS</td>\n",
       "      <td>M</td>\n",
       "      <td>19</td>\n",
       "      <td>U</td>\n",
       "      <td>LE3</td>\n",
       "      <td>T</td>\n",
       "      <td>1.0</td>\n",
       "      <td>1.0</td>\n",
       "      <td>other</td>\n",
       "      <td>at_home</td>\n",
       "      <td>...</td>\n",
       "      <td>-3.0</td>\n",
       "      <td>yes</td>\n",
       "      <td>yes</td>\n",
       "      <td>no</td>\n",
       "      <td>3.0</td>\n",
       "      <td>2.0</td>\n",
       "      <td>3.0</td>\n",
       "      <td>5.0</td>\n",
       "      <td>5.0</td>\n",
       "      <td>45.0</td>\n",
       "    </tr>\n",
       "  </tbody>\n",
       "</table>\n",
       "<p>395 rows × 30 columns</p>\n",
       "</div>"
      ],
      "text/plain": [
       "    school sex  age address famsize pstatus  medu  fedu      mjob      fjob  \\\n",
       "0       GP   F   18       U     NaN       A   4.0   4.0   at_home   teacher   \n",
       "1       GP   F   17       U     GT3     NaN   1.0   1.0   at_home     other   \n",
       "2       GP   F   15       U     LE3       T   1.0   1.0   at_home     other   \n",
       "3       GP   F   15       U     GT3       T   4.0   2.0    health       NaN   \n",
       "4       GP   F   16       U     GT3       T   3.0   3.0     other     other   \n",
       "..     ...  ..  ...     ...     ...     ...   ...   ...       ...       ...   \n",
       "390     MS   M   20       U     LE3       A   2.0   2.0  services  services   \n",
       "391     MS   M   17       U     LE3       T   3.0   1.0  services  services   \n",
       "392     MS   M   21       R     GT3       T   1.0   1.0     other     other   \n",
       "393     MS   M   18       R     LE3       T   3.0   2.0  services     other   \n",
       "394     MS   M   19       U     LE3       T   1.0   1.0     other   at_home   \n",
       "\n",
       "     ... studytime_granular higher  internet  romantic  famrel freetime goout  \\\n",
       "0    ...               -6.0    yes       NaN        no     4.0      3.0   4.0   \n",
       "1    ...               -6.0    yes       yes        no     5.0      3.0   3.0   \n",
       "2    ...               -6.0    yes       yes       NaN     4.0      3.0   2.0   \n",
       "3    ...               -9.0    yes       yes       yes     3.0      2.0   2.0   \n",
       "4    ...               -6.0    yes        no        no     4.0      3.0   2.0   \n",
       "..   ...                ...    ...       ...       ...     ...      ...   ...   \n",
       "390  ...               -6.0    yes        no        no     5.0      5.0   4.0   \n",
       "391  ...               -3.0    yes       yes        no     2.0      4.0   5.0   \n",
       "392  ...               -3.0    NaN        no        no     5.0      5.0   3.0   \n",
       "393  ...               -3.0    yes       yes        no     4.0      4.0   1.0   \n",
       "394  ...               -3.0    yes       yes        no     3.0      2.0   3.0   \n",
       "\n",
       "    health absences score  \n",
       "0      3.0      6.0  30.0  \n",
       "1      3.0      4.0  30.0  \n",
       "2      3.0     10.0  50.0  \n",
       "3      5.0      2.0  75.0  \n",
       "4      5.0      4.0  50.0  \n",
       "..     ...      ...   ...  \n",
       "390    4.0    212.0  45.0  \n",
       "391    2.0      3.0  80.0  \n",
       "392    3.0      3.0  35.0  \n",
       "393    5.0      0.0  50.0  \n",
       "394    5.0      5.0  45.0  \n",
       "\n",
       "[395 rows x 30 columns]"
      ]
     },
     "execution_count": 8,
     "metadata": {},
     "output_type": "execute_result"
    }
   ],
   "source": [
    "df"
   ]
  },
  {
   "cell_type": "markdown",
   "id": "ebf57b6f",
   "metadata": {},
   "source": [
    "Оценим количество пропусков в колонках. "
   ]
  },
  {
   "cell_type": "code",
   "execution_count": 9,
   "id": "2a744b71",
   "metadata": {},
   "outputs": [
    {
     "name": "stdout",
     "output_type": "stream",
     "text": [
      "school - 0.0%\n",
      "sex - 0.0%\n",
      "age - 0.0%\n",
      "address - 4.3%\n",
      "famsize - 6.8%\n",
      "pstatus - 11.4%\n",
      "medu - 0.8%\n",
      "fedu - 6.1%\n",
      "mjob - 4.8%\n",
      "fjob - 9.1%\n",
      "reason - 4.3%\n",
      "guardian - 7.8%\n",
      "traveltime - 7.1%\n",
      "studytime - 1.8%\n",
      "failures - 5.6%\n",
      "schoolsup - 2.3%\n",
      "famsup - 9.9%\n",
      "paid - 10.1%\n",
      "activities - 3.5%\n",
      "nursery - 4.1%\n",
      "studytime_granular - 1.8%\n",
      "higher - 5.1%\n",
      "internet - 8.6%\n",
      "romantic - 7.8%\n",
      "famrel - 6.8%\n",
      "freetime - 2.8%\n",
      "goout - 2.0%\n",
      "health - 3.8%\n",
      "absences - 3.0%\n",
      "score - 1.5%\n"
     ]
    }
   ],
   "source": [
    "for col in df.columns:\n",
    "    pct_missing = df[col].isna().mean()\n",
    "    print(f'{col} - {pct_missing :.1%}')"
   ]
  },
  {
   "cell_type": "markdown",
   "id": "370cca3f",
   "metadata": {},
   "source": [
    "Пропусков относительно немного, удалять колонки, скорее всего, не придется."
   ]
  },
  {
   "cell_type": "markdown",
   "id": "d0168c1e",
   "metadata": {},
   "source": [
    "Количество пропусков в абсолютных значениях:"
   ]
  },
  {
   "cell_type": "code",
   "execution_count": 10,
   "id": "e17663c7",
   "metadata": {},
   "outputs": [
    {
     "data": {
      "text/plain": [
       "address               17\n",
       "famsize               27\n",
       "pstatus               45\n",
       "medu                   3\n",
       "fedu                  24\n",
       "mjob                  19\n",
       "fjob                  36\n",
       "reason                17\n",
       "guardian              31\n",
       "traveltime            28\n",
       "studytime              7\n",
       "failures              22\n",
       "schoolsup              9\n",
       "famsup                39\n",
       "paid                  40\n",
       "activities            14\n",
       "nursery               16\n",
       "studytime_granular     7\n",
       "higher                20\n",
       "internet              34\n",
       "romantic              31\n",
       "famrel                27\n",
       "freetime              11\n",
       "goout                  8\n",
       "health                15\n",
       "absences              12\n",
       "score                  6\n",
       "dtype: int64"
      ]
     },
     "execution_count": 10,
     "metadata": {},
     "output_type": "execute_result"
    }
   ],
   "source": [
    "null_data = df.isnull().sum()\n",
    "null_data[null_data>0]"
   ]
  },
  {
   "cell_type": "markdown",
   "id": "59f01abb",
   "metadata": {},
   "source": [
    "Есть два очень похожих друг на друга столбца:"
   ]
  },
  {
   "cell_type": "code",
   "execution_count": 11,
   "id": "a4222fa7",
   "metadata": {},
   "outputs": [
    {
     "data": {
      "text/plain": [
       "0      2.0\n",
       "1      2.0\n",
       "2      2.0\n",
       "3      3.0\n",
       "4      2.0\n",
       "      ... \n",
       "390    2.0\n",
       "391    1.0\n",
       "392    1.0\n",
       "393    1.0\n",
       "394    1.0\n",
       "Name: studytime, Length: 395, dtype: float64"
      ]
     },
     "execution_count": 11,
     "metadata": {},
     "output_type": "execute_result"
    }
   ],
   "source": [
    "df.studytime"
   ]
  },
  {
   "cell_type": "code",
   "execution_count": 12,
   "id": "8949bd2e",
   "metadata": {},
   "outputs": [
    {
     "data": {
      "text/plain": [
       "0     -6.0\n",
       "1     -6.0\n",
       "2     -6.0\n",
       "3     -9.0\n",
       "4     -6.0\n",
       "      ... \n",
       "390   -6.0\n",
       "391   -3.0\n",
       "392   -3.0\n",
       "393   -3.0\n",
       "394   -3.0\n",
       "Name: studytime_granular, Length: 395, dtype: float64"
      ]
     },
     "execution_count": 12,
     "metadata": {},
     "output_type": "execute_result"
    }
   ],
   "source": [
    "df['studytime_granular']"
   ]
  },
  {
   "cell_type": "markdown",
   "id": "e11937ca",
   "metadata": {},
   "source": [
    "На первый взгляд, значения различаются в -3 раза.\n",
    "Потом проверим корреляцию. Если коэф. корреляции близок к +/- 1, то второй удалим."
   ]
  },
  {
   "cell_type": "markdown",
   "id": "cca4ed9c",
   "metadata": {},
   "source": [
    "# Первичный анализ числовых переменных"
   ]
  },
  {
   "cell_type": "markdown",
   "id": "71a3938a",
   "metadata": {},
   "source": [
    "## score\n"
   ]
  },
  {
   "cell_type": "markdown",
   "id": "45540b9f",
   "metadata": {},
   "source": [
    "Начнем с целевой переменной. Здесь точно придется удалять строки с пустыми значениями. С этими строками уйдут и значения из других переменных, может быть и не нужные. Возможно, уменьшим себе работу по анализу других переменных."
   ]
  },
  {
   "cell_type": "code",
   "execution_count": 13,
   "id": "9ce50025",
   "metadata": {},
   "outputs": [
    {
     "data": {
      "text/plain": [
       "count    389.000000\n",
       "mean      52.262211\n",
       "std       22.919022\n",
       "min        0.000000\n",
       "25%       40.000000\n",
       "50%       55.000000\n",
       "75%       70.000000\n",
       "max      100.000000\n",
       "Name: score, dtype: float64"
      ]
     },
     "execution_count": 13,
     "metadata": {},
     "output_type": "execute_result"
    },
    {
     "data": {
      "image/png": "[encoded data removed]",
      "text/plain": [
       "<Figure size 432x288 with 1 Axes>"
      ]
     },
     "metadata": {
      "needs_background": "light"
     },
     "output_type": "display_data"
    }
   ],
   "source": [
    "df.score.plot.hist(bins=15)\n",
    "df.score.describe()"
   ]
  },
  {
   "cell_type": "markdown",
   "id": "b9deb2d6",
   "metadata": {},
   "source": [
    "Распределение без аномалий, приблизительно напоминает нормальное (за исключением нулевых баллов)."
   ]
  },
  {
   "cell_type": "markdown",
   "id": "dd27b3f1",
   "metadata": {},
   "source": [
    "Уберем нули и посмотрим, что даст нормализация логарифмированием:"
   ]
  },
  {
   "cell_type": "code",
   "execution_count": 14,
   "id": "2bc6db02",
   "metadata": {},
   "outputs": [
    {
     "data": {
      "text/plain": [
       "<AxesSubplot:>"
      ]
     },
     "execution_count": 14,
     "metadata": {},
     "output_type": "execute_result"
    },
    {
     "data": {
      "image/png": "[encoded data removed]",
      "text/plain": [
       "<Figure size 432x288 with 1 Axes>"
      ]
     },
     "metadata": {
      "needs_background": "light"
     },
     "output_type": "display_data"
    }
   ],
   "source": [
    "df1 = df[df.score > 0]\n",
    "df1.score.apply(np.log).hist(bins=10)"
   ]
  },
  {
   "cell_type": "markdown",
   "id": "f695166e",
   "metadata": {},
   "source": [
    "Не очень результативно. Появляется отрицательное смещение. Приближения к нормальному распределению не произошло."
   ]
  },
  {
   "cell_type": "markdown",
   "id": "85a57e57",
   "metadata": {},
   "source": [
    "Нулевые значения, видимо, нельзя удалять, т.к. возможно, что кто-то получил 0 баллов за госэкзамен. Хотя разрыв между 0 и 20 смущает. Странно, что либо не сдал, либо сразу набрал от 20 баллов. Тут нужно узнавать, по какой системе эти баллы рассчитываются. Пока оставим нули.\n",
    "\n",
    "\n",
    "В дальнейшем, следует проанализировать эту переменную отдельно с нулями и без."
   ]
  },
  {
   "cell_type": "code",
   "execution_count": 15,
   "id": "21a696b5",
   "metadata": {},
   "outputs": [
    {
     "data": {
      "text/plain": [
       "50.0     54\n",
       "55.0     46\n",
       "0.0      37\n",
       "75.0     33\n",
       "65.0     31\n",
       "60.0     31\n",
       "40.0     31\n",
       "45.0     27\n",
       "70.0     27\n",
       "80.0     16\n",
       "30.0     15\n",
       "90.0     12\n",
       "35.0      9\n",
       "25.0      7\n",
       "85.0      6\n",
       "95.0      5\n",
       "20.0      1\n",
       "100.0     1\n",
       "Name: score, dtype: int64"
      ]
     },
     "execution_count": 15,
     "metadata": {},
     "output_type": "execute_result"
    }
   ],
   "source": [
    "df.score.value_counts()"
   ]
  },
  {
   "cell_type": "markdown",
   "id": "299a47ce",
   "metadata": {},
   "source": [
    "Удалим строки с пустыми значениями в переменной score:"
   ]
  },
  {
   "cell_type": "code",
   "execution_count": 16,
   "id": "011b25df",
   "metadata": {},
   "outputs": [],
   "source": [
    "df.dropna(subset=['score'], inplace=True)"
   ]
  },
  {
   "cell_type": "code",
   "execution_count": 17,
   "id": "82af566b",
   "metadata": {},
   "outputs": [
    {
     "name": "stdout",
     "output_type": "stream",
     "text": [
      "<class 'pandas.core.frame.DataFrame'>\n",
      "Int64Index: 389 entries, 0 to 394\n",
      "Data columns (total 30 columns):\n",
      " #   Column              Non-Null Count  Dtype  \n",
      "---  ------              --------------  -----  \n",
      " 0   school              389 non-null    object \n",
      " 1   sex                 389 non-null    object \n",
      " 2   age                 389 non-null    int64  \n",
      " 3   address             374 non-null    object \n",
      " 4   famsize             362 non-null    object \n",
      " 5   pstatus             344 non-null    object \n",
      " 6   medu                386 non-null    float64\n",
      " 7   fedu                365 non-null    float64\n",
      " 8   mjob                370 non-null    object \n",
      " 9   fjob                353 non-null    object \n",
      " 10  reason              372 non-null    object \n",
      " 11  guardian            358 non-null    object \n",
      " 12  traveltime          361 non-null    float64\n",
      " 13  studytime           382 non-null    float64\n",
      " 14  failures            367 non-null    float64\n",
      " 15  schoolsup           380 non-null    object \n",
      " 16  famsup              351 non-null    object \n",
      " 17  paid                350 non-null    object \n",
      " 18  activities          375 non-null    object \n",
      " 19  nursery             374 non-null    object \n",
      " 20  studytime_granular  382 non-null    float64\n",
      " 21  higher              369 non-null    object \n",
      " 22  internet            355 non-null    object \n",
      " 23  romantic            358 non-null    object \n",
      " 24  famrel              362 non-null    float64\n",
      " 25  freetime            380 non-null    float64\n",
      " 26  goout               382 non-null    float64\n",
      " 27  health              374 non-null    float64\n",
      " 28  absences            378 non-null    float64\n",
      " 29  score               389 non-null    float64\n",
      "dtypes: float64(12), int64(1), object(17)\n",
      "memory usage: 94.2+ KB\n"
     ]
    }
   ],
   "source": [
    "df.info()"
   ]
  },
  {
   "cell_type": "markdown",
   "id": "aac2ff69",
   "metadata": {},
   "source": [
    "Проверим переменную на выбросы:"
   ]
  },
  {
   "cell_type": "code",
   "execution_count": 18,
   "id": "709ae662",
   "metadata": {},
   "outputs": [
    {
     "name": "stdout",
     "output_type": "stream",
     "text": [
      "25-й перцентиль: 40.0, 75-й перцентиль: 70.0, IQR: 30.0,  Границы выбросов: [-5.0, 115.0].\n"
     ]
    }
   ],
   "source": [
    "iqr('score')\n",
    " "
   ]
  },
  {
   "cell_type": "markdown",
   "id": "a704dd7e",
   "metadata": {},
   "source": [
    "Все значения лежат в пределах границ выбросов. Нулевые значения оставляем."
   ]
  },
  {
   "cell_type": "markdown",
   "id": "c3671306",
   "metadata": {},
   "source": [
    "## age"
   ]
  },
  {
   "cell_type": "markdown",
   "id": "1a58cb9d",
   "metadata": {},
   "source": [
    "Проверим основные статистики числового ряда возрастов. "
   ]
  },
  {
   "cell_type": "code",
   "execution_count": 19,
   "id": "fe34a373",
   "metadata": {},
   "outputs": [
    {
     "data": {
      "text/plain": [
       "count    389.000000\n",
       "mean      16.673522\n",
       "std        1.265662\n",
       "min       15.000000\n",
       "25%       16.000000\n",
       "50%       17.000000\n",
       "75%       18.000000\n",
       "max       22.000000\n",
       "Name: age, dtype: float64"
      ]
     },
     "execution_count": 19,
     "metadata": {},
     "output_type": "execute_result"
    },
    {
     "data": {
      "image/png": "[encoded data removed]",
      "text/plain": [
       "<Figure size 432x288 with 1 Axes>"
      ]
     },
     "metadata": {
      "needs_background": "light"
     },
     "output_type": "display_data"
    }
   ],
   "source": [
    "df.age.plot.hist(bins=15)\n",
    "df.age.describe()"
   ]
  },
  {
   "cell_type": "markdown",
   "id": "1697bb0e",
   "metadata": {},
   "source": [
    "Аномалий не наблюдается, выбросов нет. Распределение смещено вправо."
   ]
  },
  {
   "cell_type": "markdown",
   "id": "bfc1020d",
   "metadata": {},
   "source": [
    "## medu"
   ]
  },
  {
   "cell_type": "markdown",
   "id": "76a017e4",
   "metadata": {},
   "source": [
    "Проверим числовой столбец образования матери."
   ]
  },
  {
   "cell_type": "code",
   "execution_count": 20,
   "id": "19470ccf",
   "metadata": {},
   "outputs": [
    {
     "data": {
      "text/html": [
       "<div>\n",
       "<style scoped>\n",
       "    .dataframe tbody tr th:only-of-type {\n",
       "        vertical-align: middle;\n",
       "    }\n",
       "\n",
       "    .dataframe tbody tr th {\n",
       "        vertical-align: top;\n",
       "    }\n",
       "\n",
       "    .dataframe thead th {\n",
       "        text-align: right;\n",
       "    }\n",
       "</style>\n",
       "<table border=\"1\" class=\"dataframe\">\n",
       "  <thead>\n",
       "    <tr style=\"text-align: right;\">\n",
       "      <th></th>\n",
       "      <th>medu</th>\n",
       "    </tr>\n",
       "  </thead>\n",
       "  <tbody>\n",
       "    <tr>\n",
       "      <th>4.0</th>\n",
       "      <td>131</td>\n",
       "    </tr>\n",
       "    <tr>\n",
       "      <th>2.0</th>\n",
       "      <td>100</td>\n",
       "    </tr>\n",
       "    <tr>\n",
       "      <th>3.0</th>\n",
       "      <td>96</td>\n",
       "    </tr>\n",
       "    <tr>\n",
       "      <th>1.0</th>\n",
       "      <td>56</td>\n",
       "    </tr>\n",
       "    <tr>\n",
       "      <th>0.0</th>\n",
       "      <td>3</td>\n",
       "    </tr>\n",
       "  </tbody>\n",
       "</table>\n",
       "</div>"
      ],
      "text/plain": [
       "     medu\n",
       "4.0   131\n",
       "2.0   100\n",
       "3.0    96\n",
       "1.0    56\n",
       "0.0     3"
      ]
     },
     "metadata": {},
     "output_type": "display_data"
    }
   ],
   "source": [
    "display(pd.DataFrame(df.medu.value_counts()))"
   ]
  },
  {
   "cell_type": "code",
   "execution_count": 21,
   "id": "fa7e1fd9",
   "metadata": {},
   "outputs": [
    {
     "data": {
      "text/plain": [
       "count    386.000000\n",
       "mean       2.766839\n",
       "std        1.094277\n",
       "min        0.000000\n",
       "25%        2.000000\n",
       "50%        3.000000\n",
       "75%        4.000000\n",
       "max        4.000000\n",
       "Name: medu, dtype: float64"
      ]
     },
     "execution_count": 21,
     "metadata": {},
     "output_type": "execute_result"
    },
    {
     "data": {
      "image/png": "[encoded data removed]",
      "text/plain": [
       "<Figure size 432x288 with 1 Axes>"
      ]
     },
     "metadata": {
      "needs_background": "light"
     },
     "output_type": "display_data"
    }
   ],
   "source": [
    "df.medu.plot.hist(bins=15)\n",
    "df.medu.describe()"
   ]
  },
  {
   "cell_type": "markdown",
   "id": "36d44df6",
   "metadata": {},
   "source": [
    "Аномалий не наблюдается, выбросов нет. "
   ]
  },
  {
   "cell_type": "markdown",
   "id": "2c64237f",
   "metadata": {},
   "source": [
    "Заполним пропуски None:"
   ]
  },
  {
   "cell_type": "code",
   "execution_count": 22,
   "id": "cb03bb29",
   "metadata": {},
   "outputs": [
    {
     "data": {
      "text/plain": [
       "0      4.0\n",
       "1      1.0\n",
       "2      1.0\n",
       "3      4.0\n",
       "4      3.0\n",
       "      ... \n",
       "390    2.0\n",
       "391    3.0\n",
       "392    1.0\n",
       "393    3.0\n",
       "394    1.0\n",
       "Name: medu, Length: 389, dtype: float64"
      ]
     },
     "execution_count": 22,
     "metadata": {},
     "output_type": "execute_result"
    }
   ],
   "source": [
    "fill_with_none(df.medu)"
   ]
  },
  {
   "cell_type": "markdown",
   "id": "ad15156e",
   "metadata": {},
   "source": [
    "Данных в датасете не слишком много, целесообразно, по возможности, беречь каждую строку.\n",
    "\n",
    "\n",
    "Можно заполнить пустые ячейки константой, которая вносит минимальные искажения в исходное распределение.\n",
    "\n",
    "\n",
    "Заполним пропуски модой:"
   ]
  },
  {
   "cell_type": "code",
   "execution_count": 23,
   "id": "095e7bfb",
   "metadata": {},
   "outputs": [],
   "source": [
    "fill_mod('medu')"
   ]
  },
  {
   "cell_type": "code",
   "execution_count": 24,
   "id": "4e35a0ff",
   "metadata": {},
   "outputs": [
    {
     "data": {
      "text/plain": [
       "count    389.000000\n",
       "mean       2.776350\n",
       "std        1.095377\n",
       "min        0.000000\n",
       "25%        2.000000\n",
       "50%        3.000000\n",
       "75%        4.000000\n",
       "max        4.000000\n",
       "Name: medu, dtype: float64"
      ]
     },
     "execution_count": 24,
     "metadata": {},
     "output_type": "execute_result"
    },
    {
     "data": {
      "image/png": "[encoded data removed]",
      "text/plain": [
       "<Figure size 432x288 with 1 Axes>"
      ]
     },
     "metadata": {
      "needs_background": "light"
     },
     "output_type": "display_data"
    }
   ],
   "source": [
    "df.medu.plot.hist(bins=15)\n",
    "df.medu.describe()"
   ]
  },
  {
   "cell_type": "markdown",
   "id": "d7db2b8f",
   "metadata": {},
   "source": [
    "## fedu"
   ]
  },
  {
   "cell_type": "markdown",
   "id": "08d82c99",
   "metadata": {},
   "source": [
    "Проверим числовой столбец образования отца."
   ]
  },
  {
   "cell_type": "code",
   "execution_count": 25,
   "id": "bdbc7eac",
   "metadata": {},
   "outputs": [
    {
     "data": {
      "text/html": [
       "<div>\n",
       "<style scoped>\n",
       "    .dataframe tbody tr th:only-of-type {\n",
       "        vertical-align: middle;\n",
       "    }\n",
       "\n",
       "    .dataframe tbody tr th {\n",
       "        vertical-align: top;\n",
       "    }\n",
       "\n",
       "    .dataframe thead th {\n",
       "        text-align: right;\n",
       "    }\n",
       "</style>\n",
       "<table border=\"1\" class=\"dataframe\">\n",
       "  <thead>\n",
       "    <tr style=\"text-align: right;\">\n",
       "      <th></th>\n",
       "      <th>fedu</th>\n",
       "    </tr>\n",
       "  </thead>\n",
       "  <tbody>\n",
       "    <tr>\n",
       "      <th>2.0</th>\n",
       "      <td>105</td>\n",
       "    </tr>\n",
       "    <tr>\n",
       "      <th>3.0</th>\n",
       "      <td>94</td>\n",
       "    </tr>\n",
       "    <tr>\n",
       "      <th>4.0</th>\n",
       "      <td>88</td>\n",
       "    </tr>\n",
       "    <tr>\n",
       "      <th>1.0</th>\n",
       "      <td>75</td>\n",
       "    </tr>\n",
       "    <tr>\n",
       "      <th>0.0</th>\n",
       "      <td>2</td>\n",
       "    </tr>\n",
       "    <tr>\n",
       "      <th>40.0</th>\n",
       "      <td>1</td>\n",
       "    </tr>\n",
       "  </tbody>\n",
       "</table>\n",
       "</div>"
      ],
      "text/plain": [
       "      fedu\n",
       "2.0    105\n",
       "3.0     94\n",
       "4.0     88\n",
       "1.0     75\n",
       "0.0      2\n",
       "40.0     1"
      ]
     },
     "metadata": {},
     "output_type": "display_data"
    }
   ],
   "source": [
    "display(pd.DataFrame(df.fedu.value_counts()))\n",
    "# pd.Series(df.fedu).value_counts()\n",
    "# df.fedu.value_counts()"
   ]
  },
  {
   "cell_type": "markdown",
   "id": "ae7eb95f",
   "metadata": {},
   "source": [
    "Имеется явный выброс: 40"
   ]
  },
  {
   "cell_type": "code",
   "execution_count": 26,
   "id": "d5007017",
   "metadata": {},
   "outputs": [
    {
     "data": {
      "text/plain": [
       "24"
      ]
     },
     "execution_count": 26,
     "metadata": {},
     "output_type": "execute_result"
    }
   ],
   "source": [
    "df.fedu.isnull().sum()\n"
   ]
  },
  {
   "cell_type": "markdown",
   "id": "8bd8c6db",
   "metadata": {},
   "source": [
    "Проверим, чем заполнены оставшиеся 24 строки:"
   ]
  },
  {
   "cell_type": "code",
   "execution_count": 27,
   "id": "4fdb4dc0",
   "metadata": {},
   "outputs": [
    {
     "data": {
      "text/html": [
       "<div>\n",
       "<style scoped>\n",
       "    .dataframe tbody tr th:only-of-type {\n",
       "        vertical-align: middle;\n",
       "    }\n",
       "\n",
       "    .dataframe tbody tr th {\n",
       "        vertical-align: top;\n",
       "    }\n",
       "\n",
       "    .dataframe thead th {\n",
       "        text-align: right;\n",
       "    }\n",
       "</style>\n",
       "<table border=\"1\" class=\"dataframe\">\n",
       "  <thead>\n",
       "    <tr style=\"text-align: right;\">\n",
       "      <th></th>\n",
       "      <th>school</th>\n",
       "      <th>sex</th>\n",
       "      <th>age</th>\n",
       "      <th>address</th>\n",
       "      <th>famsize</th>\n",
       "      <th>pstatus</th>\n",
       "      <th>medu</th>\n",
       "      <th>fedu</th>\n",
       "      <th>mjob</th>\n",
       "      <th>fjob</th>\n",
       "      <th>...</th>\n",
       "      <th>studytime_granular</th>\n",
       "      <th>higher</th>\n",
       "      <th>internet</th>\n",
       "      <th>romantic</th>\n",
       "      <th>famrel</th>\n",
       "      <th>freetime</th>\n",
       "      <th>goout</th>\n",
       "      <th>health</th>\n",
       "      <th>absences</th>\n",
       "      <th>score</th>\n",
       "    </tr>\n",
       "  </thead>\n",
       "  <tbody>\n",
       "    <tr>\n",
       "      <th>21</th>\n",
       "      <td>GP</td>\n",
       "      <td>M</td>\n",
       "      <td>15</td>\n",
       "      <td>U</td>\n",
       "      <td>GT3</td>\n",
       "      <td>T</td>\n",
       "      <td>4.0</td>\n",
       "      <td>NaN</td>\n",
       "      <td>health</td>\n",
       "      <td>health</td>\n",
       "      <td>...</td>\n",
       "      <td>-3.0</td>\n",
       "      <td>yes</td>\n",
       "      <td>yes</td>\n",
       "      <td>no</td>\n",
       "      <td>5.0</td>\n",
       "      <td>4.0</td>\n",
       "      <td>2.0</td>\n",
       "      <td>5.0</td>\n",
       "      <td>0.0</td>\n",
       "      <td>75.0</td>\n",
       "    </tr>\n",
       "    <tr>\n",
       "      <th>42</th>\n",
       "      <td>GP</td>\n",
       "      <td>M</td>\n",
       "      <td>15</td>\n",
       "      <td>U</td>\n",
       "      <td>GT3</td>\n",
       "      <td>T</td>\n",
       "      <td>4.0</td>\n",
       "      <td>NaN</td>\n",
       "      <td>services</td>\n",
       "      <td>teacher</td>\n",
       "      <td>...</td>\n",
       "      <td>-6.0</td>\n",
       "      <td>yes</td>\n",
       "      <td>yes</td>\n",
       "      <td>no</td>\n",
       "      <td>4.0</td>\n",
       "      <td>3.0</td>\n",
       "      <td>3.0</td>\n",
       "      <td>5.0</td>\n",
       "      <td>2.0</td>\n",
       "      <td>90.0</td>\n",
       "    </tr>\n",
       "    <tr>\n",
       "      <th>46</th>\n",
       "      <td>GP</td>\n",
       "      <td>F</td>\n",
       "      <td>16</td>\n",
       "      <td>U</td>\n",
       "      <td>LE3</td>\n",
       "      <td>A</td>\n",
       "      <td>3.0</td>\n",
       "      <td>NaN</td>\n",
       "      <td>other</td>\n",
       "      <td>services</td>\n",
       "      <td>...</td>\n",
       "      <td>-6.0</td>\n",
       "      <td>yes</td>\n",
       "      <td>yes</td>\n",
       "      <td>no</td>\n",
       "      <td>2.0</td>\n",
       "      <td>3.0</td>\n",
       "      <td>5.0</td>\n",
       "      <td>3.0</td>\n",
       "      <td>12.0</td>\n",
       "      <td>55.0</td>\n",
       "    </tr>\n",
       "    <tr>\n",
       "      <th>57</th>\n",
       "      <td>GP</td>\n",
       "      <td>M</td>\n",
       "      <td>15</td>\n",
       "      <td>U</td>\n",
       "      <td>GT3</td>\n",
       "      <td>T</td>\n",
       "      <td>4.0</td>\n",
       "      <td>NaN</td>\n",
       "      <td>teacher</td>\n",
       "      <td>health</td>\n",
       "      <td>...</td>\n",
       "      <td>-6.0</td>\n",
       "      <td>yes</td>\n",
       "      <td>no</td>\n",
       "      <td>no</td>\n",
       "      <td>3.0</td>\n",
       "      <td>2.0</td>\n",
       "      <td>2.0</td>\n",
       "      <td>5.0</td>\n",
       "      <td>4.0</td>\n",
       "      <td>75.0</td>\n",
       "    </tr>\n",
       "    <tr>\n",
       "      <th>58</th>\n",
       "      <td>GP</td>\n",
       "      <td>M</td>\n",
       "      <td>15</td>\n",
       "      <td>U</td>\n",
       "      <td>LE3</td>\n",
       "      <td>T</td>\n",
       "      <td>1.0</td>\n",
       "      <td>NaN</td>\n",
       "      <td>other</td>\n",
       "      <td>at_home</td>\n",
       "      <td>...</td>\n",
       "      <td>-6.0</td>\n",
       "      <td>yes</td>\n",
       "      <td>yes</td>\n",
       "      <td>no</td>\n",
       "      <td>4.0</td>\n",
       "      <td>3.0</td>\n",
       "      <td>2.0</td>\n",
       "      <td>5.0</td>\n",
       "      <td>2.0</td>\n",
       "      <td>45.0</td>\n",
       "    </tr>\n",
       "    <tr>\n",
       "      <th>67</th>\n",
       "      <td>GP</td>\n",
       "      <td>F</td>\n",
       "      <td>16</td>\n",
       "      <td>U</td>\n",
       "      <td>GT3</td>\n",
       "      <td>NaN</td>\n",
       "      <td>3.0</td>\n",
       "      <td>NaN</td>\n",
       "      <td>services</td>\n",
       "      <td>other</td>\n",
       "      <td>...</td>\n",
       "      <td>-12.0</td>\n",
       "      <td>yes</td>\n",
       "      <td>yes</td>\n",
       "      <td>NaN</td>\n",
       "      <td>4.0</td>\n",
       "      <td>3.0</td>\n",
       "      <td>3.0</td>\n",
       "      <td>5.0</td>\n",
       "      <td>4.0</td>\n",
       "      <td>30.0</td>\n",
       "    </tr>\n",
       "    <tr>\n",
       "      <th>137</th>\n",
       "      <td>GP</td>\n",
       "      <td>F</td>\n",
       "      <td>16</td>\n",
       "      <td>U</td>\n",
       "      <td>GT3</td>\n",
       "      <td>A</td>\n",
       "      <td>3.0</td>\n",
       "      <td>NaN</td>\n",
       "      <td>other</td>\n",
       "      <td>other</td>\n",
       "      <td>...</td>\n",
       "      <td>-3.0</td>\n",
       "      <td>yes</td>\n",
       "      <td>yes</td>\n",
       "      <td>yes</td>\n",
       "      <td>4.0</td>\n",
       "      <td>3.0</td>\n",
       "      <td>2.0</td>\n",
       "      <td>5.0</td>\n",
       "      <td>0.0</td>\n",
       "      <td>0.0</td>\n",
       "    </tr>\n",
       "    <tr>\n",
       "      <th>142</th>\n",
       "      <td>GP</td>\n",
       "      <td>F</td>\n",
       "      <td>15</td>\n",
       "      <td>U</td>\n",
       "      <td>GT3</td>\n",
       "      <td>T</td>\n",
       "      <td>4.0</td>\n",
       "      <td>NaN</td>\n",
       "      <td>teacher</td>\n",
       "      <td>services</td>\n",
       "      <td>...</td>\n",
       "      <td>-9.0</td>\n",
       "      <td>NaN</td>\n",
       "      <td>yes</td>\n",
       "      <td>no</td>\n",
       "      <td>4.0</td>\n",
       "      <td>2.0</td>\n",
       "      <td>2.0</td>\n",
       "      <td>5.0</td>\n",
       "      <td>2.0</td>\n",
       "      <td>55.0</td>\n",
       "    </tr>\n",
       "    <tr>\n",
       "      <th>159</th>\n",
       "      <td>GP</td>\n",
       "      <td>M</td>\n",
       "      <td>16</td>\n",
       "      <td>NaN</td>\n",
       "      <td>GT3</td>\n",
       "      <td>T</td>\n",
       "      <td>3.0</td>\n",
       "      <td>NaN</td>\n",
       "      <td>other</td>\n",
       "      <td>services</td>\n",
       "      <td>...</td>\n",
       "      <td>-6.0</td>\n",
       "      <td>yes</td>\n",
       "      <td>yes</td>\n",
       "      <td>yes</td>\n",
       "      <td>4.0</td>\n",
       "      <td>5.0</td>\n",
       "      <td>5.0</td>\n",
       "      <td>5.0</td>\n",
       "      <td>4.0</td>\n",
       "      <td>60.0</td>\n",
       "    </tr>\n",
       "    <tr>\n",
       "      <th>161</th>\n",
       "      <td>GP</td>\n",
       "      <td>M</td>\n",
       "      <td>15</td>\n",
       "      <td>R</td>\n",
       "      <td>GT3</td>\n",
       "      <td>T</td>\n",
       "      <td>3.0</td>\n",
       "      <td>NaN</td>\n",
       "      <td>other</td>\n",
       "      <td>NaN</td>\n",
       "      <td>...</td>\n",
       "      <td>-6.0</td>\n",
       "      <td>yes</td>\n",
       "      <td>yes</td>\n",
       "      <td>yes</td>\n",
       "      <td>4.0</td>\n",
       "      <td>4.0</td>\n",
       "      <td>4.0</td>\n",
       "      <td>3.0</td>\n",
       "      <td>6.0</td>\n",
       "      <td>35.0</td>\n",
       "    </tr>\n",
       "    <tr>\n",
       "      <th>180</th>\n",
       "      <td>GP</td>\n",
       "      <td>M</td>\n",
       "      <td>16</td>\n",
       "      <td>U</td>\n",
       "      <td>GT3</td>\n",
       "      <td>T</td>\n",
       "      <td>4.0</td>\n",
       "      <td>NaN</td>\n",
       "      <td>teacher</td>\n",
       "      <td>other</td>\n",
       "      <td>...</td>\n",
       "      <td>-6.0</td>\n",
       "      <td>yes</td>\n",
       "      <td>yes</td>\n",
       "      <td>no</td>\n",
       "      <td>3.0</td>\n",
       "      <td>4.0</td>\n",
       "      <td>3.0</td>\n",
       "      <td>3.0</td>\n",
       "      <td>10.0</td>\n",
       "      <td>40.0</td>\n",
       "    </tr>\n",
       "    <tr>\n",
       "      <th>195</th>\n",
       "      <td>GP</td>\n",
       "      <td>F</td>\n",
       "      <td>17</td>\n",
       "      <td>U</td>\n",
       "      <td>NaN</td>\n",
       "      <td>T</td>\n",
       "      <td>2.0</td>\n",
       "      <td>NaN</td>\n",
       "      <td>services</td>\n",
       "      <td>services</td>\n",
       "      <td>...</td>\n",
       "      <td>-6.0</td>\n",
       "      <td>yes</td>\n",
       "      <td>yes</td>\n",
       "      <td>yes</td>\n",
       "      <td>NaN</td>\n",
       "      <td>3.0</td>\n",
       "      <td>2.0</td>\n",
       "      <td>5.0</td>\n",
       "      <td>0.0</td>\n",
       "      <td>75.0</td>\n",
       "    </tr>\n",
       "    <tr>\n",
       "      <th>232</th>\n",
       "      <td>GP</td>\n",
       "      <td>M</td>\n",
       "      <td>17</td>\n",
       "      <td>U</td>\n",
       "      <td>GT3</td>\n",
       "      <td>T</td>\n",
       "      <td>4.0</td>\n",
       "      <td>NaN</td>\n",
       "      <td>teacher</td>\n",
       "      <td>teacher</td>\n",
       "      <td>...</td>\n",
       "      <td>-6.0</td>\n",
       "      <td>yes</td>\n",
       "      <td>yes</td>\n",
       "      <td>yes</td>\n",
       "      <td>4.0</td>\n",
       "      <td>5.0</td>\n",
       "      <td>5.0</td>\n",
       "      <td>2.0</td>\n",
       "      <td>14.0</td>\n",
       "      <td>45.0</td>\n",
       "    </tr>\n",
       "    <tr>\n",
       "      <th>236</th>\n",
       "      <td>GP</td>\n",
       "      <td>M</td>\n",
       "      <td>17</td>\n",
       "      <td>U</td>\n",
       "      <td>LE3</td>\n",
       "      <td>T</td>\n",
       "      <td>2.0</td>\n",
       "      <td>NaN</td>\n",
       "      <td>other</td>\n",
       "      <td>other</td>\n",
       "      <td>...</td>\n",
       "      <td>-6.0</td>\n",
       "      <td>yes</td>\n",
       "      <td>yes</td>\n",
       "      <td>yes</td>\n",
       "      <td>4.0</td>\n",
       "      <td>4.0</td>\n",
       "      <td>2.0</td>\n",
       "      <td>NaN</td>\n",
       "      <td>4.0</td>\n",
       "      <td>65.0</td>\n",
       "    </tr>\n",
       "    <tr>\n",
       "      <th>259</th>\n",
       "      <td>GP</td>\n",
       "      <td>F</td>\n",
       "      <td>17</td>\n",
       "      <td>U</td>\n",
       "      <td>LE3</td>\n",
       "      <td>T</td>\n",
       "      <td>2.0</td>\n",
       "      <td>NaN</td>\n",
       "      <td>services</td>\n",
       "      <td>services</td>\n",
       "      <td>...</td>\n",
       "      <td>-12.0</td>\n",
       "      <td>yes</td>\n",
       "      <td>NaN</td>\n",
       "      <td>yes</td>\n",
       "      <td>3.0</td>\n",
       "      <td>4.0</td>\n",
       "      <td>1.0</td>\n",
       "      <td>NaN</td>\n",
       "      <td>0.0</td>\n",
       "      <td>0.0</td>\n",
       "    </tr>\n",
       "    <tr>\n",
       "      <th>280</th>\n",
       "      <td>GP</td>\n",
       "      <td>M</td>\n",
       "      <td>17</td>\n",
       "      <td>U</td>\n",
       "      <td>NaN</td>\n",
       "      <td>A</td>\n",
       "      <td>4.0</td>\n",
       "      <td>NaN</td>\n",
       "      <td>services</td>\n",
       "      <td>other</td>\n",
       "      <td>...</td>\n",
       "      <td>-3.0</td>\n",
       "      <td>yes</td>\n",
       "      <td>yes</td>\n",
       "      <td>NaN</td>\n",
       "      <td>4.0</td>\n",
       "      <td>NaN</td>\n",
       "      <td>4.0</td>\n",
       "      <td>5.0</td>\n",
       "      <td>30.0</td>\n",
       "      <td>40.0</td>\n",
       "    </tr>\n",
       "    <tr>\n",
       "      <th>281</th>\n",
       "      <td>GP</td>\n",
       "      <td>M</td>\n",
       "      <td>17</td>\n",
       "      <td>U</td>\n",
       "      <td>LE3</td>\n",
       "      <td>A</td>\n",
       "      <td>3.0</td>\n",
       "      <td>NaN</td>\n",
       "      <td>teacher</td>\n",
       "      <td>services</td>\n",
       "      <td>...</td>\n",
       "      <td>-3.0</td>\n",
       "      <td>NaN</td>\n",
       "      <td>yes</td>\n",
       "      <td>no</td>\n",
       "      <td>4.0</td>\n",
       "      <td>4.0</td>\n",
       "      <td>4.0</td>\n",
       "      <td>3.0</td>\n",
       "      <td>19.0</td>\n",
       "      <td>50.0</td>\n",
       "    </tr>\n",
       "    <tr>\n",
       "      <th>286</th>\n",
       "      <td>GP</td>\n",
       "      <td>F</td>\n",
       "      <td>18</td>\n",
       "      <td>U</td>\n",
       "      <td>GT3</td>\n",
       "      <td>T</td>\n",
       "      <td>2.0</td>\n",
       "      <td>NaN</td>\n",
       "      <td>at_home</td>\n",
       "      <td>at_home</td>\n",
       "      <td>...</td>\n",
       "      <td>-9.0</td>\n",
       "      <td>yes</td>\n",
       "      <td>yes</td>\n",
       "      <td>no</td>\n",
       "      <td>4.0</td>\n",
       "      <td>3.0</td>\n",
       "      <td>3.0</td>\n",
       "      <td>2.0</td>\n",
       "      <td>5.0</td>\n",
       "      <td>95.0</td>\n",
       "    </tr>\n",
       "    <tr>\n",
       "      <th>287</th>\n",
       "      <td>GP</td>\n",
       "      <td>F</td>\n",
       "      <td>17</td>\n",
       "      <td>U</td>\n",
       "      <td>GT3</td>\n",
       "      <td>T</td>\n",
       "      <td>1.0</td>\n",
       "      <td>NaN</td>\n",
       "      <td>services</td>\n",
       "      <td>teacher</td>\n",
       "      <td>...</td>\n",
       "      <td>-9.0</td>\n",
       "      <td>yes</td>\n",
       "      <td>yes</td>\n",
       "      <td>no</td>\n",
       "      <td>4.0</td>\n",
       "      <td>3.0</td>\n",
       "      <td>3.0</td>\n",
       "      <td>3.0</td>\n",
       "      <td>6.0</td>\n",
       "      <td>60.0</td>\n",
       "    </tr>\n",
       "    <tr>\n",
       "      <th>290</th>\n",
       "      <td>GP</td>\n",
       "      <td>M</td>\n",
       "      <td>18</td>\n",
       "      <td>U</td>\n",
       "      <td>GT3</td>\n",
       "      <td>T</td>\n",
       "      <td>4.0</td>\n",
       "      <td>NaN</td>\n",
       "      <td>teacher</td>\n",
       "      <td>other</td>\n",
       "      <td>...</td>\n",
       "      <td>-6.0</td>\n",
       "      <td>yes</td>\n",
       "      <td>yes</td>\n",
       "      <td>NaN</td>\n",
       "      <td>NaN</td>\n",
       "      <td>NaN</td>\n",
       "      <td>2.0</td>\n",
       "      <td>5.0</td>\n",
       "      <td>11.0</td>\n",
       "      <td>55.0</td>\n",
       "    </tr>\n",
       "    <tr>\n",
       "      <th>310</th>\n",
       "      <td>GP</td>\n",
       "      <td>F</td>\n",
       "      <td>19</td>\n",
       "      <td>U</td>\n",
       "      <td>LE3</td>\n",
       "      <td>T</td>\n",
       "      <td>1.0</td>\n",
       "      <td>NaN</td>\n",
       "      <td>services</td>\n",
       "      <td>services</td>\n",
       "      <td>...</td>\n",
       "      <td>-6.0</td>\n",
       "      <td>yes</td>\n",
       "      <td>no</td>\n",
       "      <td>yes</td>\n",
       "      <td>4.0</td>\n",
       "      <td>2.0</td>\n",
       "      <td>4.0</td>\n",
       "      <td>3.0</td>\n",
       "      <td>0.0</td>\n",
       "      <td>0.0</td>\n",
       "    </tr>\n",
       "    <tr>\n",
       "      <th>328</th>\n",
       "      <td>GP</td>\n",
       "      <td>F</td>\n",
       "      <td>17</td>\n",
       "      <td>U</td>\n",
       "      <td>GT3</td>\n",
       "      <td>T</td>\n",
       "      <td>4.0</td>\n",
       "      <td>NaN</td>\n",
       "      <td>teacher</td>\n",
       "      <td>services</td>\n",
       "      <td>...</td>\n",
       "      <td>-9.0</td>\n",
       "      <td>yes</td>\n",
       "      <td>yes</td>\n",
       "      <td>no</td>\n",
       "      <td>5.0</td>\n",
       "      <td>4.0</td>\n",
       "      <td>4.0</td>\n",
       "      <td>4.0</td>\n",
       "      <td>7.0</td>\n",
       "      <td>45.0</td>\n",
       "    </tr>\n",
       "    <tr>\n",
       "      <th>349</th>\n",
       "      <td>MS</td>\n",
       "      <td>M</td>\n",
       "      <td>18</td>\n",
       "      <td>R</td>\n",
       "      <td>GT3</td>\n",
       "      <td>T</td>\n",
       "      <td>3.0</td>\n",
       "      <td>NaN</td>\n",
       "      <td>other</td>\n",
       "      <td>other</td>\n",
       "      <td>...</td>\n",
       "      <td>-3.0</td>\n",
       "      <td>yes</td>\n",
       "      <td>yes</td>\n",
       "      <td>no</td>\n",
       "      <td>NaN</td>\n",
       "      <td>5.0</td>\n",
       "      <td>5.0</td>\n",
       "      <td>5.0</td>\n",
       "      <td>10.0</td>\n",
       "      <td>65.0</td>\n",
       "    </tr>\n",
       "    <tr>\n",
       "      <th>374</th>\n",
       "      <td>MS</td>\n",
       "      <td>F</td>\n",
       "      <td>18</td>\n",
       "      <td>R</td>\n",
       "      <td>LE3</td>\n",
       "      <td>T</td>\n",
       "      <td>4.0</td>\n",
       "      <td>NaN</td>\n",
       "      <td>other</td>\n",
       "      <td>NaN</td>\n",
       "      <td>...</td>\n",
       "      <td>-9.0</td>\n",
       "      <td>yes</td>\n",
       "      <td>yes</td>\n",
       "      <td>no</td>\n",
       "      <td>5.0</td>\n",
       "      <td>4.0</td>\n",
       "      <td>4.0</td>\n",
       "      <td>1.0</td>\n",
       "      <td>0.0</td>\n",
       "      <td>95.0</td>\n",
       "    </tr>\n",
       "  </tbody>\n",
       "</table>\n",
       "<p>24 rows × 30 columns</p>\n",
       "</div>"
      ],
      "text/plain": [
       "    school sex  age address famsize pstatus  medu  fedu      mjob      fjob  \\\n",
       "21      GP   M   15       U     GT3       T   4.0   NaN    health    health   \n",
       "42      GP   M   15       U     GT3       T   4.0   NaN  services   teacher   \n",
       "46      GP   F   16       U     LE3       A   3.0   NaN     other  services   \n",
       "57      GP   M   15       U     GT3       T   4.0   NaN   teacher    health   \n",
       "58      GP   M   15       U     LE3       T   1.0   NaN     other   at_home   \n",
       "67      GP   F   16       U     GT3     NaN   3.0   NaN  services     other   \n",
       "137     GP   F   16       U     GT3       A   3.0   NaN     other     other   \n",
       "142     GP   F   15       U     GT3       T   4.0   NaN   teacher  services   \n",
       "159     GP   M   16     NaN     GT3       T   3.0   NaN     other  services   \n",
       "161     GP   M   15       R     GT3       T   3.0   NaN     other       NaN   \n",
       "180     GP   M   16       U     GT3       T   4.0   NaN   teacher     other   \n",
       "195     GP   F   17       U     NaN       T   2.0   NaN  services  services   \n",
       "232     GP   M   17       U     GT3       T   4.0   NaN   teacher   teacher   \n",
       "236     GP   M   17       U     LE3       T   2.0   NaN     other     other   \n",
       "259     GP   F   17       U     LE3       T   2.0   NaN  services  services   \n",
       "280     GP   M   17       U     NaN       A   4.0   NaN  services     other   \n",
       "281     GP   M   17       U     LE3       A   3.0   NaN   teacher  services   \n",
       "286     GP   F   18       U     GT3       T   2.0   NaN   at_home   at_home   \n",
       "287     GP   F   17       U     GT3       T   1.0   NaN  services   teacher   \n",
       "290     GP   M   18       U     GT3       T   4.0   NaN   teacher     other   \n",
       "310     GP   F   19       U     LE3       T   1.0   NaN  services  services   \n",
       "328     GP   F   17       U     GT3       T   4.0   NaN   teacher  services   \n",
       "349     MS   M   18       R     GT3       T   3.0   NaN     other     other   \n",
       "374     MS   F   18       R     LE3       T   4.0   NaN     other       NaN   \n",
       "\n",
       "     ... studytime_granular higher  internet  romantic  famrel freetime goout  \\\n",
       "21   ...               -3.0    yes       yes        no     5.0      4.0   2.0   \n",
       "42   ...               -6.0    yes       yes        no     4.0      3.0   3.0   \n",
       "46   ...               -6.0    yes       yes        no     2.0      3.0   5.0   \n",
       "57   ...               -6.0    yes        no        no     3.0      2.0   2.0   \n",
       "58   ...               -6.0    yes       yes        no     4.0      3.0   2.0   \n",
       "67   ...              -12.0    yes       yes       NaN     4.0      3.0   3.0   \n",
       "137  ...               -3.0    yes       yes       yes     4.0      3.0   2.0   \n",
       "142  ...               -9.0    NaN       yes        no     4.0      2.0   2.0   \n",
       "159  ...               -6.0    yes       yes       yes     4.0      5.0   5.0   \n",
       "161  ...               -6.0    yes       yes       yes     4.0      4.0   4.0   \n",
       "180  ...               -6.0    yes       yes        no     3.0      4.0   3.0   \n",
       "195  ...               -6.0    yes       yes       yes     NaN      3.0   2.0   \n",
       "232  ...               -6.0    yes       yes       yes     4.0      5.0   5.0   \n",
       "236  ...               -6.0    yes       yes       yes     4.0      4.0   2.0   \n",
       "259  ...              -12.0    yes       NaN       yes     3.0      4.0   1.0   \n",
       "280  ...               -3.0    yes       yes       NaN     4.0      NaN   4.0   \n",
       "281  ...               -3.0    NaN       yes        no     4.0      4.0   4.0   \n",
       "286  ...               -9.0    yes       yes        no     4.0      3.0   3.0   \n",
       "287  ...               -9.0    yes       yes        no     4.0      3.0   3.0   \n",
       "290  ...               -6.0    yes       yes       NaN     NaN      NaN   2.0   \n",
       "310  ...               -6.0    yes        no       yes     4.0      2.0   4.0   \n",
       "328  ...               -9.0    yes       yes        no     5.0      4.0   4.0   \n",
       "349  ...               -3.0    yes       yes        no     NaN      5.0   5.0   \n",
       "374  ...               -9.0    yes       yes        no     5.0      4.0   4.0   \n",
       "\n",
       "    health absences score  \n",
       "21     5.0      0.0  75.0  \n",
       "42     5.0      2.0  90.0  \n",
       "46     3.0     12.0  55.0  \n",
       "57     5.0      4.0  75.0  \n",
       "58     5.0      2.0  45.0  \n",
       "67     5.0      4.0  30.0  \n",
       "137    5.0      0.0   0.0  \n",
       "142    5.0      2.0  55.0  \n",
       "159    5.0      4.0  60.0  \n",
       "161    3.0      6.0  35.0  \n",
       "180    3.0     10.0  40.0  \n",
       "195    5.0      0.0  75.0  \n",
       "232    2.0     14.0  45.0  \n",
       "236    NaN      4.0  65.0  \n",
       "259    NaN      0.0   0.0  \n",
       "280    5.0     30.0  40.0  \n",
       "281    3.0     19.0  50.0  \n",
       "286    2.0      5.0  95.0  \n",
       "287    3.0      6.0  60.0  \n",
       "290    5.0     11.0  55.0  \n",
       "310    3.0      0.0   0.0  \n",
       "328    4.0      7.0  45.0  \n",
       "349    5.0     10.0  65.0  \n",
       "374    1.0      0.0  95.0  \n",
       "\n",
       "[24 rows x 30 columns]"
      ]
     },
     "execution_count": 27,
     "metadata": {},
     "output_type": "execute_result"
    }
   ],
   "source": [
    "df[(df.fedu != 1)&(df.fedu != 2)&(df.fedu != 3)&(df.fedu != 4)&(df.fedu != 40)&(df.fedu !=0)]"
   ]
  },
  {
   "cell_type": "markdown",
   "id": "d53ca091",
   "metadata": {},
   "source": [
    "Найдем строку с выбросом:"
   ]
  },
  {
   "cell_type": "code",
   "execution_count": 28,
   "id": "f4d6dc6c",
   "metadata": {},
   "outputs": [
    {
     "data": {
      "text/html": [
       "<div>\n",
       "<style scoped>\n",
       "    .dataframe tbody tr th:only-of-type {\n",
       "        vertical-align: middle;\n",
       "    }\n",
       "\n",
       "    .dataframe tbody tr th {\n",
       "        vertical-align: top;\n",
       "    }\n",
       "\n",
       "    .dataframe thead th {\n",
       "        text-align: right;\n",
       "    }\n",
       "</style>\n",
       "<table border=\"1\" class=\"dataframe\">\n",
       "  <thead>\n",
       "    <tr style=\"text-align: right;\">\n",
       "      <th></th>\n",
       "      <th>school</th>\n",
       "      <th>sex</th>\n",
       "      <th>age</th>\n",
       "      <th>address</th>\n",
       "      <th>famsize</th>\n",
       "      <th>pstatus</th>\n",
       "      <th>medu</th>\n",
       "      <th>fedu</th>\n",
       "      <th>mjob</th>\n",
       "      <th>fjob</th>\n",
       "      <th>...</th>\n",
       "      <th>studytime_granular</th>\n",
       "      <th>higher</th>\n",
       "      <th>internet</th>\n",
       "      <th>romantic</th>\n",
       "      <th>famrel</th>\n",
       "      <th>freetime</th>\n",
       "      <th>goout</th>\n",
       "      <th>health</th>\n",
       "      <th>absences</th>\n",
       "      <th>score</th>\n",
       "    </tr>\n",
       "  </thead>\n",
       "  <tbody>\n",
       "    <tr>\n",
       "      <th>11</th>\n",
       "      <td>GP</td>\n",
       "      <td>F</td>\n",
       "      <td>15</td>\n",
       "      <td>U</td>\n",
       "      <td>GT3</td>\n",
       "      <td>NaN</td>\n",
       "      <td>2.0</td>\n",
       "      <td>40.0</td>\n",
       "      <td>services</td>\n",
       "      <td>other</td>\n",
       "      <td>...</td>\n",
       "      <td>-9.0</td>\n",
       "      <td>yes</td>\n",
       "      <td>yes</td>\n",
       "      <td>no</td>\n",
       "      <td>5.0</td>\n",
       "      <td>2.0</td>\n",
       "      <td>2.0</td>\n",
       "      <td>4.0</td>\n",
       "      <td>4.0</td>\n",
       "      <td>60.0</td>\n",
       "    </tr>\n",
       "  </tbody>\n",
       "</table>\n",
       "<p>1 rows × 30 columns</p>\n",
       "</div>"
      ],
      "text/plain": [
       "   school sex  age address famsize pstatus  medu  fedu      mjob   fjob  ...  \\\n",
       "11     GP   F   15       U     GT3     NaN   2.0  40.0  services  other  ...   \n",
       "\n",
       "   studytime_granular higher  internet  romantic  famrel freetime goout  \\\n",
       "11               -9.0    yes       yes        no     5.0      2.0   2.0   \n",
       "\n",
       "   health absences score  \n",
       "11    4.0      4.0  60.0  \n",
       "\n",
       "[1 rows x 30 columns]"
      ]
     },
     "execution_count": 28,
     "metadata": {},
     "output_type": "execute_result"
    }
   ],
   "source": [
    "df.loc[(df.fedu == 40)]"
   ]
  },
  {
   "cell_type": "markdown",
   "id": "5198e8b2",
   "metadata": {},
   "source": [
    "Можно предположить, что 40 - это опечатка и здесь должно быть 4. Заменим 40 на 4 и пройдемся по\n",
    "остальным значениям заменяя пустые на None (если что-то не заметили):"
   ]
  },
  {
   "cell_type": "code",
   "execution_count": 29,
   "id": "1ff853f7",
   "metadata": {},
   "outputs": [],
   "source": [
    "fill_with_none(df.fedu)\n",
    "df.loc[11, 'fedu'] = 4"
   ]
  },
  {
   "cell_type": "markdown",
   "id": "4ae2b4fa",
   "metadata": {},
   "source": [
    "Проверим, что получилось:"
   ]
  },
  {
   "cell_type": "code",
   "execution_count": 30,
   "id": "95caa637",
   "metadata": {},
   "outputs": [
    {
     "data": {
      "text/plain": [
       "2.0    105\n",
       "3.0     94\n",
       "4.0     89\n",
       "1.0     75\n",
       "0.0      2\n",
       "Name: fedu, dtype: int64"
      ]
     },
     "execution_count": 30,
     "metadata": {},
     "output_type": "execute_result"
    }
   ],
   "source": [
    "df.fedu.value_counts()"
   ]
  },
  {
   "cell_type": "markdown",
   "id": "ba542382",
   "metadata": {},
   "source": [
    "Добавилась еще одна ячейка со сзначением 4."
   ]
  },
  {
   "cell_type": "code",
   "execution_count": 31,
   "id": "e85eb6f5",
   "metadata": {},
   "outputs": [
    {
     "data": {
      "text/plain": [
       "count    365.000000\n",
       "mean       2.528767\n",
       "std        1.088082\n",
       "min        0.000000\n",
       "25%        2.000000\n",
       "50%        3.000000\n",
       "75%        3.000000\n",
       "max        4.000000\n",
       "Name: fedu, dtype: float64"
      ]
     },
     "execution_count": 31,
     "metadata": {},
     "output_type": "execute_result"
    },
    {
     "data": {
      "image/png": "[encoded data removed]",
      "text/plain": [
       "<Figure size 432x288 with 1 Axes>"
      ]
     },
     "metadata": {
      "needs_background": "light"
     },
     "output_type": "display_data"
    }
   ],
   "source": [
    "df.fedu.plot.hist(bins=15)\n",
    "df.fedu.describe()"
   ]
  },
  {
   "cell_type": "markdown",
   "id": "d9c50450",
   "metadata": {},
   "source": [
    "Аномалий не наблюдается, выбросов нет."
   ]
  },
  {
   "cell_type": "code",
   "execution_count": 32,
   "id": "fe466e13",
   "metadata": {},
   "outputs": [
    {
     "name": "stdout",
     "output_type": "stream",
     "text": [
      "<class 'pandas.core.frame.DataFrame'>\n",
      "Int64Index: 389 entries, 0 to 394\n",
      "Data columns (total 1 columns):\n",
      " #   Column  Non-Null Count  Dtype  \n",
      "---  ------  --------------  -----  \n",
      " 0   fedu    365 non-null    float64\n",
      "dtypes: float64(1)\n",
      "memory usage: 14.2 KB\n"
     ]
    }
   ],
   "source": [
    "df.loc[:, ['fedu']].info()"
   ]
  },
  {
   "cell_type": "markdown",
   "id": "6b575b5b",
   "metadata": {},
   "source": [
    "Заполним пропуски модой:"
   ]
  },
  {
   "cell_type": "code",
   "execution_count": 33,
   "id": "e0ce72e9",
   "metadata": {},
   "outputs": [],
   "source": [
    "fill_mod('fedu')"
   ]
  },
  {
   "cell_type": "code",
   "execution_count": 34,
   "id": "875a6c4b",
   "metadata": {},
   "outputs": [
    {
     "data": {
      "text/plain": [
       "count    389.000000\n",
       "mean       2.496144\n",
       "std        1.061564\n",
       "min        0.000000\n",
       "25%        2.000000\n",
       "50%        2.000000\n",
       "75%        3.000000\n",
       "max        4.000000\n",
       "Name: fedu, dtype: float64"
      ]
     },
     "execution_count": 34,
     "metadata": {},
     "output_type": "execute_result"
    },
    {
     "data": {
      "image/png": "[encoded data removed]",
      "text/plain": [
       "<Figure size 432x288 with 1 Axes>"
      ]
     },
     "metadata": {
      "needs_background": "light"
     },
     "output_type": "display_data"
    }
   ],
   "source": [
    "df.fedu.plot.hist(bins=15)\n",
    "df.fedu.describe()"
   ]
  },
  {
   "cell_type": "markdown",
   "id": "010a67fb",
   "metadata": {},
   "source": [
    "## traveltime"
   ]
  },
  {
   "cell_type": "code",
   "execution_count": 35,
   "id": "8e593e54",
   "metadata": {},
   "outputs": [
    {
     "data": {
      "text/plain": [
       "count    361.000000\n",
       "mean       1.434903\n",
       "std        0.692660\n",
       "min        1.000000\n",
       "25%        1.000000\n",
       "50%        1.000000\n",
       "75%        2.000000\n",
       "max        4.000000\n",
       "Name: traveltime, dtype: float64"
      ]
     },
     "execution_count": 35,
     "metadata": {},
     "output_type": "execute_result"
    },
    {
     "data": {
      "image/png": "[encoded data removed]",
      "text/plain": [
       "<Figure size 432x288 with 1 Axes>"
      ]
     },
     "metadata": {
      "needs_background": "light"
     },
     "output_type": "display_data"
    }
   ],
   "source": [
    "df.traveltime.plot.hist(bins=15)\n",
    "df.traveltime.describe()"
   ]
  },
  {
   "cell_type": "code",
   "execution_count": 36,
   "id": "dec3fc08",
   "metadata": {},
   "outputs": [
    {
     "data": {
      "text/plain": [
       "1.0    239\n",
       "2.0     94\n",
       "3.0     21\n",
       "4.0      7\n",
       "Name: traveltime, dtype: int64"
      ]
     },
     "execution_count": 36,
     "metadata": {},
     "output_type": "execute_result"
    }
   ],
   "source": [
    "df.traveltime.value_counts()"
   ]
  },
  {
   "cell_type": "markdown",
   "id": "2bf08219",
   "metadata": {},
   "source": [
    "Аномалий не наблюдается, выбросов нет."
   ]
  },
  {
   "cell_type": "markdown",
   "id": "fe3d2bde",
   "metadata": {},
   "source": [
    "Посмотрим, сколько пустых строк в переменной:"
   ]
  },
  {
   "cell_type": "code",
   "execution_count": 37,
   "id": "005799ac",
   "metadata": {},
   "outputs": [
    {
     "data": {
      "text/plain": [
       "28"
      ]
     },
     "execution_count": 37,
     "metadata": {},
     "output_type": "execute_result"
    }
   ],
   "source": [
    "df.traveltime.isnull().sum()"
   ]
  },
  {
   "cell_type": "markdown",
   "id": "ec06773e",
   "metadata": {},
   "source": [
    "Заполним пустые ячейки None:"
   ]
  },
  {
   "cell_type": "code",
   "execution_count": 38,
   "id": "caeffe47",
   "metadata": {},
   "outputs": [
    {
     "data": {
      "text/plain": [
       "0      2.0\n",
       "1      1.0\n",
       "2      1.0\n",
       "3      1.0\n",
       "4      1.0\n",
       "      ... \n",
       "390    1.0\n",
       "391    2.0\n",
       "392    1.0\n",
       "393    3.0\n",
       "394    1.0\n",
       "Name: traveltime, Length: 389, dtype: float64"
      ]
     },
     "execution_count": 38,
     "metadata": {},
     "output_type": "execute_result"
    }
   ],
   "source": [
    "fill_with_none(df.traveltime)"
   ]
  },
  {
   "cell_type": "markdown",
   "id": "09a32329",
   "metadata": {},
   "source": [
    "Здесь, также, меньше искажений в распределение привносит заполнение пустых ячеек модой."
   ]
  },
  {
   "cell_type": "code",
   "execution_count": 39,
   "id": "8f99f4a5",
   "metadata": {},
   "outputs": [],
   "source": [
    "fill_mod('traveltime')"
   ]
  },
  {
   "cell_type": "code",
   "execution_count": 40,
   "id": "b4a5dec3",
   "metadata": {},
   "outputs": [
    {
     "data": {
      "text/plain": [
       "count    389.000000\n",
       "mean       1.403599\n",
       "std        0.676625\n",
       "min        1.000000\n",
       "25%        1.000000\n",
       "50%        1.000000\n",
       "75%        2.000000\n",
       "max        4.000000\n",
       "Name: traveltime, dtype: float64"
      ]
     },
     "execution_count": 40,
     "metadata": {},
     "output_type": "execute_result"
    },
    {
     "data": {
      "image/png": "[encoded data removed]",
      "text/plain": [
       "<Figure size 432x288 with 1 Axes>"
      ]
     },
     "metadata": {
      "needs_background": "light"
     },
     "output_type": "display_data"
    }
   ],
   "source": [
    "df.traveltime.plot.hist(bins=15)\n",
    "df.traveltime.describe()"
   ]
  },
  {
   "cell_type": "code",
   "execution_count": 41,
   "id": "7359612a",
   "metadata": {},
   "outputs": [
    {
     "name": "stdout",
     "output_type": "stream",
     "text": [
      "<class 'pandas.core.frame.DataFrame'>\n",
      "Int64Index: 389 entries, 0 to 394\n",
      "Data columns (total 1 columns):\n",
      " #   Column      Non-Null Count  Dtype  \n",
      "---  ------      --------------  -----  \n",
      " 0   traveltime  389 non-null    float64\n",
      "dtypes: float64(1)\n",
      "memory usage: 14.2 KB\n"
     ]
    }
   ],
   "source": [
    "df.loc[:, ['traveltime']].info()"
   ]
  },
  {
   "cell_type": "markdown",
   "id": "5e6c3de4",
   "metadata": {},
   "source": [
    "## studytime"
   ]
  },
  {
   "cell_type": "code",
   "execution_count": 42,
   "id": "24452da7",
   "metadata": {},
   "outputs": [
    {
     "data": {
      "text/plain": [
       "count    382.000000\n",
       "mean       2.036649\n",
       "std        0.847239\n",
       "min        1.000000\n",
       "25%        1.000000\n",
       "50%        2.000000\n",
       "75%        2.000000\n",
       "max        4.000000\n",
       "Name: studytime, dtype: float64"
      ]
     },
     "execution_count": 42,
     "metadata": {},
     "output_type": "execute_result"
    },
    {
     "data": {
      "image/png": "[encoded data removed]",
      "text/plain": [
       "<Figure size 432x288 with 1 Axes>"
      ]
     },
     "metadata": {
      "needs_background": "light"
     },
     "output_type": "display_data"
    }
   ],
   "source": [
    "df.studytime.plot.hist(bins=15)\n",
    "df.studytime.describe()"
   ]
  },
  {
   "cell_type": "code",
   "execution_count": 43,
   "id": "3be496e1",
   "metadata": {},
   "outputs": [
    {
     "data": {
      "text/plain": [
       "2.0    189\n",
       "1.0    103\n",
       "3.0     63\n",
       "4.0     27\n",
       "Name: studytime, dtype: int64"
      ]
     },
     "execution_count": 43,
     "metadata": {},
     "output_type": "execute_result"
    }
   ],
   "source": [
    "df.studytime.value_counts()"
   ]
  },
  {
   "cell_type": "markdown",
   "id": "0d0370b1",
   "metadata": {},
   "source": [
    "Аномалий не наблюдается, выбросов нет."
   ]
  },
  {
   "cell_type": "markdown",
   "id": "105aeab5",
   "metadata": {},
   "source": [
    "Посмотрим, сколько пустых строк в переменной:"
   ]
  },
  {
   "cell_type": "code",
   "execution_count": 44,
   "id": "5d94ad4a",
   "metadata": {},
   "outputs": [
    {
     "data": {
      "text/plain": [
       "7"
      ]
     },
     "execution_count": 44,
     "metadata": {},
     "output_type": "execute_result"
    }
   ],
   "source": [
    "df.studytime.isnull().sum()"
   ]
  },
  {
   "cell_type": "markdown",
   "id": "43ba4669",
   "metadata": {},
   "source": [
    "Заполним пустые ячейки None:"
   ]
  },
  {
   "cell_type": "code",
   "execution_count": 45,
   "id": "a1e6cf68",
   "metadata": {},
   "outputs": [
    {
     "data": {
      "text/plain": [
       "0      2.0\n",
       "1      2.0\n",
       "2      2.0\n",
       "3      3.0\n",
       "4      2.0\n",
       "      ... \n",
       "390    2.0\n",
       "391    1.0\n",
       "392    1.0\n",
       "393    1.0\n",
       "394    1.0\n",
       "Name: studytime, Length: 389, dtype: float64"
      ]
     },
     "execution_count": 45,
     "metadata": {},
     "output_type": "execute_result"
    }
   ],
   "source": [
    "fill_with_none(df.studytime)"
   ]
  },
  {
   "cell_type": "markdown",
   "id": "a1b88960",
   "metadata": {},
   "source": [
    "Заполним пропуски константой (mode):"
   ]
  },
  {
   "cell_type": "code",
   "execution_count": 46,
   "id": "109b1a33",
   "metadata": {},
   "outputs": [],
   "source": [
    "fill_mod('studytime')"
   ]
  },
  {
   "cell_type": "code",
   "execution_count": 47,
   "id": "cddcddba",
   "metadata": {},
   "outputs": [
    {
     "data": {
      "text/plain": [
       "count    389.000000\n",
       "mean       2.035990\n",
       "std        0.839575\n",
       "min        1.000000\n",
       "25%        1.000000\n",
       "50%        2.000000\n",
       "75%        2.000000\n",
       "max        4.000000\n",
       "Name: studytime, dtype: float64"
      ]
     },
     "execution_count": 47,
     "metadata": {},
     "output_type": "execute_result"
    },
    {
     "data": {
      "image/png": "[encoded data removed]",
      "text/plain": [
       "<Figure size 432x288 with 1 Axes>"
      ]
     },
     "metadata": {
      "needs_background": "light"
     },
     "output_type": "display_data"
    }
   ],
   "source": [
    "df.studytime.plot.hist(bins=15)\n",
    "df.studytime.describe()"
   ]
  },
  {
   "cell_type": "markdown",
   "id": "f4fdc74b",
   "metadata": {},
   "source": [
    "## failures"
   ]
  },
  {
   "cell_type": "code",
   "execution_count": 48,
   "id": "cfff51f5",
   "metadata": {},
   "outputs": [
    {
     "data": {
      "text/plain": [
       "count    367.000000\n",
       "mean       0.326975\n",
       "std        0.729479\n",
       "min        0.000000\n",
       "25%        0.000000\n",
       "50%        0.000000\n",
       "75%        0.000000\n",
       "max        3.000000\n",
       "Name: failures, dtype: float64"
      ]
     },
     "execution_count": 48,
     "metadata": {},
     "output_type": "execute_result"
    },
    {
     "data": {
      "image/png": "[encoded data removed]",
      "text/plain": [
       "<Figure size 432x288 with 1 Axes>"
      ]
     },
     "metadata": {
      "needs_background": "light"
     },
     "output_type": "display_data"
    }
   ],
   "source": [
    "df.failures.plot.hist(bins=15)\n",
    "df.failures.describe()"
   ]
  },
  {
   "cell_type": "code",
   "execution_count": 49,
   "id": "8797deb4",
   "metadata": {},
   "outputs": [
    {
     "data": {
      "text/plain": [
       "0.0    290\n",
       "1.0     48\n",
       "2.0     15\n",
       "3.0     14\n",
       "Name: failures, dtype: int64"
      ]
     },
     "execution_count": 49,
     "metadata": {},
     "output_type": "execute_result"
    }
   ],
   "source": [
    "df.failures.value_counts()"
   ]
  },
  {
   "cell_type": "markdown",
   "id": "fdc95a11",
   "metadata": {},
   "source": [
    "Не очень понятно, что означает эта переменная. Что подразумевается под \"внеучебными неудачами\"."
   ]
  },
  {
   "cell_type": "markdown",
   "id": "ee19d1cf",
   "metadata": {},
   "source": [
    "Заполним пропуски:"
   ]
  },
  {
   "cell_type": "code",
   "execution_count": 50,
   "id": "79227309",
   "metadata": {},
   "outputs": [
    {
     "data": {
      "text/plain": [
       "22"
      ]
     },
     "execution_count": 50,
     "metadata": {},
     "output_type": "execute_result"
    }
   ],
   "source": [
    "df.failures.isnull().sum()"
   ]
  },
  {
   "cell_type": "code",
   "execution_count": 51,
   "id": "18de5ded",
   "metadata": {},
   "outputs": [
    {
     "data": {
      "text/plain": [
       "0      0.0\n",
       "1      0.0\n",
       "2      3.0\n",
       "3      0.0\n",
       "4      0.0\n",
       "      ... \n",
       "390    2.0\n",
       "391    0.0\n",
       "392    3.0\n",
       "393    0.0\n",
       "394    0.0\n",
       "Name: failures, Length: 389, dtype: float64"
      ]
     },
     "execution_count": 51,
     "metadata": {},
     "output_type": "execute_result"
    }
   ],
   "source": [
    "fill_with_none(df.failures)"
   ]
  },
  {
   "cell_type": "code",
   "execution_count": 52,
   "id": "a39179e7",
   "metadata": {},
   "outputs": [],
   "source": [
    "fill_mod('failures')"
   ]
  },
  {
   "cell_type": "code",
   "execution_count": 53,
   "id": "5bb28592",
   "metadata": {},
   "outputs": [
    {
     "data": {
      "text/plain": [
       "count    389.000000\n",
       "mean       0.308483\n",
       "std        0.712521\n",
       "min        0.000000\n",
       "25%        0.000000\n",
       "50%        0.000000\n",
       "75%        0.000000\n",
       "max        3.000000\n",
       "Name: failures, dtype: float64"
      ]
     },
     "execution_count": 53,
     "metadata": {},
     "output_type": "execute_result"
    },
    {
     "data": {
      "image/png": "[encoded data removed]",
      "text/plain": [
       "<Figure size 432x288 with 1 Axes>"
      ]
     },
     "metadata": {
      "needs_background": "light"
     },
     "output_type": "display_data"
    }
   ],
   "source": [
    "df.failures.plot.hist(bins=15)\n",
    "df.failures.describe()"
   ]
  },
  {
   "cell_type": "markdown",
   "id": "45a3e438",
   "metadata": {},
   "source": [
    "## studytime_granular"
   ]
  },
  {
   "cell_type": "markdown",
   "id": "b8143e6f",
   "metadata": {},
   "source": [
    "Посмотрим на кореляцию этой пременной с переменной studytime:"
   ]
  },
  {
   "cell_type": "code",
   "execution_count": 54,
   "id": "136d1928",
   "metadata": {},
   "outputs": [
    {
     "data": {
      "text/plain": [
       "-0.9999999999999993"
      ]
     },
     "execution_count": 54,
     "metadata": {},
     "output_type": "execute_result"
    }
   ],
   "source": [
    "df['studytime'].corr(df['studytime_granular'])"
   ]
  },
  {
   "cell_type": "code",
   "execution_count": 55,
   "id": "45004205",
   "metadata": {},
   "outputs": [
    {
     "data": {
      "text/html": [
       "<div>\n",
       "<style scoped>\n",
       "    .dataframe tbody tr th:only-of-type {\n",
       "        vertical-align: middle;\n",
       "    }\n",
       "\n",
       "    .dataframe tbody tr th {\n",
       "        vertical-align: top;\n",
       "    }\n",
       "\n",
       "    .dataframe thead th {\n",
       "        text-align: right;\n",
       "    }\n",
       "</style>\n",
       "<table border=\"1\" class=\"dataframe\">\n",
       "  <thead>\n",
       "    <tr style=\"text-align: right;\">\n",
       "      <th></th>\n",
       "      <th>studytime</th>\n",
       "      <th>studytime_granular</th>\n",
       "    </tr>\n",
       "  </thead>\n",
       "  <tbody>\n",
       "    <tr>\n",
       "      <th>studytime</th>\n",
       "      <td>1.0</td>\n",
       "      <td>-1.0</td>\n",
       "    </tr>\n",
       "    <tr>\n",
       "      <th>studytime_granular</th>\n",
       "      <td>-1.0</td>\n",
       "      <td>1.0</td>\n",
       "    </tr>\n",
       "  </tbody>\n",
       "</table>\n",
       "</div>"
      ],
      "text/plain": [
       "                    studytime  studytime_granular\n",
       "studytime                 1.0                -1.0\n",
       "studytime_granular       -1.0                 1.0"
      ]
     },
     "execution_count": 55,
     "metadata": {},
     "output_type": "execute_result"
    }
   ],
   "source": [
    "clmns = ['studytime', 'studytime_granular']\n",
    "df.loc[:,clmns].corr()"
   ]
  },
  {
   "cell_type": "code",
   "execution_count": 56,
   "id": "6ce31e9a",
   "metadata": {},
   "outputs": [
    {
     "data": {
      "text/plain": [
       "<seaborn.axisgrid.JointGrid at 0x24c5dea8e20>"
      ]
     },
     "execution_count": 56,
     "metadata": {},
     "output_type": "execute_result"
    },
    {
     "data": {
      "image/png": "[encoded data removed]",
      "text/plain": [
       "<Figure size 432x432 with 3 Axes>"
      ]
     },
     "metadata": {
      "needs_background": "light"
     },
     "output_type": "display_data"
    }
   ],
   "source": [
    "sns.jointplot(x = 'studytime_granular', y = 'studytime', data = df, kind = 'reg')"
   ]
  },
  {
   "cell_type": "code",
   "execution_count": 57,
   "id": "e969f0df",
   "metadata": {},
   "outputs": [
    {
     "data": {
      "text/plain": [
       "<AxesSubplot:xlabel='studytime_granular', ylabel='studytime'>"
      ]
     },
     "execution_count": 57,
     "metadata": {},
     "output_type": "execute_result"
    },
    {
     "data": {
      "image/png": "[encoded data removed]",
      "text/plain": [
       "<Figure size 432x288 with 1 Axes>"
      ]
     },
     "metadata": {
      "needs_background": "light"
     },
     "output_type": "display_data"
    }
   ],
   "source": [
    "df.plot(x = 'studytime_granular', \n",
    "        y = 'studytime', \n",
    "        kind = 'scatter', \n",
    "        grid = True, \n",
    "        title = '')"
   ]
  },
  {
   "cell_type": "markdown",
   "id": "a43966af",
   "metadata": {},
   "source": [
    "Это явные дубликаты и переменную studytime_granular можно удалить. К тому же, она отсутствует в описании датасета."
   ]
  },
  {
   "cell_type": "code",
   "execution_count": 58,
   "id": "6e788c5e",
   "metadata": {},
   "outputs": [],
   "source": [
    "df.drop(['studytime_granular'], axis=1, inplace=True)"
   ]
  },
  {
   "cell_type": "code",
   "execution_count": 59,
   "id": "82c5b1b8",
   "metadata": {
    "scrolled": true
   },
   "outputs": [
    {
     "name": "stdout",
     "output_type": "stream",
     "text": [
      "<class 'pandas.core.frame.DataFrame'>\n",
      "Int64Index: 389 entries, 0 to 394\n",
      "Data columns (total 29 columns):\n",
      " #   Column      Non-Null Count  Dtype  \n",
      "---  ------      --------------  -----  \n",
      " 0   school      389 non-null    object \n",
      " 1   sex         389 non-null    object \n",
      " 2   age         389 non-null    int64  \n",
      " 3   address     374 non-null    object \n",
      " 4   famsize     362 non-null    object \n",
      " 5   pstatus     344 non-null    object \n",
      " 6   medu        389 non-null    float64\n",
      " 7   fedu        389 non-null    float64\n",
      " 8   mjob        370 non-null    object \n",
      " 9   fjob        353 non-null    object \n",
      " 10  reason      372 non-null    object \n",
      " 11  guardian    358 non-null    object \n",
      " 12  traveltime  389 non-null    float64\n",
      " 13  studytime   389 non-null    float64\n",
      " 14  failures    389 non-null    float64\n",
      " 15  schoolsup   380 non-null    object \n",
      " 16  famsup      351 non-null    object \n",
      " 17  paid        350 non-null    object \n",
      " 18  activities  375 non-null    object \n",
      " 19  nursery     374 non-null    object \n",
      " 20  higher      369 non-null    object \n",
      " 21  internet    355 non-null    object \n",
      " 22  romantic    358 non-null    object \n",
      " 23  famrel      362 non-null    float64\n",
      " 24  freetime    380 non-null    float64\n",
      " 25  goout       382 non-null    float64\n",
      " 26  health      374 non-null    float64\n",
      " 27  absences    378 non-null    float64\n",
      " 28  score       389 non-null    float64\n",
      "dtypes: float64(11), int64(1), object(17)\n",
      "memory usage: 99.3+ KB\n"
     ]
    }
   ],
   "source": [
    "df.info()"
   ]
  },
  {
   "cell_type": "markdown",
   "id": "00234e27",
   "metadata": {},
   "source": [
    "## famrel"
   ]
  },
  {
   "cell_type": "code",
   "execution_count": 60,
   "id": "b71cefef",
   "metadata": {},
   "outputs": [
    {
     "data": {
      "text/plain": [
       "count    362.000000\n",
       "mean       3.930939\n",
       "std        0.931554\n",
       "min       -1.000000\n",
       "25%        4.000000\n",
       "50%        4.000000\n",
       "75%        5.000000\n",
       "max        5.000000\n",
       "Name: famrel, dtype: float64"
      ]
     },
     "execution_count": 60,
     "metadata": {},
     "output_type": "execute_result"
    },
    {
     "data": {
      "image/png": "[encoded data removed]",
      "text/plain": [
       "<Figure size 432x288 with 1 Axes>"
      ]
     },
     "metadata": {
      "needs_background": "light"
     },
     "output_type": "display_data"
    }
   ],
   "source": [
    "df.famrel.plot.hist(bins=15)\n",
    "df.famrel.describe()"
   ]
  },
  {
   "cell_type": "markdown",
   "id": "c2759766",
   "metadata": {},
   "source": [
    "Есть явный выброс: -1. У нас в этой перменной 5-бальная шкала."
   ]
  },
  {
   "cell_type": "code",
   "execution_count": 61,
   "id": "bb858326",
   "metadata": {},
   "outputs": [
    {
     "data": {
      "text/plain": [
       "False    388\n",
       "True       1\n",
       "Name: famrel, dtype: int64"
      ]
     },
     "execution_count": 61,
     "metadata": {},
     "output_type": "execute_result"
    }
   ],
   "source": [
    "(df.famrel == -1).value_counts()"
   ]
  },
  {
   "cell_type": "markdown",
   "id": "980ddf33",
   "metadata": {},
   "source": [
    "Локализуем строку с выбросом:"
   ]
  },
  {
   "cell_type": "code",
   "execution_count": 62,
   "id": "4244261a",
   "metadata": {},
   "outputs": [
    {
     "data": {
      "text/html": [
       "<div>\n",
       "<style scoped>\n",
       "    .dataframe tbody tr th:only-of-type {\n",
       "        vertical-align: middle;\n",
       "    }\n",
       "\n",
       "    .dataframe tbody tr th {\n",
       "        vertical-align: top;\n",
       "    }\n",
       "\n",
       "    .dataframe thead th {\n",
       "        text-align: right;\n",
       "    }\n",
       "</style>\n",
       "<table border=\"1\" class=\"dataframe\">\n",
       "  <thead>\n",
       "    <tr style=\"text-align: right;\">\n",
       "      <th></th>\n",
       "      <th>school</th>\n",
       "      <th>sex</th>\n",
       "      <th>age</th>\n",
       "      <th>address</th>\n",
       "      <th>famsize</th>\n",
       "      <th>pstatus</th>\n",
       "      <th>medu</th>\n",
       "      <th>fedu</th>\n",
       "      <th>mjob</th>\n",
       "      <th>fjob</th>\n",
       "      <th>...</th>\n",
       "      <th>nursery</th>\n",
       "      <th>higher</th>\n",
       "      <th>internet</th>\n",
       "      <th>romantic</th>\n",
       "      <th>famrel</th>\n",
       "      <th>freetime</th>\n",
       "      <th>goout</th>\n",
       "      <th>health</th>\n",
       "      <th>absences</th>\n",
       "      <th>score</th>\n",
       "    </tr>\n",
       "  </thead>\n",
       "  <tbody>\n",
       "    <tr>\n",
       "      <th>25</th>\n",
       "      <td>GP</td>\n",
       "      <td>F</td>\n",
       "      <td>16</td>\n",
       "      <td>U</td>\n",
       "      <td>GT3</td>\n",
       "      <td>NaN</td>\n",
       "      <td>2.0</td>\n",
       "      <td>2.0</td>\n",
       "      <td>services</td>\n",
       "      <td>services</td>\n",
       "      <td>...</td>\n",
       "      <td>no</td>\n",
       "      <td>yes</td>\n",
       "      <td>yes</td>\n",
       "      <td>no</td>\n",
       "      <td>-1.0</td>\n",
       "      <td>2.0</td>\n",
       "      <td>2.0</td>\n",
       "      <td>5.0</td>\n",
       "      <td>14.0</td>\n",
       "      <td>40.0</td>\n",
       "    </tr>\n",
       "  </tbody>\n",
       "</table>\n",
       "<p>1 rows × 29 columns</p>\n",
       "</div>"
      ],
      "text/plain": [
       "   school sex  age address famsize pstatus  medu  fedu      mjob      fjob  \\\n",
       "25     GP   F   16       U     GT3     NaN   2.0   2.0  services  services   \n",
       "\n",
       "    ... nursery higher  internet  romantic  famrel freetime goout health  \\\n",
       "25  ...      no    yes       yes        no    -1.0      2.0   2.0    5.0   \n",
       "\n",
       "   absences score  \n",
       "25     14.0  40.0  \n",
       "\n",
       "[1 rows x 29 columns]"
      ]
     },
     "execution_count": 62,
     "metadata": {},
     "output_type": "execute_result"
    }
   ],
   "source": [
    "df.loc[(df.famrel == -1)]"
   ]
  },
  {
   "cell_type": "markdown",
   "id": "e411f212",
   "metadata": {},
   "source": [
    "И снова, не целесообразно избавляться от этой строки с выбросом. В ней почти все данные присутствуют.\n",
    "Сделаем допущение об опечатке. Заменим -1 на 1."
   ]
  },
  {
   "cell_type": "code",
   "execution_count": 63,
   "id": "a19e2439",
   "metadata": {},
   "outputs": [
    {
     "data": {
      "text/plain": [
       "1.0"
      ]
     },
     "execution_count": 63,
     "metadata": {},
     "output_type": "execute_result"
    }
   ],
   "source": [
    "df.loc[25, 'famrel'] = 1\n",
    "df.loc[25, 'famrel']"
   ]
  },
  {
   "cell_type": "markdown",
   "id": "fd170043",
   "metadata": {},
   "source": [
    "Заполним пустые строки:"
   ]
  },
  {
   "cell_type": "code",
   "execution_count": 64,
   "id": "de7b8372",
   "metadata": {},
   "outputs": [
    {
     "data": {
      "text/plain": [
       "0      4.0\n",
       "1      5.0\n",
       "2      4.0\n",
       "3      3.0\n",
       "4      4.0\n",
       "      ... \n",
       "390    5.0\n",
       "391    2.0\n",
       "392    5.0\n",
       "393    4.0\n",
       "394    3.0\n",
       "Name: famrel, Length: 389, dtype: float64"
      ]
     },
     "execution_count": 64,
     "metadata": {},
     "output_type": "execute_result"
    }
   ],
   "source": [
    "fill_with_none(df.famrel)"
   ]
  },
  {
   "cell_type": "code",
   "execution_count": 65,
   "id": "809a0e19",
   "metadata": {
    "scrolled": true
   },
   "outputs": [
    {
     "data": {
      "text/plain": [
       "count    362.000000\n",
       "mean       3.936464\n",
       "std        0.907858\n",
       "min        1.000000\n",
       "25%        4.000000\n",
       "50%        4.000000\n",
       "75%        5.000000\n",
       "max        5.000000\n",
       "Name: famrel, dtype: float64"
      ]
     },
     "execution_count": 65,
     "metadata": {},
     "output_type": "execute_result"
    },
    {
     "data": {
      "image/png": "[encoded data removed]",
      "text/plain": [
       "<Figure size 432x288 with 1 Axes>"
      ]
     },
     "metadata": {
      "needs_background": "light"
     },
     "output_type": "display_data"
    }
   ],
   "source": [
    "df.famrel.plot.hist(bins=15)\n",
    "df.famrel.describe()"
   ]
  },
  {
   "cell_type": "markdown",
   "id": "5f135f88",
   "metadata": {},
   "source": [
    "Распределение смещено влево."
   ]
  },
  {
   "cell_type": "markdown",
   "id": "d04e0443",
   "metadata": {},
   "source": [
    "Заполним недостающие данные значениями моды:"
   ]
  },
  {
   "cell_type": "code",
   "execution_count": 66,
   "id": "e0f0359e",
   "metadata": {},
   "outputs": [],
   "source": [
    "fill_mod('famrel')"
   ]
  },
  {
   "cell_type": "code",
   "execution_count": 67,
   "id": "0047ee3f",
   "metadata": {},
   "outputs": [
    {
     "data": {
      "text/plain": [
       "count    389.000000\n",
       "mean       3.940874\n",
       "std        0.875850\n",
       "min        1.000000\n",
       "25%        4.000000\n",
       "50%        4.000000\n",
       "75%        4.000000\n",
       "max        5.000000\n",
       "Name: famrel, dtype: float64"
      ]
     },
     "execution_count": 67,
     "metadata": {},
     "output_type": "execute_result"
    },
    {
     "data": {
      "image/png": "[encoded data removed]",
      "text/plain": [
       "<Figure size 432x288 with 1 Axes>"
      ]
     },
     "metadata": {
      "needs_background": "light"
     },
     "output_type": "display_data"
    }
   ],
   "source": [
    "df.famrel.plot.hist(bins=15)\n",
    "df.famrel.describe()"
   ]
  },
  {
   "cell_type": "markdown",
   "id": "c9313ba4",
   "metadata": {},
   "source": [
    "## freetime"
   ]
  },
  {
   "cell_type": "code",
   "execution_count": 68,
   "id": "c8e6aea6",
   "metadata": {},
   "outputs": [
    {
     "data": {
      "text/plain": [
       "count    380.000000\n",
       "mean       3.223684\n",
       "std        0.993364\n",
       "min        1.000000\n",
       "25%        3.000000\n",
       "50%        3.000000\n",
       "75%        4.000000\n",
       "max        5.000000\n",
       "Name: freetime, dtype: float64"
      ]
     },
     "execution_count": 68,
     "metadata": {},
     "output_type": "execute_result"
    },
    {
     "data": {
      "image/png": "[encoded data removed]",
      "text/plain": [
       "<Figure size 432x288 with 1 Axes>"
      ]
     },
     "metadata": {
      "needs_background": "light"
     },
     "output_type": "display_data"
    }
   ],
   "source": [
    "df.freetime.plot.hist(bins=15)\n",
    "df.freetime.describe()"
   ]
  },
  {
   "cell_type": "code",
   "execution_count": 69,
   "id": "b7430b61",
   "metadata": {},
   "outputs": [
    {
     "data": {
      "text/plain": [
       "3.0    152\n",
       "4.0    110\n",
       "2.0     63\n",
       "5.0     37\n",
       "1.0     18\n",
       "Name: freetime, dtype: int64"
      ]
     },
     "execution_count": 69,
     "metadata": {},
     "output_type": "execute_result"
    }
   ],
   "source": [
    "df.freetime.value_counts()"
   ]
  },
  {
   "cell_type": "markdown",
   "id": "c8fae7d2",
   "metadata": {},
   "source": [
    "Аномалий не наблюдается, выбросов нет."
   ]
  },
  {
   "cell_type": "markdown",
   "id": "561fbe21",
   "metadata": {},
   "source": [
    "Заполним пропуски:"
   ]
  },
  {
   "cell_type": "code",
   "execution_count": 70,
   "id": "e58eb4b3",
   "metadata": {},
   "outputs": [
    {
     "data": {
      "text/plain": [
       "0      3.0\n",
       "1      3.0\n",
       "2      3.0\n",
       "3      2.0\n",
       "4      3.0\n",
       "      ... \n",
       "390    5.0\n",
       "391    4.0\n",
       "392    5.0\n",
       "393    4.0\n",
       "394    2.0\n",
       "Name: freetime, Length: 389, dtype: float64"
      ]
     },
     "execution_count": 70,
     "metadata": {},
     "output_type": "execute_result"
    }
   ],
   "source": [
    "fill_with_none(df.freetime)"
   ]
  },
  {
   "cell_type": "markdown",
   "id": "c7dbe4bf",
   "metadata": {},
   "source": [
    "Заполним недостающие данные значениями медианы:"
   ]
  },
  {
   "cell_type": "code",
   "execution_count": 71,
   "id": "ba56da03",
   "metadata": {},
   "outputs": [],
   "source": [
    "fill_med('freetime')"
   ]
  },
  {
   "cell_type": "code",
   "execution_count": 72,
   "id": "d3db077b",
   "metadata": {},
   "outputs": [
    {
     "data": {
      "text/plain": [
       "count    389.000000\n",
       "mean       3.218509\n",
       "std        0.982353\n",
       "min        1.000000\n",
       "25%        3.000000\n",
       "50%        3.000000\n",
       "75%        4.000000\n",
       "max        5.000000\n",
       "Name: freetime, dtype: float64"
      ]
     },
     "execution_count": 72,
     "metadata": {},
     "output_type": "execute_result"
    },
    {
     "data": {
      "image/png": "[encoded data removed]",
      "text/plain": [
       "<Figure size 432x288 with 1 Axes>"
      ]
     },
     "metadata": {
      "needs_background": "light"
     },
     "output_type": "display_data"
    }
   ],
   "source": [
    "df.freetime.plot.hist(bins=15)\n",
    "df.freetime.describe()"
   ]
  },
  {
   "cell_type": "markdown",
   "id": "8e1bab04",
   "metadata": {},
   "source": [
    "## goout"
   ]
  },
  {
   "cell_type": "code",
   "execution_count": 73,
   "id": "1a241565",
   "metadata": {},
   "outputs": [
    {
     "data": {
      "text/plain": [
       "count    382.000000\n",
       "mean       3.094241\n",
       "std        1.116104\n",
       "min        1.000000\n",
       "25%        2.000000\n",
       "50%        3.000000\n",
       "75%        4.000000\n",
       "max        5.000000\n",
       "Name: goout, dtype: float64"
      ]
     },
     "execution_count": 73,
     "metadata": {},
     "output_type": "execute_result"
    },
    {
     "data": {
      "image/png": "[encoded data removed]",
      "text/plain": [
       "<Figure size 432x288 with 1 Axes>"
      ]
     },
     "metadata": {
      "needs_background": "light"
     },
     "output_type": "display_data"
    }
   ],
   "source": [
    "df.goout.plot.hist(bins=15)\n",
    "df.goout.describe()"
   ]
  },
  {
   "cell_type": "code",
   "execution_count": 74,
   "id": "0298e0a4",
   "metadata": {},
   "outputs": [
    {
     "data": {
      "text/plain": [
       "3.0    126\n",
       "2.0    101\n",
       "4.0     81\n",
       "5.0     51\n",
       "1.0     23\n",
       "Name: goout, dtype: int64"
      ]
     },
     "execution_count": 74,
     "metadata": {},
     "output_type": "execute_result"
    }
   ],
   "source": [
    "df.goout.value_counts()"
   ]
  },
  {
   "cell_type": "markdown",
   "id": "e280be83",
   "metadata": {},
   "source": [
    "Аномалий не наблюдается, выбросов нет."
   ]
  },
  {
   "cell_type": "markdown",
   "id": "b60b93c8",
   "metadata": {},
   "source": [
    "Заполним пропуски:"
   ]
  },
  {
   "cell_type": "code",
   "execution_count": 75,
   "id": "600a8834",
   "metadata": {},
   "outputs": [
    {
     "data": {
      "text/plain": [
       "0      4.0\n",
       "1      3.0\n",
       "2      2.0\n",
       "3      2.0\n",
       "4      2.0\n",
       "      ... \n",
       "390    4.0\n",
       "391    5.0\n",
       "392    3.0\n",
       "393    1.0\n",
       "394    3.0\n",
       "Name: goout, Length: 389, dtype: float64"
      ]
     },
     "execution_count": 75,
     "metadata": {},
     "output_type": "execute_result"
    }
   ],
   "source": [
    "fill_with_none(df.goout)"
   ]
  },
  {
   "cell_type": "markdown",
   "id": "d8e0091e",
   "metadata": {},
   "source": [
    "Заполним недостающие значения медианой:"
   ]
  },
  {
   "cell_type": "code",
   "execution_count": 76,
   "id": "bc62dc11",
   "metadata": {},
   "outputs": [],
   "source": [
    "fill_med('goout')"
   ]
  },
  {
   "cell_type": "code",
   "execution_count": 77,
   "id": "4a6e5e54",
   "metadata": {},
   "outputs": [
    {
     "data": {
      "text/plain": [
       "count    389.000000\n",
       "mean       3.092545\n",
       "std        1.106062\n",
       "min        1.000000\n",
       "25%        2.000000\n",
       "50%        3.000000\n",
       "75%        4.000000\n",
       "max        5.000000\n",
       "Name: goout, dtype: float64"
      ]
     },
     "execution_count": 77,
     "metadata": {},
     "output_type": "execute_result"
    },
    {
     "data": {
      "image/png": "[encoded data removed]",
      "text/plain": [
       "<Figure size 432x288 with 1 Axes>"
      ]
     },
     "metadata": {
      "needs_background": "light"
     },
     "output_type": "display_data"
    }
   ],
   "source": [
    "df.goout.plot.hist(bins=15)\n",
    "df.goout.describe()"
   ]
  },
  {
   "cell_type": "markdown",
   "id": "a77f33e0",
   "metadata": {},
   "source": [
    "## health"
   ]
  },
  {
   "cell_type": "code",
   "execution_count": 78,
   "id": "c4414174",
   "metadata": {},
   "outputs": [
    {
     "data": {
      "text/plain": [
       "count    374.000000\n",
       "mean       3.529412\n",
       "std        1.402006\n",
       "min        1.000000\n",
       "25%        3.000000\n",
       "50%        4.000000\n",
       "75%        5.000000\n",
       "max        5.000000\n",
       "Name: health, dtype: float64"
      ]
     },
     "execution_count": 78,
     "metadata": {},
     "output_type": "execute_result"
    },
    {
     "data": {
      "image/png": "[encoded data removed]",
      "text/plain": [
       "<Figure size 432x288 with 1 Axes>"
      ]
     },
     "metadata": {
      "needs_background": "light"
     },
     "output_type": "display_data"
    }
   ],
   "source": [
    "df.health.plot.hist(bins=15)\n",
    "df.health.describe()"
   ]
  },
  {
   "cell_type": "code",
   "execution_count": 79,
   "id": "95776e4e",
   "metadata": {},
   "outputs": [
    {
     "data": {
      "text/plain": [
       "5.0    137\n",
       "3.0     88\n",
       "4.0     60\n",
       "1.0     47\n",
       "2.0     42\n",
       "Name: health, dtype: int64"
      ]
     },
     "execution_count": 79,
     "metadata": {},
     "output_type": "execute_result"
    }
   ],
   "source": [
    "df.health.value_counts()"
   ]
  },
  {
   "cell_type": "markdown",
   "id": "e551ed8b",
   "metadata": {},
   "source": [
    "Аномалий не наблюдается, выбросов нет."
   ]
  },
  {
   "cell_type": "markdown",
   "id": "8f4db0ab",
   "metadata": {},
   "source": [
    "Заполним пропуски:"
   ]
  },
  {
   "cell_type": "code",
   "execution_count": 80,
   "id": "da085860",
   "metadata": {},
   "outputs": [
    {
     "data": {
      "text/plain": [
       "0      3.0\n",
       "1      3.0\n",
       "2      3.0\n",
       "3      5.0\n",
       "4      5.0\n",
       "      ... \n",
       "390    4.0\n",
       "391    2.0\n",
       "392    3.0\n",
       "393    5.0\n",
       "394    5.0\n",
       "Name: health, Length: 389, dtype: float64"
      ]
     },
     "execution_count": 80,
     "metadata": {},
     "output_type": "execute_result"
    }
   ],
   "source": [
    "fill_with_none(df.health)"
   ]
  },
  {
   "cell_type": "markdown",
   "id": "49902ec8",
   "metadata": {},
   "source": [
    "Пустые значения заполним модой:"
   ]
  },
  {
   "cell_type": "code",
   "execution_count": 81,
   "id": "c9381997",
   "metadata": {},
   "outputs": [],
   "source": [
    "fill_mod('health')"
   ]
  },
  {
   "cell_type": "code",
   "execution_count": 82,
   "id": "cae1d593",
   "metadata": {},
   "outputs": [
    {
     "data": {
      "text/plain": [
       "count    389.000000\n",
       "mean       3.586118\n",
       "std        1.403572\n",
       "min        1.000000\n",
       "25%        3.000000\n",
       "50%        4.000000\n",
       "75%        5.000000\n",
       "max        5.000000\n",
       "Name: health, dtype: float64"
      ]
     },
     "execution_count": 82,
     "metadata": {},
     "output_type": "execute_result"
    },
    {
     "data": {
      "image/png": "[encoded data removed]",
      "text/plain": [
       "<Figure size 432x288 with 1 Axes>"
      ]
     },
     "metadata": {
      "needs_background": "light"
     },
     "output_type": "display_data"
    }
   ],
   "source": [
    "df.health.plot.hist(bins=15)\n",
    "df.health.describe()"
   ]
  },
  {
   "cell_type": "markdown",
   "id": "3b9a21e0",
   "metadata": {},
   "source": [
    "## absences"
   ]
  },
  {
   "cell_type": "code",
   "execution_count": 83,
   "id": "e4cfc196",
   "metadata": {},
   "outputs": [
    {
     "data": {
      "text/plain": [
       "count    378.000000\n",
       "mean       7.320106\n",
       "std       23.615525\n",
       "min        0.000000\n",
       "25%        0.000000\n",
       "50%        4.000000\n",
       "75%        8.000000\n",
       "max      385.000000\n",
       "Name: absences, dtype: float64"
      ]
     },
     "execution_count": 83,
     "metadata": {},
     "output_type": "execute_result"
    },
    {
     "data": {
      "image/png": "[encoded data removed]",
      "text/plain": [
       "<Figure size 432x288 with 1 Axes>"
      ]
     },
     "metadata": {
      "needs_background": "light"
     },
     "output_type": "display_data"
    }
   ],
   "source": [
    "df.absences.plot.hist(bins=15)\n",
    "df.absences.describe()"
   ]
  },
  {
   "cell_type": "markdown",
   "id": "c3ea6365",
   "metadata": {},
   "source": [
    "Есть выбросы. Оценим их с помощью формулы интерквартильного расстояния:"
   ]
  },
  {
   "cell_type": "code",
   "execution_count": 84,
   "id": "d1b5fae5",
   "metadata": {},
   "outputs": [
    {
     "name": "stdout",
     "output_type": "stream",
     "text": [
      "25-й перцентиль: 0.0, 75-й перцентиль: 8.0, IQR: 8.0,  Границы выбросов: [-12.0, 20.0].\n"
     ]
    }
   ],
   "source": [
    "iqr('absences')"
   ]
  },
  {
   "cell_type": "code",
   "execution_count": 85,
   "id": "d4fbd74c",
   "metadata": {},
   "outputs": [
    {
     "data": {
      "text/plain": [
       "0.0      110\n",
       "2.0       60\n",
       "4.0       52\n",
       "6.0       30\n",
       "8.0       20\n",
       "10.0      17\n",
       "14.0      12\n",
       "12.0      12\n",
       "16.0       7\n",
       "3.0        7\n",
       "7.0        6\n",
       "18.0       5\n",
       "5.0        5\n",
       "20.0       4\n",
       "9.0        3\n",
       "22.0       3\n",
       "1.0        3\n",
       "13.0       2\n",
       "15.0       2\n",
       "11.0       2\n",
       "40.0       1\n",
       "38.0       1\n",
       "56.0       1\n",
       "23.0       1\n",
       "24.0       1\n",
       "25.0       1\n",
       "385.0      1\n",
       "17.0       1\n",
       "75.0       1\n",
       "21.0       1\n",
       "212.0      1\n",
       "28.0       1\n",
       "19.0       1\n",
       "26.0       1\n",
       "30.0       1\n",
       "54.0       1\n",
       "Name: absences, dtype: int64"
      ]
     },
     "execution_count": 85,
     "metadata": {},
     "output_type": "execute_result"
    }
   ],
   "source": [
    "df.absences.value_counts()"
   ]
  },
  {
   "cell_type": "markdown",
   "id": "356a70db",
   "metadata": {},
   "source": [
    "Посмотрим на строки с некоторыми выбросами:"
   ]
  },
  {
   "cell_type": "code",
   "execution_count": 86,
   "id": "96d4ec6b",
   "metadata": {},
   "outputs": [
    {
     "data": {
      "text/html": [
       "<div>\n",
       "<style scoped>\n",
       "    .dataframe tbody tr th:only-of-type {\n",
       "        vertical-align: middle;\n",
       "    }\n",
       "\n",
       "    .dataframe tbody tr th {\n",
       "        vertical-align: top;\n",
       "    }\n",
       "\n",
       "    .dataframe thead th {\n",
       "        text-align: right;\n",
       "    }\n",
       "</style>\n",
       "<table border=\"1\" class=\"dataframe\">\n",
       "  <thead>\n",
       "    <tr style=\"text-align: right;\">\n",
       "      <th></th>\n",
       "      <th>school</th>\n",
       "      <th>sex</th>\n",
       "      <th>age</th>\n",
       "      <th>address</th>\n",
       "      <th>famsize</th>\n",
       "      <th>pstatus</th>\n",
       "      <th>medu</th>\n",
       "      <th>fedu</th>\n",
       "      <th>mjob</th>\n",
       "      <th>fjob</th>\n",
       "      <th>...</th>\n",
       "      <th>nursery</th>\n",
       "      <th>higher</th>\n",
       "      <th>internet</th>\n",
       "      <th>romantic</th>\n",
       "      <th>famrel</th>\n",
       "      <th>freetime</th>\n",
       "      <th>goout</th>\n",
       "      <th>health</th>\n",
       "      <th>absences</th>\n",
       "      <th>score</th>\n",
       "    </tr>\n",
       "  </thead>\n",
       "  <tbody>\n",
       "    <tr>\n",
       "      <th>222</th>\n",
       "      <td>GP</td>\n",
       "      <td>F</td>\n",
       "      <td>16</td>\n",
       "      <td>U</td>\n",
       "      <td>GT3</td>\n",
       "      <td>T</td>\n",
       "      <td>2.0</td>\n",
       "      <td>3.0</td>\n",
       "      <td>services</td>\n",
       "      <td>teacher</td>\n",
       "      <td>...</td>\n",
       "      <td>yes</td>\n",
       "      <td>yes</td>\n",
       "      <td>yes</td>\n",
       "      <td>no</td>\n",
       "      <td>2.0</td>\n",
       "      <td>3.0</td>\n",
       "      <td>1.0</td>\n",
       "      <td>3.0</td>\n",
       "      <td>385.0</td>\n",
       "      <td>85.0</td>\n",
       "    </tr>\n",
       "  </tbody>\n",
       "</table>\n",
       "<p>1 rows × 29 columns</p>\n",
       "</div>"
      ],
      "text/plain": [
       "    school sex  age address famsize pstatus  medu  fedu      mjob     fjob  \\\n",
       "222     GP   F   16       U     GT3       T   2.0   3.0  services  teacher   \n",
       "\n",
       "     ... nursery higher  internet  romantic  famrel freetime goout health  \\\n",
       "222  ...     yes    yes       yes        no     2.0      3.0   1.0    3.0   \n",
       "\n",
       "    absences score  \n",
       "222    385.0  85.0  \n",
       "\n",
       "[1 rows x 29 columns]"
      ]
     },
     "execution_count": 86,
     "metadata": {},
     "output_type": "execute_result"
    }
   ],
   "source": [
    "df.loc[(df.absences == 385)]"
   ]
  },
  {
   "cell_type": "code",
   "execution_count": 87,
   "id": "a298dd36",
   "metadata": {},
   "outputs": [
    {
     "data": {
      "text/html": [
       "<div>\n",
       "<style scoped>\n",
       "    .dataframe tbody tr th:only-of-type {\n",
       "        vertical-align: middle;\n",
       "    }\n",
       "\n",
       "    .dataframe tbody tr th {\n",
       "        vertical-align: top;\n",
       "    }\n",
       "\n",
       "    .dataframe thead th {\n",
       "        text-align: right;\n",
       "    }\n",
       "</style>\n",
       "<table border=\"1\" class=\"dataframe\">\n",
       "  <thead>\n",
       "    <tr style=\"text-align: right;\">\n",
       "      <th></th>\n",
       "      <th>school</th>\n",
       "      <th>sex</th>\n",
       "      <th>age</th>\n",
       "      <th>address</th>\n",
       "      <th>famsize</th>\n",
       "      <th>pstatus</th>\n",
       "      <th>medu</th>\n",
       "      <th>fedu</th>\n",
       "      <th>mjob</th>\n",
       "      <th>fjob</th>\n",
       "      <th>...</th>\n",
       "      <th>nursery</th>\n",
       "      <th>higher</th>\n",
       "      <th>internet</th>\n",
       "      <th>romantic</th>\n",
       "      <th>famrel</th>\n",
       "      <th>freetime</th>\n",
       "      <th>goout</th>\n",
       "      <th>health</th>\n",
       "      <th>absences</th>\n",
       "      <th>score</th>\n",
       "    </tr>\n",
       "  </thead>\n",
       "  <tbody>\n",
       "    <tr>\n",
       "      <th>390</th>\n",
       "      <td>MS</td>\n",
       "      <td>M</td>\n",
       "      <td>20</td>\n",
       "      <td>U</td>\n",
       "      <td>LE3</td>\n",
       "      <td>A</td>\n",
       "      <td>2.0</td>\n",
       "      <td>2.0</td>\n",
       "      <td>services</td>\n",
       "      <td>services</td>\n",
       "      <td>...</td>\n",
       "      <td>yes</td>\n",
       "      <td>yes</td>\n",
       "      <td>no</td>\n",
       "      <td>no</td>\n",
       "      <td>5.0</td>\n",
       "      <td>5.0</td>\n",
       "      <td>4.0</td>\n",
       "      <td>4.0</td>\n",
       "      <td>212.0</td>\n",
       "      <td>45.0</td>\n",
       "    </tr>\n",
       "  </tbody>\n",
       "</table>\n",
       "<p>1 rows × 29 columns</p>\n",
       "</div>"
      ],
      "text/plain": [
       "    school sex  age address famsize pstatus  medu  fedu      mjob      fjob  \\\n",
       "390     MS   M   20       U     LE3       A   2.0   2.0  services  services   \n",
       "\n",
       "     ... nursery higher  internet  romantic  famrel freetime goout health  \\\n",
       "390  ...     yes    yes        no        no     5.0      5.0   4.0    4.0   \n",
       "\n",
       "    absences score  \n",
       "390    212.0  45.0  \n",
       "\n",
       "[1 rows x 29 columns]"
      ]
     },
     "execution_count": 87,
     "metadata": {},
     "output_type": "execute_result"
    }
   ],
   "source": [
    "df.loc[(df.absences == 212)]"
   ]
  },
  {
   "cell_type": "code",
   "execution_count": 88,
   "id": "5c8a70ba",
   "metadata": {},
   "outputs": [
    {
     "data": {
      "text/html": [
       "<div>\n",
       "<style scoped>\n",
       "    .dataframe tbody tr th:only-of-type {\n",
       "        vertical-align: middle;\n",
       "    }\n",
       "\n",
       "    .dataframe tbody tr th {\n",
       "        vertical-align: top;\n",
       "    }\n",
       "\n",
       "    .dataframe thead th {\n",
       "        text-align: right;\n",
       "    }\n",
       "</style>\n",
       "<table border=\"1\" class=\"dataframe\">\n",
       "  <thead>\n",
       "    <tr style=\"text-align: right;\">\n",
       "      <th></th>\n",
       "      <th>school</th>\n",
       "      <th>sex</th>\n",
       "      <th>age</th>\n",
       "      <th>address</th>\n",
       "      <th>famsize</th>\n",
       "      <th>pstatus</th>\n",
       "      <th>medu</th>\n",
       "      <th>fedu</th>\n",
       "      <th>mjob</th>\n",
       "      <th>fjob</th>\n",
       "      <th>...</th>\n",
       "      <th>nursery</th>\n",
       "      <th>higher</th>\n",
       "      <th>internet</th>\n",
       "      <th>romantic</th>\n",
       "      <th>famrel</th>\n",
       "      <th>freetime</th>\n",
       "      <th>goout</th>\n",
       "      <th>health</th>\n",
       "      <th>absences</th>\n",
       "      <th>score</th>\n",
       "    </tr>\n",
       "  </thead>\n",
       "  <tbody>\n",
       "    <tr>\n",
       "      <th>74</th>\n",
       "      <td>GP</td>\n",
       "      <td>F</td>\n",
       "      <td>16</td>\n",
       "      <td>U</td>\n",
       "      <td>GT3</td>\n",
       "      <td>T</td>\n",
       "      <td>3.0</td>\n",
       "      <td>3.0</td>\n",
       "      <td>other</td>\n",
       "      <td>services</td>\n",
       "      <td>...</td>\n",
       "      <td>yes</td>\n",
       "      <td>yes</td>\n",
       "      <td>yes</td>\n",
       "      <td>no</td>\n",
       "      <td>4.0</td>\n",
       "      <td>3.0</td>\n",
       "      <td>3.0</td>\n",
       "      <td>5.0</td>\n",
       "      <td>54.0</td>\n",
       "      <td>55.0</td>\n",
       "    </tr>\n",
       "  </tbody>\n",
       "</table>\n",
       "<p>1 rows × 29 columns</p>\n",
       "</div>"
      ],
      "text/plain": [
       "   school sex  age address famsize pstatus  medu  fedu   mjob      fjob  ...  \\\n",
       "74     GP   F   16       U     GT3       T   3.0   3.0  other  services  ...   \n",
       "\n",
       "   nursery higher  internet  romantic  famrel freetime goout health absences  \\\n",
       "74     yes    yes       yes        no     4.0      3.0   3.0    5.0     54.0   \n",
       "\n",
       "   score  \n",
       "74  55.0  \n",
       "\n",
       "[1 rows x 29 columns]"
      ]
     },
     "execution_count": 88,
     "metadata": {},
     "output_type": "execute_result"
    }
   ],
   "source": [
    "df.loc[(df.absences == 54)]"
   ]
  },
  {
   "cell_type": "markdown",
   "id": "8a3ca05b",
   "metadata": {},
   "source": [
    "Оставлять только те значения, которые лежат внутри межквартильного размаха (df = df.loc[df.absences.between(perc25 - 1.5 * IQR, perc75 + 1.5 * IQR)]), на мой взгляд, не целесообразно. Будет потеряно много строк из датасета.\n",
    "Данные в строках хорошие. Ученики с большим количеством пропусков имеют средний балл (кроме рекордсмена по пропущенным занятиям, который может оказаться продвинутым, которому не нужно ходить на уроки).\n",
    "Поэтому, пока, меньшим из зол будет заменить данные вне пределов размаха на None.\n"
   ]
  },
  {
   "cell_type": "code",
   "execution_count": 89,
   "id": "e49e6095",
   "metadata": {},
   "outputs": [],
   "source": [
    "df.absences = df.absences.apply(lambda x: None if x > 20 else x)"
   ]
  },
  {
   "cell_type": "code",
   "execution_count": 90,
   "id": "0425cf44",
   "metadata": {},
   "outputs": [
    {
     "data": {
      "text/plain": [
       "0.0     110\n",
       "2.0      60\n",
       "4.0      52\n",
       "6.0      30\n",
       "8.0      20\n",
       "10.0     17\n",
       "12.0     12\n",
       "14.0     12\n",
       "16.0      7\n",
       "3.0       7\n",
       "7.0       6\n",
       "18.0      5\n",
       "5.0       5\n",
       "20.0      4\n",
       "1.0       3\n",
       "9.0       3\n",
       "11.0      2\n",
       "15.0      2\n",
       "13.0      2\n",
       "19.0      1\n",
       "17.0      1\n",
       "Name: absences, dtype: int64"
      ]
     },
     "execution_count": 90,
     "metadata": {},
     "output_type": "execute_result"
    }
   ],
   "source": [
    "df.absences.value_counts()"
   ]
  },
  {
   "cell_type": "code",
   "execution_count": 91,
   "id": "f7472041",
   "metadata": {},
   "outputs": [
    {
     "name": "stdout",
     "output_type": "stream",
     "text": [
      "<class 'pandas.core.frame.DataFrame'>\n",
      "Int64Index: 389 entries, 0 to 394\n",
      "Data columns (total 1 columns):\n",
      " #   Column    Non-Null Count  Dtype  \n",
      "---  ------    --------------  -----  \n",
      " 0   absences  361 non-null    float64\n",
      "dtypes: float64(1)\n",
      "memory usage: 14.2 KB\n"
     ]
    }
   ],
   "source": [
    "df.loc[:, ['absences']].info()"
   ]
  },
  {
   "cell_type": "markdown",
   "id": "54457ec5",
   "metadata": {},
   "source": [
    "Заполним пропуски, которые, возможно, присутствовали в датасете до наших действий выше:"
   ]
  },
  {
   "cell_type": "code",
   "execution_count": 92,
   "id": "8f117f76",
   "metadata": {},
   "outputs": [
    {
     "data": {
      "text/plain": [
       "0       6.0\n",
       "1       4.0\n",
       "2      10.0\n",
       "3       2.0\n",
       "4       4.0\n",
       "       ... \n",
       "390     NaN\n",
       "391     3.0\n",
       "392     3.0\n",
       "393     0.0\n",
       "394     5.0\n",
       "Name: absences, Length: 389, dtype: float64"
      ]
     },
     "execution_count": 92,
     "metadata": {},
     "output_type": "execute_result"
    }
   ],
   "source": [
    "fill_with_none(df.absences)"
   ]
  },
  {
   "cell_type": "code",
   "execution_count": 93,
   "id": "252da77a",
   "metadata": {},
   "outputs": [
    {
     "data": {
      "text/plain": [
       "count    361.000000\n",
       "mean       4.609418\n",
       "std        4.989413\n",
       "min        0.000000\n",
       "25%        0.000000\n",
       "50%        4.000000\n",
       "75%        7.000000\n",
       "max       20.000000\n",
       "Name: absences, dtype: float64"
      ]
     },
     "execution_count": 93,
     "metadata": {},
     "output_type": "execute_result"
    },
    {
     "data": {
      "image/png": "[encoded data removed]",
      "text/plain": [
       "<Figure size 432x288 with 1 Axes>"
      ]
     },
     "metadata": {
      "needs_background": "light"
     },
     "output_type": "display_data"
    }
   ],
   "source": [
    "df.absences.plot.hist(bins=10)\n",
    "df.absences.describe()"
   ]
  },
  {
   "cell_type": "markdown",
   "id": "a0013ef7",
   "metadata": {},
   "source": [
    "Заменим пропуски модой:"
   ]
  },
  {
   "cell_type": "code",
   "execution_count": 94,
   "id": "4752cb4a",
   "metadata": {},
   "outputs": [],
   "source": [
    "fill_mod('absences')"
   ]
  },
  {
   "cell_type": "code",
   "execution_count": 95,
   "id": "5d85b7f1",
   "metadata": {},
   "outputs": [
    {
     "data": {
      "text/plain": [
       "count    389.000000\n",
       "mean       4.277635\n",
       "std        4.951834\n",
       "min        0.000000\n",
       "25%        0.000000\n",
       "50%        2.000000\n",
       "75%        6.000000\n",
       "max       20.000000\n",
       "Name: absences, dtype: float64"
      ]
     },
     "execution_count": 95,
     "metadata": {},
     "output_type": "execute_result"
    },
    {
     "data": {
      "image/png": "[encoded data removed]",
      "text/plain": [
       "<Figure size 432x288 with 1 Axes>"
      ]
     },
     "metadata": {
      "needs_background": "light"
     },
     "output_type": "display_data"
    }
   ],
   "source": [
    "df.absences.plot.hist(bins=10)\n",
    "df.absences.describe()"
   ]
  },
  {
   "cell_type": "markdown",
   "id": "eded1e51",
   "metadata": {},
   "source": [
    "# Кодировка номинальных переменных"
   ]
  },
  {
   "cell_type": "markdown",
   "id": "e7a62b15",
   "metadata": {},
   "source": [
    "Составим список номинальных переменных:"
   ]
  },
  {
   "cell_type": "code",
   "execution_count": 96,
   "id": "63c1c929",
   "metadata": {},
   "outputs": [],
   "source": [
    "l = ['school',\n",
    "     'sex',\n",
    "     'address',\n",
    "     'famsize',\n",
    "     'pstatus',\n",
    "     'mjob',\n",
    "     'fjob',\n",
    "     'reason',\n",
    "     'guardian',\n",
    "     'schoolsup',\n",
    "     'famsup',\n",
    "     'paid',\n",
    "     'activities',\n",
    "     'nursery',\n",
    "     'higher',\n",
    "     'internet',\n",
    "     'romantic'     \n",
    "    ]"
   ]
  },
  {
   "cell_type": "markdown",
   "id": "86aac714",
   "metadata": {},
   "source": [
    "Заполним пустые значения None:"
   ]
  },
  {
   "cell_type": "code",
   "execution_count": 97,
   "id": "49fe6364",
   "metadata": {},
   "outputs": [],
   "source": [
    "for i in l:\n",
    "    fill_with_none(df[i])"
   ]
  },
  {
   "cell_type": "markdown",
   "id": "55e000f8",
   "metadata": {},
   "source": [
    "Запустим функцию кодирования номинальных переменных по списку:"
   ]
  },
  {
   "cell_type": "code",
   "execution_count": 98,
   "id": "134f0891",
   "metadata": {},
   "outputs": [
    {
     "name": "stdout",
     "output_type": "stream",
     "text": [
      "{'GP': 0, 'MS': 1}\n",
      "{'F': 0, 'M': 1}\n",
      "{'U': 0, 'R': 1}\n",
      "{'GT3': 0, 'LE3': 1}\n",
      "{'A': 0, 'T': 1}\n",
      "{'at_home': 0, 'health': 1, 'other': 2, 'services': 3, 'teacher': 4}\n",
      "{'teacher': 0, 'other': 1, 'health': 2, 'services': 3, 'at_home': 4}\n",
      "{'course': 0, 'other': 1, 'home': 2, 'reputation': 3}\n",
      "{'mother': 0, 'father': 1, 'other': 2}\n",
      "{'yes': 0, 'no': 1}\n",
      "{'no': 0, 'yes': 1}\n",
      "{'no': 0, 'yes': 1}\n",
      "{'no': 0, 'yes': 1}\n",
      "{'yes': 0, 'no': 1}\n",
      "{'yes': 0, 'no': 1}\n",
      "{'yes': 0, 'no': 1}\n",
      "{'no': 0, 'yes': 1}\n"
     ]
    }
   ],
   "source": [
    "for i in l:\n",
    "    label_encoding(df, i)"
   ]
  },
  {
   "cell_type": "markdown",
   "id": "45b0c24c",
   "metadata": {},
   "source": [
    "Посмотрим, что получилось:"
   ]
  },
  {
   "cell_type": "code",
   "execution_count": 99,
   "id": "d3865d0a",
   "metadata": {
    "scrolled": true
   },
   "outputs": [
    {
     "data": {
      "text/html": [
       "<div>\n",
       "<style scoped>\n",
       "    .dataframe tbody tr th:only-of-type {\n",
       "        vertical-align: middle;\n",
       "    }\n",
       "\n",
       "    .dataframe tbody tr th {\n",
       "        vertical-align: top;\n",
       "    }\n",
       "\n",
       "    .dataframe thead th {\n",
       "        text-align: right;\n",
       "    }\n",
       "</style>\n",
       "<table border=\"1\" class=\"dataframe\">\n",
       "  <thead>\n",
       "    <tr style=\"text-align: right;\">\n",
       "      <th></th>\n",
       "      <th>school</th>\n",
       "      <th>sex</th>\n",
       "      <th>address</th>\n",
       "      <th>famsize</th>\n",
       "      <th>pstatus</th>\n",
       "      <th>mjob</th>\n",
       "      <th>fjob</th>\n",
       "      <th>reason</th>\n",
       "      <th>guardian</th>\n",
       "      <th>schoolsup</th>\n",
       "      <th>famsup</th>\n",
       "      <th>paid</th>\n",
       "      <th>activities</th>\n",
       "      <th>nursery</th>\n",
       "      <th>higher</th>\n",
       "      <th>internet</th>\n",
       "      <th>romantic</th>\n",
       "    </tr>\n",
       "  </thead>\n",
       "  <tbody>\n",
       "    <tr>\n",
       "      <th>0</th>\n",
       "      <td>0</td>\n",
       "      <td>0</td>\n",
       "      <td>0.0</td>\n",
       "      <td>NaN</td>\n",
       "      <td>0.0</td>\n",
       "      <td>0.0</td>\n",
       "      <td>0.0</td>\n",
       "      <td>0.0</td>\n",
       "      <td>0.0</td>\n",
       "      <td>0.0</td>\n",
       "      <td>0.0</td>\n",
       "      <td>0.0</td>\n",
       "      <td>0.0</td>\n",
       "      <td>0.0</td>\n",
       "      <td>0.0</td>\n",
       "      <td>NaN</td>\n",
       "      <td>0.0</td>\n",
       "    </tr>\n",
       "    <tr>\n",
       "      <th>1</th>\n",
       "      <td>0</td>\n",
       "      <td>0</td>\n",
       "      <td>0.0</td>\n",
       "      <td>0.0</td>\n",
       "      <td>NaN</td>\n",
       "      <td>0.0</td>\n",
       "      <td>1.0</td>\n",
       "      <td>0.0</td>\n",
       "      <td>1.0</td>\n",
       "      <td>1.0</td>\n",
       "      <td>1.0</td>\n",
       "      <td>0.0</td>\n",
       "      <td>0.0</td>\n",
       "      <td>1.0</td>\n",
       "      <td>0.0</td>\n",
       "      <td>0.0</td>\n",
       "      <td>0.0</td>\n",
       "    </tr>\n",
       "    <tr>\n",
       "      <th>2</th>\n",
       "      <td>0</td>\n",
       "      <td>0</td>\n",
       "      <td>0.0</td>\n",
       "      <td>1.0</td>\n",
       "      <td>1.0</td>\n",
       "      <td>0.0</td>\n",
       "      <td>1.0</td>\n",
       "      <td>1.0</td>\n",
       "      <td>0.0</td>\n",
       "      <td>0.0</td>\n",
       "      <td>0.0</td>\n",
       "      <td>NaN</td>\n",
       "      <td>0.0</td>\n",
       "      <td>0.0</td>\n",
       "      <td>0.0</td>\n",
       "      <td>0.0</td>\n",
       "      <td>NaN</td>\n",
       "    </tr>\n",
       "    <tr>\n",
       "      <th>3</th>\n",
       "      <td>0</td>\n",
       "      <td>0</td>\n",
       "      <td>0.0</td>\n",
       "      <td>0.0</td>\n",
       "      <td>1.0</td>\n",
       "      <td>1.0</td>\n",
       "      <td>NaN</td>\n",
       "      <td>2.0</td>\n",
       "      <td>0.0</td>\n",
       "      <td>1.0</td>\n",
       "      <td>1.0</td>\n",
       "      <td>1.0</td>\n",
       "      <td>1.0</td>\n",
       "      <td>0.0</td>\n",
       "      <td>0.0</td>\n",
       "      <td>0.0</td>\n",
       "      <td>1.0</td>\n",
       "    </tr>\n",
       "    <tr>\n",
       "      <th>4</th>\n",
       "      <td>0</td>\n",
       "      <td>0</td>\n",
       "      <td>0.0</td>\n",
       "      <td>0.0</td>\n",
       "      <td>1.0</td>\n",
       "      <td>2.0</td>\n",
       "      <td>1.0</td>\n",
       "      <td>2.0</td>\n",
       "      <td>1.0</td>\n",
       "      <td>1.0</td>\n",
       "      <td>1.0</td>\n",
       "      <td>1.0</td>\n",
       "      <td>0.0</td>\n",
       "      <td>0.0</td>\n",
       "      <td>0.0</td>\n",
       "      <td>1.0</td>\n",
       "      <td>0.0</td>\n",
       "    </tr>\n",
       "    <tr>\n",
       "      <th>...</th>\n",
       "      <td>...</td>\n",
       "      <td>...</td>\n",
       "      <td>...</td>\n",
       "      <td>...</td>\n",
       "      <td>...</td>\n",
       "      <td>...</td>\n",
       "      <td>...</td>\n",
       "      <td>...</td>\n",
       "      <td>...</td>\n",
       "      <td>...</td>\n",
       "      <td>...</td>\n",
       "      <td>...</td>\n",
       "      <td>...</td>\n",
       "      <td>...</td>\n",
       "      <td>...</td>\n",
       "      <td>...</td>\n",
       "      <td>...</td>\n",
       "    </tr>\n",
       "    <tr>\n",
       "      <th>390</th>\n",
       "      <td>1</td>\n",
       "      <td>1</td>\n",
       "      <td>0.0</td>\n",
       "      <td>1.0</td>\n",
       "      <td>0.0</td>\n",
       "      <td>3.0</td>\n",
       "      <td>3.0</td>\n",
       "      <td>0.0</td>\n",
       "      <td>NaN</td>\n",
       "      <td>1.0</td>\n",
       "      <td>1.0</td>\n",
       "      <td>1.0</td>\n",
       "      <td>0.0</td>\n",
       "      <td>0.0</td>\n",
       "      <td>0.0</td>\n",
       "      <td>1.0</td>\n",
       "      <td>0.0</td>\n",
       "    </tr>\n",
       "    <tr>\n",
       "      <th>391</th>\n",
       "      <td>1</td>\n",
       "      <td>1</td>\n",
       "      <td>0.0</td>\n",
       "      <td>1.0</td>\n",
       "      <td>1.0</td>\n",
       "      <td>3.0</td>\n",
       "      <td>3.0</td>\n",
       "      <td>0.0</td>\n",
       "      <td>0.0</td>\n",
       "      <td>1.0</td>\n",
       "      <td>0.0</td>\n",
       "      <td>0.0</td>\n",
       "      <td>0.0</td>\n",
       "      <td>1.0</td>\n",
       "      <td>0.0</td>\n",
       "      <td>0.0</td>\n",
       "      <td>0.0</td>\n",
       "    </tr>\n",
       "    <tr>\n",
       "      <th>392</th>\n",
       "      <td>1</td>\n",
       "      <td>1</td>\n",
       "      <td>1.0</td>\n",
       "      <td>0.0</td>\n",
       "      <td>1.0</td>\n",
       "      <td>2.0</td>\n",
       "      <td>1.0</td>\n",
       "      <td>0.0</td>\n",
       "      <td>NaN</td>\n",
       "      <td>NaN</td>\n",
       "      <td>0.0</td>\n",
       "      <td>0.0</td>\n",
       "      <td>0.0</td>\n",
       "      <td>1.0</td>\n",
       "      <td>NaN</td>\n",
       "      <td>1.0</td>\n",
       "      <td>0.0</td>\n",
       "    </tr>\n",
       "    <tr>\n",
       "      <th>393</th>\n",
       "      <td>1</td>\n",
       "      <td>1</td>\n",
       "      <td>1.0</td>\n",
       "      <td>1.0</td>\n",
       "      <td>1.0</td>\n",
       "      <td>3.0</td>\n",
       "      <td>1.0</td>\n",
       "      <td>0.0</td>\n",
       "      <td>0.0</td>\n",
       "      <td>1.0</td>\n",
       "      <td>0.0</td>\n",
       "      <td>0.0</td>\n",
       "      <td>NaN</td>\n",
       "      <td>1.0</td>\n",
       "      <td>0.0</td>\n",
       "      <td>0.0</td>\n",
       "      <td>0.0</td>\n",
       "    </tr>\n",
       "    <tr>\n",
       "      <th>394</th>\n",
       "      <td>1</td>\n",
       "      <td>1</td>\n",
       "      <td>0.0</td>\n",
       "      <td>1.0</td>\n",
       "      <td>1.0</td>\n",
       "      <td>2.0</td>\n",
       "      <td>4.0</td>\n",
       "      <td>NaN</td>\n",
       "      <td>1.0</td>\n",
       "      <td>NaN</td>\n",
       "      <td>0.0</td>\n",
       "      <td>0.0</td>\n",
       "      <td>0.0</td>\n",
       "      <td>0.0</td>\n",
       "      <td>0.0</td>\n",
       "      <td>0.0</td>\n",
       "      <td>0.0</td>\n",
       "    </tr>\n",
       "  </tbody>\n",
       "</table>\n",
       "<p>389 rows × 17 columns</p>\n",
       "</div>"
      ],
      "text/plain": [
       "     school  sex  address  famsize  pstatus  mjob  fjob  reason  guardian  \\\n",
       "0         0    0      0.0      NaN      0.0   0.0   0.0     0.0       0.0   \n",
       "1         0    0      0.0      0.0      NaN   0.0   1.0     0.0       1.0   \n",
       "2         0    0      0.0      1.0      1.0   0.0   1.0     1.0       0.0   \n",
       "3         0    0      0.0      0.0      1.0   1.0   NaN     2.0       0.0   \n",
       "4         0    0      0.0      0.0      1.0   2.0   1.0     2.0       1.0   \n",
       "..      ...  ...      ...      ...      ...   ...   ...     ...       ...   \n",
       "390       1    1      0.0      1.0      0.0   3.0   3.0     0.0       NaN   \n",
       "391       1    1      0.0      1.0      1.0   3.0   3.0     0.0       0.0   \n",
       "392       1    1      1.0      0.0      1.0   2.0   1.0     0.0       NaN   \n",
       "393       1    1      1.0      1.0      1.0   3.0   1.0     0.0       0.0   \n",
       "394       1    1      0.0      1.0      1.0   2.0   4.0     NaN       1.0   \n",
       "\n",
       "     schoolsup  famsup  paid  activities  nursery  higher  internet  romantic  \n",
       "0          0.0     0.0   0.0         0.0      0.0     0.0       NaN       0.0  \n",
       "1          1.0     1.0   0.0         0.0      1.0     0.0       0.0       0.0  \n",
       "2          0.0     0.0   NaN         0.0      0.0     0.0       0.0       NaN  \n",
       "3          1.0     1.0   1.0         1.0      0.0     0.0       0.0       1.0  \n",
       "4          1.0     1.0   1.0         0.0      0.0     0.0       1.0       0.0  \n",
       "..         ...     ...   ...         ...      ...     ...       ...       ...  \n",
       "390        1.0     1.0   1.0         0.0      0.0     0.0       1.0       0.0  \n",
       "391        1.0     0.0   0.0         0.0      1.0     0.0       0.0       0.0  \n",
       "392        NaN     0.0   0.0         0.0      1.0     NaN       1.0       0.0  \n",
       "393        1.0     0.0   0.0         NaN      1.0     0.0       0.0       0.0  \n",
       "394        NaN     0.0   0.0         0.0      0.0     0.0       0.0       0.0  \n",
       "\n",
       "[389 rows x 17 columns]"
      ]
     },
     "execution_count": 99,
     "metadata": {},
     "output_type": "execute_result"
    }
   ],
   "source": [
    "df[l]"
   ]
  },
  {
   "cell_type": "markdown",
   "id": "d4bac500",
   "metadata": {},
   "source": [
    "Заполним пропуски модой:"
   ]
  },
  {
   "cell_type": "code",
   "execution_count": 100,
   "id": "41eb6608",
   "metadata": {},
   "outputs": [],
   "source": [
    "for i in l:\n",
    "    fill_mod(i)"
   ]
  },
  {
   "cell_type": "markdown",
   "id": "499c6387",
   "metadata": {},
   "source": [
    "Приведем все данные к одному типу:"
   ]
  },
  {
   "cell_type": "code",
   "execution_count": 101,
   "id": "dbf4d8d1",
   "metadata": {},
   "outputs": [],
   "source": [
    "df[['school', 'sex', 'age']] = df[['school', 'sex', 'age']].astype(float)"
   ]
  },
  {
   "cell_type": "code",
   "execution_count": 102,
   "id": "6b49b384",
   "metadata": {},
   "outputs": [
    {
     "name": "stdout",
     "output_type": "stream",
     "text": [
      "<class 'pandas.core.frame.DataFrame'>\n",
      "Int64Index: 389 entries, 0 to 394\n",
      "Data columns (total 29 columns):\n",
      " #   Column      Non-Null Count  Dtype  \n",
      "---  ------      --------------  -----  \n",
      " 0   school      389 non-null    float64\n",
      " 1   sex         389 non-null    float64\n",
      " 2   age         389 non-null    float64\n",
      " 3   address     389 non-null    float64\n",
      " 4   famsize     389 non-null    float64\n",
      " 5   pstatus     389 non-null    float64\n",
      " 6   medu        389 non-null    float64\n",
      " 7   fedu        389 non-null    float64\n",
      " 8   mjob        389 non-null    float64\n",
      " 9   fjob        389 non-null    float64\n",
      " 10  reason      389 non-null    float64\n",
      " 11  guardian    389 non-null    float64\n",
      " 12  traveltime  389 non-null    float64\n",
      " 13  studytime   389 non-null    float64\n",
      " 14  failures    389 non-null    float64\n",
      " 15  schoolsup   389 non-null    float64\n",
      " 16  famsup      389 non-null    float64\n",
      " 17  paid        389 non-null    float64\n",
      " 18  activities  389 non-null    float64\n",
      " 19  nursery     389 non-null    float64\n",
      " 20  higher      389 non-null    float64\n",
      " 21  internet    389 non-null    float64\n",
      " 22  romantic    389 non-null    float64\n",
      " 23  famrel      389 non-null    float64\n",
      " 24  freetime    389 non-null    float64\n",
      " 25  goout       389 non-null    float64\n",
      " 26  health      389 non-null    float64\n",
      " 27  absences    389 non-null    float64\n",
      " 28  score       389 non-null    float64\n",
      "dtypes: float64(29)\n",
      "memory usage: 99.3 KB\n"
     ]
    }
   ],
   "source": [
    "df.info()"
   ]
  },
  {
   "cell_type": "markdown",
   "id": "087d6745",
   "metadata": {},
   "source": [
    "Заполним ячейки с возможными выбросами модой (используем ф-ю из предобработки, без изменений):"
   ]
  },
  {
   "cell_type": "code",
   "execution_count": 103,
   "id": "73251555",
   "metadata": {},
   "outputs": [
    {
     "name": "stdout",
     "output_type": "stream",
     "text": [
      "25-й перцентиль: 0.0, 75-й перцентиль: 0.0, IQR: 0.0,  Границы выбросов: [0.0, 0.0].\n",
      "25-й перцентиль: 0.0, 75-й перцентиль: 1.0, IQR: 1.0,  Границы выбросов: [-1.5, 2.5].\n",
      "25-й перцентиль: 0.0, 75-й перцентиль: 0.0, IQR: 0.0,  Границы выбросов: [0.0, 0.0].\n",
      "25-й перцентиль: 0.0, 75-й перцентиль: 1.0, IQR: 1.0,  Границы выбросов: [-1.5, 2.5].\n",
      "25-й перцентиль: 1.0, 75-й перцентиль: 1.0, IQR: 0.0,  Границы выбросов: [1.0, 1.0].\n",
      "25-й перцентиль: 2.0, 75-й перцентиль: 3.0, IQR: 1.0,  Границы выбросов: [0.5, 4.5].\n",
      "25-й перцентиль: 1.0, 75-й перцентиль: 3.0, IQR: 2.0,  Границы выбросов: [-2.0, 6.0].\n",
      "25-й перцентиль: 0.0, 75-й перцентиль: 3.0, IQR: 3.0,  Границы выбросов: [-4.5, 7.5].\n",
      "25-й перцентиль: 0.0, 75-й перцентиль: 1.0, IQR: 1.0,  Границы выбросов: [-1.5, 2.5].\n",
      "25-й перцентиль: 1.0, 75-й перцентиль: 1.0, IQR: 0.0,  Границы выбросов: [1.0, 1.0].\n",
      "25-й перцентиль: 0.0, 75-й перцентиль: 1.0, IQR: 1.0,  Границы выбросов: [-1.5, 2.5].\n",
      "25-й перцентиль: 0.0, 75-й перцентиль: 1.0, IQR: 1.0,  Границы выбросов: [-1.5, 2.5].\n",
      "25-й перцентиль: 0.0, 75-й перцентиль: 1.0, IQR: 1.0,  Границы выбросов: [-1.5, 2.5].\n",
      "25-й перцентиль: 0.0, 75-й перцентиль: 0.0, IQR: 0.0,  Границы выбросов: [0.0, 0.0].\n",
      "25-й перцентиль: 0.0, 75-й перцентиль: 0.0, IQR: 0.0,  Границы выбросов: [0.0, 0.0].\n",
      "25-й перцентиль: 0.0, 75-й перцентиль: 0.0, IQR: 0.0,  Границы выбросов: [0.0, 0.0].\n",
      "25-й перцентиль: 0.0, 75-й перцентиль: 1.0, IQR: 1.0,  Границы выбросов: [-1.5, 2.5].\n"
     ]
    }
   ],
   "source": [
    "for i in l:\n",
    "    iqr(i)\n",
    "    df[i] = df[i].apply(lambda x: x.fillna(x.mode()[0]) if x < (perc25 - 1.5*IQR) and x > (perc75 + 1.5*IQR) else x)\n",
    "\n"
   ]
  },
  {
   "cell_type": "markdown",
   "id": "4fa6ab5f",
   "metadata": {},
   "source": [
    "# Корреляционный анализ"
   ]
  },
  {
   "cell_type": "markdown",
   "id": "ee54bbde",
   "metadata": {},
   "source": [
    "По большому счету, практически весь датасет состоит из оценочных перменных. Только возраст, пропуски и баллы на экзамене являются дискретными. Поэтому, имеет смысл провести корреляционный анализ по всем переменным. "
   ]
  },
  {
   "cell_type": "code",
   "execution_count": 104,
   "id": "66d43def",
   "metadata": {},
   "outputs": [
    {
     "data": {
      "text/html": [
       "<div>\n",
       "<style scoped>\n",
       "    .dataframe tbody tr th:only-of-type {\n",
       "        vertical-align: middle;\n",
       "    }\n",
       "\n",
       "    .dataframe tbody tr th {\n",
       "        vertical-align: top;\n",
       "    }\n",
       "\n",
       "    .dataframe thead th {\n",
       "        text-align: right;\n",
       "    }\n",
       "</style>\n",
       "<table border=\"1\" class=\"dataframe\">\n",
       "  <thead>\n",
       "    <tr style=\"text-align: right;\">\n",
       "      <th></th>\n",
       "      <th>school</th>\n",
       "      <th>sex</th>\n",
       "      <th>age</th>\n",
       "      <th>address</th>\n",
       "      <th>famsize</th>\n",
       "      <th>pstatus</th>\n",
       "      <th>medu</th>\n",
       "      <th>fedu</th>\n",
       "      <th>mjob</th>\n",
       "      <th>fjob</th>\n",
       "      <th>...</th>\n",
       "      <th>nursery</th>\n",
       "      <th>higher</th>\n",
       "      <th>internet</th>\n",
       "      <th>romantic</th>\n",
       "      <th>famrel</th>\n",
       "      <th>freetime</th>\n",
       "      <th>goout</th>\n",
       "      <th>health</th>\n",
       "      <th>absences</th>\n",
       "      <th>score</th>\n",
       "    </tr>\n",
       "  </thead>\n",
       "  <tbody>\n",
       "    <tr>\n",
       "      <th>school</th>\n",
       "      <td>1.000000</td>\n",
       "      <td>-0.022548</td>\n",
       "      <td>0.379549</td>\n",
       "      <td>0.262857</td>\n",
       "      <td>0.065194</td>\n",
       "      <td>0.060033</td>\n",
       "      <td>-0.131774</td>\n",
       "      <td>-0.078285</td>\n",
       "      <td>-0.052599</td>\n",
       "      <td>0.121365</td>\n",
       "      <td>...</td>\n",
       "      <td>0.102725</td>\n",
       "      <td>0.029908</td>\n",
       "      <td>0.106978</td>\n",
       "      <td>0.065186</td>\n",
       "      <td>-0.039872</td>\n",
       "      <td>0.034138</td>\n",
       "      <td>-0.008473</td>\n",
       "      <td>-0.042288</td>\n",
       "      <td>-0.073936</td>\n",
       "      <td>-0.044524</td>\n",
       "    </tr>\n",
       "    <tr>\n",
       "      <th>sex</th>\n",
       "      <td>-0.022548</td>\n",
       "      <td>1.000000</td>\n",
       "      <td>-0.030956</td>\n",
       "      <td>-0.005943</td>\n",
       "      <td>0.081996</td>\n",
       "      <td>0.037672</td>\n",
       "      <td>0.086463</td>\n",
       "      <td>0.025312</td>\n",
       "      <td>0.184389</td>\n",
       "      <td>-0.035273</td>\n",
       "      <td>...</td>\n",
       "      <td>-0.008004</td>\n",
       "      <td>0.142433</td>\n",
       "      <td>-0.061412</td>\n",
       "      <td>-0.138335</td>\n",
       "      <td>0.046715</td>\n",
       "      <td>0.228632</td>\n",
       "      <td>0.092635</td>\n",
       "      <td>0.148973</td>\n",
       "      <td>0.029808</td>\n",
       "      <td>0.099285</td>\n",
       "    </tr>\n",
       "    <tr>\n",
       "      <th>age</th>\n",
       "      <td>0.379549</td>\n",
       "      <td>-0.030956</td>\n",
       "      <td>1.000000</td>\n",
       "      <td>0.149408</td>\n",
       "      <td>0.031576</td>\n",
       "      <td>0.008750</td>\n",
       "      <td>-0.145755</td>\n",
       "      <td>-0.143849</td>\n",
       "      <td>-0.064379</td>\n",
       "      <td>0.094517</td>\n",
       "      <td>...</td>\n",
       "      <td>0.087478</td>\n",
       "      <td>0.209497</td>\n",
       "      <td>0.116484</td>\n",
       "      <td>0.162512</td>\n",
       "      <td>0.056941</td>\n",
       "      <td>0.013994</td>\n",
       "      <td>0.121057</td>\n",
       "      <td>-0.061752</td>\n",
       "      <td>0.119775</td>\n",
       "      <td>-0.155726</td>\n",
       "    </tr>\n",
       "    <tr>\n",
       "      <th>address</th>\n",
       "      <td>0.262857</td>\n",
       "      <td>-0.005943</td>\n",
       "      <td>0.149408</td>\n",
       "      <td>1.000000</td>\n",
       "      <td>-0.067875</td>\n",
       "      <td>0.058056</td>\n",
       "      <td>-0.157374</td>\n",
       "      <td>-0.072087</td>\n",
       "      <td>-0.128257</td>\n",
       "      <td>-0.026389</td>\n",
       "      <td>...</td>\n",
       "      <td>0.040483</td>\n",
       "      <td>0.056652</td>\n",
       "      <td>0.202870</td>\n",
       "      <td>0.010199</td>\n",
       "      <td>0.013683</td>\n",
       "      <td>-0.058433</td>\n",
       "      <td>-0.066354</td>\n",
       "      <td>0.041864</td>\n",
       "      <td>0.038009</td>\n",
       "      <td>-0.121377</td>\n",
       "    </tr>\n",
       "    <tr>\n",
       "      <th>famsize</th>\n",
       "      <td>0.065194</td>\n",
       "      <td>0.081996</td>\n",
       "      <td>0.031576</td>\n",
       "      <td>-0.067875</td>\n",
       "      <td>1.000000</td>\n",
       "      <td>-0.061536</td>\n",
       "      <td>-0.058251</td>\n",
       "      <td>-0.071064</td>\n",
       "      <td>0.073519</td>\n",
       "      <td>0.054781</td>\n",
       "      <td>...</td>\n",
       "      <td>-0.089288</td>\n",
       "      <td>0.020667</td>\n",
       "      <td>-0.002124</td>\n",
       "      <td>0.002069</td>\n",
       "      <td>-0.017595</td>\n",
       "      <td>0.021239</td>\n",
       "      <td>0.042201</td>\n",
       "      <td>-0.035790</td>\n",
       "      <td>0.070185</td>\n",
       "      <td>0.064874</td>\n",
       "    </tr>\n",
       "    <tr>\n",
       "      <th>pstatus</th>\n",
       "      <td>0.060033</td>\n",
       "      <td>0.037672</td>\n",
       "      <td>0.008750</td>\n",
       "      <td>0.058056</td>\n",
       "      <td>-0.061536</td>\n",
       "      <td>1.000000</td>\n",
       "      <td>-0.122049</td>\n",
       "      <td>-0.084832</td>\n",
       "      <td>-0.039823</td>\n",
       "      <td>0.037051</td>\n",
       "      <td>...</td>\n",
       "      <td>0.069594</td>\n",
       "      <td>0.031211</td>\n",
       "      <td>-0.048629</td>\n",
       "      <td>-0.049925</td>\n",
       "      <td>0.008838</td>\n",
       "      <td>0.044000</td>\n",
       "      <td>0.034785</td>\n",
       "      <td>0.006963</td>\n",
       "      <td>-0.082520</td>\n",
       "      <td>-0.040135</td>\n",
       "    </tr>\n",
       "    <tr>\n",
       "      <th>medu</th>\n",
       "      <td>-0.131774</td>\n",
       "      <td>0.086463</td>\n",
       "      <td>-0.145755</td>\n",
       "      <td>-0.157374</td>\n",
       "      <td>-0.058251</td>\n",
       "      <td>-0.122049</td>\n",
       "      <td>1.000000</td>\n",
       "      <td>0.583292</td>\n",
       "      <td>0.450102</td>\n",
       "      <td>-0.136368</td>\n",
       "      <td>...</td>\n",
       "      <td>-0.175623</td>\n",
       "      <td>-0.160816</td>\n",
       "      <td>-0.193558</td>\n",
       "      <td>0.007626</td>\n",
       "      <td>-0.003073</td>\n",
       "      <td>0.040743</td>\n",
       "      <td>0.070310</td>\n",
       "      <td>-0.070420</td>\n",
       "      <td>0.053766</td>\n",
       "      <td>0.200890</td>\n",
       "    </tr>\n",
       "    <tr>\n",
       "      <th>fedu</th>\n",
       "      <td>-0.078285</td>\n",
       "      <td>0.025312</td>\n",
       "      <td>-0.143849</td>\n",
       "      <td>-0.072087</td>\n",
       "      <td>-0.071064</td>\n",
       "      <td>-0.084832</td>\n",
       "      <td>0.583292</td>\n",
       "      <td>1.000000</td>\n",
       "      <td>0.210282</td>\n",
       "      <td>-0.099917</td>\n",
       "      <td>...</td>\n",
       "      <td>-0.141200</td>\n",
       "      <td>-0.173544</td>\n",
       "      <td>-0.134228</td>\n",
       "      <td>0.010295</td>\n",
       "      <td>-0.015492</td>\n",
       "      <td>-0.022669</td>\n",
       "      <td>0.046401</td>\n",
       "      <td>-0.015777</td>\n",
       "      <td>-0.050786</td>\n",
       "      <td>0.124829</td>\n",
       "    </tr>\n",
       "    <tr>\n",
       "      <th>mjob</th>\n",
       "      <td>-0.052599</td>\n",
       "      <td>0.184389</td>\n",
       "      <td>-0.064379</td>\n",
       "      <td>-0.128257</td>\n",
       "      <td>0.073519</td>\n",
       "      <td>-0.039823</td>\n",
       "      <td>0.450102</td>\n",
       "      <td>0.210282</td>\n",
       "      <td>1.000000</td>\n",
       "      <td>0.028139</td>\n",
       "      <td>...</td>\n",
       "      <td>-0.105685</td>\n",
       "      <td>-0.107439</td>\n",
       "      <td>-0.154951</td>\n",
       "      <td>-0.095551</td>\n",
       "      <td>0.037656</td>\n",
       "      <td>0.109891</td>\n",
       "      <td>0.012365</td>\n",
       "      <td>0.066247</td>\n",
       "      <td>0.028848</td>\n",
       "      <td>0.098042</td>\n",
       "    </tr>\n",
       "    <tr>\n",
       "      <th>fjob</th>\n",
       "      <td>0.121365</td>\n",
       "      <td>-0.035273</td>\n",
       "      <td>0.094517</td>\n",
       "      <td>-0.026389</td>\n",
       "      <td>0.054781</td>\n",
       "      <td>0.037051</td>\n",
       "      <td>-0.136368</td>\n",
       "      <td>-0.099917</td>\n",
       "      <td>0.028139</td>\n",
       "      <td>1.000000</td>\n",
       "      <td>...</td>\n",
       "      <td>-0.023647</td>\n",
       "      <td>0.096593</td>\n",
       "      <td>-0.095142</td>\n",
       "      <td>0.044642</td>\n",
       "      <td>0.018444</td>\n",
       "      <td>0.008093</td>\n",
       "      <td>0.001151</td>\n",
       "      <td>-0.027379</td>\n",
       "      <td>-0.062364</td>\n",
       "      <td>-0.057169</td>\n",
       "    </tr>\n",
       "    <tr>\n",
       "      <th>reason</th>\n",
       "      <td>-0.133866</td>\n",
       "      <td>-0.077717</td>\n",
       "      <td>-0.001716</td>\n",
       "      <td>0.001791</td>\n",
       "      <td>0.008871</td>\n",
       "      <td>-0.020276</td>\n",
       "      <td>0.121425</td>\n",
       "      <td>0.060658</td>\n",
       "      <td>0.034777</td>\n",
       "      <td>-0.015943</td>\n",
       "      <td>...</td>\n",
       "      <td>-0.048203</td>\n",
       "      <td>-0.090910</td>\n",
       "      <td>-0.069058</td>\n",
       "      <td>0.002767</td>\n",
       "      <td>-0.014079</td>\n",
       "      <td>-0.070486</td>\n",
       "      <td>-0.050857</td>\n",
       "      <td>-0.167743</td>\n",
       "      <td>0.088053</td>\n",
       "      <td>0.084845</td>\n",
       "    </tr>\n",
       "    <tr>\n",
       "      <th>guardian</th>\n",
       "      <td>-0.006818</td>\n",
       "      <td>-0.023759</td>\n",
       "      <td>0.188417</td>\n",
       "      <td>-0.091226</td>\n",
       "      <td>-0.027848</td>\n",
       "      <td>0.006020</td>\n",
       "      <td>-0.111466</td>\n",
       "      <td>0.002120</td>\n",
       "      <td>-0.070514</td>\n",
       "      <td>0.077558</td>\n",
       "      <td>...</td>\n",
       "      <td>0.070699</td>\n",
       "      <td>0.029366</td>\n",
       "      <td>-0.011811</td>\n",
       "      <td>0.099447</td>\n",
       "      <td>-0.020277</td>\n",
       "      <td>0.003192</td>\n",
       "      <td>-0.088218</td>\n",
       "      <td>-0.004779</td>\n",
       "      <td>0.049961</td>\n",
       "      <td>-0.041457</td>\n",
       "    </tr>\n",
       "    <tr>\n",
       "      <th>traveltime</th>\n",
       "      <td>0.224058</td>\n",
       "      <td>0.048250</td>\n",
       "      <td>0.076013</td>\n",
       "      <td>0.264652</td>\n",
       "      <td>0.041019</td>\n",
       "      <td>0.085715</td>\n",
       "      <td>-0.156090</td>\n",
       "      <td>-0.107267</td>\n",
       "      <td>-0.066515</td>\n",
       "      <td>-0.037799</td>\n",
       "      <td>...</td>\n",
       "      <td>0.037454</td>\n",
       "      <td>0.076451</td>\n",
       "      <td>0.074267</td>\n",
       "      <td>0.035648</td>\n",
       "      <td>-0.029213</td>\n",
       "      <td>-0.016696</td>\n",
       "      <td>0.046390</td>\n",
       "      <td>-0.035336</td>\n",
       "      <td>-0.033530</td>\n",
       "      <td>-0.056535</td>\n",
       "    </tr>\n",
       "    <tr>\n",
       "      <th>studytime</th>\n",
       "      <td>-0.092208</td>\n",
       "      <td>-0.304851</td>\n",
       "      <td>-0.018019</td>\n",
       "      <td>0.044997</td>\n",
       "      <td>-0.074499</td>\n",
       "      <td>0.003128</td>\n",
       "      <td>0.076035</td>\n",
       "      <td>0.011723</td>\n",
       "      <td>-0.000403</td>\n",
       "      <td>0.013321</td>\n",
       "      <td>...</td>\n",
       "      <td>-0.090573</td>\n",
       "      <td>-0.166190</td>\n",
       "      <td>-0.043815</td>\n",
       "      <td>0.049933</td>\n",
       "      <td>0.037950</td>\n",
       "      <td>-0.122057</td>\n",
       "      <td>-0.053554</td>\n",
       "      <td>-0.063876</td>\n",
       "      <td>-0.060063</td>\n",
       "      <td>0.114295</td>\n",
       "    </tr>\n",
       "    <tr>\n",
       "      <th>failures</th>\n",
       "      <td>0.046515</td>\n",
       "      <td>0.021199</td>\n",
       "      <td>0.206279</td>\n",
       "      <td>0.091669</td>\n",
       "      <td>0.016117</td>\n",
       "      <td>0.001314</td>\n",
       "      <td>-0.238295</td>\n",
       "      <td>-0.260794</td>\n",
       "      <td>-0.087854</td>\n",
       "      <td>0.052085</td>\n",
       "      <td>...</td>\n",
       "      <td>0.092902</td>\n",
       "      <td>0.270493</td>\n",
       "      <td>0.072924</td>\n",
       "      <td>0.109206</td>\n",
       "      <td>-0.028517</td>\n",
       "      <td>0.087558</td>\n",
       "      <td>0.101036</td>\n",
       "      <td>0.079030</td>\n",
       "      <td>0.060398</td>\n",
       "      <td>-0.337187</td>\n",
       "    </tr>\n",
       "    <tr>\n",
       "      <th>schoolsup</th>\n",
       "      <td>0.137305</td>\n",
       "      <td>0.128814</td>\n",
       "      <td>0.257442</td>\n",
       "      <td>0.027516</td>\n",
       "      <td>0.025646</td>\n",
       "      <td>0.039174</td>\n",
       "      <td>0.021537</td>\n",
       "      <td>-0.048880</td>\n",
       "      <td>0.035486</td>\n",
       "      <td>0.016096</td>\n",
       "      <td>...</td>\n",
       "      <td>0.033040</td>\n",
       "      <td>0.050082</td>\n",
       "      <td>0.020636</td>\n",
       "      <td>0.058209</td>\n",
       "      <td>0.009768</td>\n",
       "      <td>0.052964</td>\n",
       "      <td>0.038818</td>\n",
       "      <td>0.048194</td>\n",
       "      <td>-0.017853</td>\n",
       "      <td>0.086598</td>\n",
       "    </tr>\n",
       "    <tr>\n",
       "      <th>famsup</th>\n",
       "      <td>-0.192193</td>\n",
       "      <td>-0.160006</td>\n",
       "      <td>-0.145575</td>\n",
       "      <td>-0.042120</td>\n",
       "      <td>-0.095131</td>\n",
       "      <td>-0.009198</td>\n",
       "      <td>0.191568</td>\n",
       "      <td>0.173079</td>\n",
       "      <td>0.083770</td>\n",
       "      <td>-0.032724</td>\n",
       "      <td>...</td>\n",
       "      <td>-0.044423</td>\n",
       "      <td>-0.085340</td>\n",
       "      <td>-0.091641</td>\n",
       "      <td>0.042813</td>\n",
       "      <td>0.006285</td>\n",
       "      <td>0.024763</td>\n",
       "      <td>-0.041586</td>\n",
       "      <td>0.012043</td>\n",
       "      <td>0.052939</td>\n",
       "      <td>0.005992</td>\n",
       "    </tr>\n",
       "    <tr>\n",
       "      <th>paid</th>\n",
       "      <td>-0.011505</td>\n",
       "      <td>-0.102885</td>\n",
       "      <td>-0.016857</td>\n",
       "      <td>-0.059670</td>\n",
       "      <td>-0.083495</td>\n",
       "      <td>0.021054</td>\n",
       "      <td>0.130936</td>\n",
       "      <td>0.069939</td>\n",
       "      <td>0.118839</td>\n",
       "      <td>0.023358</td>\n",
       "      <td>...</td>\n",
       "      <td>-0.122638</td>\n",
       "      <td>-0.182459</td>\n",
       "      <td>-0.145488</td>\n",
       "      <td>0.052311</td>\n",
       "      <td>-0.005738</td>\n",
       "      <td>-0.039865</td>\n",
       "      <td>0.042117</td>\n",
       "      <td>-0.070115</td>\n",
       "      <td>-0.083510</td>\n",
       "      <td>0.096306</td>\n",
       "    </tr>\n",
       "    <tr>\n",
       "      <th>activities</th>\n",
       "      <td>-0.109988</td>\n",
       "      <td>0.124075</td>\n",
       "      <td>-0.125275</td>\n",
       "      <td>0.050868</td>\n",
       "      <td>-0.019184</td>\n",
       "      <td>0.090005</td>\n",
       "      <td>0.094499</td>\n",
       "      <td>0.101018</td>\n",
       "      <td>0.094341</td>\n",
       "      <td>0.063236</td>\n",
       "      <td>...</td>\n",
       "      <td>0.015817</td>\n",
       "      <td>-0.073160</td>\n",
       "      <td>-0.075772</td>\n",
       "      <td>-0.034738</td>\n",
       "      <td>0.048164</td>\n",
       "      <td>0.078678</td>\n",
       "      <td>0.027675</td>\n",
       "      <td>0.011977</td>\n",
       "      <td>0.022711</td>\n",
       "      <td>0.003147</td>\n",
       "    </tr>\n",
       "    <tr>\n",
       "      <th>nursery</th>\n",
       "      <td>0.102725</td>\n",
       "      <td>-0.008004</td>\n",
       "      <td>0.087478</td>\n",
       "      <td>0.040483</td>\n",
       "      <td>-0.089288</td>\n",
       "      <td>0.069594</td>\n",
       "      <td>-0.175623</td>\n",
       "      <td>-0.141200</td>\n",
       "      <td>-0.105685</td>\n",
       "      <td>-0.023647</td>\n",
       "      <td>...</td>\n",
       "      <td>1.000000</td>\n",
       "      <td>0.067022</td>\n",
       "      <td>0.039129</td>\n",
       "      <td>-0.018690</td>\n",
       "      <td>0.026204</td>\n",
       "      <td>0.027454</td>\n",
       "      <td>0.010945</td>\n",
       "      <td>0.008602</td>\n",
       "      <td>-0.042240</td>\n",
       "      <td>-0.049098</td>\n",
       "    </tr>\n",
       "    <tr>\n",
       "      <th>higher</th>\n",
       "      <td>0.029908</td>\n",
       "      <td>0.142433</td>\n",
       "      <td>0.209497</td>\n",
       "      <td>0.056652</td>\n",
       "      <td>0.020667</td>\n",
       "      <td>0.031211</td>\n",
       "      <td>-0.160816</td>\n",
       "      <td>-0.173544</td>\n",
       "      <td>-0.107439</td>\n",
       "      <td>0.096593</td>\n",
       "      <td>...</td>\n",
       "      <td>0.067022</td>\n",
       "      <td>1.000000</td>\n",
       "      <td>0.044966</td>\n",
       "      <td>0.128050</td>\n",
       "      <td>-0.011952</td>\n",
       "      <td>0.046783</td>\n",
       "      <td>0.024203</td>\n",
       "      <td>0.007349</td>\n",
       "      <td>-0.024780</td>\n",
       "      <td>-0.183924</td>\n",
       "    </tr>\n",
       "    <tr>\n",
       "      <th>internet</th>\n",
       "      <td>0.106978</td>\n",
       "      <td>-0.061412</td>\n",
       "      <td>0.116484</td>\n",
       "      <td>0.202870</td>\n",
       "      <td>-0.002124</td>\n",
       "      <td>-0.048629</td>\n",
       "      <td>-0.193558</td>\n",
       "      <td>-0.134228</td>\n",
       "      <td>-0.154951</td>\n",
       "      <td>-0.095142</td>\n",
       "      <td>...</td>\n",
       "      <td>0.039129</td>\n",
       "      <td>0.044966</td>\n",
       "      <td>1.000000</td>\n",
       "      <td>-0.069669</td>\n",
       "      <td>-0.056919</td>\n",
       "      <td>-0.090379</td>\n",
       "      <td>-0.100789</td>\n",
       "      <td>0.093497</td>\n",
       "      <td>-0.046651</td>\n",
       "      <td>-0.056222</td>\n",
       "    </tr>\n",
       "    <tr>\n",
       "      <th>romantic</th>\n",
       "      <td>0.065186</td>\n",
       "      <td>-0.138335</td>\n",
       "      <td>0.162512</td>\n",
       "      <td>0.010199</td>\n",
       "      <td>0.002069</td>\n",
       "      <td>-0.049925</td>\n",
       "      <td>0.007626</td>\n",
       "      <td>0.010295</td>\n",
       "      <td>-0.095551</td>\n",
       "      <td>0.044642</td>\n",
       "      <td>...</td>\n",
       "      <td>-0.018690</td>\n",
       "      <td>0.128050</td>\n",
       "      <td>-0.069669</td>\n",
       "      <td>1.000000</td>\n",
       "      <td>-0.067801</td>\n",
       "      <td>-0.033115</td>\n",
       "      <td>0.008093</td>\n",
       "      <td>0.015411</td>\n",
       "      <td>0.030016</td>\n",
       "      <td>-0.136042</td>\n",
       "    </tr>\n",
       "    <tr>\n",
       "      <th>famrel</th>\n",
       "      <td>-0.039872</td>\n",
       "      <td>0.046715</td>\n",
       "      <td>0.056941</td>\n",
       "      <td>0.013683</td>\n",
       "      <td>-0.017595</td>\n",
       "      <td>0.008838</td>\n",
       "      <td>-0.003073</td>\n",
       "      <td>-0.015492</td>\n",
       "      <td>0.037656</td>\n",
       "      <td>0.018444</td>\n",
       "      <td>...</td>\n",
       "      <td>0.026204</td>\n",
       "      <td>-0.011952</td>\n",
       "      <td>-0.056919</td>\n",
       "      <td>-0.067801</td>\n",
       "      <td>1.000000</td>\n",
       "      <td>0.164830</td>\n",
       "      <td>0.069514</td>\n",
       "      <td>0.093256</td>\n",
       "      <td>-0.070487</td>\n",
       "      <td>0.052902</td>\n",
       "    </tr>\n",
       "    <tr>\n",
       "      <th>freetime</th>\n",
       "      <td>0.034138</td>\n",
       "      <td>0.228632</td>\n",
       "      <td>0.013994</td>\n",
       "      <td>-0.058433</td>\n",
       "      <td>0.021239</td>\n",
       "      <td>0.044000</td>\n",
       "      <td>0.040743</td>\n",
       "      <td>-0.022669</td>\n",
       "      <td>0.109891</td>\n",
       "      <td>0.008093</td>\n",
       "      <td>...</td>\n",
       "      <td>0.027454</td>\n",
       "      <td>0.046783</td>\n",
       "      <td>-0.090379</td>\n",
       "      <td>-0.033115</td>\n",
       "      <td>0.164830</td>\n",
       "      <td>1.000000</td>\n",
       "      <td>0.294450</td>\n",
       "      <td>0.067629</td>\n",
       "      <td>0.104059</td>\n",
       "      <td>0.017481</td>\n",
       "    </tr>\n",
       "    <tr>\n",
       "      <th>goout</th>\n",
       "      <td>-0.008473</td>\n",
       "      <td>0.092635</td>\n",
       "      <td>0.121057</td>\n",
       "      <td>-0.066354</td>\n",
       "      <td>0.042201</td>\n",
       "      <td>0.034785</td>\n",
       "      <td>0.070310</td>\n",
       "      <td>0.046401</td>\n",
       "      <td>0.012365</td>\n",
       "      <td>0.001151</td>\n",
       "      <td>...</td>\n",
       "      <td>0.010945</td>\n",
       "      <td>0.024203</td>\n",
       "      <td>-0.100789</td>\n",
       "      <td>0.008093</td>\n",
       "      <td>0.069514</td>\n",
       "      <td>0.294450</td>\n",
       "      <td>1.000000</td>\n",
       "      <td>-0.015108</td>\n",
       "      <td>0.094116</td>\n",
       "      <td>-0.127742</td>\n",
       "    </tr>\n",
       "    <tr>\n",
       "      <th>health</th>\n",
       "      <td>-0.042288</td>\n",
       "      <td>0.148973</td>\n",
       "      <td>-0.061752</td>\n",
       "      <td>0.041864</td>\n",
       "      <td>-0.035790</td>\n",
       "      <td>0.006963</td>\n",
       "      <td>-0.070420</td>\n",
       "      <td>-0.015777</td>\n",
       "      <td>0.066247</td>\n",
       "      <td>-0.027379</td>\n",
       "      <td>...</td>\n",
       "      <td>0.008602</td>\n",
       "      <td>0.007349</td>\n",
       "      <td>0.093497</td>\n",
       "      <td>0.015411</td>\n",
       "      <td>0.093256</td>\n",
       "      <td>0.067629</td>\n",
       "      <td>-0.015108</td>\n",
       "      <td>1.000000</td>\n",
       "      <td>-0.000482</td>\n",
       "      <td>-0.080583</td>\n",
       "    </tr>\n",
       "    <tr>\n",
       "      <th>absences</th>\n",
       "      <td>-0.073936</td>\n",
       "      <td>0.029808</td>\n",
       "      <td>0.119775</td>\n",
       "      <td>0.038009</td>\n",
       "      <td>0.070185</td>\n",
       "      <td>-0.082520</td>\n",
       "      <td>0.053766</td>\n",
       "      <td>-0.050786</td>\n",
       "      <td>0.028848</td>\n",
       "      <td>-0.062364</td>\n",
       "      <td>...</td>\n",
       "      <td>-0.042240</td>\n",
       "      <td>-0.024780</td>\n",
       "      <td>-0.046651</td>\n",
       "      <td>0.030016</td>\n",
       "      <td>-0.070487</td>\n",
       "      <td>0.104059</td>\n",
       "      <td>0.094116</td>\n",
       "      <td>-0.000482</td>\n",
       "      <td>1.000000</td>\n",
       "      <td>0.065986</td>\n",
       "    </tr>\n",
       "    <tr>\n",
       "      <th>score</th>\n",
       "      <td>-0.044524</td>\n",
       "      <td>0.099285</td>\n",
       "      <td>-0.155726</td>\n",
       "      <td>-0.121377</td>\n",
       "      <td>0.064874</td>\n",
       "      <td>-0.040135</td>\n",
       "      <td>0.200890</td>\n",
       "      <td>0.124829</td>\n",
       "      <td>0.098042</td>\n",
       "      <td>-0.057169</td>\n",
       "      <td>...</td>\n",
       "      <td>-0.049098</td>\n",
       "      <td>-0.183924</td>\n",
       "      <td>-0.056222</td>\n",
       "      <td>-0.136042</td>\n",
       "      <td>0.052902</td>\n",
       "      <td>0.017481</td>\n",
       "      <td>-0.127742</td>\n",
       "      <td>-0.080583</td>\n",
       "      <td>0.065986</td>\n",
       "      <td>1.000000</td>\n",
       "    </tr>\n",
       "  </tbody>\n",
       "</table>\n",
       "<p>29 rows × 29 columns</p>\n",
       "</div>"
      ],
      "text/plain": [
       "              school       sex       age   address   famsize   pstatus  \\\n",
       "school      1.000000 -0.022548  0.379549  0.262857  0.065194  0.060033   \n",
       "sex        -0.022548  1.000000 -0.030956 -0.005943  0.081996  0.037672   \n",
       "age         0.379549 -0.030956  1.000000  0.149408  0.031576  0.008750   \n",
       "address     0.262857 -0.005943  0.149408  1.000000 -0.067875  0.058056   \n",
       "famsize     0.065194  0.081996  0.031576 -0.067875  1.000000 -0.061536   \n",
       "pstatus     0.060033  0.037672  0.008750  0.058056 -0.061536  1.000000   \n",
       "medu       -0.131774  0.086463 -0.145755 -0.157374 -0.058251 -0.122049   \n",
       "fedu       -0.078285  0.025312 -0.143849 -0.072087 -0.071064 -0.084832   \n",
       "mjob       -0.052599  0.184389 -0.064379 -0.128257  0.073519 -0.039823   \n",
       "fjob        0.121365 -0.035273  0.094517 -0.026389  0.054781  0.037051   \n",
       "reason     -0.133866 -0.077717 -0.001716  0.001791  0.008871 -0.020276   \n",
       "guardian   -0.006818 -0.023759  0.188417 -0.091226 -0.027848  0.006020   \n",
       "traveltime  0.224058  0.048250  0.076013  0.264652  0.041019  0.085715   \n",
       "studytime  -0.092208 -0.304851 -0.018019  0.044997 -0.074499  0.003128   \n",
       "failures    0.046515  0.021199  0.206279  0.091669  0.016117  0.001314   \n",
       "schoolsup   0.137305  0.128814  0.257442  0.027516  0.025646  0.039174   \n",
       "famsup     -0.192193 -0.160006 -0.145575 -0.042120 -0.095131 -0.009198   \n",
       "paid       -0.011505 -0.102885 -0.016857 -0.059670 -0.083495  0.021054   \n",
       "activities -0.109988  0.124075 -0.125275  0.050868 -0.019184  0.090005   \n",
       "nursery     0.102725 -0.008004  0.087478  0.040483 -0.089288  0.069594   \n",
       "higher      0.029908  0.142433  0.209497  0.056652  0.020667  0.031211   \n",
       "internet    0.106978 -0.061412  0.116484  0.202870 -0.002124 -0.048629   \n",
       "romantic    0.065186 -0.138335  0.162512  0.010199  0.002069 -0.049925   \n",
       "famrel     -0.039872  0.046715  0.056941  0.013683 -0.017595  0.008838   \n",
       "freetime    0.034138  0.228632  0.013994 -0.058433  0.021239  0.044000   \n",
       "goout      -0.008473  0.092635  0.121057 -0.066354  0.042201  0.034785   \n",
       "health     -0.042288  0.148973 -0.061752  0.041864 -0.035790  0.006963   \n",
       "absences   -0.073936  0.029808  0.119775  0.038009  0.070185 -0.082520   \n",
       "score      -0.044524  0.099285 -0.155726 -0.121377  0.064874 -0.040135   \n",
       "\n",
       "                medu      fedu      mjob      fjob  ...   nursery    higher  \\\n",
       "school     -0.131774 -0.078285 -0.052599  0.121365  ...  0.102725  0.029908   \n",
       "sex         0.086463  0.025312  0.184389 -0.035273  ... -0.008004  0.142433   \n",
       "age        -0.145755 -0.143849 -0.064379  0.094517  ...  0.087478  0.209497   \n",
       "address    -0.157374 -0.072087 -0.128257 -0.026389  ...  0.040483  0.056652   \n",
       "famsize    -0.058251 -0.071064  0.073519  0.054781  ... -0.089288  0.020667   \n",
       "pstatus    -0.122049 -0.084832 -0.039823  0.037051  ...  0.069594  0.031211   \n",
       "medu        1.000000  0.583292  0.450102 -0.136368  ... -0.175623 -0.160816   \n",
       "fedu        0.583292  1.000000  0.210282 -0.099917  ... -0.141200 -0.173544   \n",
       "mjob        0.450102  0.210282  1.000000  0.028139  ... -0.105685 -0.107439   \n",
       "fjob       -0.136368 -0.099917  0.028139  1.000000  ... -0.023647  0.096593   \n",
       "reason      0.121425  0.060658  0.034777 -0.015943  ... -0.048203 -0.090910   \n",
       "guardian   -0.111466  0.002120 -0.070514  0.077558  ...  0.070699  0.029366   \n",
       "traveltime -0.156090 -0.107267 -0.066515 -0.037799  ...  0.037454  0.076451   \n",
       "studytime   0.076035  0.011723 -0.000403  0.013321  ... -0.090573 -0.166190   \n",
       "failures   -0.238295 -0.260794 -0.087854  0.052085  ...  0.092902  0.270493   \n",
       "schoolsup   0.021537 -0.048880  0.035486  0.016096  ...  0.033040  0.050082   \n",
       "famsup      0.191568  0.173079  0.083770 -0.032724  ... -0.044423 -0.085340   \n",
       "paid        0.130936  0.069939  0.118839  0.023358  ... -0.122638 -0.182459   \n",
       "activities  0.094499  0.101018  0.094341  0.063236  ...  0.015817 -0.073160   \n",
       "nursery    -0.175623 -0.141200 -0.105685 -0.023647  ...  1.000000  0.067022   \n",
       "higher     -0.160816 -0.173544 -0.107439  0.096593  ...  0.067022  1.000000   \n",
       "internet   -0.193558 -0.134228 -0.154951 -0.095142  ...  0.039129  0.044966   \n",
       "romantic    0.007626  0.010295 -0.095551  0.044642  ... -0.018690  0.128050   \n",
       "famrel     -0.003073 -0.015492  0.037656  0.018444  ...  0.026204 -0.011952   \n",
       "freetime    0.040743 -0.022669  0.109891  0.008093  ...  0.027454  0.046783   \n",
       "goout       0.070310  0.046401  0.012365  0.001151  ...  0.010945  0.024203   \n",
       "health     -0.070420 -0.015777  0.066247 -0.027379  ...  0.008602  0.007349   \n",
       "absences    0.053766 -0.050786  0.028848 -0.062364  ... -0.042240 -0.024780   \n",
       "score       0.200890  0.124829  0.098042 -0.057169  ... -0.049098 -0.183924   \n",
       "\n",
       "            internet  romantic    famrel  freetime     goout    health  \\\n",
       "school      0.106978  0.065186 -0.039872  0.034138 -0.008473 -0.042288   \n",
       "sex        -0.061412 -0.138335  0.046715  0.228632  0.092635  0.148973   \n",
       "age         0.116484  0.162512  0.056941  0.013994  0.121057 -0.061752   \n",
       "address     0.202870  0.010199  0.013683 -0.058433 -0.066354  0.041864   \n",
       "famsize    -0.002124  0.002069 -0.017595  0.021239  0.042201 -0.035790   \n",
       "pstatus    -0.048629 -0.049925  0.008838  0.044000  0.034785  0.006963   \n",
       "medu       -0.193558  0.007626 -0.003073  0.040743  0.070310 -0.070420   \n",
       "fedu       -0.134228  0.010295 -0.015492 -0.022669  0.046401 -0.015777   \n",
       "mjob       -0.154951 -0.095551  0.037656  0.109891  0.012365  0.066247   \n",
       "fjob       -0.095142  0.044642  0.018444  0.008093  0.001151 -0.027379   \n",
       "reason     -0.069058  0.002767 -0.014079 -0.070486 -0.050857 -0.167743   \n",
       "guardian   -0.011811  0.099447 -0.020277  0.003192 -0.088218 -0.004779   \n",
       "traveltime  0.074267  0.035648 -0.029213 -0.016696  0.046390 -0.035336   \n",
       "studytime  -0.043815  0.049933  0.037950 -0.122057 -0.053554 -0.063876   \n",
       "failures    0.072924  0.109206 -0.028517  0.087558  0.101036  0.079030   \n",
       "schoolsup   0.020636  0.058209  0.009768  0.052964  0.038818  0.048194   \n",
       "famsup     -0.091641  0.042813  0.006285  0.024763 -0.041586  0.012043   \n",
       "paid       -0.145488  0.052311 -0.005738 -0.039865  0.042117 -0.070115   \n",
       "activities -0.075772 -0.034738  0.048164  0.078678  0.027675  0.011977   \n",
       "nursery     0.039129 -0.018690  0.026204  0.027454  0.010945  0.008602   \n",
       "higher      0.044966  0.128050 -0.011952  0.046783  0.024203  0.007349   \n",
       "internet    1.000000 -0.069669 -0.056919 -0.090379 -0.100789  0.093497   \n",
       "romantic   -0.069669  1.000000 -0.067801 -0.033115  0.008093  0.015411   \n",
       "famrel     -0.056919 -0.067801  1.000000  0.164830  0.069514  0.093256   \n",
       "freetime   -0.090379 -0.033115  0.164830  1.000000  0.294450  0.067629   \n",
       "goout      -0.100789  0.008093  0.069514  0.294450  1.000000 -0.015108   \n",
       "health      0.093497  0.015411  0.093256  0.067629 -0.015108  1.000000   \n",
       "absences   -0.046651  0.030016 -0.070487  0.104059  0.094116 -0.000482   \n",
       "score      -0.056222 -0.136042  0.052902  0.017481 -0.127742 -0.080583   \n",
       "\n",
       "            absences     score  \n",
       "school     -0.073936 -0.044524  \n",
       "sex         0.029808  0.099285  \n",
       "age         0.119775 -0.155726  \n",
       "address     0.038009 -0.121377  \n",
       "famsize     0.070185  0.064874  \n",
       "pstatus    -0.082520 -0.040135  \n",
       "medu        0.053766  0.200890  \n",
       "fedu       -0.050786  0.124829  \n",
       "mjob        0.028848  0.098042  \n",
       "fjob       -0.062364 -0.057169  \n",
       "reason      0.088053  0.084845  \n",
       "guardian    0.049961 -0.041457  \n",
       "traveltime -0.033530 -0.056535  \n",
       "studytime  -0.060063  0.114295  \n",
       "failures    0.060398 -0.337187  \n",
       "schoolsup  -0.017853  0.086598  \n",
       "famsup      0.052939  0.005992  \n",
       "paid       -0.083510  0.096306  \n",
       "activities  0.022711  0.003147  \n",
       "nursery    -0.042240 -0.049098  \n",
       "higher     -0.024780 -0.183924  \n",
       "internet   -0.046651 -0.056222  \n",
       "romantic    0.030016 -0.136042  \n",
       "famrel     -0.070487  0.052902  \n",
       "freetime    0.104059  0.017481  \n",
       "goout       0.094116 -0.127742  \n",
       "health     -0.000482 -0.080583  \n",
       "absences    1.000000  0.065986  \n",
       "score       0.065986  1.000000  \n",
       "\n",
       "[29 rows x 29 columns]"
      ]
     },
     "execution_count": 104,
     "metadata": {},
     "output_type": "execute_result"
    }
   ],
   "source": [
    "df.corr()"
   ]
  },
  {
   "cell_type": "code",
   "execution_count": 105,
   "id": "c97d0be9",
   "metadata": {},
   "outputs": [
    {
     "data": {
      "text/plain": [
       "<seaborn.axisgrid.JointGrid at 0x24c5ead6580>"
      ]
     },
     "execution_count": 105,
     "metadata": {},
     "output_type": "execute_result"
    },
    {
     "data": {
      "image/png": "[encoded data removed]",
      "text/plain": [
       "<Figure size 432x432 with 3 Axes>"
      ]
     },
     "metadata": {
      "needs_background": "light"
     },
     "output_type": "display_data"
    }
   ],
   "source": [
    "sns.jointplot(x = 'failures', y = 'score', data = df, kind = 'reg')"
   ]
  },
  {
   "cell_type": "markdown",
   "id": "23b07fdb",
   "metadata": {},
   "source": [
    "Все переменные можно охарактеризовать, как слабоскоррелированные. \n",
    "Максимальная корреляция наблюдается между fedu и medu (0.58), образование отца и матери. Но это говорит лишь о том, что пары, в основном, создаются людьми со сходными интересами, уровнями культуры, образования и пр.\n",
    "\n",
    "С целевой переменной наибольшая линейная связь прослеживается у переменной failures (-0.34) - количество внеучебных неудач. Что включает в себя этот фактор - не понятно. Поэтому, какие-то выводы делать сложно.\n",
    "\n",
    "С целевой перменной коррелируют со значением большим |0.1| переменные: age, address, medu, fedu, studytime, failures, higher, romantic, goout. Кроме romantic (.34) и medu (.2), у перечисленных переменных коэффициенты лежат в пределах 0.1-0.2 по модулю.  "
   ]
  },
  {
   "cell_type": "markdown",
   "id": "e0c6af7a",
   "metadata": {},
   "source": [
    "***Причин для исключения каких-либо переменных на основе корреляционного анализа не имеется.***"
   ]
  },
  {
   "cell_type": "markdown",
   "id": "dff6fd27",
   "metadata": {},
   "source": [
    "# Анализ номинативных переменных"
   ]
  },
  {
   "cell_type": "markdown",
   "id": "31132c41",
   "metadata": {},
   "source": [
    "Добавим в список номинальных переменных изначально кодированные переменные: "
   ]
  },
  {
   "cell_type": "code",
   "execution_count": 106,
   "id": "fd96f703",
   "metadata": {},
   "outputs": [],
   "source": [
    "l1 = ['school',\n",
    "     'sex',\n",
    "     'address',\n",
    "     'famsize',\n",
    "     'pstatus',\n",
    "     'medu',\n",
    "     'fedu',\n",
    "     'mjob',\n",
    "     'fjob',\n",
    "     'reason',\n",
    "     'guardian',\n",
    "     'traveltime',\n",
    "     'studytime',\n",
    "     'failures',\n",
    "     'schoolsup',\n",
    "     'famsup',\n",
    "     'paid',\n",
    "     'activities',\n",
    "     'nursery',\n",
    "     'higher',\n",
    "     'internet',\n",
    "     'romantic',\n",
    "     'famrel',\n",
    "     'freetime',\n",
    "     'goout',\n",
    "     'health'\n",
    "    ]"
   ]
  },
  {
   "cell_type": "markdown",
   "id": "6a169e81",
   "metadata": {},
   "source": [
    "Построим диаграммы box-plot для всех номинативныхных перменных:"
   ]
  },
  {
   "cell_type": "code",
   "execution_count": 107,
   "id": "d4c427da",
   "metadata": {},
   "outputs": [],
   "source": [
    "def get_boxplot(column):\n",
    "    fig, ax = plt.subplots(figsize = (14, 4))\n",
    "    sns.boxplot(x=column, y='score', \n",
    "                data=df.loc[df.loc[:, column].isin(df.loc[:, column].value_counts().index)],\n",
    "               ax=ax)\n",
    "    plt.xticks(rotation=45)\n",
    "    ax.set_title('Boxplot for ' + column)\n",
    "    plt.show()"
   ]
  },
  {
   "cell_type": "code",
   "execution_count": 108,
   "id": "181143aa",
   "metadata": {},
   "outputs": [
    {
     "data": {
      "image/png": "[encoded data removed]",
      "text/plain": [
       "<Figure size 1008x288 with 1 Axes>"
      ]
     },
     "metadata": {
      "needs_background": "light"
     },
     "output_type": "display_data"
    },
    {
     "data": {
      "image/png": "[encoded data removed]",
      "text/plain": [
       "<Figure size 1008x288 with 1 Axes>"
      ]
     },
     "metadata": {
      "needs_background": "light"
     },
     "output_type": "display_data"
    },
    {
     "data": {
      "image/png": "[encoded data removed]",
      "text/plain": [
       "<Figure size 1008x288 with 1 Axes>"
      ]
     },
     "metadata": {
      "needs_background": "light"
     },
     "output_type": "display_data"
    },
    {
     "data": {
      "image/png": "[encoded data removed]",
      "text/plain": [
       "<Figure size 1008x288 with 1 Axes>"
      ]
     },
     "metadata": {
      "needs_background": "light"
     },
     "output_type": "display_data"
    },
    {
     "data": {
      "image/png": "[encoded data removed]",
      "text/plain": [
       "<Figure size 1008x288 with 1 Axes>"
      ]
     },
     "metadata": {
      "needs_background": "light"
     },
     "output_type": "display_data"
    },
    {
     "data": {
      "image/png": "[encoded data removed]",
      "text/plain": [
       "<Figure size 1008x288 with 1 Axes>"
      ]
     },
     "metadata": {
      "needs_background": "light"
     },
     "output_type": "display_data"
    },
    {
     "data": {
      "image/png": "[encoded data removed]",
      "text/plain": [
       "<Figure size 1008x288 with 1 Axes>"
      ]
     },
     "metadata": {
      "needs_background": "light"
     },
     "output_type": "display_data"
    },
    {
     "data": {
      "image/png": "[encoded data removed]",
      "text/plain": [
       "<Figure size 1008x288 with 1 Axes>"
      ]
     },
     "metadata": {
      "needs_background": "light"
     },
     "output_type": "display_data"
    },
    {
     "data": {
      "image/png": "[encoded data removed]",
      "text/plain": [
       "<Figure size 1008x288 with 1 Axes>"
      ]
     },
     "metadata": {
      "needs_background": "light"
     },
     "output_type": "display_data"
    },
    {
     "data": {
      "image/png": "[encoded data removed]",
      "text/plain": [
       "<Figure size 1008x288 with 1 Axes>"
      ]
     },
     "metadata": {
      "needs_background": "light"
     },
     "output_type": "display_data"
    },
    {
     "data": {
      "image/png": "[encoded data removed]",
      "text/plain": [
       "<Figure size 1008x288 with 1 Axes>"
      ]
     },
     "metadata": {
      "needs_background": "light"
     },
     "output_type": "display_data"
    },
    {
     "data": {
      "image/png": "[encoded data removed]",
      "text/plain": [
       "<Figure size 1008x288 with 1 Axes>"
      ]
     },
     "metadata": {
      "needs_background": "light"
     },
     "output_type": "display_data"
    },
    {
     "data": {
      "image/png": "[encoded data removed]",
      "text/plain": [
       "<Figure size 1008x288 with 1 Axes>"
      ]
     },
     "metadata": {
      "needs_background": "light"
     },
     "output_type": "display_data"
    },
    {
     "data": {
      "image/png": "[encoded data removed]",
      "text/plain": [
       "<Figure size 1008x288 with 1 Axes>"
      ]
     },
     "metadata": {
      "needs_background": "light"
     },
     "output_type": "display_data"
    },
    {
     "data": {
      "image/png": "[encoded data removed]",
      "text/plain": [
       "<Figure size 1008x288 with 1 Axes>"
      ]
     },
     "metadata": {
      "needs_background": "light"
     },
     "output_type": "display_data"
    },
    {
     "data": {
      "image/png": "[encoded data removed]",
      "text/plain": [
       "<Figure size 1008x288 with 1 Axes>"
      ]
     },
     "metadata": {
      "needs_background": "light"
     },
     "output_type": "display_data"
    },
    {
     "data": {
      "image/png": "[encoded data removed]",
      "text/plain": [
       "<Figure size 1008x288 with 1 Axes>"
      ]
     },
     "metadata": {
      "needs_background": "light"
     },
     "output_type": "display_data"
    },
    {
     "data": {
      "image/png": "[encoded data removed]",
      "text/plain": [
       "<Figure size 1008x288 with 1 Axes>"
      ]
     },
     "metadata": {
      "needs_background": "light"
     },
     "output_type": "display_data"
    },
    {
     "data": {
      "image/png": "[encoded data removed]",
      "text/plain": [
       "<Figure size 1008x288 with 1 Axes>"
      ]
     },
     "metadata": {
      "needs_background": "light"
     },
     "output_type": "display_data"
    },
    {
     "data": {
      "image/png": "[encoded data removed]",
      "text/plain": [
       "<Figure size 1008x288 with 1 Axes>"
      ]
     },
     "metadata": {
      "needs_background": "light"
     },
     "output_type": "display_data"
    },
    {
     "data": {
      "image/png": "[encoded data removed]",
      "text/plain": [
       "<Figure size 1008x288 with 1 Axes>"
      ]
     },
     "metadata": {
      "needs_background": "light"
     },
     "output_type": "display_data"
    },
    {
     "data": {
      "image/png": "[encoded data removed]",
      "text/plain": [
       "<Figure size 1008x288 with 1 Axes>"
      ]
     },
     "metadata": {
      "needs_background": "light"
     },
     "output_type": "display_data"
    },
    {
     "data": {
      "image/png": "[encoded data removed]",
      "text/plain": [
       "<Figure size 1008x288 with 1 Axes>"
      ]
     },
     "metadata": {
      "needs_background": "light"
     },
     "output_type": "display_data"
    },
    {
     "data": {
      "image/png": "[encoded data removed]",
      "text/plain": [
       "<Figure size 1008x288 with 1 Axes>"
      ]
     },
     "metadata": {
      "needs_background": "light"
     },
     "output_type": "display_data"
    },
    {
     "data": {
      "image/png": "[encoded data removed]",
      "text/plain": [
       "<Figure size 1008x288 with 1 Axes>"
      ]
     },
     "metadata": {
      "needs_background": "light"
     },
     "output_type": "display_data"
    },
    {
     "data": {
      "image/png": "[encoded data removed]",
      "text/plain": [
       "<Figure size 1008x288 with 1 Axes>"
      ]
     },
     "metadata": {
      "needs_background": "light"
     },
     "output_type": "display_data"
    }
   ],
   "source": [
    "for col in l1:\n",
    "    get_boxplot(col)"
   ]
  },
  {
   "cell_type": "markdown",
   "id": "bf85c5bb",
   "metadata": {},
   "source": [
    "По графикам можно приблизительно предположить, что не влияют на балл на экзамене следующие переменные:\n",
    "- school\n",
    "- sex\n",
    "- famsize\n",
    "- pstatus\n",
    "- fjob\n",
    "- reason\n",
    "- guardian\n",
    "- traveltime\n",
    "- famsup\n",
    "- paid\n",
    "- activities\n",
    "- nursery\n",
    "- internet\n",
    "- romantic\n",
    "\n",
    "\n",
    "Более точную оценку даст парный t-test. \n"
   ]
  },
  {
   "cell_type": "markdown",
   "id": "09092f21",
   "metadata": {},
   "source": [
    "# T-test"
   ]
  },
  {
   "cell_type": "markdown",
   "id": "b77b4de2",
   "metadata": {},
   "source": [
    "Проверим нулевую гипотезу о том, что распределения баллов за экзамен по различным параметрам неразличимы. Сравним по парам средние для групп баллов за экзамены в зависимости от соответствующих оценочных значений факторов. Берем парные комбинации оценок из каждой переменной и для каждой пары делаем соответствующие срезы значений баллов за экзамен. Оцениваем разницу средних с мопомщью ttest_ind. Если pvalue =< alpha/количество комбинаций, гипотеза отвергается, значимые различия имеются. В обратном случае, различия между целевой переменной и фактором незначительны. "
   ]
  },
  {
   "cell_type": "code",
   "execution_count": 109,
   "id": "cca7fcb1",
   "metadata": {},
   "outputs": [],
   "source": [
    "def get_stat_dif(column):\n",
    "    cols = df.loc[:, column].value_counts().index\n",
    "    combinations_all = list(combinations(cols, 2))\n",
    "    for comb in combinations_all:\n",
    "        if ttest_ind(df.loc[df.loc[:, column] == comb[0], 'score'], \n",
    "                        df.loc[df.loc[:, column] == comb[1], 'score']).pvalue \\\n",
    "            <= 0.05/len(combinations_all): # Учли поправку Бонферони\n",
    "            print('Найдены статистически значимые различия для колонки', column)\n",
    "            break"
   ]
  },
  {
   "cell_type": "code",
   "execution_count": 110,
   "id": "c81e549c",
   "metadata": {},
   "outputs": [
    {
     "name": "stdout",
     "output_type": "stream",
     "text": [
      "Найдены статистически значимые различия для колонки address\n",
      "Найдены статистически значимые различия для колонки medu\n",
      "Найдены статистически значимые различия для колонки mjob\n",
      "Найдены статистически значимые различия для колонки failures\n",
      "Найдены статистически значимые различия для колонки higher\n",
      "Найдены статистически значимые различия для колонки romantic\n"
     ]
    }
   ],
   "source": [
    "for col in l1:\n",
    "    get_stat_dif(col)"
   ]
  },
  {
   "cell_type": "markdown",
   "id": "4b90a7c6",
   "metadata": {},
   "source": [
    "# Выводы"
   ]
  },
  {
   "cell_type": "markdown",
   "id": "98411b08",
   "metadata": {},
   "source": [
    "Для дальнейшего построения модели можно оставить переменные, которые изначально были заданы как числовые, т.к. все они слабо коррелируют с целевой переменной (score):"
   ]
  },
  {
   "cell_type": "code",
   "execution_count": 111,
   "id": "76ae303e",
   "metadata": {},
   "outputs": [],
   "source": [
    "l3 = list(set(list(df.columns)) - set(l))"
   ]
  },
  {
   "cell_type": "code",
   "execution_count": 112,
   "id": "93bf6602",
   "metadata": {},
   "outputs": [
    {
     "data": {
      "text/plain": [
       "['freetime',\n",
       " 'health',\n",
       " 'medu',\n",
       " 'goout',\n",
       " 'fedu',\n",
       " 'age',\n",
       " 'traveltime',\n",
       " 'absences',\n",
       " 'score',\n",
       " 'failures',\n",
       " 'studytime',\n",
       " 'famrel']"
      ]
     },
     "execution_count": 112,
     "metadata": {},
     "output_type": "execute_result"
    }
   ],
   "source": [
    "l3"
   ]
  },
  {
   "cell_type": "code",
   "execution_count": 113,
   "id": "b2ac395c",
   "metadata": {},
   "outputs": [
    {
     "data": {
      "text/html": [
       "<div>\n",
       "<style scoped>\n",
       "    .dataframe tbody tr th:only-of-type {\n",
       "        vertical-align: middle;\n",
       "    }\n",
       "\n",
       "    .dataframe tbody tr th {\n",
       "        vertical-align: top;\n",
       "    }\n",
       "\n",
       "    .dataframe thead th {\n",
       "        text-align: right;\n",
       "    }\n",
       "</style>\n",
       "<table border=\"1\" class=\"dataframe\">\n",
       "  <thead>\n",
       "    <tr style=\"text-align: right;\">\n",
       "      <th></th>\n",
       "      <th>freetime</th>\n",
       "      <th>health</th>\n",
       "      <th>medu</th>\n",
       "      <th>goout</th>\n",
       "      <th>fedu</th>\n",
       "      <th>age</th>\n",
       "      <th>traveltime</th>\n",
       "      <th>absences</th>\n",
       "      <th>score</th>\n",
       "      <th>failures</th>\n",
       "      <th>studytime</th>\n",
       "      <th>famrel</th>\n",
       "    </tr>\n",
       "  </thead>\n",
       "  <tbody>\n",
       "    <tr>\n",
       "      <th>freetime</th>\n",
       "      <td>1.000000</td>\n",
       "      <td>0.067629</td>\n",
       "      <td>0.040743</td>\n",
       "      <td>0.294450</td>\n",
       "      <td>-0.022669</td>\n",
       "      <td>0.013994</td>\n",
       "      <td>-0.016696</td>\n",
       "      <td>0.104059</td>\n",
       "      <td>0.017481</td>\n",
       "      <td>0.087558</td>\n",
       "      <td>-0.122057</td>\n",
       "      <td>0.164830</td>\n",
       "    </tr>\n",
       "    <tr>\n",
       "      <th>health</th>\n",
       "      <td>0.067629</td>\n",
       "      <td>1.000000</td>\n",
       "      <td>-0.070420</td>\n",
       "      <td>-0.015108</td>\n",
       "      <td>-0.015777</td>\n",
       "      <td>-0.061752</td>\n",
       "      <td>-0.035336</td>\n",
       "      <td>-0.000482</td>\n",
       "      <td>-0.080583</td>\n",
       "      <td>0.079030</td>\n",
       "      <td>-0.063876</td>\n",
       "      <td>0.093256</td>\n",
       "    </tr>\n",
       "    <tr>\n",
       "      <th>medu</th>\n",
       "      <td>0.040743</td>\n",
       "      <td>-0.070420</td>\n",
       "      <td>1.000000</td>\n",
       "      <td>0.070310</td>\n",
       "      <td>0.583292</td>\n",
       "      <td>-0.145755</td>\n",
       "      <td>-0.156090</td>\n",
       "      <td>0.053766</td>\n",
       "      <td>0.200890</td>\n",
       "      <td>-0.238295</td>\n",
       "      <td>0.076035</td>\n",
       "      <td>-0.003073</td>\n",
       "    </tr>\n",
       "    <tr>\n",
       "      <th>goout</th>\n",
       "      <td>0.294450</td>\n",
       "      <td>-0.015108</td>\n",
       "      <td>0.070310</td>\n",
       "      <td>1.000000</td>\n",
       "      <td>0.046401</td>\n",
       "      <td>0.121057</td>\n",
       "      <td>0.046390</td>\n",
       "      <td>0.094116</td>\n",
       "      <td>-0.127742</td>\n",
       "      <td>0.101036</td>\n",
       "      <td>-0.053554</td>\n",
       "      <td>0.069514</td>\n",
       "    </tr>\n",
       "    <tr>\n",
       "      <th>fedu</th>\n",
       "      <td>-0.022669</td>\n",
       "      <td>-0.015777</td>\n",
       "      <td>0.583292</td>\n",
       "      <td>0.046401</td>\n",
       "      <td>1.000000</td>\n",
       "      <td>-0.143849</td>\n",
       "      <td>-0.107267</td>\n",
       "      <td>-0.050786</td>\n",
       "      <td>0.124829</td>\n",
       "      <td>-0.260794</td>\n",
       "      <td>0.011723</td>\n",
       "      <td>-0.015492</td>\n",
       "    </tr>\n",
       "    <tr>\n",
       "      <th>age</th>\n",
       "      <td>0.013994</td>\n",
       "      <td>-0.061752</td>\n",
       "      <td>-0.145755</td>\n",
       "      <td>0.121057</td>\n",
       "      <td>-0.143849</td>\n",
       "      <td>1.000000</td>\n",
       "      <td>0.076013</td>\n",
       "      <td>0.119775</td>\n",
       "      <td>-0.155726</td>\n",
       "      <td>0.206279</td>\n",
       "      <td>-0.018019</td>\n",
       "      <td>0.056941</td>\n",
       "    </tr>\n",
       "    <tr>\n",
       "      <th>traveltime</th>\n",
       "      <td>-0.016696</td>\n",
       "      <td>-0.035336</td>\n",
       "      <td>-0.156090</td>\n",
       "      <td>0.046390</td>\n",
       "      <td>-0.107267</td>\n",
       "      <td>0.076013</td>\n",
       "      <td>1.000000</td>\n",
       "      <td>-0.033530</td>\n",
       "      <td>-0.056535</td>\n",
       "      <td>0.035113</td>\n",
       "      <td>-0.098226</td>\n",
       "      <td>-0.029213</td>\n",
       "    </tr>\n",
       "    <tr>\n",
       "      <th>absences</th>\n",
       "      <td>0.104059</td>\n",
       "      <td>-0.000482</td>\n",
       "      <td>0.053766</td>\n",
       "      <td>0.094116</td>\n",
       "      <td>-0.050786</td>\n",
       "      <td>0.119775</td>\n",
       "      <td>-0.033530</td>\n",
       "      <td>1.000000</td>\n",
       "      <td>0.065986</td>\n",
       "      <td>0.060398</td>\n",
       "      <td>-0.060063</td>\n",
       "      <td>-0.070487</td>\n",
       "    </tr>\n",
       "    <tr>\n",
       "      <th>score</th>\n",
       "      <td>0.017481</td>\n",
       "      <td>-0.080583</td>\n",
       "      <td>0.200890</td>\n",
       "      <td>-0.127742</td>\n",
       "      <td>0.124829</td>\n",
       "      <td>-0.155726</td>\n",
       "      <td>-0.056535</td>\n",
       "      <td>0.065986</td>\n",
       "      <td>1.000000</td>\n",
       "      <td>-0.337187</td>\n",
       "      <td>0.114295</td>\n",
       "      <td>0.052902</td>\n",
       "    </tr>\n",
       "    <tr>\n",
       "      <th>failures</th>\n",
       "      <td>0.087558</td>\n",
       "      <td>0.079030</td>\n",
       "      <td>-0.238295</td>\n",
       "      <td>0.101036</td>\n",
       "      <td>-0.260794</td>\n",
       "      <td>0.206279</td>\n",
       "      <td>0.035113</td>\n",
       "      <td>0.060398</td>\n",
       "      <td>-0.337187</td>\n",
       "      <td>1.000000</td>\n",
       "      <td>-0.169399</td>\n",
       "      <td>-0.028517</td>\n",
       "    </tr>\n",
       "    <tr>\n",
       "      <th>studytime</th>\n",
       "      <td>-0.122057</td>\n",
       "      <td>-0.063876</td>\n",
       "      <td>0.076035</td>\n",
       "      <td>-0.053554</td>\n",
       "      <td>0.011723</td>\n",
       "      <td>-0.018019</td>\n",
       "      <td>-0.098226</td>\n",
       "      <td>-0.060063</td>\n",
       "      <td>0.114295</td>\n",
       "      <td>-0.169399</td>\n",
       "      <td>1.000000</td>\n",
       "      <td>0.037950</td>\n",
       "    </tr>\n",
       "    <tr>\n",
       "      <th>famrel</th>\n",
       "      <td>0.164830</td>\n",
       "      <td>0.093256</td>\n",
       "      <td>-0.003073</td>\n",
       "      <td>0.069514</td>\n",
       "      <td>-0.015492</td>\n",
       "      <td>0.056941</td>\n",
       "      <td>-0.029213</td>\n",
       "      <td>-0.070487</td>\n",
       "      <td>0.052902</td>\n",
       "      <td>-0.028517</td>\n",
       "      <td>0.037950</td>\n",
       "      <td>1.000000</td>\n",
       "    </tr>\n",
       "  </tbody>\n",
       "</table>\n",
       "</div>"
      ],
      "text/plain": [
       "            freetime    health      medu     goout      fedu       age  \\\n",
       "freetime    1.000000  0.067629  0.040743  0.294450 -0.022669  0.013994   \n",
       "health      0.067629  1.000000 -0.070420 -0.015108 -0.015777 -0.061752   \n",
       "medu        0.040743 -0.070420  1.000000  0.070310  0.583292 -0.145755   \n",
       "goout       0.294450 -0.015108  0.070310  1.000000  0.046401  0.121057   \n",
       "fedu       -0.022669 -0.015777  0.583292  0.046401  1.000000 -0.143849   \n",
       "age         0.013994 -0.061752 -0.145755  0.121057 -0.143849  1.000000   \n",
       "traveltime -0.016696 -0.035336 -0.156090  0.046390 -0.107267  0.076013   \n",
       "absences    0.104059 -0.000482  0.053766  0.094116 -0.050786  0.119775   \n",
       "score       0.017481 -0.080583  0.200890 -0.127742  0.124829 -0.155726   \n",
       "failures    0.087558  0.079030 -0.238295  0.101036 -0.260794  0.206279   \n",
       "studytime  -0.122057 -0.063876  0.076035 -0.053554  0.011723 -0.018019   \n",
       "famrel      0.164830  0.093256 -0.003073  0.069514 -0.015492  0.056941   \n",
       "\n",
       "            traveltime  absences     score  failures  studytime    famrel  \n",
       "freetime     -0.016696  0.104059  0.017481  0.087558  -0.122057  0.164830  \n",
       "health       -0.035336 -0.000482 -0.080583  0.079030  -0.063876  0.093256  \n",
       "medu         -0.156090  0.053766  0.200890 -0.238295   0.076035 -0.003073  \n",
       "goout         0.046390  0.094116 -0.127742  0.101036  -0.053554  0.069514  \n",
       "fedu         -0.107267 -0.050786  0.124829 -0.260794   0.011723 -0.015492  \n",
       "age           0.076013  0.119775 -0.155726  0.206279  -0.018019  0.056941  \n",
       "traveltime    1.000000 -0.033530 -0.056535  0.035113  -0.098226 -0.029213  \n",
       "absences     -0.033530  1.000000  0.065986  0.060398  -0.060063 -0.070487  \n",
       "score        -0.056535  0.065986  1.000000 -0.337187   0.114295  0.052902  \n",
       "failures      0.035113  0.060398 -0.337187  1.000000  -0.169399 -0.028517  \n",
       "studytime    -0.098226 -0.060063  0.114295 -0.169399   1.000000  0.037950  \n",
       "famrel       -0.029213 -0.070487  0.052902 -0.028517   0.037950  1.000000  "
      ]
     },
     "execution_count": 113,
     "metadata": {},
     "output_type": "execute_result"
    }
   ],
   "source": [
    "df[l3].corr()"
   ]
  },
  {
   "cell_type": "markdown",
   "id": "1eeb4681",
   "metadata": {},
   "source": [
    "Из номинативных переменных добавляются: address, mjob, higher, romantic"
   ]
  },
  {
   "cell_type": "code",
   "execution_count": 114,
   "id": "30383a56",
   "metadata": {},
   "outputs": [],
   "source": [
    "l4 = l3 + ['address', 'mjob', 'higher', 'romantic']"
   ]
  },
  {
   "cell_type": "markdown",
   "id": "c48ea656",
   "metadata": {},
   "source": [
    "И таким образом, в итоговую модель идут следующие переменные:"
   ]
  },
  {
   "cell_type": "code",
   "execution_count": 115,
   "id": "8f1a8252",
   "metadata": {},
   "outputs": [],
   "source": [
    "l4.remove('score')"
   ]
  },
  {
   "cell_type": "code",
   "execution_count": 116,
   "id": "1615793d",
   "metadata": {},
   "outputs": [
    {
     "data": {
      "text/plain": [
       "['freetime',\n",
       " 'health',\n",
       " 'medu',\n",
       " 'goout',\n",
       " 'fedu',\n",
       " 'age',\n",
       " 'traveltime',\n",
       " 'absences',\n",
       " 'failures',\n",
       " 'studytime',\n",
       " 'famrel',\n",
       " 'address',\n",
       " 'mjob',\n",
       " 'higher',\n",
       " 'romantic']"
      ]
     },
     "execution_count": 116,
     "metadata": {},
     "output_type": "execute_result"
    }
   ],
   "source": [
    "l4"
   ]
  },
  {
   "cell_type": "code",
   "execution_count": 117,
   "id": "822d60fb",
   "metadata": {},
   "outputs": [
    {
     "data": {
      "text/html": [
       "<div>\n",
       "<style scoped>\n",
       "    .dataframe tbody tr th:only-of-type {\n",
       "        vertical-align: middle;\n",
       "    }\n",
       "\n",
       "    .dataframe tbody tr th {\n",
       "        vertical-align: top;\n",
       "    }\n",
       "\n",
       "    .dataframe thead th {\n",
       "        text-align: right;\n",
       "    }\n",
       "</style>\n",
       "<table border=\"1\" class=\"dataframe\">\n",
       "  <thead>\n",
       "    <tr style=\"text-align: right;\">\n",
       "      <th></th>\n",
       "      <th>freetime</th>\n",
       "      <th>health</th>\n",
       "      <th>medu</th>\n",
       "      <th>goout</th>\n",
       "      <th>fedu</th>\n",
       "      <th>age</th>\n",
       "      <th>traveltime</th>\n",
       "      <th>absences</th>\n",
       "      <th>failures</th>\n",
       "      <th>studytime</th>\n",
       "      <th>famrel</th>\n",
       "      <th>address</th>\n",
       "      <th>mjob</th>\n",
       "      <th>higher</th>\n",
       "      <th>romantic</th>\n",
       "    </tr>\n",
       "  </thead>\n",
       "  <tbody>\n",
       "    <tr>\n",
       "      <th>0</th>\n",
       "      <td>3.0</td>\n",
       "      <td>3.0</td>\n",
       "      <td>4.0</td>\n",
       "      <td>4.0</td>\n",
       "      <td>4.0</td>\n",
       "      <td>18.0</td>\n",
       "      <td>2.0</td>\n",
       "      <td>6.0</td>\n",
       "      <td>0.0</td>\n",
       "      <td>2.0</td>\n",
       "      <td>4.0</td>\n",
       "      <td>0.0</td>\n",
       "      <td>0.0</td>\n",
       "      <td>0.0</td>\n",
       "      <td>0.0</td>\n",
       "    </tr>\n",
       "    <tr>\n",
       "      <th>1</th>\n",
       "      <td>3.0</td>\n",
       "      <td>3.0</td>\n",
       "      <td>1.0</td>\n",
       "      <td>3.0</td>\n",
       "      <td>1.0</td>\n",
       "      <td>17.0</td>\n",
       "      <td>1.0</td>\n",
       "      <td>4.0</td>\n",
       "      <td>0.0</td>\n",
       "      <td>2.0</td>\n",
       "      <td>5.0</td>\n",
       "      <td>0.0</td>\n",
       "      <td>0.0</td>\n",
       "      <td>0.0</td>\n",
       "      <td>0.0</td>\n",
       "    </tr>\n",
       "    <tr>\n",
       "      <th>2</th>\n",
       "      <td>3.0</td>\n",
       "      <td>3.0</td>\n",
       "      <td>1.0</td>\n",
       "      <td>2.0</td>\n",
       "      <td>1.0</td>\n",
       "      <td>15.0</td>\n",
       "      <td>1.0</td>\n",
       "      <td>10.0</td>\n",
       "      <td>3.0</td>\n",
       "      <td>2.0</td>\n",
       "      <td>4.0</td>\n",
       "      <td>0.0</td>\n",
       "      <td>0.0</td>\n",
       "      <td>0.0</td>\n",
       "      <td>0.0</td>\n",
       "    </tr>\n",
       "    <tr>\n",
       "      <th>3</th>\n",
       "      <td>2.0</td>\n",
       "      <td>5.0</td>\n",
       "      <td>4.0</td>\n",
       "      <td>2.0</td>\n",
       "      <td>2.0</td>\n",
       "      <td>15.0</td>\n",
       "      <td>1.0</td>\n",
       "      <td>2.0</td>\n",
       "      <td>0.0</td>\n",
       "      <td>3.0</td>\n",
       "      <td>3.0</td>\n",
       "      <td>0.0</td>\n",
       "      <td>1.0</td>\n",
       "      <td>0.0</td>\n",
       "      <td>1.0</td>\n",
       "    </tr>\n",
       "    <tr>\n",
       "      <th>4</th>\n",
       "      <td>3.0</td>\n",
       "      <td>5.0</td>\n",
       "      <td>3.0</td>\n",
       "      <td>2.0</td>\n",
       "      <td>3.0</td>\n",
       "      <td>16.0</td>\n",
       "      <td>1.0</td>\n",
       "      <td>4.0</td>\n",
       "      <td>0.0</td>\n",
       "      <td>2.0</td>\n",
       "      <td>4.0</td>\n",
       "      <td>0.0</td>\n",
       "      <td>2.0</td>\n",
       "      <td>0.0</td>\n",
       "      <td>0.0</td>\n",
       "    </tr>\n",
       "    <tr>\n",
       "      <th>...</th>\n",
       "      <td>...</td>\n",
       "      <td>...</td>\n",
       "      <td>...</td>\n",
       "      <td>...</td>\n",
       "      <td>...</td>\n",
       "      <td>...</td>\n",
       "      <td>...</td>\n",
       "      <td>...</td>\n",
       "      <td>...</td>\n",
       "      <td>...</td>\n",
       "      <td>...</td>\n",
       "      <td>...</td>\n",
       "      <td>...</td>\n",
       "      <td>...</td>\n",
       "      <td>...</td>\n",
       "    </tr>\n",
       "    <tr>\n",
       "      <th>390</th>\n",
       "      <td>5.0</td>\n",
       "      <td>4.0</td>\n",
       "      <td>2.0</td>\n",
       "      <td>4.0</td>\n",
       "      <td>2.0</td>\n",
       "      <td>20.0</td>\n",
       "      <td>1.0</td>\n",
       "      <td>0.0</td>\n",
       "      <td>2.0</td>\n",
       "      <td>2.0</td>\n",
       "      <td>5.0</td>\n",
       "      <td>0.0</td>\n",
       "      <td>3.0</td>\n",
       "      <td>0.0</td>\n",
       "      <td>0.0</td>\n",
       "    </tr>\n",
       "    <tr>\n",
       "      <th>391</th>\n",
       "      <td>4.0</td>\n",
       "      <td>2.0</td>\n",
       "      <td>3.0</td>\n",
       "      <td>5.0</td>\n",
       "      <td>1.0</td>\n",
       "      <td>17.0</td>\n",
       "      <td>2.0</td>\n",
       "      <td>3.0</td>\n",
       "      <td>0.0</td>\n",
       "      <td>1.0</td>\n",
       "      <td>2.0</td>\n",
       "      <td>0.0</td>\n",
       "      <td>3.0</td>\n",
       "      <td>0.0</td>\n",
       "      <td>0.0</td>\n",
       "    </tr>\n",
       "    <tr>\n",
       "      <th>392</th>\n",
       "      <td>5.0</td>\n",
       "      <td>3.0</td>\n",
       "      <td>1.0</td>\n",
       "      <td>3.0</td>\n",
       "      <td>1.0</td>\n",
       "      <td>21.0</td>\n",
       "      <td>1.0</td>\n",
       "      <td>3.0</td>\n",
       "      <td>3.0</td>\n",
       "      <td>1.0</td>\n",
       "      <td>5.0</td>\n",
       "      <td>1.0</td>\n",
       "      <td>2.0</td>\n",
       "      <td>0.0</td>\n",
       "      <td>0.0</td>\n",
       "    </tr>\n",
       "    <tr>\n",
       "      <th>393</th>\n",
       "      <td>4.0</td>\n",
       "      <td>5.0</td>\n",
       "      <td>3.0</td>\n",
       "      <td>1.0</td>\n",
       "      <td>2.0</td>\n",
       "      <td>18.0</td>\n",
       "      <td>3.0</td>\n",
       "      <td>0.0</td>\n",
       "      <td>0.0</td>\n",
       "      <td>1.0</td>\n",
       "      <td>4.0</td>\n",
       "      <td>1.0</td>\n",
       "      <td>3.0</td>\n",
       "      <td>0.0</td>\n",
       "      <td>0.0</td>\n",
       "    </tr>\n",
       "    <tr>\n",
       "      <th>394</th>\n",
       "      <td>2.0</td>\n",
       "      <td>5.0</td>\n",
       "      <td>1.0</td>\n",
       "      <td>3.0</td>\n",
       "      <td>1.0</td>\n",
       "      <td>19.0</td>\n",
       "      <td>1.0</td>\n",
       "      <td>5.0</td>\n",
       "      <td>0.0</td>\n",
       "      <td>1.0</td>\n",
       "      <td>3.0</td>\n",
       "      <td>0.0</td>\n",
       "      <td>2.0</td>\n",
       "      <td>0.0</td>\n",
       "      <td>0.0</td>\n",
       "    </tr>\n",
       "  </tbody>\n",
       "</table>\n",
       "<p>389 rows × 15 columns</p>\n",
       "</div>"
      ],
      "text/plain": [
       "     freetime  health  medu  goout  fedu   age  traveltime  absences  \\\n",
       "0         3.0     3.0   4.0    4.0   4.0  18.0         2.0       6.0   \n",
       "1         3.0     3.0   1.0    3.0   1.0  17.0         1.0       4.0   \n",
       "2         3.0     3.0   1.0    2.0   1.0  15.0         1.0      10.0   \n",
       "3         2.0     5.0   4.0    2.0   2.0  15.0         1.0       2.0   \n",
       "4         3.0     5.0   3.0    2.0   3.0  16.0         1.0       4.0   \n",
       "..        ...     ...   ...    ...   ...   ...         ...       ...   \n",
       "390       5.0     4.0   2.0    4.0   2.0  20.0         1.0       0.0   \n",
       "391       4.0     2.0   3.0    5.0   1.0  17.0         2.0       3.0   \n",
       "392       5.0     3.0   1.0    3.0   1.0  21.0         1.0       3.0   \n",
       "393       4.0     5.0   3.0    1.0   2.0  18.0         3.0       0.0   \n",
       "394       2.0     5.0   1.0    3.0   1.0  19.0         1.0       5.0   \n",
       "\n",
       "     failures  studytime  famrel  address  mjob  higher  romantic  \n",
       "0         0.0        2.0     4.0      0.0   0.0     0.0       0.0  \n",
       "1         0.0        2.0     5.0      0.0   0.0     0.0       0.0  \n",
       "2         3.0        2.0     4.0      0.0   0.0     0.0       0.0  \n",
       "3         0.0        3.0     3.0      0.0   1.0     0.0       1.0  \n",
       "4         0.0        2.0     4.0      0.0   2.0     0.0       0.0  \n",
       "..        ...        ...     ...      ...   ...     ...       ...  \n",
       "390       2.0        2.0     5.0      0.0   3.0     0.0       0.0  \n",
       "391       0.0        1.0     2.0      0.0   3.0     0.0       0.0  \n",
       "392       3.0        1.0     5.0      1.0   2.0     0.0       0.0  \n",
       "393       0.0        1.0     4.0      1.0   3.0     0.0       0.0  \n",
       "394       0.0        1.0     3.0      0.0   2.0     0.0       0.0  \n",
       "\n",
       "[389 rows x 15 columns]"
      ]
     },
     "execution_count": 117,
     "metadata": {},
     "output_type": "execute_result"
    }
   ],
   "source": [
    "df_for_model = df.loc[:, l4]\n",
    "df_for_model"
   ]
  },
  {
   "cell_type": "markdown",
   "id": "739d3c81",
   "metadata": {},
   "source": [
    "Может показаться, что их много. Но, в дальнейшем, их можно, например, сжать до двух факторов методом главных компонент. При этом, значительная часть информации из этих переменных будет сохранена. "
   ]
  },
  {
   "cell_type": "code",
   "execution_count": null,
   "id": "dc97c644",
   "metadata": {},
   "outputs": [],
   "source": []
  }
 ],
 "metadata": {
  "kernelspec": {
   "display_name": "Python 3",
   "language": "python",
   "name": "python3"
  },
  "language_info": {
   "codemirror_mode": {
    "name": "ipython",
    "version": 3
   },
   "file_extension": ".py",
   "mimetype": "text/x-python",
   "name": "python",
   "nbconvert_exporter": "python",
   "pygments_lexer": "ipython3",
   "version": "3.8.8"
  }
 },
 "nbformat": 4,
 "nbformat_minor": 5
}
