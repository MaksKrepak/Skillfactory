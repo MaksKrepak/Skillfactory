{
 "cells": [
  {
   "cell_type": "markdown",
   "metadata": {
    "papermill": {
     "duration": 0.029718,
     "end_time": "2020-10-26T12:46:41.276296",
     "exception": false,
     "start_time": "2020-10-26T12:46:41.246578",
     "status": "completed"
    },
    "tags": []
   },
   "source": [
    "# Прогнозирование стоимости автомобиля по характеристикам"
   ]
  },
  {
   "cell_type": "markdown",
   "metadata": {
    "papermill": {
     "duration": 0.028027,
     "end_time": "2020-10-26T12:46:41.334278",
     "exception": false,
     "start_time": "2020-10-26T12:46:41.306251",
     "status": "completed"
    },
    "tags": []
   },
   "source": []
  },
  {
   "cell_type": "code",
   "execution_count": 1,
   "metadata": {
    "_cell_guid": "b1076dfc-b9ad-4769-8c92-a6c4dae69d19",
    "_uuid": "8f2839f25d086af736a60e9eeb907d3b93b6e0e5",
    "execution": {
     "iopub.execute_input": "2022-02-18T07:37:07.465632Z",
     "iopub.status.busy": "2022-02-18T07:37:07.465219Z",
     "iopub.status.idle": "2022-02-18T07:37:08.619325Z",
     "shell.execute_reply": "2022-02-18T07:37:08.618379Z",
     "shell.execute_reply.started": "2022-02-18T07:37:07.465593Z"
    },
    "papermill": {
     "duration": 1.219772,
     "end_time": "2020-10-26T12:46:42.581597",
     "exception": false,
     "start_time": "2020-10-26T12:46:41.361825",
     "status": "completed"
    },
    "tags": []
   },
   "outputs": [
    {
     "name": "stderr",
     "output_type": "stream",
     "text": [
      "C:\\Users\\User\\AppData\\Roaming\\Python\\Python38\\site-packages\\sklearn\\utils\\deprecation.py:143: FutureWarning: The sklearn.utils.testing module is  deprecated in version 0.22 and will be removed in version 0.24. The corresponding classes / functions should instead be imported from sklearn.utils. Anything that cannot be imported from sklearn.utils is now part of the private API.\n",
      "  warnings.warn(message, FutureWarning)\n"
     ]
    }
   ],
   "source": [
    "import numpy as np # linear algebra\n",
    "import pandas as pd # data processing, CSV file I/O (e.g. pd.read_csv)\n",
    "import seaborn as sns\n",
    "import matplotlib.pyplot as plt\n",
    "import sys\n",
    "import xgboost as xgb\n",
    "from sklearn.model_selection import train_test_split\n",
    "from sklearn.feature_selection import f_classif, mutual_info_classif\n",
    "from tqdm.notebook import tqdm\n",
    "from catboost import CatBoostRegressor\n",
    "from sklearn.preprocessing import LabelEncoder\n",
    "from sklearn.experimental import enable_iterative_imputer \n",
    "from sklearn.impute import IterativeImputer\n",
    "from sklearn.model_selection import GridSearchCV\n",
    "from sklearn.model_selection import KFold\n",
    "from sklearn.base import clone\n",
    "from sklearn.ensemble import RandomForestRegressor\n",
    "from sklearn.ensemble import GradientBoostingRegressor\n",
    "from sklearn.linear_model import LinearRegression\n",
    "from sklearn.neighbors import KNeighborsRegressor\n",
    "from sklearn.preprocessing import StandardScaler\n",
    "from sklearn.ensemble import ExtraTreesRegressor\n",
    "from sklearn.model_selection import RandomizedSearchCV\n",
    "from sklearn.metrics import roc_auc_score, roc_curve, confusion_matrix, accuracy_score, f1_score, recall_score, precision_score\n",
    "from sklearn.metrics import mean_squared_error as RMSE\n",
    "from sklearn.metrics import r2_score\n",
    "import lazypredict\n",
    "from lazypredict.Supervised import LazyClassifier\n",
    "from lazypredict.Supervised import LazyRegressor\n",
    "import warnings\n",
    "import time\n",
    "from urllib.error import HTTPError\n",
    "from selenium import webdriver\n",
    "from selenium.webdriver.chrome.service import Service\n",
    "from bs4 import BeautifulSoup"
   ]
  },
  {
   "cell_type": "code",
   "execution_count": 2,
   "metadata": {
    "scrolled": false
   },
   "outputs": [],
   "source": [
    "# !pip install catboost\n",
    "# !pip install -U selenium\n",
    "# !pip install webdriver-manager"
   ]
  },
  {
   "cell_type": "markdown",
   "metadata": {},
   "source": [
    "## Парсинг"
   ]
  },
  {
   "cell_type": "markdown",
   "metadata": {},
   "source": [
    "Сначала, со страниц с краткой информацией по авто, парсим ссылки на страницы с подробной. Сохраняем ссылки в файл, чтобы не потерять. Рабочий список ссылок формируется в переменной href. "
   ]
  },
  {
   "cell_type": "code",
   "execution_count": 3,
   "metadata": {},
   "outputs": [
    {
     "data": {
      "text/plain": [
       "'\\npages = 99\\nhref = []\\nservice=Service(\\'d:\\\\chromedriver.exe\\')\\ndriver = webdriver.Chrome(service=service)\\nurl = \"https://auto.ru/moskva/cars/all/\"\\ndriver.get(url)\\nitems = driver.find_elements_by_xpath(\\'//a[@class=\"Link ListingItemTitle__link\"]\\')\\nfor i in range(len(items)):\\n    href.append(items[i].get_attribute(\\'href\\'))\\n\\nfor page in range(2, pages):\\n    url = \"https://auto.ru/moskva/cars/all/?page=\" + str(page)\\n    driver.get(url)\\n    items = driver.find_elements_by_xpath(\\'//a[@class=\"Link ListingItemTitle__link\"]\\')\\n    for i in range(len(items)):\\n        href.append(items[i].get_attribute(\\'href\\'))\\ndriver.close()\\n\\n# df = pd.DataFrame(href)\\n# df.to_csv(\\'links.csv\\')\\n'"
      ]
     },
     "execution_count": 3,
     "metadata": {},
     "output_type": "execute_result"
    }
   ],
   "source": [
    "'''\n",
    "pages = 99\n",
    "href = []\n",
    "service=Service('d:\\chromedriver.exe')\n",
    "driver = webdriver.Chrome(service=service)\n",
    "url = \"https://auto.ru/moskva/cars/all/\"\n",
    "driver.get(url)\n",
    "items = driver.find_elements_by_xpath('//a[@class=\"Link ListingItemTitle__link\"]')\n",
    "for i in range(len(items)):\n",
    "    href.append(items[i].get_attribute('href'))\n",
    "\n",
    "for page in range(2, pages):\n",
    "    url = \"https://auto.ru/moskva/cars/all/?page=\" + str(page)\n",
    "    driver.get(url)\n",
    "    items = driver.find_elements_by_xpath('//a[@class=\"Link ListingItemTitle__link\"]')\n",
    "    for i in range(len(items)):\n",
    "        href.append(items[i].get_attribute('href'))\n",
    "driver.close()\n",
    "\n",
    "# df = pd.DataFrame(href)\n",
    "# df.to_csv('links.csv')\n",
    "'''"
   ]
  },
  {
   "cell_type": "markdown",
   "metadata": {},
   "source": [
    "Открываем ссылки из href и запускаем функцию разбора и записи содержимого страницы:"
   ]
  },
  {
   "cell_type": "code",
   "execution_count": 4,
   "metadata": {
    "scrolled": false
   },
   "outputs": [
    {
     "data": {
      "text/plain": [
       "'\\ncars = []\\nlst = []\\nservice=Service(\\'d:\\\\chromedriver.exe\\')\\ndriver = webdriver.Chrome(service=service)\\npage = []\\nfor url in href:    \\n    driver.get(str(url))\\n    # Получаем содержимое html-страницы:\\n    page = driver.execute_script(\"return document.body.innerHTML;\")\\n    cars_param(page)\\n    time.sleep(1)\\n# Закрываем процесс браузера:\\ndriver.quit()\\n\\n# df1.to_csv(\\'cars.csv\\')\\n'"
      ]
     },
     "execution_count": 4,
     "metadata": {},
     "output_type": "execute_result"
    }
   ],
   "source": [
    "'''\n",
    "cars = []\n",
    "lst = []\n",
    "service=Service('d:\\chromedriver.exe')\n",
    "driver = webdriver.Chrome(service=service)\n",
    "page = []\n",
    "for url in href:    \n",
    "    driver.get(str(url))\n",
    "    # Получаем содержимое html-страницы:\n",
    "    page = driver.execute_script(\"return document.body.innerHTML;\")\n",
    "    cars_param(page)\n",
    "    time.sleep(1)\n",
    "# Закрываем процесс браузера:\n",
    "driver.quit()\n",
    "\n",
    "# df1.to_csv('cars.csv')\n",
    "'''"
   ]
  },
  {
   "cell_type": "markdown",
   "metadata": {},
   "source": [
    "Функция отлавливает только две версии объявлений (две отличающиеся друг от друга разметки страниц). Есть еще, как минимум одна, версия объявления, но, из-за нехватки времени, она не проработана и игнорируется исключением. Отсюда много некорректной информации в сформированном датасете."
   ]
  },
  {
   "cell_type": "code",
   "execution_count": 5,
   "metadata": {
    "scrolled": true
   },
   "outputs": [
    {
     "data": {
      "text/plain": [
       "'\\ndef cars_param(page):\\n    soup = BeautifulSoup(page, \\'html.parser\\')\\n    try:\\n        try:\\n            param = [child.get_text(\\' \\').replace(\\'\\xa0\\', \\' \\') for child in soup.find(\\n                    \\'ul\\', class_=\\'CardInfo\\').children]\\n\\n            model_name = soup.find(\\'h1\\', class_=\\'CardHead__title\\').text\\n            brand = model_name.split(\\' \\')[0]\\n            try:\\n                price = soup.find(\\n                    \\'span\\', class_=\\'OfferPriceCaption__price\\').text.replace(\\'\\xa0\\', \\'\\')\\n            except:\\n                price = None\\n            param = [param.split(\\' \\', 1)[1:] for param in param]\\n            param = [j for i in param for j in i]\\n            del param[-1]\\n\\n            productionDate = param[0].split()[1]\\n            mileage = param[1].split()[:2]\\n            mileage = \\'\\'.join(mileage)\\n            bodyType = param[2]\\n            color = param[3]\\n            engineDisplacement = param[4].split(\\n                \\'/\\')[0].replace(\\'л\\', \\'\\').replace(\\' \\', \\'\\')\\n            enginePower = param[4].split(\\'/\\')[1].split()[0]\\n            fuelType = param[4].split(\\'/\\')[2].replace(\\' \\', \\'\\')\\n            equipment_dict = param[5]\\n            tax = param[6].split()[:2]\\n            tax = \\'\\'.join(tax)\\n            vehicleTransmission = param[7]\\n            wd = param[8]\\n            wheel = param[9]\\n            state = param[10]\\n            owners = param[11]\\n            pts = param[12]\\n            customs = param[13]\\n\\n        except AttributeError:\\n            param = [child.get_text(\\' \\').replace(\\'\\xa0\\', \\' \\') for child in soup.find(\\n                    \\'ul\\', class_=\\'CardInfoGrouped__list\\').children]\\n\\n            model_name = soup.find(\\'h1\\', class_=\\'CardNewHead__title\\').text\\n            brand = model_name.split(\\' \\')[0]\\n            try:\\n                price = soup.find(\\n                        \\'span\\', class_=\\'OfferPriceCaption__price\\').text.replace(\\'\\xa0\\', \\'\\')\\n            except:\\n                price = None\\n\\n            param = [param.split(\\' \\', 1)[1:] for param in param]\\n            param = [j for i in param for j in i]\\n\\n            productionDate = None\\n            mileage = None\\n            bodyType = param[0]\\n            try:\\n                color = param[6]\\n            except:\\n                color = param[5]\\n            engineDisplacement = param[2].split(\\n                    \\'/\\')[0].replace(\\'л\\', \\'\\').replace(\\' \\', \\'\\')\\n            enginePower = param[2].split(\\'/\\')[1].split()[0]\\n            fuelType = param[2].split(\\'/\\')[2].replace(\\' \\', \\'\\')\\n            equipment_dict = param[1]\\n            try:\\n                tax = param[3].split()[:2]\\n                tax = \\'\\'.join(tax)\\n            except:\\n                tax = None\\n            vehicleTransmission = param[4]\\n            wd = param[5]\\n            wheel = None\\n            state = None\\n            owners = None\\n            pts = None\\n            customs = None\\n\\n        cars1.append({\"brand\": brand, \"model_name\": model_name, \"bodyType\": bodyType, \"color\": color,\\n                     \"engineDisplacement\": engineDisplacement,\\'enginePower\\':enginePower,\"fuelType\":fuelType,                     \"mileage\": mileage,\"productionDate\":productionDate,\"vehicleTransmission\":vehicleTransmission,                     \"owners\": owners,\"pts\":pts,\"wd\":wd,\"wheel\":wheel,\"state\":state, \"tax\": tax, \"customs\": customs, \"price\":price})\\n    except:\\n        pass\\n        \\n'"
      ]
     },
     "execution_count": 5,
     "metadata": {},
     "output_type": "execute_result"
    }
   ],
   "source": [
    "'''\n",
    "def cars_param(page):\n",
    "    soup = BeautifulSoup(page, 'html.parser')\n",
    "    try:\n",
    "        try:\n",
    "            param = [child.get_text(' ').replace('\\xa0', ' ') for child in soup.find(\n",
    "                    'ul', class_='CardInfo').children]\n",
    "\n",
    "            model_name = soup.find('h1', class_='CardHead__title').text\n",
    "            brand = model_name.split(' ')[0]\n",
    "            try:\n",
    "                price = soup.find(\n",
    "                    'span', class_='OfferPriceCaption__price').text.replace('\\xa0', '')\n",
    "            except:\n",
    "                price = None\n",
    "            param = [param.split(' ', 1)[1:] for param in param]\n",
    "            param = [j for i in param for j in i]\n",
    "            del param[-1]\n",
    "\n",
    "            productionDate = param[0].split()[1]\n",
    "            mileage = param[1].split()[:2]\n",
    "            mileage = ''.join(mileage)\n",
    "            bodyType = param[2]\n",
    "            color = param[3]\n",
    "            engineDisplacement = param[4].split(\n",
    "                '/')[0].replace('л', '').replace(' ', '')\n",
    "            enginePower = param[4].split('/')[1].split()[0]\n",
    "            fuelType = param[4].split('/')[2].replace(' ', '')\n",
    "            equipment_dict = param[5]\n",
    "            tax = param[6].split()[:2]\n",
    "            tax = ''.join(tax)\n",
    "            vehicleTransmission = param[7]\n",
    "            wd = param[8]\n",
    "            wheel = param[9]\n",
    "            state = param[10]\n",
    "            owners = param[11]\n",
    "            pts = param[12]\n",
    "            customs = param[13]\n",
    "\n",
    "        except AttributeError:\n",
    "            param = [child.get_text(' ').replace('\\xa0', ' ') for child in soup.find(\n",
    "                    'ul', class_='CardInfoGrouped__list').children]\n",
    "\n",
    "            model_name = soup.find('h1', class_='CardNewHead__title').text\n",
    "            brand = model_name.split(' ')[0]\n",
    "            try:\n",
    "                price = soup.find(\n",
    "                        'span', class_='OfferPriceCaption__price').text.replace('\\xa0', '')\n",
    "            except:\n",
    "                price = None\n",
    "\n",
    "            param = [param.split(' ', 1)[1:] for param in param]\n",
    "            param = [j for i in param for j in i]\n",
    "\n",
    "            productionDate = None\n",
    "            mileage = None\n",
    "            bodyType = param[0]\n",
    "            try:\n",
    "                color = param[6]\n",
    "            except:\n",
    "                color = param[5]\n",
    "            engineDisplacement = param[2].split(\n",
    "                    '/')[0].replace('л', '').replace(' ', '')\n",
    "            enginePower = param[2].split('/')[1].split()[0]\n",
    "            fuelType = param[2].split('/')[2].replace(' ', '')\n",
    "            equipment_dict = param[1]\n",
    "            try:\n",
    "                tax = param[3].split()[:2]\n",
    "                tax = ''.join(tax)\n",
    "            except:\n",
    "                tax = None\n",
    "            vehicleTransmission = param[4]\n",
    "            wd = param[5]\n",
    "            wheel = None\n",
    "            state = None\n",
    "            owners = None\n",
    "            pts = None\n",
    "            customs = None\n",
    "\n",
    "        cars1.append({\"brand\": brand, \"model_name\": model_name, \"bodyType\": bodyType, \"color\": color,\n",
    "                     \"engineDisplacement\": engineDisplacement,'enginePower':enginePower,\"fuelType\":fuelType,\\\n",
    "                     \"mileage\": mileage,\"productionDate\":productionDate,\"vehicleTransmission\":vehicleTransmission,\\\n",
    "                     \"owners\": owners,\"pts\":pts,\"wd\":wd,\"wheel\":wheel,\"state\":state, \"tax\": tax, \"customs\": customs, \"price\":price})\n",
    "    except:\n",
    "        pass\n",
    "        \n",
    "'''"
   ]
  },
  {
   "cell_type": "markdown",
   "metadata": {
    "scrolled": false
   },
   "source": [
    "# Setup"
   ]
  },
  {
   "cell_type": "code",
   "execution_count": 6,
   "metadata": {
    "_kg_hide-input": true,
    "execution": {
     "iopub.execute_input": "2022-02-18T07:37:08.623889Z",
     "iopub.status.busy": "2022-02-18T07:37:08.623597Z",
     "iopub.status.idle": "2022-02-18T07:37:08.631174Z",
     "shell.execute_reply": "2022-02-18T07:37:08.630123Z",
     "shell.execute_reply.started": "2022-02-18T07:37:08.623861Z"
    },
    "papermill": {
     "duration": 0.040034,
     "end_time": "2020-10-26T12:46:42.650603",
     "exception": false,
     "start_time": "2020-10-26T12:46:42.610569",
     "status": "completed"
    },
    "tags": []
   },
   "outputs": [
    {
     "name": "stdout",
     "output_type": "stream",
     "text": [
      "Python       : 3.8.8 (default, Apr 13 2021, 15:08:03) [MSC v.1916 64 bit (AMD64)]\n",
      "Numpy        : 1.19.1\n"
     ]
    }
   ],
   "source": [
    "print('Python       :', sys.version.split('\\n')[0])\n",
    "print('Numpy        :', np.__version__)"
   ]
  },
  {
   "cell_type": "code",
   "execution_count": 7,
   "metadata": {
    "_kg_hide-input": true,
    "execution": {
     "iopub.execute_input": "2022-02-18T07:37:08.633331Z",
     "iopub.status.busy": "2022-02-18T07:37:08.632862Z",
     "iopub.status.idle": "2022-02-18T07:37:11.385768Z",
     "shell.execute_reply": "2022-02-18T07:37:11.384434Z",
     "shell.execute_reply.started": "2022-02-18T07:37:08.633289Z"
    },
    "papermill": {
     "duration": 5.172536,
     "end_time": "2020-10-26T12:46:47.852593",
     "exception": false,
     "start_time": "2020-10-26T12:46:42.680057",
     "status": "completed"
    },
    "tags": []
   },
   "outputs": [],
   "source": [
    "# зафиксируем версию пакетов, чтобы эксперименты были воспроизводимы:\n",
    "!pip freeze > requirements.txt"
   ]
  },
  {
   "cell_type": "code",
   "execution_count": 8,
   "metadata": {
    "execution": {
     "iopub.execute_input": "2022-02-18T07:37:11.387593Z",
     "iopub.status.busy": "2022-02-18T07:37:11.387244Z",
     "iopub.status.idle": "2022-02-18T07:37:11.392364Z",
     "shell.execute_reply": "2022-02-18T07:37:11.391013Z",
     "shell.execute_reply.started": "2022-02-18T07:37:11.387555Z"
    },
    "papermill": {
     "duration": 0.039842,
     "end_time": "2020-10-26T12:46:47.922434",
     "exception": false,
     "start_time": "2020-10-26T12:46:47.882592",
     "status": "completed"
    },
    "tags": []
   },
   "outputs": [],
   "source": [
    "# всегда фиксируйте RANDOM_SEED, чтобы ваши эксперименты были воспроизводимы!\n",
    "RANDOM_SEED = 42"
   ]
  },
  {
   "cell_type": "code",
   "execution_count": 9,
   "metadata": {
    "execution": {
     "iopub.execute_input": "2022-02-18T07:37:11.407694Z",
     "iopub.status.busy": "2022-02-18T07:37:11.407069Z",
     "iopub.status.idle": "2022-02-18T07:37:11.416971Z",
     "shell.execute_reply": "2022-02-18T07:37:11.416130Z",
     "shell.execute_reply.started": "2022-02-18T07:37:11.407655Z"
    },
    "papermill": {
     "duration": 0.039969,
     "end_time": "2020-10-26T12:46:48.052728",
     "exception": false,
     "start_time": "2020-10-26T12:46:48.012759",
     "status": "completed"
    },
    "tags": []
   },
   "outputs": [],
   "source": [
    "VERSION    = 1\n",
    "DIR_TRAIN  = '../input/parsing-all-moscow-auto-ru-09-09-2020/' # подключил к ноутбуку внешний датасет\n",
    "DIR_TEST   = '../input/sf-dst-car-price-prediction/'\n",
    "VAL_SIZE   = 0.20   # 20%"
   ]
  },
  {
   "cell_type": "code",
   "execution_count": 10,
   "metadata": {},
   "outputs": [],
   "source": [
    "%matplotlib inline\n",
    "# warnings.filterwarnings(\"ignore\")\n",
    "path = '../ML_2_prj-auto/'\n",
    "\n",
    "# Kaggle\n",
    "# DATA_DIR = '/kaggle/input/sf-scoring/'\n",
    "\n",
    "# pd.set_option('precision', 6)"
   ]
  },
  {
   "cell_type": "markdown",
   "metadata": {},
   "source": [
    "## Предобработка"
   ]
  },
  {
   "cell_type": "code",
   "execution_count": 11,
   "metadata": {},
   "outputs": [],
   "source": [
    "# Функция расчета метрики\n",
    "def mape(y_true, y_pred):\n",
    "    return np.mean(np.abs((y_pred-y_true)/y_true))\n",
    "\n",
    "\n",
    "def df_describe(df):\n",
    "    '''\n",
    "    Вывод статистки\n",
    "    '''\n",
    "    desc = df.describe(include='all', percentiles=[\n",
    "                       0.5]).T  # сохранение отчета от df.describe()\n",
    "    # получение и сохранение дополнительных статистик/свойств\n",
    "    desc['type'] = [type(x) for x in df.iloc[0]]  # тип данных\n",
    "    desc['NaN'] = df.isna().sum()                # количество пропусков\n",
    "    desc.unique = df.nunique()                   # количество уникальных значений\n",
    "    # самое распрстроненноё значение\n",
    "    desc.top = df.mode(axis=0).iloc[0]\n",
    "    desc.freq = [df[col].value_counts().iloc[0]\n",
    "                 for col in df.columns]  # количество top в признаке\n",
    "    return desc\n",
    "\n",
    "\n",
    "def fill_nan(data, col):\n",
    "    '''\n",
    "    Функция пропорционального заполнения \n",
    "    пропусков \n",
    "    '''\n",
    "    na = data[col].isna().sum()  # фиксируем количество пустых ячеек\n",
    "\n",
    "    disp = data[col].value_counts()  # расписываем по категориям\n",
    "    s = disp.sum()\n",
    "    w = np.zeros(len(disp))  # формируем пустой массив весов\n",
    "\n",
    "    for i in range(len(disp)):  # расчитваем веса категорий\n",
    "        w[i] = disp[i]/s\n",
    "\n",
    "    #  массив с количеством пропусков, пропорционально распределенных между категориями\n",
    "    w_data = np.uint32(np.array([np.round(x, 0) for x in w * na]))\n",
    "\n",
    "    #  исправляем ошибки округления\n",
    "    if np.sum(w_data) < na:\n",
    "        w_data[0] = w_data[0] + 1\n",
    "    elif np.sum(w_data) > na:\n",
    "        w_data[0] = w_data[0] - 1\n",
    "\n",
    "    #  получаем список индексов пустых ячеек\n",
    "    to_fill_index = data.loc[data[col].isna()].index\n",
    "\n",
    "    #  заполняем пустые ячейки номерами соответствующих категорий\n",
    "    n = 0\n",
    "    cat = 0\n",
    "    for w in w_data:\n",
    "        for i in range(w):\n",
    "            data[col].loc[to_fill_index[n]] = cat\n",
    "            n += 1\n",
    "        cat += 1\n",
    "\n",
    "    print('было Nan:', na)\n",
    "    print('было значений в категории:', np.asarray(disp))\n",
    "    print('стало значений в категории:', np.asarray(disp) + np.asarray(w_data))\n",
    "    print('разница:', np.asarray(w_data))\n",
    "    print('стало не Nan:', np.sum(w_data))\n",
    "\n",
    "\n",
    "# Функция, которая  ищет пересечение уникальных значений признаков\n",
    "def intersections(col1, col2):\n",
    "    col1_set = set(col1.astype(str).unique())\n",
    "    col2_set = set(col2.astype(str).unique())\n",
    "    intersection = col1_set.intersection(col2_set)\n",
    "    print(len(col1_set), len(col2_set), len(intersection))\n",
    "\n",
    "\n",
    "def imputation_numeric(numeric):\n",
    "    '''Функция заполнения пропущенных значений в числовых признаках'''\n",
    "    imp_numeric = IterativeImputer(GradientBoostingRegressor())\n",
    "    imputed = imp_numeric.fit_transform(numeric)\n",
    "    numeric_imp = pd.DataFrame(\n",
    "        imputed, columns=numeric.columns, index=numeric.index)\n",
    "    return numeric_imp\n",
    "\n",
    "\n",
    "def lble_encod(df, col):\n",
    "    '''\n",
    "    Кодирование бинарных признаков\n",
    "    '''\n",
    "    label_encoder = LabelEncoder()\n",
    "\n",
    "    for column in col:\n",
    "        df[column] = label_encoder.fit_transform(df[column])\n",
    "\n",
    "\n",
    "def count_plot(column, data):\n",
    "    '''\n",
    "    Построение гистограм\n",
    "    '''\n",
    "    ax = sns.countplot(x=column, data=data)\n",
    "    plt.tight_layout()\n",
    "    plt.xticks(rotation=90)\n",
    "    plt.show()\n",
    "\n",
    "\n",
    "def graph_plot(column, data):\n",
    "    '''\n",
    "    Построение гистограм c боксплотами\n",
    "    '''\n",
    "    plt.figure(figsize=(15, 5))\n",
    "    plt.subplot(121)\n",
    "    data.hist(bins=100)\n",
    "    plt.title(col)\n",
    "    plt.subplot(122)\n",
    "    sns.boxplot(data=data)\n",
    "    plt.show()"
   ]
  },
  {
   "cell_type": "markdown",
   "metadata": {
    "papermill": {
     "duration": 0.030254,
     "end_time": "2020-10-26T12:46:48.112586",
     "exception": false,
     "start_time": "2020-10-26T12:46:48.082332",
     "status": "completed"
    },
    "tags": []
   },
   "source": [
    "# Data"
   ]
  },
  {
   "cell_type": "code",
   "execution_count": 12,
   "metadata": {
    "execution": {
     "iopub.execute_input": "2022-02-18T07:37:11.418941Z",
     "iopub.status.busy": "2022-02-18T07:37:11.418368Z",
     "iopub.status.idle": "2022-02-18T07:37:12.211964Z",
     "shell.execute_reply": "2022-02-18T07:37:12.210806Z",
     "shell.execute_reply.started": "2022-02-18T07:37:11.418897Z"
    },
    "papermill": {
     "duration": 0.783211,
     "end_time": "2020-10-26T12:46:48.925418",
     "exception": false,
     "start_time": "2020-10-26T12:46:48.142207",
     "status": "completed"
    },
    "tags": []
   },
   "outputs": [
    {
     "name": "stderr",
     "output_type": "stream",
     "text": [
      "\"ls\" ­Ґ пў«пҐвбп ў­гваҐ­­Ґ© Ё«Ё ў­Ґи­Ґ©\n",
      "Є®¬ ­¤®©, ЁбЇ®«­пҐ¬®© Їа®Ја ¬¬®© Ё«Ё Ї ЄҐв­л¬ д ©«®¬.\n"
     ]
    }
   ],
   "source": [
    "!ls '../input'"
   ]
  },
  {
   "cell_type": "code",
   "execution_count": null,
   "metadata": {},
   "outputs": [],
   "source": []
  },
  {
   "cell_type": "code",
   "execution_count": 13,
   "metadata": {
    "_cell_guid": "79c7e3d0-c299-4dcb-8224-4455121ee9b0",
    "_uuid": "d629ff2d2480ee46fbb7e2d37f6b5fab8052498a",
    "execution": {
     "iopub.execute_input": "2022-02-18T07:37:12.214174Z",
     "iopub.status.busy": "2022-02-18T07:37:12.213691Z",
     "iopub.status.idle": "2022-02-18T07:37:20.923628Z",
     "shell.execute_reply": "2022-02-18T07:37:20.922717Z",
     "shell.execute_reply.started": "2022-02-18T07:37:12.214136Z"
    },
    "papermill": {
     "duration": 13.16556,
     "end_time": "2020-10-26T12:47:02.12133",
     "exception": false,
     "start_time": "2020-10-26T12:46:48.95577",
     "status": "completed"
    },
    "tags": []
   },
   "outputs": [],
   "source": [
    "# Kaggle\n",
    "# train = pd.read_csv(DIR_TRAIN+'all_auto_ru_09_09_2020.csv') # датасет для обучения модели\n",
    "# test = pd.read_csv(DIR_TEST+'test.csv')\n",
    "# train_2022 = pd.read_csv(DIR_TEST+'cars.csv')\n",
    "# sample_submission = pd.read_csv(DIR_TEST+'sample_submission.csv')\n",
    "\n",
    "# Загрузка данных\n",
    "train = pd.read_csv(f'{path}all_auto_ru_09_09_2020.csv')\n",
    "test = pd.read_csv(f'{path}test.csv')\n",
    "sample_submission = pd.read_csv(f'{path}sample_submission.csv')"
   ]
  },
  {
   "cell_type": "code",
   "execution_count": 14,
   "metadata": {},
   "outputs": [],
   "source": [
    "# Загрузка спарсенных 19-2-2022 данных\n",
    "train_2022 = pd.read_csv(f'{path}cars.csv')"
   ]
  },
  {
   "cell_type": "markdown",
   "metadata": {},
   "source": [
    "Сводная статистика по датасетам:"
   ]
  },
  {
   "cell_type": "code",
   "execution_count": 15,
   "metadata": {
    "execution": {
     "iopub.execute_input": "2022-02-18T07:37:20.925099Z",
     "iopub.status.busy": "2022-02-18T07:37:20.924842Z",
     "iopub.status.idle": "2022-02-18T07:37:20.973579Z",
     "shell.execute_reply": "2022-02-18T07:37:20.972699Z",
     "shell.execute_reply.started": "2022-02-18T07:37:20.925074Z"
    },
    "papermill": {
     "duration": 0.09378,
     "end_time": "2020-10-26T12:47:02.246755",
     "exception": false,
     "start_time": "2020-10-26T12:47:02.152975",
     "status": "completed"
    },
    "scrolled": false,
    "tags": []
   },
   "outputs": [
    {
     "data": {
      "text/html": [
       "<div>\n",
       "<style scoped>\n",
       "    .dataframe tbody tr th:only-of-type {\n",
       "        vertical-align: middle;\n",
       "    }\n",
       "\n",
       "    .dataframe tbody tr th {\n",
       "        vertical-align: top;\n",
       "    }\n",
       "\n",
       "    .dataframe thead th {\n",
       "        text-align: right;\n",
       "    }\n",
       "</style>\n",
       "<table border=\"1\" class=\"dataframe\">\n",
       "  <thead>\n",
       "    <tr style=\"text-align: right;\">\n",
       "      <th></th>\n",
       "      <th>count</th>\n",
       "      <th>unique</th>\n",
       "      <th>top</th>\n",
       "      <th>freq</th>\n",
       "      <th>mean</th>\n",
       "      <th>std</th>\n",
       "      <th>min</th>\n",
       "      <th>50%</th>\n",
       "      <th>max</th>\n",
       "      <th>type</th>\n",
       "      <th>NaN</th>\n",
       "    </tr>\n",
       "  </thead>\n",
       "  <tbody>\n",
       "    <tr>\n",
       "      <th>bodyType</th>\n",
       "      <td>34686</td>\n",
       "      <td>24</td>\n",
       "      <td>седан</td>\n",
       "      <td>13147</td>\n",
       "      <td>NaN</td>\n",
       "      <td>NaN</td>\n",
       "      <td>NaN</td>\n",
       "      <td>NaN</td>\n",
       "      <td>NaN</td>\n",
       "      <td>&lt;class 'str'&gt;</td>\n",
       "      <td>0</td>\n",
       "    </tr>\n",
       "    <tr>\n",
       "      <th>brand</th>\n",
       "      <td>34686</td>\n",
       "      <td>12</td>\n",
       "      <td>BMW</td>\n",
       "      <td>4473</td>\n",
       "      <td>NaN</td>\n",
       "      <td>NaN</td>\n",
       "      <td>NaN</td>\n",
       "      <td>NaN</td>\n",
       "      <td>NaN</td>\n",
       "      <td>&lt;class 'str'&gt;</td>\n",
       "      <td>0</td>\n",
       "    </tr>\n",
       "    <tr>\n",
       "      <th>car_url</th>\n",
       "      <td>34686</td>\n",
       "      <td>34686</td>\n",
       "      <td>https://auto.ru/cars/used/sale/audi/100/101694...</td>\n",
       "      <td>1</td>\n",
       "      <td>NaN</td>\n",
       "      <td>NaN</td>\n",
       "      <td>NaN</td>\n",
       "      <td>NaN</td>\n",
       "      <td>NaN</td>\n",
       "      <td>&lt;class 'str'&gt;</td>\n",
       "      <td>0</td>\n",
       "    </tr>\n",
       "    <tr>\n",
       "      <th>color</th>\n",
       "      <td>34686</td>\n",
       "      <td>16</td>\n",
       "      <td>чёрный</td>\n",
       "      <td>11010</td>\n",
       "      <td>NaN</td>\n",
       "      <td>NaN</td>\n",
       "      <td>NaN</td>\n",
       "      <td>NaN</td>\n",
       "      <td>NaN</td>\n",
       "      <td>&lt;class 'str'&gt;</td>\n",
       "      <td>0</td>\n",
       "    </tr>\n",
       "    <tr>\n",
       "      <th>complectation_dict</th>\n",
       "      <td>6418</td>\n",
       "      <td>2364</td>\n",
       "      <td>{\"id\":\"4562904\",\"name\":\"Elegance\",\"available_o...</td>\n",
       "      <td>51</td>\n",
       "      <td>NaN</td>\n",
       "      <td>NaN</td>\n",
       "      <td>NaN</td>\n",
       "      <td>NaN</td>\n",
       "      <td>NaN</td>\n",
       "      <td>&lt;class 'float'&gt;</td>\n",
       "      <td>28268</td>\n",
       "    </tr>\n",
       "    <tr>\n",
       "      <th>description</th>\n",
       "      <td>34686</td>\n",
       "      <td>31732</td>\n",
       "      <td>Выгода до 82 000 руб. при обмене на Ваш автомо...</td>\n",
       "      <td>264</td>\n",
       "      <td>NaN</td>\n",
       "      <td>NaN</td>\n",
       "      <td>NaN</td>\n",
       "      <td>NaN</td>\n",
       "      <td>NaN</td>\n",
       "      <td>&lt;class 'str'&gt;</td>\n",
       "      <td>0</td>\n",
       "    </tr>\n",
       "    <tr>\n",
       "      <th>engineDisplacement</th>\n",
       "      <td>34686</td>\n",
       "      <td>55</td>\n",
       "      <td>2.0 LTR</td>\n",
       "      <td>7391</td>\n",
       "      <td>NaN</td>\n",
       "      <td>NaN</td>\n",
       "      <td>NaN</td>\n",
       "      <td>NaN</td>\n",
       "      <td>NaN</td>\n",
       "      <td>&lt;class 'str'&gt;</td>\n",
       "      <td>0</td>\n",
       "    </tr>\n",
       "    <tr>\n",
       "      <th>enginePower</th>\n",
       "      <td>34686</td>\n",
       "      <td>315</td>\n",
       "      <td>249 N12</td>\n",
       "      <td>1708</td>\n",
       "      <td>NaN</td>\n",
       "      <td>NaN</td>\n",
       "      <td>NaN</td>\n",
       "      <td>NaN</td>\n",
       "      <td>NaN</td>\n",
       "      <td>&lt;class 'str'&gt;</td>\n",
       "      <td>0</td>\n",
       "    </tr>\n",
       "    <tr>\n",
       "      <th>equipment_dict</th>\n",
       "      <td>24690</td>\n",
       "      <td>23705</td>\n",
       "      <td>{\"leather\":true}</td>\n",
       "      <td>108</td>\n",
       "      <td>NaN</td>\n",
       "      <td>NaN</td>\n",
       "      <td>NaN</td>\n",
       "      <td>NaN</td>\n",
       "      <td>NaN</td>\n",
       "      <td>&lt;class 'str'&gt;</td>\n",
       "      <td>9996</td>\n",
       "    </tr>\n",
       "    <tr>\n",
       "      <th>fuelType</th>\n",
       "      <td>34686</td>\n",
       "      <td>5</td>\n",
       "      <td>бензин</td>\n",
       "      <td>28601</td>\n",
       "      <td>NaN</td>\n",
       "      <td>NaN</td>\n",
       "      <td>NaN</td>\n",
       "      <td>NaN</td>\n",
       "      <td>NaN</td>\n",
       "      <td>&lt;class 'str'&gt;</td>\n",
       "      <td>0</td>\n",
       "    </tr>\n",
       "    <tr>\n",
       "      <th>image</th>\n",
       "      <td>34686</td>\n",
       "      <td>34557</td>\n",
       "      <td>https://avatars.mds.yandex.net/get-verba/21620...</td>\n",
       "      <td>13</td>\n",
       "      <td>NaN</td>\n",
       "      <td>NaN</td>\n",
       "      <td>NaN</td>\n",
       "      <td>NaN</td>\n",
       "      <td>NaN</td>\n",
       "      <td>&lt;class 'str'&gt;</td>\n",
       "      <td>0</td>\n",
       "    </tr>\n",
       "    <tr>\n",
       "      <th>mileage</th>\n",
       "      <td>34686.00</td>\n",
       "      <td>11268</td>\n",
       "      <td>200000.00</td>\n",
       "      <td>436</td>\n",
       "      <td>162009.77</td>\n",
       "      <td>100676.56</td>\n",
       "      <td>1.00</td>\n",
       "      <td>149779.50</td>\n",
       "      <td>1000000.00</td>\n",
       "      <td>&lt;class 'numpy.int64'&gt;</td>\n",
       "      <td>0</td>\n",
       "    </tr>\n",
       "    <tr>\n",
       "      <th>modelDate</th>\n",
       "      <td>34686.00</td>\n",
       "      <td>66</td>\n",
       "      <td>2010.00</td>\n",
       "      <td>2503</td>\n",
       "      <td>2007.07</td>\n",
       "      <td>7.42</td>\n",
       "      <td>1904.00</td>\n",
       "      <td>2008.00</td>\n",
       "      <td>2020.00</td>\n",
       "      <td>&lt;class 'numpy.int64'&gt;</td>\n",
       "      <td>0</td>\n",
       "    </tr>\n",
       "    <tr>\n",
       "      <th>model_info</th>\n",
       "      <td>34686</td>\n",
       "      <td>954</td>\n",
       "      <td>{\"code\":\"OCTAVIA\",\"name\":\"Octavia\",\"ru_name\":\"...</td>\n",
       "      <td>1404</td>\n",
       "      <td>NaN</td>\n",
       "      <td>NaN</td>\n",
       "      <td>NaN</td>\n",
       "      <td>NaN</td>\n",
       "      <td>NaN</td>\n",
       "      <td>&lt;class 'str'&gt;</td>\n",
       "      <td>0</td>\n",
       "    </tr>\n",
       "    <tr>\n",
       "      <th>model_name</th>\n",
       "      <td>34686</td>\n",
       "      <td>544</td>\n",
       "      <td>OCTAVIA</td>\n",
       "      <td>1418</td>\n",
       "      <td>NaN</td>\n",
       "      <td>NaN</td>\n",
       "      <td>NaN</td>\n",
       "      <td>NaN</td>\n",
       "      <td>NaN</td>\n",
       "      <td>&lt;class 'str'&gt;</td>\n",
       "      <td>0</td>\n",
       "    </tr>\n",
       "    <tr>\n",
       "      <th>name</th>\n",
       "      <td>34686</td>\n",
       "      <td>2780</td>\n",
       "      <td>1.6 AT (110 л.с.)</td>\n",
       "      <td>631</td>\n",
       "      <td>NaN</td>\n",
       "      <td>NaN</td>\n",
       "      <td>NaN</td>\n",
       "      <td>NaN</td>\n",
       "      <td>NaN</td>\n",
       "      <td>&lt;class 'str'&gt;</td>\n",
       "      <td>0</td>\n",
       "    </tr>\n",
       "    <tr>\n",
       "      <th>numberOfDoors</th>\n",
       "      <td>34686.00</td>\n",
       "      <td>5</td>\n",
       "      <td>5.00</td>\n",
       "      <td>18703</td>\n",
       "      <td>4.45</td>\n",
       "      <td>0.70</td>\n",
       "      <td>0.00</td>\n",
       "      <td>5.00</td>\n",
       "      <td>5.00</td>\n",
       "      <td>&lt;class 'numpy.int64'&gt;</td>\n",
       "      <td>0</td>\n",
       "    </tr>\n",
       "    <tr>\n",
       "      <th>parsing_unixtime</th>\n",
       "      <td>34686.00</td>\n",
       "      <td>34686</td>\n",
       "      <td>1603107306</td>\n",
       "      <td>1</td>\n",
       "      <td>1603286733.62</td>\n",
       "      <td>149307.06</td>\n",
       "      <td>1603107306.00</td>\n",
       "      <td>1603254133.00</td>\n",
       "      <td>1603710264.00</td>\n",
       "      <td>&lt;class 'numpy.int64'&gt;</td>\n",
       "      <td>0</td>\n",
       "    </tr>\n",
       "    <tr>\n",
       "      <th>priceCurrency</th>\n",
       "      <td>34686</td>\n",
       "      <td>1</td>\n",
       "      <td>RUB</td>\n",
       "      <td>34686</td>\n",
       "      <td>NaN</td>\n",
       "      <td>NaN</td>\n",
       "      <td>NaN</td>\n",
       "      <td>NaN</td>\n",
       "      <td>NaN</td>\n",
       "      <td>&lt;class 'str'&gt;</td>\n",
       "      <td>0</td>\n",
       "    </tr>\n",
       "    <tr>\n",
       "      <th>productionDate</th>\n",
       "      <td>34686.00</td>\n",
       "      <td>69</td>\n",
       "      <td>2012.00</td>\n",
       "      <td>2798</td>\n",
       "      <td>2009.26</td>\n",
       "      <td>7.05</td>\n",
       "      <td>1904.00</td>\n",
       "      <td>2011.00</td>\n",
       "      <td>2020.00</td>\n",
       "      <td>&lt;class 'numpy.int64'&gt;</td>\n",
       "      <td>0</td>\n",
       "    </tr>\n",
       "    <tr>\n",
       "      <th>sell_id</th>\n",
       "      <td>34686.00</td>\n",
       "      <td>34686</td>\n",
       "      <td>2665</td>\n",
       "      <td>1</td>\n",
       "      <td>1098300150.88</td>\n",
       "      <td>19112247.59</td>\n",
       "      <td>2665.00</td>\n",
       "      <td>1100910913.00</td>\n",
       "      <td>1101374610.00</td>\n",
       "      <td>&lt;class 'numpy.int64'&gt;</td>\n",
       "      <td>0</td>\n",
       "    </tr>\n",
       "    <tr>\n",
       "      <th>super_gen</th>\n",
       "      <td>34686</td>\n",
       "      <td>5890</td>\n",
       "      <td>{\"id\":\"6214876\",\"displacement\":1598,\"engine_ty...</td>\n",
       "      <td>193</td>\n",
       "      <td>NaN</td>\n",
       "      <td>NaN</td>\n",
       "      <td>NaN</td>\n",
       "      <td>NaN</td>\n",
       "      <td>NaN</td>\n",
       "      <td>&lt;class 'str'&gt;</td>\n",
       "      <td>0</td>\n",
       "    </tr>\n",
       "    <tr>\n",
       "      <th>vehicleConfiguration</th>\n",
       "      <td>34686</td>\n",
       "      <td>634</td>\n",
       "      <td>ALLROAD_5_DOORS AUTOMATIC 3.0</td>\n",
       "      <td>2389</td>\n",
       "      <td>NaN</td>\n",
       "      <td>NaN</td>\n",
       "      <td>NaN</td>\n",
       "      <td>NaN</td>\n",
       "      <td>NaN</td>\n",
       "      <td>&lt;class 'str'&gt;</td>\n",
       "      <td>0</td>\n",
       "    </tr>\n",
       "    <tr>\n",
       "      <th>vehicleTransmission</th>\n",
       "      <td>34686</td>\n",
       "      <td>4</td>\n",
       "      <td>автоматическая</td>\n",
       "      <td>19596</td>\n",
       "      <td>NaN</td>\n",
       "      <td>NaN</td>\n",
       "      <td>NaN</td>\n",
       "      <td>NaN</td>\n",
       "      <td>NaN</td>\n",
       "      <td>&lt;class 'str'&gt;</td>\n",
       "      <td>0</td>\n",
       "    </tr>\n",
       "    <tr>\n",
       "      <th>vendor</th>\n",
       "      <td>34686</td>\n",
       "      <td>2</td>\n",
       "      <td>EUROPEAN</td>\n",
       "      <td>20682</td>\n",
       "      <td>NaN</td>\n",
       "      <td>NaN</td>\n",
       "      <td>NaN</td>\n",
       "      <td>NaN</td>\n",
       "      <td>NaN</td>\n",
       "      <td>&lt;class 'str'&gt;</td>\n",
       "      <td>0</td>\n",
       "    </tr>\n",
       "    <tr>\n",
       "      <th>Владельцы</th>\n",
       "      <td>34686</td>\n",
       "      <td>3</td>\n",
       "      <td>3 или более</td>\n",
       "      <td>15957</td>\n",
       "      <td>NaN</td>\n",
       "      <td>NaN</td>\n",
       "      <td>NaN</td>\n",
       "      <td>NaN</td>\n",
       "      <td>NaN</td>\n",
       "      <td>&lt;class 'str'&gt;</td>\n",
       "      <td>0</td>\n",
       "    </tr>\n",
       "    <tr>\n",
       "      <th>Владение</th>\n",
       "      <td>11995</td>\n",
       "      <td>275</td>\n",
       "      <td>1 год и 10 месяцев</td>\n",
       "      <td>209</td>\n",
       "      <td>NaN</td>\n",
       "      <td>NaN</td>\n",
       "      <td>NaN</td>\n",
       "      <td>NaN</td>\n",
       "      <td>NaN</td>\n",
       "      <td>&lt;class 'float'&gt;</td>\n",
       "      <td>22691</td>\n",
       "    </tr>\n",
       "    <tr>\n",
       "      <th>ПТС</th>\n",
       "      <td>34685</td>\n",
       "      <td>2</td>\n",
       "      <td>Оригинал</td>\n",
       "      <td>30098</td>\n",
       "      <td>NaN</td>\n",
       "      <td>NaN</td>\n",
       "      <td>NaN</td>\n",
       "      <td>NaN</td>\n",
       "      <td>NaN</td>\n",
       "      <td>&lt;class 'str'&gt;</td>\n",
       "      <td>1</td>\n",
       "    </tr>\n",
       "    <tr>\n",
       "      <th>Привод</th>\n",
       "      <td>34686</td>\n",
       "      <td>3</td>\n",
       "      <td>передний</td>\n",
       "      <td>15565</td>\n",
       "      <td>NaN</td>\n",
       "      <td>NaN</td>\n",
       "      <td>NaN</td>\n",
       "      <td>NaN</td>\n",
       "      <td>NaN</td>\n",
       "      <td>&lt;class 'str'&gt;</td>\n",
       "      <td>0</td>\n",
       "    </tr>\n",
       "    <tr>\n",
       "      <th>Руль</th>\n",
       "      <td>34686</td>\n",
       "      <td>2</td>\n",
       "      <td>Левый</td>\n",
       "      <td>33287</td>\n",
       "      <td>NaN</td>\n",
       "      <td>NaN</td>\n",
       "      <td>NaN</td>\n",
       "      <td>NaN</td>\n",
       "      <td>NaN</td>\n",
       "      <td>&lt;class 'str'&gt;</td>\n",
       "      <td>0</td>\n",
       "    </tr>\n",
       "    <tr>\n",
       "      <th>Состояние</th>\n",
       "      <td>34686</td>\n",
       "      <td>1</td>\n",
       "      <td>Не требует ремонта</td>\n",
       "      <td>34686</td>\n",
       "      <td>NaN</td>\n",
       "      <td>NaN</td>\n",
       "      <td>NaN</td>\n",
       "      <td>NaN</td>\n",
       "      <td>NaN</td>\n",
       "      <td>&lt;class 'str'&gt;</td>\n",
       "      <td>0</td>\n",
       "    </tr>\n",
       "    <tr>\n",
       "      <th>Таможня</th>\n",
       "      <td>34686</td>\n",
       "      <td>1</td>\n",
       "      <td>Растаможен</td>\n",
       "      <td>34686</td>\n",
       "      <td>NaN</td>\n",
       "      <td>NaN</td>\n",
       "      <td>NaN</td>\n",
       "      <td>NaN</td>\n",
       "      <td>NaN</td>\n",
       "      <td>&lt;class 'str'&gt;</td>\n",
       "      <td>0</td>\n",
       "    </tr>\n",
       "  </tbody>\n",
       "</table>\n",
       "</div>"
      ],
      "text/plain": [
       "                        count  unique  \\\n",
       "bodyType                34686      24   \n",
       "brand                   34686      12   \n",
       "car_url                 34686   34686   \n",
       "color                   34686      16   \n",
       "complectation_dict       6418    2364   \n",
       "description             34686   31732   \n",
       "engineDisplacement      34686      55   \n",
       "enginePower             34686     315   \n",
       "equipment_dict          24690   23705   \n",
       "fuelType                34686       5   \n",
       "image                   34686   34557   \n",
       "mileage              34686.00   11268   \n",
       "modelDate            34686.00      66   \n",
       "model_info              34686     954   \n",
       "model_name              34686     544   \n",
       "name                    34686    2780   \n",
       "numberOfDoors        34686.00       5   \n",
       "parsing_unixtime     34686.00   34686   \n",
       "priceCurrency           34686       1   \n",
       "productionDate       34686.00      69   \n",
       "sell_id              34686.00   34686   \n",
       "super_gen               34686    5890   \n",
       "vehicleConfiguration    34686     634   \n",
       "vehicleTransmission     34686       4   \n",
       "vendor                  34686       2   \n",
       "Владельцы               34686       3   \n",
       "Владение                11995     275   \n",
       "ПТС                     34685       2   \n",
       "Привод                  34686       3   \n",
       "Руль                    34686       2   \n",
       "Состояние               34686       1   \n",
       "Таможня                 34686       1   \n",
       "\n",
       "                                                                    top  \\\n",
       "bodyType                                                          седан   \n",
       "brand                                                               BMW   \n",
       "car_url               https://auto.ru/cars/used/sale/audi/100/101694...   \n",
       "color                                                            чёрный   \n",
       "complectation_dict    {\"id\":\"4562904\",\"name\":\"Elegance\",\"available_o...   \n",
       "description           Выгода до 82 000 руб. при обмене на Ваш автомо...   \n",
       "engineDisplacement                                              2.0 LTR   \n",
       "enginePower                                                     249 N12   \n",
       "equipment_dict                                         {\"leather\":true}   \n",
       "fuelType                                                         бензин   \n",
       "image                 https://avatars.mds.yandex.net/get-verba/21620...   \n",
       "mileage                                                       200000.00   \n",
       "modelDate                                                       2010.00   \n",
       "model_info            {\"code\":\"OCTAVIA\",\"name\":\"Octavia\",\"ru_name\":\"...   \n",
       "model_name                                                      OCTAVIA   \n",
       "name                                                  1.6 AT (110 л.с.)   \n",
       "numberOfDoors                                                      5.00   \n",
       "parsing_unixtime                                             1603107306   \n",
       "priceCurrency                                                       RUB   \n",
       "productionDate                                                  2012.00   \n",
       "sell_id                                                            2665   \n",
       "super_gen             {\"id\":\"6214876\",\"displacement\":1598,\"engine_ty...   \n",
       "vehicleConfiguration                      ALLROAD_5_DOORS AUTOMATIC 3.0   \n",
       "vehicleTransmission                                      автоматическая   \n",
       "vendor                                                         EUROPEAN   \n",
       "Владельцы                                                   3 или более   \n",
       "Владение                                             1 год и 10 месяцев   \n",
       "ПТС                                                            Оригинал   \n",
       "Привод                                                         передний   \n",
       "Руль                                                              Левый   \n",
       "Состояние                                            Не требует ремонта   \n",
       "Таможня                                                      Растаможен   \n",
       "\n",
       "                       freq          mean         std           min  \\\n",
       "bodyType              13147           NaN         NaN           NaN   \n",
       "brand                  4473           NaN         NaN           NaN   \n",
       "car_url                   1           NaN         NaN           NaN   \n",
       "color                 11010           NaN         NaN           NaN   \n",
       "complectation_dict       51           NaN         NaN           NaN   \n",
       "description             264           NaN         NaN           NaN   \n",
       "engineDisplacement     7391           NaN         NaN           NaN   \n",
       "enginePower            1708           NaN         NaN           NaN   \n",
       "equipment_dict          108           NaN         NaN           NaN   \n",
       "fuelType              28601           NaN         NaN           NaN   \n",
       "image                    13           NaN         NaN           NaN   \n",
       "mileage                 436     162009.77   100676.56          1.00   \n",
       "modelDate              2503       2007.07        7.42       1904.00   \n",
       "model_info             1404           NaN         NaN           NaN   \n",
       "model_name             1418           NaN         NaN           NaN   \n",
       "name                    631           NaN         NaN           NaN   \n",
       "numberOfDoors         18703          4.45        0.70          0.00   \n",
       "parsing_unixtime          1 1603286733.62   149307.06 1603107306.00   \n",
       "priceCurrency         34686           NaN         NaN           NaN   \n",
       "productionDate         2798       2009.26        7.05       1904.00   \n",
       "sell_id                   1 1098300150.88 19112247.59       2665.00   \n",
       "super_gen               193           NaN         NaN           NaN   \n",
       "vehicleConfiguration   2389           NaN         NaN           NaN   \n",
       "vehicleTransmission   19596           NaN         NaN           NaN   \n",
       "vendor                20682           NaN         NaN           NaN   \n",
       "Владельцы             15957           NaN         NaN           NaN   \n",
       "Владение                209           NaN         NaN           NaN   \n",
       "ПТС                   30098           NaN         NaN           NaN   \n",
       "Привод                15565           NaN         NaN           NaN   \n",
       "Руль                  33287           NaN         NaN           NaN   \n",
       "Состояние             34686           NaN         NaN           NaN   \n",
       "Таможня               34686           NaN         NaN           NaN   \n",
       "\n",
       "                               50%           max                   type    NaN  \n",
       "bodyType                       NaN           NaN          <class 'str'>      0  \n",
       "brand                          NaN           NaN          <class 'str'>      0  \n",
       "car_url                        NaN           NaN          <class 'str'>      0  \n",
       "color                          NaN           NaN          <class 'str'>      0  \n",
       "complectation_dict             NaN           NaN        <class 'float'>  28268  \n",
       "description                    NaN           NaN          <class 'str'>      0  \n",
       "engineDisplacement             NaN           NaN          <class 'str'>      0  \n",
       "enginePower                    NaN           NaN          <class 'str'>      0  \n",
       "equipment_dict                 NaN           NaN          <class 'str'>   9996  \n",
       "fuelType                       NaN           NaN          <class 'str'>      0  \n",
       "image                          NaN           NaN          <class 'str'>      0  \n",
       "mileage                  149779.50    1000000.00  <class 'numpy.int64'>      0  \n",
       "modelDate                  2008.00       2020.00  <class 'numpy.int64'>      0  \n",
       "model_info                     NaN           NaN          <class 'str'>      0  \n",
       "model_name                     NaN           NaN          <class 'str'>      0  \n",
       "name                           NaN           NaN          <class 'str'>      0  \n",
       "numberOfDoors                 5.00          5.00  <class 'numpy.int64'>      0  \n",
       "parsing_unixtime     1603254133.00 1603710264.00  <class 'numpy.int64'>      0  \n",
       "priceCurrency                  NaN           NaN          <class 'str'>      0  \n",
       "productionDate             2011.00       2020.00  <class 'numpy.int64'>      0  \n",
       "sell_id              1100910913.00 1101374610.00  <class 'numpy.int64'>      0  \n",
       "super_gen                      NaN           NaN          <class 'str'>      0  \n",
       "vehicleConfiguration           NaN           NaN          <class 'str'>      0  \n",
       "vehicleTransmission            NaN           NaN          <class 'str'>      0  \n",
       "vendor                         NaN           NaN          <class 'str'>      0  \n",
       "Владельцы                      NaN           NaN          <class 'str'>      0  \n",
       "Владение                       NaN           NaN        <class 'float'>  22691  \n",
       "ПТС                            NaN           NaN          <class 'str'>      1  \n",
       "Привод                         NaN           NaN          <class 'str'>      0  \n",
       "Руль                           NaN           NaN          <class 'str'>      0  \n",
       "Состояние                      NaN           NaN          <class 'str'>      0  \n",
       "Таможня                        NaN           NaN          <class 'str'>      0  "
      ]
     },
     "execution_count": 15,
     "metadata": {},
     "output_type": "execute_result"
    }
   ],
   "source": [
    "df_describe(test)"
   ]
  },
  {
   "cell_type": "code",
   "execution_count": 16,
   "metadata": {},
   "outputs": [
    {
     "data": {
      "text/html": [
       "<div>\n",
       "<style scoped>\n",
       "    .dataframe tbody tr th:only-of-type {\n",
       "        vertical-align: middle;\n",
       "    }\n",
       "\n",
       "    .dataframe tbody tr th {\n",
       "        vertical-align: top;\n",
       "    }\n",
       "\n",
       "    .dataframe thead th {\n",
       "        text-align: right;\n",
       "    }\n",
       "</style>\n",
       "<table border=\"1\" class=\"dataframe\">\n",
       "  <thead>\n",
       "    <tr style=\"text-align: right;\">\n",
       "      <th></th>\n",
       "      <th>count</th>\n",
       "      <th>unique</th>\n",
       "      <th>top</th>\n",
       "      <th>freq</th>\n",
       "      <th>mean</th>\n",
       "      <th>std</th>\n",
       "      <th>min</th>\n",
       "      <th>50%</th>\n",
       "      <th>max</th>\n",
       "      <th>type</th>\n",
       "      <th>NaN</th>\n",
       "    </tr>\n",
       "  </thead>\n",
       "  <tbody>\n",
       "    <tr>\n",
       "      <th>bodyType</th>\n",
       "      <td>89377</td>\n",
       "      <td>168</td>\n",
       "      <td>Внедорожник 5 дв.</td>\n",
       "      <td>31885</td>\n",
       "      <td>NaN</td>\n",
       "      <td>NaN</td>\n",
       "      <td>NaN</td>\n",
       "      <td>NaN</td>\n",
       "      <td>NaN</td>\n",
       "      <td>&lt;class 'str'&gt;</td>\n",
       "      <td>1</td>\n",
       "    </tr>\n",
       "    <tr>\n",
       "      <th>brand</th>\n",
       "      <td>89378</td>\n",
       "      <td>36</td>\n",
       "      <td>MERCEDES</td>\n",
       "      <td>8012</td>\n",
       "      <td>NaN</td>\n",
       "      <td>NaN</td>\n",
       "      <td>NaN</td>\n",
       "      <td>NaN</td>\n",
       "      <td>NaN</td>\n",
       "      <td>&lt;class 'str'&gt;</td>\n",
       "      <td>0</td>\n",
       "    </tr>\n",
       "    <tr>\n",
       "      <th>color</th>\n",
       "      <td>89378</td>\n",
       "      <td>16</td>\n",
       "      <td>040001</td>\n",
       "      <td>25212</td>\n",
       "      <td>NaN</td>\n",
       "      <td>NaN</td>\n",
       "      <td>NaN</td>\n",
       "      <td>NaN</td>\n",
       "      <td>NaN</td>\n",
       "      <td>&lt;class 'str'&gt;</td>\n",
       "      <td>0</td>\n",
       "    </tr>\n",
       "    <tr>\n",
       "      <th>fuelType</th>\n",
       "      <td>89378</td>\n",
       "      <td>6</td>\n",
       "      <td>бензин</td>\n",
       "      <td>75053</td>\n",
       "      <td>NaN</td>\n",
       "      <td>NaN</td>\n",
       "      <td>NaN</td>\n",
       "      <td>NaN</td>\n",
       "      <td>NaN</td>\n",
       "      <td>&lt;class 'str'&gt;</td>\n",
       "      <td>0</td>\n",
       "    </tr>\n",
       "    <tr>\n",
       "      <th>modelDate</th>\n",
       "      <td>89377.00</td>\n",
       "      <td>78</td>\n",
       "      <td>2006.00</td>\n",
       "      <td>6138</td>\n",
       "      <td>2008.54</td>\n",
       "      <td>7.42</td>\n",
       "      <td>1904.00</td>\n",
       "      <td>2009.00</td>\n",
       "      <td>2020.00</td>\n",
       "      <td>&lt;class 'numpy.float64'&gt;</td>\n",
       "      <td>1</td>\n",
       "    </tr>\n",
       "    <tr>\n",
       "      <th>name</th>\n",
       "      <td>89377</td>\n",
       "      <td>4484</td>\n",
       "      <td>2.0 AT (150 л.с.)</td>\n",
       "      <td>1610</td>\n",
       "      <td>NaN</td>\n",
       "      <td>NaN</td>\n",
       "      <td>NaN</td>\n",
       "      <td>NaN</td>\n",
       "      <td>NaN</td>\n",
       "      <td>&lt;class 'str'&gt;</td>\n",
       "      <td>1</td>\n",
       "    </tr>\n",
       "    <tr>\n",
       "      <th>numberOfDoors</th>\n",
       "      <td>89377.00</td>\n",
       "      <td>5</td>\n",
       "      <td>5.00</td>\n",
       "      <td>51625</td>\n",
       "      <td>4.51</td>\n",
       "      <td>0.65</td>\n",
       "      <td>0.00</td>\n",
       "      <td>5.00</td>\n",
       "      <td>5.00</td>\n",
       "      <td>&lt;class 'numpy.float64'&gt;</td>\n",
       "      <td>1</td>\n",
       "    </tr>\n",
       "    <tr>\n",
       "      <th>productionDate</th>\n",
       "      <td>89378.00</td>\n",
       "      <td>80</td>\n",
       "      <td>2020</td>\n",
       "      <td>12524</td>\n",
       "      <td>2010.83</td>\n",
       "      <td>7.02</td>\n",
       "      <td>1904.00</td>\n",
       "      <td>2011.00</td>\n",
       "      <td>2020.00</td>\n",
       "      <td>&lt;class 'numpy.int64'&gt;</td>\n",
       "      <td>0</td>\n",
       "    </tr>\n",
       "    <tr>\n",
       "      <th>vehicleConfiguration</th>\n",
       "      <td>89377</td>\n",
       "      <td>1860</td>\n",
       "      <td>SEDAN MECHANICAL 1.6</td>\n",
       "      <td>4166</td>\n",
       "      <td>NaN</td>\n",
       "      <td>NaN</td>\n",
       "      <td>NaN</td>\n",
       "      <td>NaN</td>\n",
       "      <td>NaN</td>\n",
       "      <td>&lt;class 'str'&gt;</td>\n",
       "      <td>1</td>\n",
       "    </tr>\n",
       "    <tr>\n",
       "      <th>vehicleTransmission</th>\n",
       "      <td>89377</td>\n",
       "      <td>4</td>\n",
       "      <td>AUTOMATIC</td>\n",
       "      <td>49218</td>\n",
       "      <td>NaN</td>\n",
       "      <td>NaN</td>\n",
       "      <td>NaN</td>\n",
       "      <td>NaN</td>\n",
       "      <td>NaN</td>\n",
       "      <td>&lt;class 'str'&gt;</td>\n",
       "      <td>1</td>\n",
       "    </tr>\n",
       "    <tr>\n",
       "      <th>engineDisplacement</th>\n",
       "      <td>89377</td>\n",
       "      <td>534</td>\n",
       "      <td>1.6</td>\n",
       "      <td>17032</td>\n",
       "      <td>NaN</td>\n",
       "      <td>NaN</td>\n",
       "      <td>NaN</td>\n",
       "      <td>NaN</td>\n",
       "      <td>NaN</td>\n",
       "      <td>&lt;class 'str'&gt;</td>\n",
       "      <td>1</td>\n",
       "    </tr>\n",
       "    <tr>\n",
       "      <th>enginePower</th>\n",
       "      <td>89377.00</td>\n",
       "      <td>396</td>\n",
       "      <td>150.00</td>\n",
       "      <td>7058</td>\n",
       "      <td>171.23</td>\n",
       "      <td>83.53</td>\n",
       "      <td>11.00</td>\n",
       "      <td>150.00</td>\n",
       "      <td>800.00</td>\n",
       "      <td>&lt;class 'numpy.float64'&gt;</td>\n",
       "      <td>1</td>\n",
       "    </tr>\n",
       "    <tr>\n",
       "      <th>description</th>\n",
       "      <td>86124</td>\n",
       "      <td>77568</td>\n",
       "      <td>РОЛЬФ Северо-Запад - это первый мегамолл автом...</td>\n",
       "      <td>246</td>\n",
       "      <td>NaN</td>\n",
       "      <td>NaN</td>\n",
       "      <td>NaN</td>\n",
       "      <td>NaN</td>\n",
       "      <td>NaN</td>\n",
       "      <td>&lt;class 'str'&gt;</td>\n",
       "      <td>3254</td>\n",
       "    </tr>\n",
       "    <tr>\n",
       "      <th>mileage</th>\n",
       "      <td>89378.00</td>\n",
       "      <td>17403</td>\n",
       "      <td>0</td>\n",
       "      <td>13588</td>\n",
       "      <td>134828.81</td>\n",
       "      <td>102979.78</td>\n",
       "      <td>0.00</td>\n",
       "      <td>130000.00</td>\n",
       "      <td>1000000.00</td>\n",
       "      <td>&lt;class 'numpy.int64'&gt;</td>\n",
       "      <td>0</td>\n",
       "    </tr>\n",
       "    <tr>\n",
       "      <th>Комплектация</th>\n",
       "      <td>89378</td>\n",
       "      <td>5839</td>\n",
       "      <td>{'id': '0'}</td>\n",
       "      <td>59130</td>\n",
       "      <td>NaN</td>\n",
       "      <td>NaN</td>\n",
       "      <td>NaN</td>\n",
       "      <td>NaN</td>\n",
       "      <td>NaN</td>\n",
       "      <td>&lt;class 'str'&gt;</td>\n",
       "      <td>0</td>\n",
       "    </tr>\n",
       "    <tr>\n",
       "      <th>Привод</th>\n",
       "      <td>89377</td>\n",
       "      <td>3</td>\n",
       "      <td>передний</td>\n",
       "      <td>47315</td>\n",
       "      <td>NaN</td>\n",
       "      <td>NaN</td>\n",
       "      <td>NaN</td>\n",
       "      <td>NaN</td>\n",
       "      <td>NaN</td>\n",
       "      <td>&lt;class 'str'&gt;</td>\n",
       "      <td>1</td>\n",
       "    </tr>\n",
       "    <tr>\n",
       "      <th>Руль</th>\n",
       "      <td>89378</td>\n",
       "      <td>2</td>\n",
       "      <td>LEFT</td>\n",
       "      <td>87589</td>\n",
       "      <td>NaN</td>\n",
       "      <td>NaN</td>\n",
       "      <td>NaN</td>\n",
       "      <td>NaN</td>\n",
       "      <td>NaN</td>\n",
       "      <td>&lt;class 'str'&gt;</td>\n",
       "      <td>0</td>\n",
       "    </tr>\n",
       "    <tr>\n",
       "      <th>Владельцы</th>\n",
       "      <td>75790.00</td>\n",
       "      <td>3</td>\n",
       "      <td>3.00</td>\n",
       "      <td>36248</td>\n",
       "      <td>2.23</td>\n",
       "      <td>0.82</td>\n",
       "      <td>1.00</td>\n",
       "      <td>2.00</td>\n",
       "      <td>3.00</td>\n",
       "      <td>&lt;class 'numpy.float64'&gt;</td>\n",
       "      <td>13588</td>\n",
       "    </tr>\n",
       "    <tr>\n",
       "      <th>ПТС</th>\n",
       "      <td>89017</td>\n",
       "      <td>2</td>\n",
       "      <td>ORIGINAL</td>\n",
       "      <td>78597</td>\n",
       "      <td>NaN</td>\n",
       "      <td>NaN</td>\n",
       "      <td>NaN</td>\n",
       "      <td>NaN</td>\n",
       "      <td>NaN</td>\n",
       "      <td>&lt;class 'str'&gt;</td>\n",
       "      <td>361</td>\n",
       "    </tr>\n",
       "    <tr>\n",
       "      <th>Таможня</th>\n",
       "      <td>89378</td>\n",
       "      <td>1</td>\n",
       "      <td>True</td>\n",
       "      <td>89378</td>\n",
       "      <td>NaN</td>\n",
       "      <td>NaN</td>\n",
       "      <td>NaN</td>\n",
       "      <td>NaN</td>\n",
       "      <td>NaN</td>\n",
       "      <td>&lt;class 'numpy.bool_'&gt;</td>\n",
       "      <td>0</td>\n",
       "    </tr>\n",
       "    <tr>\n",
       "      <th>Владение</th>\n",
       "      <td>29201</td>\n",
       "      <td>290</td>\n",
       "      <td>{'year': 2018, 'month': 10}</td>\n",
       "      <td>497</td>\n",
       "      <td>NaN</td>\n",
       "      <td>NaN</td>\n",
       "      <td>NaN</td>\n",
       "      <td>NaN</td>\n",
       "      <td>NaN</td>\n",
       "      <td>&lt;class 'float'&gt;</td>\n",
       "      <td>60177</td>\n",
       "    </tr>\n",
       "    <tr>\n",
       "      <th>price</th>\n",
       "      <td>88968.00</td>\n",
       "      <td>8168</td>\n",
       "      <td>450000.00</td>\n",
       "      <td>1212</td>\n",
       "      <td>1294586.36</td>\n",
       "      <td>1950410.47</td>\n",
       "      <td>16000.00</td>\n",
       "      <td>650000.00</td>\n",
       "      <td>99000000.00</td>\n",
       "      <td>&lt;class 'numpy.float64'&gt;</td>\n",
       "      <td>410</td>\n",
       "    </tr>\n",
       "    <tr>\n",
       "      <th>start_date</th>\n",
       "      <td>89378</td>\n",
       "      <td>75680</td>\n",
       "      <td>2020-09-01T10:01:11Z</td>\n",
       "      <td>93</td>\n",
       "      <td>NaN</td>\n",
       "      <td>NaN</td>\n",
       "      <td>NaN</td>\n",
       "      <td>NaN</td>\n",
       "      <td>NaN</td>\n",
       "      <td>&lt;class 'str'&gt;</td>\n",
       "      <td>0</td>\n",
       "    </tr>\n",
       "    <tr>\n",
       "      <th>model</th>\n",
       "      <td>89378</td>\n",
       "      <td>1086</td>\n",
       "      <td>FOCUS</td>\n",
       "      <td>2467</td>\n",
       "      <td>NaN</td>\n",
       "      <td>NaN</td>\n",
       "      <td>NaN</td>\n",
       "      <td>NaN</td>\n",
       "      <td>NaN</td>\n",
       "      <td>&lt;class 'str'&gt;</td>\n",
       "      <td>0</td>\n",
       "    </tr>\n",
       "  </tbody>\n",
       "</table>\n",
       "</div>"
      ],
      "text/plain": [
       "                        count  unique  \\\n",
       "bodyType                89377     168   \n",
       "brand                   89378      36   \n",
       "color                   89378      16   \n",
       "fuelType                89378       6   \n",
       "modelDate            89377.00      78   \n",
       "name                    89377    4484   \n",
       "numberOfDoors        89377.00       5   \n",
       "productionDate       89378.00      80   \n",
       "vehicleConfiguration    89377    1860   \n",
       "vehicleTransmission     89377       4   \n",
       "engineDisplacement      89377     534   \n",
       "enginePower          89377.00     396   \n",
       "description             86124   77568   \n",
       "mileage              89378.00   17403   \n",
       "Комплектация            89378    5839   \n",
       "Привод                  89377       3   \n",
       "Руль                    89378       2   \n",
       "Владельцы            75790.00       3   \n",
       "ПТС                     89017       2   \n",
       "Таможня                 89378       1   \n",
       "Владение                29201     290   \n",
       "price                88968.00    8168   \n",
       "start_date              89378   75680   \n",
       "model                   89378    1086   \n",
       "\n",
       "                                                                    top  \\\n",
       "bodyType                                              Внедорожник 5 дв.   \n",
       "brand                                                          MERCEDES   \n",
       "color                                                            040001   \n",
       "fuelType                                                         бензин   \n",
       "modelDate                                                       2006.00   \n",
       "name                                                  2.0 AT (150 л.с.)   \n",
       "numberOfDoors                                                      5.00   \n",
       "productionDate                                                     2020   \n",
       "vehicleConfiguration                               SEDAN MECHANICAL 1.6   \n",
       "vehicleTransmission                                           AUTOMATIC   \n",
       "engineDisplacement                                                  1.6   \n",
       "enginePower                                                      150.00   \n",
       "description           РОЛЬФ Северо-Запад - это первый мегамолл автом...   \n",
       "mileage                                                               0   \n",
       "Комплектация                                                {'id': '0'}   \n",
       "Привод                                                         передний   \n",
       "Руль                                                               LEFT   \n",
       "Владельцы                                                          3.00   \n",
       "ПТС                                                            ORIGINAL   \n",
       "Таможня                                                            True   \n",
       "Владение                                    {'year': 2018, 'month': 10}   \n",
       "price                                                         450000.00   \n",
       "start_date                                         2020-09-01T10:01:11Z   \n",
       "model                                                             FOCUS   \n",
       "\n",
       "                       freq       mean        std      min       50%  \\\n",
       "bodyType              31885        NaN        NaN      NaN       NaN   \n",
       "brand                  8012        NaN        NaN      NaN       NaN   \n",
       "color                 25212        NaN        NaN      NaN       NaN   \n",
       "fuelType              75053        NaN        NaN      NaN       NaN   \n",
       "modelDate              6138    2008.54       7.42  1904.00   2009.00   \n",
       "name                   1610        NaN        NaN      NaN       NaN   \n",
       "numberOfDoors         51625       4.51       0.65     0.00      5.00   \n",
       "productionDate        12524    2010.83       7.02  1904.00   2011.00   \n",
       "vehicleConfiguration   4166        NaN        NaN      NaN       NaN   \n",
       "vehicleTransmission   49218        NaN        NaN      NaN       NaN   \n",
       "engineDisplacement    17032        NaN        NaN      NaN       NaN   \n",
       "enginePower            7058     171.23      83.53    11.00    150.00   \n",
       "description             246        NaN        NaN      NaN       NaN   \n",
       "mileage               13588  134828.81  102979.78     0.00 130000.00   \n",
       "Комплектация          59130        NaN        NaN      NaN       NaN   \n",
       "Привод                47315        NaN        NaN      NaN       NaN   \n",
       "Руль                  87589        NaN        NaN      NaN       NaN   \n",
       "Владельцы             36248       2.23       0.82     1.00      2.00   \n",
       "ПТС                   78597        NaN        NaN      NaN       NaN   \n",
       "Таможня               89378        NaN        NaN      NaN       NaN   \n",
       "Владение                497        NaN        NaN      NaN       NaN   \n",
       "price                  1212 1294586.36 1950410.47 16000.00 650000.00   \n",
       "start_date               93        NaN        NaN      NaN       NaN   \n",
       "model                  2467        NaN        NaN      NaN       NaN   \n",
       "\n",
       "                             max                     type    NaN  \n",
       "bodyType                     NaN            <class 'str'>      1  \n",
       "brand                        NaN            <class 'str'>      0  \n",
       "color                        NaN            <class 'str'>      0  \n",
       "fuelType                     NaN            <class 'str'>      0  \n",
       "modelDate                2020.00  <class 'numpy.float64'>      1  \n",
       "name                         NaN            <class 'str'>      1  \n",
       "numberOfDoors               5.00  <class 'numpy.float64'>      1  \n",
       "productionDate           2020.00    <class 'numpy.int64'>      0  \n",
       "vehicleConfiguration         NaN            <class 'str'>      1  \n",
       "vehicleTransmission          NaN            <class 'str'>      1  \n",
       "engineDisplacement           NaN            <class 'str'>      1  \n",
       "enginePower               800.00  <class 'numpy.float64'>      1  \n",
       "description                  NaN            <class 'str'>   3254  \n",
       "mileage               1000000.00    <class 'numpy.int64'>      0  \n",
       "Комплектация                 NaN            <class 'str'>      0  \n",
       "Привод                       NaN            <class 'str'>      1  \n",
       "Руль                         NaN            <class 'str'>      0  \n",
       "Владельцы                   3.00  <class 'numpy.float64'>  13588  \n",
       "ПТС                          NaN            <class 'str'>    361  \n",
       "Таможня                      NaN    <class 'numpy.bool_'>      0  \n",
       "Владение                     NaN          <class 'float'>  60177  \n",
       "price                99000000.00  <class 'numpy.float64'>    410  \n",
       "start_date                   NaN            <class 'str'>      0  \n",
       "model                        NaN            <class 'str'>      0  "
      ]
     },
     "execution_count": 16,
     "metadata": {},
     "output_type": "execute_result"
    }
   ],
   "source": [
    "df_describe(train.drop(['hidden','Состояние'], axis=1))"
   ]
  },
  {
   "cell_type": "code",
   "execution_count": 17,
   "metadata": {
    "execution": {
     "iopub.execute_input": "2022-02-18T07:37:20.975376Z",
     "iopub.status.busy": "2022-02-18T07:37:20.974961Z",
     "iopub.status.idle": "2022-02-18T07:37:21.067329Z",
     "shell.execute_reply": "2022-02-18T07:37:21.066363Z",
     "shell.execute_reply.started": "2022-02-18T07:37:20.975329Z"
    },
    "papermill": {
     "duration": 0.22352,
     "end_time": "2020-10-26T12:47:02.502166",
     "exception": false,
     "start_time": "2020-10-26T12:47:02.278646",
     "status": "completed"
    },
    "tags": []
   },
   "outputs": [
    {
     "data": {
      "text/html": [
       "<div>\n",
       "<style scoped>\n",
       "    .dataframe tbody tr th:only-of-type {\n",
       "        vertical-align: middle;\n",
       "    }\n",
       "\n",
       "    .dataframe tbody tr th {\n",
       "        vertical-align: top;\n",
       "    }\n",
       "\n",
       "    .dataframe thead th {\n",
       "        text-align: right;\n",
       "    }\n",
       "</style>\n",
       "<table border=\"1\" class=\"dataframe\">\n",
       "  <thead>\n",
       "    <tr style=\"text-align: right;\">\n",
       "      <th></th>\n",
       "      <th>count</th>\n",
       "      <th>unique</th>\n",
       "      <th>top</th>\n",
       "      <th>freq</th>\n",
       "      <th>mean</th>\n",
       "      <th>std</th>\n",
       "      <th>min</th>\n",
       "      <th>50%</th>\n",
       "      <th>max</th>\n",
       "      <th>type</th>\n",
       "      <th>NaN</th>\n",
       "    </tr>\n",
       "  </thead>\n",
       "  <tbody>\n",
       "    <tr>\n",
       "      <th>Unnamed: 0</th>\n",
       "      <td>3666.00</td>\n",
       "      <td>3666</td>\n",
       "      <td>0</td>\n",
       "      <td>1</td>\n",
       "      <td>1832.50</td>\n",
       "      <td>1058.43</td>\n",
       "      <td>0.00</td>\n",
       "      <td>1832.50</td>\n",
       "      <td>3665.00</td>\n",
       "      <td>&lt;class 'numpy.int64'&gt;</td>\n",
       "      <td>0</td>\n",
       "    </tr>\n",
       "    <tr>\n",
       "      <th>brand</th>\n",
       "      <td>3643</td>\n",
       "      <td>57</td>\n",
       "      <td>Kia</td>\n",
       "      <td>831</td>\n",
       "      <td>NaN</td>\n",
       "      <td>NaN</td>\n",
       "      <td>NaN</td>\n",
       "      <td>NaN</td>\n",
       "      <td>NaN</td>\n",
       "      <td>&lt;class 'str'&gt;</td>\n",
       "      <td>23</td>\n",
       "    </tr>\n",
       "    <tr>\n",
       "      <th>model_name</th>\n",
       "      <td>3643</td>\n",
       "      <td>780</td>\n",
       "      <td>Hyundai Solaris II Рестайлинг</td>\n",
       "      <td>347</td>\n",
       "      <td>NaN</td>\n",
       "      <td>NaN</td>\n",
       "      <td>NaN</td>\n",
       "      <td>NaN</td>\n",
       "      <td>NaN</td>\n",
       "      <td>&lt;class 'str'&gt;</td>\n",
       "      <td>23</td>\n",
       "    </tr>\n",
       "    <tr>\n",
       "      <th>bodyType</th>\n",
       "      <td>3643</td>\n",
       "      <td>21</td>\n",
       "      <td>внедорожник 5 дв.</td>\n",
       "      <td>1139</td>\n",
       "      <td>NaN</td>\n",
       "      <td>NaN</td>\n",
       "      <td>NaN</td>\n",
       "      <td>NaN</td>\n",
       "      <td>NaN</td>\n",
       "      <td>&lt;class 'str'&gt;</td>\n",
       "      <td>23</td>\n",
       "    </tr>\n",
       "    <tr>\n",
       "      <th>color</th>\n",
       "      <td>3643</td>\n",
       "      <td>25</td>\n",
       "      <td>чёрный</td>\n",
       "      <td>643</td>\n",
       "      <td>NaN</td>\n",
       "      <td>NaN</td>\n",
       "      <td>NaN</td>\n",
       "      <td>NaN</td>\n",
       "      <td>NaN</td>\n",
       "      <td>&lt;class 'str'&gt;</td>\n",
       "      <td>23</td>\n",
       "    </tr>\n",
       "    <tr>\n",
       "      <th>engineDisplacement</th>\n",
       "      <td>3643</td>\n",
       "      <td>51</td>\n",
       "      <td>1.6</td>\n",
       "      <td>1535</td>\n",
       "      <td>NaN</td>\n",
       "      <td>NaN</td>\n",
       "      <td>NaN</td>\n",
       "      <td>NaN</td>\n",
       "      <td>NaN</td>\n",
       "      <td>&lt;class 'str'&gt;</td>\n",
       "      <td>23</td>\n",
       "    </tr>\n",
       "    <tr>\n",
       "      <th>enginePower</th>\n",
       "      <td>3666.00</td>\n",
       "      <td>204</td>\n",
       "      <td>123.00</td>\n",
       "      <td>960</td>\n",
       "      <td>160.84</td>\n",
       "      <td>74.36</td>\n",
       "      <td>33.00</td>\n",
       "      <td>140.00</td>\n",
       "      <td>632.00</td>\n",
       "      <td>&lt;class 'numpy.int64'&gt;</td>\n",
       "      <td>0</td>\n",
       "    </tr>\n",
       "    <tr>\n",
       "      <th>fuelType</th>\n",
       "      <td>3643</td>\n",
       "      <td>7</td>\n",
       "      <td>Бензин</td>\n",
       "      <td>1979</td>\n",
       "      <td>NaN</td>\n",
       "      <td>NaN</td>\n",
       "      <td>NaN</td>\n",
       "      <td>NaN</td>\n",
       "      <td>NaN</td>\n",
       "      <td>&lt;class 'str'&gt;</td>\n",
       "      <td>23</td>\n",
       "    </tr>\n",
       "    <tr>\n",
       "      <th>mileage</th>\n",
       "      <td>2485</td>\n",
       "      <td>1431</td>\n",
       "      <td>142000</td>\n",
       "      <td>13</td>\n",
       "      <td>NaN</td>\n",
       "      <td>NaN</td>\n",
       "      <td>NaN</td>\n",
       "      <td>NaN</td>\n",
       "      <td>NaN</td>\n",
       "      <td>&lt;class 'str'&gt;</td>\n",
       "      <td>1181</td>\n",
       "    </tr>\n",
       "    <tr>\n",
       "      <th>productionDate</th>\n",
       "      <td>2485.00</td>\n",
       "      <td>31</td>\n",
       "      <td>2018.00</td>\n",
       "      <td>243</td>\n",
       "      <td>2014.40</td>\n",
       "      <td>4.93</td>\n",
       "      <td>1988.00</td>\n",
       "      <td>2015.00</td>\n",
       "      <td>2022.00</td>\n",
       "      <td>&lt;class 'numpy.float64'&gt;</td>\n",
       "      <td>1181</td>\n",
       "    </tr>\n",
       "    <tr>\n",
       "      <th>vehicleTransmission</th>\n",
       "      <td>3643</td>\n",
       "      <td>15</td>\n",
       "      <td>автоматическая</td>\n",
       "      <td>1449</td>\n",
       "      <td>NaN</td>\n",
       "      <td>NaN</td>\n",
       "      <td>NaN</td>\n",
       "      <td>NaN</td>\n",
       "      <td>NaN</td>\n",
       "      <td>&lt;class 'str'&gt;</td>\n",
       "      <td>23</td>\n",
       "    </tr>\n",
       "    <tr>\n",
       "      <th>owners</th>\n",
       "      <td>2485</td>\n",
       "      <td>8</td>\n",
       "      <td>1 владелец</td>\n",
       "      <td>1194</td>\n",
       "      <td>NaN</td>\n",
       "      <td>NaN</td>\n",
       "      <td>NaN</td>\n",
       "      <td>NaN</td>\n",
       "      <td>NaN</td>\n",
       "      <td>&lt;class 'str'&gt;</td>\n",
       "      <td>1181</td>\n",
       "    </tr>\n",
       "    <tr>\n",
       "      <th>pts</th>\n",
       "      <td>2485</td>\n",
       "      <td>33</td>\n",
       "      <td>Оригинал</td>\n",
       "      <td>2256</td>\n",
       "      <td>NaN</td>\n",
       "      <td>NaN</td>\n",
       "      <td>NaN</td>\n",
       "      <td>NaN</td>\n",
       "      <td>NaN</td>\n",
       "      <td>&lt;class 'str'&gt;</td>\n",
       "      <td>1181</td>\n",
       "    </tr>\n",
       "    <tr>\n",
       "      <th>wd</th>\n",
       "      <td>3643</td>\n",
       "      <td>19</td>\n",
       "      <td>передний</td>\n",
       "      <td>1207</td>\n",
       "      <td>NaN</td>\n",
       "      <td>NaN</td>\n",
       "      <td>NaN</td>\n",
       "      <td>NaN</td>\n",
       "      <td>NaN</td>\n",
       "      <td>&lt;class 'str'&gt;</td>\n",
       "      <td>23</td>\n",
       "    </tr>\n",
       "    <tr>\n",
       "      <th>wheel</th>\n",
       "      <td>2485</td>\n",
       "      <td>7</td>\n",
       "      <td>Левый</td>\n",
       "      <td>2311</td>\n",
       "      <td>NaN</td>\n",
       "      <td>NaN</td>\n",
       "      <td>NaN</td>\n",
       "      <td>NaN</td>\n",
       "      <td>NaN</td>\n",
       "      <td>&lt;class 'str'&gt;</td>\n",
       "      <td>1181</td>\n",
       "    </tr>\n",
       "    <tr>\n",
       "      <th>state</th>\n",
       "      <td>2485</td>\n",
       "      <td>7</td>\n",
       "      <td>Не требует ремонта</td>\n",
       "      <td>2319</td>\n",
       "      <td>NaN</td>\n",
       "      <td>NaN</td>\n",
       "      <td>NaN</td>\n",
       "      <td>NaN</td>\n",
       "      <td>NaN</td>\n",
       "      <td>&lt;class 'str'&gt;</td>\n",
       "      <td>1181</td>\n",
       "    </tr>\n",
       "    <tr>\n",
       "      <th>tax</th>\n",
       "      <td>3643</td>\n",
       "      <td>245</td>\n",
       "      <td>3075</td>\n",
       "      <td>877</td>\n",
       "      <td>NaN</td>\n",
       "      <td>NaN</td>\n",
       "      <td>NaN</td>\n",
       "      <td>NaN</td>\n",
       "      <td>NaN</td>\n",
       "      <td>&lt;class 'str'&gt;</td>\n",
       "      <td>23</td>\n",
       "    </tr>\n",
       "    <tr>\n",
       "      <th>customs</th>\n",
       "      <td>2485</td>\n",
       "      <td>145</td>\n",
       "      <td>Растаможен</td>\n",
       "      <td>2095</td>\n",
       "      <td>NaN</td>\n",
       "      <td>NaN</td>\n",
       "      <td>NaN</td>\n",
       "      <td>NaN</td>\n",
       "      <td>NaN</td>\n",
       "      <td>&lt;class 'str'&gt;</td>\n",
       "      <td>1181</td>\n",
       "    </tr>\n",
       "    <tr>\n",
       "      <th>price</th>\n",
       "      <td>3508</td>\n",
       "      <td>1581</td>\n",
       "      <td>2129900₽</td>\n",
       "      <td>17</td>\n",
       "      <td>NaN</td>\n",
       "      <td>NaN</td>\n",
       "      <td>NaN</td>\n",
       "      <td>NaN</td>\n",
       "      <td>NaN</td>\n",
       "      <td>&lt;class 'str'&gt;</td>\n",
       "      <td>158</td>\n",
       "    </tr>\n",
       "  </tbody>\n",
       "</table>\n",
       "</div>"
      ],
      "text/plain": [
       "                      count  unique                            top  freq  \\\n",
       "Unnamed: 0          3666.00    3666                              0     1   \n",
       "brand                  3643      57                            Kia   831   \n",
       "model_name             3643     780  Hyundai Solaris II Рестайлинг   347   \n",
       "bodyType               3643      21              внедорожник 5 дв.  1139   \n",
       "color                  3643      25                         чёрный   643   \n",
       "engineDisplacement     3643      51                            1.6  1535   \n",
       "enginePower         3666.00     204                         123.00   960   \n",
       "fuelType               3643       7                         Бензин  1979   \n",
       "mileage                2485    1431                         142000    13   \n",
       "productionDate      2485.00      31                        2018.00   243   \n",
       "vehicleTransmission    3643      15                 автоматическая  1449   \n",
       "owners                 2485       8                     1 владелец  1194   \n",
       "pts                    2485      33                       Оригинал  2256   \n",
       "wd                     3643      19                       передний  1207   \n",
       "wheel                  2485       7                          Левый  2311   \n",
       "state                  2485       7             Не требует ремонта  2319   \n",
       "tax                    3643     245                           3075   877   \n",
       "customs                2485     145                     Растаможен  2095   \n",
       "price                  3508    1581                       2129900₽    17   \n",
       "\n",
       "                       mean     std     min     50%     max  \\\n",
       "Unnamed: 0          1832.50 1058.43    0.00 1832.50 3665.00   \n",
       "brand                   NaN     NaN     NaN     NaN     NaN   \n",
       "model_name              NaN     NaN     NaN     NaN     NaN   \n",
       "bodyType                NaN     NaN     NaN     NaN     NaN   \n",
       "color                   NaN     NaN     NaN     NaN     NaN   \n",
       "engineDisplacement      NaN     NaN     NaN     NaN     NaN   \n",
       "enginePower          160.84   74.36   33.00  140.00  632.00   \n",
       "fuelType                NaN     NaN     NaN     NaN     NaN   \n",
       "mileage                 NaN     NaN     NaN     NaN     NaN   \n",
       "productionDate      2014.40    4.93 1988.00 2015.00 2022.00   \n",
       "vehicleTransmission     NaN     NaN     NaN     NaN     NaN   \n",
       "owners                  NaN     NaN     NaN     NaN     NaN   \n",
       "pts                     NaN     NaN     NaN     NaN     NaN   \n",
       "wd                      NaN     NaN     NaN     NaN     NaN   \n",
       "wheel                   NaN     NaN     NaN     NaN     NaN   \n",
       "state                   NaN     NaN     NaN     NaN     NaN   \n",
       "tax                     NaN     NaN     NaN     NaN     NaN   \n",
       "customs                 NaN     NaN     NaN     NaN     NaN   \n",
       "price                   NaN     NaN     NaN     NaN     NaN   \n",
       "\n",
       "                                        type   NaN  \n",
       "Unnamed: 0             <class 'numpy.int64'>     0  \n",
       "brand                          <class 'str'>    23  \n",
       "model_name                     <class 'str'>    23  \n",
       "bodyType                       <class 'str'>    23  \n",
       "color                          <class 'str'>    23  \n",
       "engineDisplacement             <class 'str'>    23  \n",
       "enginePower            <class 'numpy.int64'>     0  \n",
       "fuelType                       <class 'str'>    23  \n",
       "mileage                        <class 'str'>  1181  \n",
       "productionDate       <class 'numpy.float64'>  1181  \n",
       "vehicleTransmission            <class 'str'>    23  \n",
       "owners                         <class 'str'>  1181  \n",
       "pts                            <class 'str'>  1181  \n",
       "wd                             <class 'str'>    23  \n",
       "wheel                          <class 'str'>  1181  \n",
       "state                          <class 'str'>  1181  \n",
       "tax                            <class 'str'>    23  \n",
       "customs                        <class 'str'>  1181  \n",
       "price                          <class 'str'>   158  "
      ]
     },
     "execution_count": 17,
     "metadata": {},
     "output_type": "execute_result"
    }
   ],
   "source": [
    "df_describe(train_2022)"
   ]
  },
  {
   "cell_type": "markdown",
   "metadata": {},
   "source": [
    "## Очистка данных"
   ]
  },
  {
   "cell_type": "markdown",
   "metadata": {},
   "source": [
    "Фомируем списки числовых, категориальных и бинарных признаков."
   ]
  },
  {
   "cell_type": "code",
   "execution_count": 18,
   "metadata": {},
   "outputs": [],
   "source": [
    "num_cols = []\n",
    "cat_cols = []\n",
    "bin_cols = []"
   ]
  },
  {
   "cell_type": "markdown",
   "metadata": {},
   "source": [
    "### bodyType"
   ]
  },
  {
   "cell_type": "code",
   "execution_count": 19,
   "metadata": {},
   "outputs": [
    {
     "data": {
      "text/plain": [
       "седан                      13147\n",
       "внедорожник 5 дв.          12228\n",
       "лифтбек                     2232\n",
       "хэтчбек 5 дв.               2124\n",
       "универсал 5 дв.             1276\n",
       "минивэн                      995\n",
       "купе                         824\n",
       "компактвэн                   489\n",
       "хэтчбек 3 дв.                485\n",
       "пикап двойная кабина         280\n",
       "купе-хардтоп                 158\n",
       "внедорожник 3 дв.            115\n",
       "родстер                       99\n",
       "фургон                        97\n",
       "кабриолет                     90\n",
       "седан-хардтоп                 12\n",
       "микровэн                       7\n",
       "лимузин                        6\n",
       "седан 2 дв.                    6\n",
       "пикап полуторная кабина        5\n",
       "пикап одинарная кабина         5\n",
       "внедорожник открытый           3\n",
       "тарга                          2\n",
       "фастбек                        1\n",
       "Name: bodyType, dtype: int64"
      ]
     },
     "execution_count": 19,
     "metadata": {},
     "output_type": "execute_result"
    }
   ],
   "source": [
    "test.bodyType.value_counts()"
   ]
  },
  {
   "cell_type": "markdown",
   "metadata": {},
   "source": [
    "В данных по кузову присутствует количество дверей. В колонке numberOfDoors пропусков нет, поэтому здесь данная информация избыточна.\n",
    "\n",
    "Удалим разделение кузовов по количеству дверей, объединив купе-хардтоп с купе, седан-хардтоп с седаном, хэтчбек 3 дв. с 5дв и фастбеком."
   ]
  },
  {
   "cell_type": "code",
   "execution_count": 20,
   "metadata": {},
   "outputs": [],
   "source": [
    "test.bodyType = test.bodyType.astype('str').apply(\n",
    "    lambda x: x.split(' ', 1)[0].lower())"
   ]
  },
  {
   "cell_type": "code",
   "execution_count": 21,
   "metadata": {},
   "outputs": [],
   "source": [
    "test.bodyType = test.bodyType.replace('седан-хардтоп', 'седан')\n",
    "test.bodyType = test.bodyType.replace('купе-хардтоп', 'купе')\n",
    "test.bodyType = test.bodyType.replace('фастбек', 'хэтчбек')"
   ]
  },
  {
   "cell_type": "code",
   "execution_count": 22,
   "metadata": {},
   "outputs": [
    {
     "data": {
      "text/plain": [
       "0"
      ]
     },
     "execution_count": 22,
     "metadata": {},
     "output_type": "execute_result"
    }
   ],
   "source": [
    "test.bodyType.isna().sum()"
   ]
  },
  {
   "cell_type": "code",
   "execution_count": 23,
   "metadata": {},
   "outputs": [
    {
     "data": {
      "text/plain": [
       "Внедорожник 5 дв.                    31885\n",
       "Седан                                30593\n",
       "Хэтчбек 5 дв.                         8668\n",
       "Универсал 5 дв.                       3385\n",
       "Лифтбек                               3121\n",
       "                                     ...  \n",
       "Минивэн Emina                            1\n",
       "Пикап Двойная кабина Crew Cab TRX        1\n",
       "Универсал 5 дв. California               1\n",
       "Седан SRT                                1\n",
       "Седан 120                                1\n",
       "Name: bodyType, Length: 168, dtype: int64"
      ]
     },
     "execution_count": 23,
     "metadata": {},
     "output_type": "execute_result"
    }
   ],
   "source": [
    "train.bodyType.value_counts()"
   ]
  },
  {
   "cell_type": "code",
   "execution_count": 24,
   "metadata": {},
   "outputs": [],
   "source": [
    "train.bodyType = train.bodyType.astype('str').apply(\n",
    "    lambda x: x.split(' ', 1)[0].lower())"
   ]
  },
  {
   "cell_type": "code",
   "execution_count": 25,
   "metadata": {},
   "outputs": [],
   "source": [
    "train.bodyType = train.bodyType.replace('седан-хардтоп', 'седан')\n",
    "train.bodyType = train.bodyType.replace('купе-хардтоп', 'купе')\n",
    "train.bodyType = train.bodyType.replace('фастбек', 'хэтчбек')\n",
    "train.bodyType = train.bodyType.replace('nan', None)"
   ]
  },
  {
   "cell_type": "code",
   "execution_count": 26,
   "metadata": {},
   "outputs": [
    {
     "data": {
      "text/plain": [
       "0"
      ]
     },
     "execution_count": 26,
     "metadata": {},
     "output_type": "execute_result"
    }
   ],
   "source": [
    "train.bodyType.isna().sum()"
   ]
  },
  {
   "cell_type": "code",
   "execution_count": 27,
   "metadata": {},
   "outputs": [],
   "source": [
    "train.bodyType = train.bodyType.replace(np.nan, train.bodyType.mode()[0])"
   ]
  },
  {
   "cell_type": "code",
   "execution_count": 28,
   "metadata": {},
   "outputs": [
    {
     "data": {
      "text/plain": [
       "внедорожник 5 дв.       1139\n",
       "седан                    699\n",
       "Внедорожник 5 дв.        416\n",
       "Седан                    342\n",
       "Хэтчбек 5 дв.            327\n",
       "хэтчбек 5 дв.            243\n",
       "лифтбек                  126\n",
       "универсал 5 дв.           89\n",
       "Лифтбек                   73\n",
       "минивэн                   71\n",
       "компактвэн                39\n",
       "хэтчбек 3 дв.             25\n",
       "купе                      24\n",
       "фургон                     9\n",
       "внедорожник 3 дв.          6\n",
       "кабриолет                  4\n",
       "пикап двойная кабина       4\n",
       "родстер                    3\n",
       "седан-хардтоп              2\n",
       "купе-хардтоп               1\n",
       "внедорожник открытый       1\n",
       "Name: bodyType, dtype: int64"
      ]
     },
     "execution_count": 28,
     "metadata": {},
     "output_type": "execute_result"
    }
   ],
   "source": [
    "train_2022.bodyType.value_counts()"
   ]
  },
  {
   "cell_type": "code",
   "execution_count": 29,
   "metadata": {},
   "outputs": [],
   "source": [
    "train_2022.bodyType = train_2022.bodyType.astype(\n",
    "    'str').apply(lambda x: x.split(' ', 1)[0].lower())"
   ]
  },
  {
   "cell_type": "code",
   "execution_count": 30,
   "metadata": {},
   "outputs": [],
   "source": [
    "train_2022.bodyType = train_2022.bodyType.replace('седан-хардтоп', 'седан')\n",
    "train_2022.bodyType = train_2022.bodyType.replace('купе-хардтоп', 'купе')\n",
    "train_2022.bodyType = train_2022.bodyType.replace('nan', None)"
   ]
  },
  {
   "cell_type": "code",
   "execution_count": 31,
   "metadata": {},
   "outputs": [
    {
     "data": {
      "text/plain": [
       "0"
      ]
     },
     "execution_count": 31,
     "metadata": {},
     "output_type": "execute_result"
    }
   ],
   "source": [
    "train_2022.bodyType.isna().sum()"
   ]
  },
  {
   "cell_type": "code",
   "execution_count": 32,
   "metadata": {},
   "outputs": [],
   "source": [
    "train_2022.bodyType = train_2022.bodyType.replace(\n",
    "    np.nan, train_2022.bodyType.mode()[0])"
   ]
  },
  {
   "cell_type": "code",
   "execution_count": 33,
   "metadata": {},
   "outputs": [],
   "source": [
    "cat_cols.append('bodyType')"
   ]
  },
  {
   "cell_type": "markdown",
   "metadata": {},
   "source": [
    "### brand"
   ]
  },
  {
   "cell_type": "code",
   "execution_count": 34,
   "metadata": {},
   "outputs": [
    {
     "data": {
      "text/plain": [
       "BMW           4473\n",
       "VOLKSWAGEN    4404\n",
       "NISSAN        4393\n",
       "MERCEDES      4180\n",
       "TOYOTA        3913\n",
       "AUDI          3421\n",
       "MITSUBISHI    2843\n",
       "SKODA         2741\n",
       "VOLVO         1463\n",
       "HONDA         1150\n",
       "INFINITI       871\n",
       "LEXUS          834\n",
       "Name: brand, dtype: int64"
      ]
     },
     "execution_count": 34,
     "metadata": {},
     "output_type": "execute_result"
    }
   ],
   "source": [
    "test.brand.value_counts()"
   ]
  },
  {
   "cell_type": "code",
   "execution_count": 35,
   "metadata": {},
   "outputs": [
    {
     "data": {
      "text/plain": [
       "0"
      ]
     },
     "execution_count": 35,
     "metadata": {},
     "output_type": "execute_result"
    }
   ],
   "source": [
    "test.brand.isna().sum()"
   ]
  },
  {
   "cell_type": "code",
   "execution_count": 36,
   "metadata": {},
   "outputs": [
    {
     "data": {
      "text/plain": [
       "MERCEDES      8012\n",
       "BMW           7393\n",
       "VOLKSWAGEN    7139\n",
       "NISSAN        5772\n",
       "HYUNDAI       5734\n",
       "KIA           5630\n",
       "TOYOTA        4824\n",
       "FORD          4797\n",
       "AUDI          4084\n",
       "MITSUBISHI    3933\n",
       "CHEVROLET     3633\n",
       "OPEL          3114\n",
       "SKODA         2806\n",
       "RENAULT       2713\n",
       "MAZDA         2311\n",
       "VOLVO         2073\n",
       "PEUGEOT       1641\n",
       "LAND_ROVER    1623\n",
       "HONDA         1179\n",
       "CITROEN       1146\n",
       "LEXUS         1054\n",
       "DAEWOO        1041\n",
       "INFINITI      1040\n",
       "SUBARU         932\n",
       "SUZUKI         872\n",
       "SSANG_YONG     717\n",
       "PORSCHE        713\n",
       "CHERY          566\n",
       "JEEP           483\n",
       "GREAT_WALL     420\n",
       "DODGE          418\n",
       "CHRYSLER       323\n",
       "CADILLAC       322\n",
       "JAGUAR         313\n",
       "MINI           312\n",
       "GEELY          295\n",
       "Name: brand, dtype: int64"
      ]
     },
     "execution_count": 36,
     "metadata": {},
     "output_type": "execute_result"
    }
   ],
   "source": [
    "train.brand.value_counts()"
   ]
  },
  {
   "cell_type": "code",
   "execution_count": 37,
   "metadata": {},
   "outputs": [
    {
     "data": {
      "text/plain": [
       "0"
      ]
     },
     "execution_count": 37,
     "metadata": {},
     "output_type": "execute_result"
    }
   ],
   "source": [
    "train.brand.isna().sum()"
   ]
  },
  {
   "cell_type": "code",
   "execution_count": 38,
   "metadata": {},
   "outputs": [
    {
     "data": {
      "text/plain": [
       "Kia              831\n",
       "Hyundai          788\n",
       "Volkswagen       267\n",
       "Nissan           179\n",
       "BMW              168\n",
       "Mercedes-Benz    160\n",
       "Toyota           133\n",
       "Skoda            124\n",
       "Renault           99\n",
       "Ford              92\n",
       "Audi              88\n",
       "LADA              67\n",
       "Land              67\n",
       "Mitsubishi        65\n",
       "Mazda             52\n",
       "Opel              49\n",
       "Chevrolet         49\n",
       "Lexus             36\n",
       "Volvo             34\n",
       "Citroen           31\n",
       "Infiniti          28\n",
       "Porsche           24\n",
       "Peugeot           20\n",
       "Jaguar            18\n",
       "SsangYong         18\n",
       "Honda             14\n",
       "Jeep              14\n",
       "Subaru            14\n",
       "MINI              11\n",
       "Chery             10\n",
       "Cadillac           9\n",
       "Daewoo             8\n",
       "Suzuki             8\n",
       "Dodge              7\n",
       "Acura              6\n",
       "Lifan              5\n",
       "Great              4\n",
       "Datsun             4\n",
       "Haval              4\n",
       "Brilliance         3\n",
       "Chrysler           3\n",
       "BYD                3\n",
       "Rolls-Royce        3\n",
       "Tesla              3\n",
       "Iran               3\n",
       "ГАЗ                2\n",
       "Geely              2\n",
       "SEAT               2\n",
       "Genesis            2\n",
       "Bentley            2\n",
       "Alfa               2\n",
       "ЗАЗ                2\n",
       "Fiat               2\n",
       "EXEED              1\n",
       "Ferrari            1\n",
       "Lincoln            1\n",
       "Buick              1\n",
       "Name: brand, dtype: int64"
      ]
     },
     "execution_count": 38,
     "metadata": {},
     "output_type": "execute_result"
    }
   ],
   "source": [
    "train_2022.brand.value_counts()"
   ]
  },
  {
   "cell_type": "code",
   "execution_count": 39,
   "metadata": {},
   "outputs": [],
   "source": [
    "train_2022.brand = train_2022.brand.astype('str').apply(lambda x: x.upper())"
   ]
  },
  {
   "cell_type": "code",
   "execution_count": 40,
   "metadata": {},
   "outputs": [],
   "source": [
    "train_2022.brand = train_2022.brand.replace('SSANGYONG', 'SSANG_YONG')\n",
    "train_2022.brand = train_2022.brand.replace('LAND', 'LAND_ROVER')\n",
    "train_2022.brand = train_2022.brand.replace('GREAT', 'GREAT_WALL')\n",
    "train_2022.brand = train_2022.brand.replace('MERCEDES-BENZ', 'MERCEDES')\n",
    "train_2022.brand = train_2022.brand.replace('NAN', None)"
   ]
  },
  {
   "cell_type": "code",
   "execution_count": 41,
   "metadata": {},
   "outputs": [
    {
     "data": {
      "text/plain": [
       "0"
      ]
     },
     "execution_count": 41,
     "metadata": {},
     "output_type": "execute_result"
    }
   ],
   "source": [
    "train_2022.brand.isna().sum()"
   ]
  },
  {
   "cell_type": "code",
   "execution_count": 42,
   "metadata": {},
   "outputs": [],
   "source": [
    "train_2022.brand = train_2022.brand.replace(np.nan, train_2022.brand.mode()[0])"
   ]
  },
  {
   "cell_type": "code",
   "execution_count": 43,
   "metadata": {},
   "outputs": [],
   "source": [
    "cat_cols.append('brand')"
   ]
  },
  {
   "cell_type": "markdown",
   "metadata": {},
   "source": [
    "### color"
   ]
  },
  {
   "cell_type": "code",
   "execution_count": 44,
   "metadata": {},
   "outputs": [
    {
     "data": {
      "text/plain": [
       "чёрный         11010\n",
       "белый           6133\n",
       "серебристый     4113\n",
       "серый           3984\n",
       "синий           3289\n",
       "красный         1531\n",
       "коричневый      1501\n",
       "зелёный          952\n",
       "бежевый          639\n",
       "голубой          457\n",
       "золотистый       266\n",
       "пурпурный        254\n",
       "фиолетовый       219\n",
       "жёлтый           194\n",
       "оранжевый        131\n",
       "розовый           13\n",
       "Name: color, dtype: int64"
      ]
     },
     "execution_count": 44,
     "metadata": {},
     "output_type": "execute_result"
    }
   ],
   "source": [
    "test.color.value_counts()"
   ]
  },
  {
   "cell_type": "code",
   "execution_count": 45,
   "metadata": {},
   "outputs": [
    {
     "data": {
      "text/plain": [
       "0"
      ]
     },
     "execution_count": 45,
     "metadata": {},
     "output_type": "execute_result"
    }
   ],
   "source": [
    "test.color.isna().sum()"
   ]
  },
  {
   "cell_type": "code",
   "execution_count": 46,
   "metadata": {},
   "outputs": [
    {
     "data": {
      "text/plain": [
       "040001    25212\n",
       "FAFBFB    15824\n",
       "CACECB    11336\n",
       "97948F    10819\n",
       "0000CC     8874\n",
       "EE1D19     4508\n",
       "200204     3583\n",
       "007F00     2598\n",
       "C49648     1854\n",
       "22A0F8     1398\n",
       "DEA522      774\n",
       "660099      750\n",
       "FFD600      701\n",
       "4A2197      606\n",
       "FF8649      516\n",
       "FFC0CB       25\n",
       "Name: color, dtype: int64"
      ]
     },
     "execution_count": 46,
     "metadata": {},
     "output_type": "execute_result"
    }
   ],
   "source": [
    "train.color.value_counts()"
   ]
  },
  {
   "cell_type": "code",
   "execution_count": 47,
   "metadata": {},
   "outputs": [],
   "source": [
    "color_dict = {'040001': 'чёрный', 'EE1D19': 'красный', '0000CC': 'синий', 'CACECB': 'серебристый',\n",
    "              '007F00': 'зелёный', 'FAFBFB': 'белый', '97948F': 'серый', '22A0F8': 'голубой',\n",
    "              '660099': 'пурпурный', '200204': 'коричневый', 'C49648': 'бежевый',\n",
    "              'DEA522': 'золотистый', '4A2197': 'фиолетовый', 'FFD600': 'жёлтый',\n",
    "              'FF8649': 'оранжевый', 'FFC0CB': 'розовый'}\n",
    "\n",
    "train['color'].replace(color_dict, inplace=True)"
   ]
  },
  {
   "cell_type": "code",
   "execution_count": 48,
   "metadata": {},
   "outputs": [
    {
     "data": {
      "text/plain": [
       "0"
      ]
     },
     "execution_count": 48,
     "metadata": {},
     "output_type": "execute_result"
    }
   ],
   "source": [
    "train.color.isna().sum()"
   ]
  },
  {
   "cell_type": "code",
   "execution_count": 49,
   "metadata": {},
   "outputs": [
    {
     "data": {
      "text/plain": [
       "чёрный         643\n",
       "белый          555\n",
       "серый          363\n",
       "Белый          267\n",
       "синий          239\n",
       "серебристый    225\n",
       "Чёрный         179\n",
       "Серый          175\n",
       "коричневый     149\n",
       "Серебристый    141\n",
       "красный        138\n",
       "Синий          112\n",
       "Коричневый      96\n",
       "Красный         77\n",
       "Бежевый         51\n",
       "Оранжевый       49\n",
       "бежевый         46\n",
       "зелёный         39\n",
       "голубой         31\n",
       "пурпурный       19\n",
       "оранжевый       14\n",
       "золотистый      12\n",
       "Голубой         11\n",
       "фиолетовый       6\n",
       "жёлтый           6\n",
       "Name: color, dtype: int64"
      ]
     },
     "execution_count": 49,
     "metadata": {},
     "output_type": "execute_result"
    }
   ],
   "source": [
    "train_2022.color.value_counts()"
   ]
  },
  {
   "cell_type": "code",
   "execution_count": 50,
   "metadata": {},
   "outputs": [],
   "source": [
    "train_2022.color = train_2022.color.astype('str').apply(lambda x: x.lower())"
   ]
  },
  {
   "cell_type": "code",
   "execution_count": 51,
   "metadata": {},
   "outputs": [],
   "source": [
    "train_2022.color = train_2022.color.replace('nan', None)"
   ]
  },
  {
   "cell_type": "code",
   "execution_count": 52,
   "metadata": {},
   "outputs": [
    {
     "data": {
      "text/plain": [
       "0"
      ]
     },
     "execution_count": 52,
     "metadata": {},
     "output_type": "execute_result"
    }
   ],
   "source": [
    "train_2022.color.isna().sum()"
   ]
  },
  {
   "cell_type": "code",
   "execution_count": 53,
   "metadata": {},
   "outputs": [],
   "source": [
    "train_2022.color = train_2022.color.replace(np.nan, train_2022.color.mode()[0])"
   ]
  },
  {
   "cell_type": "code",
   "execution_count": 54,
   "metadata": {},
   "outputs": [],
   "source": [
    "cat_cols.append('color')"
   ]
  },
  {
   "cell_type": "markdown",
   "metadata": {},
   "source": [
    "### model_name"
   ]
  },
  {
   "cell_type": "code",
   "execution_count": 55,
   "metadata": {},
   "outputs": [
    {
     "data": {
      "text/plain": [
       "OCTAVIA         1418\n",
       "5ER             1026\n",
       "LANCER           855\n",
       "E_KLASSE         809\n",
       "PASSAT           782\n",
       "                ... \n",
       "SIMPLEX            1\n",
       "HS                 1\n",
       "MEGA_CRUISER       1\n",
       "YARIS_VERSO        1\n",
       "PLATZ              1\n",
       "Name: model_name, Length: 544, dtype: int64"
      ]
     },
     "execution_count": 55,
     "metadata": {},
     "output_type": "execute_result"
    }
   ],
   "source": [
    "test.model_name.value_counts()"
   ]
  },
  {
   "cell_type": "code",
   "execution_count": 56,
   "metadata": {},
   "outputs": [
    {
     "data": {
      "text/plain": [
       "0"
      ]
     },
     "execution_count": 56,
     "metadata": {},
     "output_type": "execute_result"
    }
   ],
   "source": [
    "test.model_name.isna().sum()"
   ]
  },
  {
   "cell_type": "code",
   "execution_count": 57,
   "metadata": {},
   "outputs": [],
   "source": [
    "train.rename(columns={'model': 'model_name'}, inplace=True)"
   ]
  },
  {
   "cell_type": "code",
   "execution_count": 58,
   "metadata": {},
   "outputs": [
    {
     "data": {
      "text/plain": [
       "FOCUS          2467\n",
       "SOLARIS        1769\n",
       "5ER            1675\n",
       "ASTRA          1548\n",
       "OCTAVIA        1497\n",
       "               ... \n",
       "REGIUSACE         1\n",
       "TRAVIQ            1\n",
       "YARIS_VERSO       1\n",
       "ADMIRAL           1\n",
       "440               1\n",
       "Name: model_name, Length: 1086, dtype: int64"
      ]
     },
     "execution_count": 58,
     "metadata": {},
     "output_type": "execute_result"
    }
   ],
   "source": [
    "train.model_name.value_counts()"
   ]
  },
  {
   "cell_type": "code",
   "execution_count": 59,
   "metadata": {},
   "outputs": [
    {
     "data": {
      "text/plain": [
       "0"
      ]
     },
     "execution_count": 59,
     "metadata": {},
     "output_type": "execute_result"
    }
   ],
   "source": [
    "train.model_name.isna().sum()"
   ]
  },
  {
   "cell_type": "code",
   "execution_count": 60,
   "metadata": {},
   "outputs": [
    {
     "data": {
      "text/plain": [
       "Hyundai Solaris II Рестайлинг                347\n",
       "Kia Rio X IV Рестайлинг                      331\n",
       "Hyundai Creta II                             200\n",
       "Kia Sportage IV Рестайлинг                   147\n",
       "Volkswagen Polo VI                            85\n",
       "                                            ... \n",
       "Land Rover Freelander II Рестайлинг            1\n",
       "Lexus GX 470 I                                 1\n",
       "BMW X1 20d I (E84)                             1\n",
       "Mercedes-Benz GLE Coupe 450 AMG I (C292)       1\n",
       "LADA (ВАЗ) 2121 (4x4) I Рестайлинг (2020)      1\n",
       "Name: model_name, Length: 780, dtype: int64"
      ]
     },
     "execution_count": 60,
     "metadata": {},
     "output_type": "execute_result"
    }
   ],
   "source": [
    "train_2022.model_name.value_counts()"
   ]
  },
  {
   "cell_type": "code",
   "execution_count": 61,
   "metadata": {},
   "outputs": [],
   "source": [
    "train_2022.model_name = train_2022.model_name.astype(str).apply(\n",
    "    lambda x: x.split(' ', 1)[-1].split(' ', 1)[0].upper())"
   ]
  },
  {
   "cell_type": "code",
   "execution_count": 62,
   "metadata": {},
   "outputs": [
    {
     "data": {
      "text/plain": [
       "RIO           403\n",
       "SOLARIS       380\n",
       "CRETA         244\n",
       "SPORTAGE      179\n",
       "POLO          141\n",
       "             ... \n",
       "CHALLENGER      1\n",
       "207             1\n",
       "ALHAMBRA        1\n",
       "YARIS           1\n",
       "3008            1\n",
       "Name: model_name, Length: 309, dtype: int64"
      ]
     },
     "execution_count": 62,
     "metadata": {},
     "output_type": "execute_result"
    }
   ],
   "source": [
    "train_2022.model_name.value_counts()"
   ]
  },
  {
   "cell_type": "code",
   "execution_count": 63,
   "metadata": {},
   "outputs": [
    {
     "name": "stdout",
     "output_type": "stream",
     "text": [
      "544 309 111\n"
     ]
    }
   ],
   "source": [
    "intersections(test.model_name, train_2022.model_name)"
   ]
  },
  {
   "cell_type": "code",
   "execution_count": 64,
   "metadata": {},
   "outputs": [
    {
     "data": {
      "text/plain": [
       "0"
      ]
     },
     "execution_count": 64,
     "metadata": {},
     "output_type": "execute_result"
    }
   ],
   "source": [
    "train_2022.model_name.isna().sum()"
   ]
  },
  {
   "cell_type": "code",
   "execution_count": 65,
   "metadata": {},
   "outputs": [],
   "source": [
    "cat_cols.append('model_name')"
   ]
  },
  {
   "cell_type": "markdown",
   "metadata": {},
   "source": [
    "### engineDisplacement"
   ]
  },
  {
   "cell_type": "code",
   "execution_count": 66,
   "metadata": {
    "scrolled": true
   },
   "outputs": [
    {
     "data": {
      "text/plain": [
       "2.0 LTR    7391\n",
       "1.6 LTR    4973\n",
       "3.0 LTR    3915\n",
       "1.8 LTR    3349\n",
       "2.5 LTR    2477\n",
       "2.4 LTR    1745\n",
       "3.5 LTR    1710\n",
       "1.4 LTR    1635\n",
       "1.5 LTR     725\n",
       "1.2 LTR     485\n",
       "4.4 LTR     447\n",
       "2.8 LTR     384\n",
       "4.7 LTR     377\n",
       "1.3 LTR     365\n",
       "5.5 LTR     361\n",
       "4.0 LTR     356\n",
       "3.2 LTR     348\n",
       "4.5 LTR     346\n",
       "2.1 LTR     271\n",
       "3.7 LTR     242\n",
       "2.2 LTR     236\n",
       "4.2 LTR     228\n",
       "1.9 LTR     221\n",
       "2.3 LTR     203\n",
       "2.7 LTR     189\n",
       "3.6 LTR     183\n",
       "5.6 LTR     170\n",
       "5.0 LTR     158\n",
       "5.7 LTR     135\n",
       "2.9 LTR     131\n",
       "4.6 LTR     108\n",
       "3.1 LTR      88\n",
       "4.8 LTR      84\n",
       "1.7 LTR      59\n",
       "1.0 LTR      57\n",
       "3.8 LTR      57\n",
       "2.6 LTR      55\n",
       " LTR         55\n",
       "6.0 LTR      53\n",
       "0.7 LTR      53\n",
       "3.3 LTR      44\n",
       "3.4 LTR      36\n",
       "4.1 LTR      35\n",
       "4.3 LTR      32\n",
       "5.4 LTR      31\n",
       "6.2 LTR      28\n",
       "5.2 LTR      12\n",
       "5.9 LTR      12\n",
       "6.3 LTR       8\n",
       "5.8 LTR       7\n",
       "6.6 LTR       6\n",
       "4.9 LTR       4\n",
       "1.1 LTR       4\n",
       "3.9 LTR       1\n",
       "5.3 LTR       1\n",
       "Name: engineDisplacement, dtype: int64"
      ]
     },
     "execution_count": 66,
     "metadata": {},
     "output_type": "execute_result"
    }
   ],
   "source": [
    "test.engineDisplacement.value_counts()"
   ]
  },
  {
   "cell_type": "code",
   "execution_count": 67,
   "metadata": {
    "scrolled": true
   },
   "outputs": [
    {
     "data": {
      "text/plain": [
       "2.00    7391\n",
       "1.60    4973\n",
       "3.00    3915\n",
       "1.80    3349\n",
       "2.50    2477\n",
       "2.40    1745\n",
       "3.50    1710\n",
       "1.40    1635\n",
       "1.50     725\n",
       "1.20     485\n",
       "4.40     447\n",
       "2.80     384\n",
       "4.70     377\n",
       "1.30     365\n",
       "5.50     361\n",
       "4.00     356\n",
       "3.20     348\n",
       "4.50     346\n",
       "2.10     271\n",
       "3.70     242\n",
       "2.20     236\n",
       "4.20     228\n",
       "1.90     221\n",
       "2.30     203\n",
       "2.70     189\n",
       "3.60     183\n",
       "5.60     170\n",
       "5.00     158\n",
       "5.70     135\n",
       "2.90     131\n",
       "4.60     108\n",
       "3.10      88\n",
       "4.80      84\n",
       "1.70      59\n",
       "1.00      57\n",
       "3.80      57\n",
       "2.60      55\n",
       "6.00      53\n",
       "0.70      53\n",
       "3.30      44\n",
       "3.40      36\n",
       "4.10      35\n",
       "4.30      32\n",
       "5.40      31\n",
       "6.20      28\n",
       "5.20      12\n",
       "5.90      12\n",
       "6.30       8\n",
       "5.80       7\n",
       "6.60       6\n",
       "1.10       4\n",
       "4.90       4\n",
       "3.90       1\n",
       "5.30       1\n",
       "Name: engineDisplacement, dtype: int64"
      ]
     },
     "execution_count": 67,
     "metadata": {},
     "output_type": "execute_result"
    }
   ],
   "source": [
    "test.engineDisplacement = test.engineDisplacement.apply(\n",
    "    lambda x: str(x).split(' ', 1)[0])\n",
    "test.engineDisplacement = test.engineDisplacement.apply(\n",
    "    lambda x: np.nan if x == '' else x).astype('float64')\n",
    "test.engineDisplacement.value_counts()"
   ]
  },
  {
   "cell_type": "code",
   "execution_count": 68,
   "metadata": {},
   "outputs": [
    {
     "data": {
      "text/plain": [
       "55"
      ]
     },
     "execution_count": 68,
     "metadata": {},
     "output_type": "execute_result"
    }
   ],
   "source": [
    "test.engineDisplacement.isna().sum()"
   ]
  },
  {
   "cell_type": "code",
   "execution_count": 69,
   "metadata": {},
   "outputs": [],
   "source": [
    "test.engineDisplacement = test.engineDisplacement.replace(\n",
    "    np.nan, test.engineDisplacement.mode()[0])"
   ]
  },
  {
   "cell_type": "code",
   "execution_count": 70,
   "metadata": {},
   "outputs": [
    {
     "data": {
      "text/plain": [
       "1.6          17032\n",
       "2.0          13446\n",
       "1.4           5649\n",
       "1.8           5102\n",
       "2.4           3272\n",
       "             ...  \n",
       "PHEV             1\n",
       "Regius           1\n",
       "Trackhawk        1\n",
       "e-Golf           1\n",
       "STi              1\n",
       "Name: engineDisplacement, Length: 534, dtype: int64"
      ]
     },
     "execution_count": 70,
     "metadata": {},
     "output_type": "execute_result"
    }
   ],
   "source": [
    "train.engineDisplacement.value_counts()"
   ]
  },
  {
   "cell_type": "markdown",
   "metadata": {},
   "source": [
    "Столбец engineDisplacement является результатом очистки столбцов name и vehicleConfiguration. "
   ]
  },
  {
   "cell_type": "code",
   "execution_count": 71,
   "metadata": {
    "scrolled": true
   },
   "outputs": [
    {
     "data": {
      "text/plain": [
       "array(['2.8', '1.8', '2.3', '2.0', '2.6', '2.2', 'S4', '2.0d', '2.5d',\n",
       "       '1.9', '2.1', '2.4', '1.6', '1.9d', '1.6d', '1.3', '3.3', '1.4',\n",
       "       '1.2d', 'ultra', '1.2', '3.2', '1.5', '8V', '3.1', '16V', '3.0d',\n",
       "       '2.7d', '3.0', '7S-tronic', 'tiptronic', '40', '45', '55', '2.7',\n",
       "       '4.2', 'S-tronic', 'Tiptronic', 'Long', '4.0', '60', '3.9d', '6.0',\n",
       "       '3.7', '4.1d', '35', '8tiptronic', 'clean', '2.0hyb', '3.6',\n",
       "       '5.9d', 'V10', 'V8', '2.5', '2.9', '5.0', '5.2', 'M135i', '116i',\n",
       "       '120i', '118i', '135i', 'M140i', '125i', '120d', '130i', '118d',\n",
       "       '218i', '220i', '220d', 'M235i', '218d', '216d', '335i', '320i',\n",
       "       '318i', '318d', '320d', '316i', '328i', '330i', '325xi', '325i',\n",
       "       '330d', '323i', '340i', '335d', '335xi', '330xi', '316', '315',\n",
       "       '318', 'N46', '420d', '428i', '420i', '435i', '430i', '440i',\n",
       "       '520d', '530d', '525i', '523i', '520i', '530i', '525d', '528i',\n",
       "       '550i', '535d', 'M550i', 'M550d', '540i', '535i', '530xi', '530Li',\n",
       "       '525xi', '518', '520Li', '528Li', '535xi', '545i', '524d', '518i',\n",
       "       '535Li', '530xd', '630i', '640i', '650i', '640d', '630d', '620d',\n",
       "       '635i', '645i', '750d', '740i', '730Ld', '750i', '750Li', '740Li',\n",
       "       '730d', '730i', '740d', '750Ld', '730Li', 'M760Li', '740Ld',\n",
       "       'Active', '760Li', '735i', '745d', '728i', '728Li', '760i', '745i',\n",
       "       '745Li', '735Li', '733i', '725d', 'M850i', '840d', '840i', '850i',\n",
       "       '94Ah', 'Electro', 'S', '0.7hyb', '1.5hyb', 'Competition', '4.4',\n",
       "       '4.9', '18i', '20i', '18d', '20d', '25d', '28i', '23d', '25i',\n",
       "       'sDrive18i', 'xDrive20i', 'xDrive18d', 'xDrive20d', '30d', 'M40d',\n",
       "       '30i', '35i', 'M40i', '35d', 'M50d', '40i', '48i', '3.0sd', '50i',\n",
       "       '3.0i', '40d', 'M50i', '4.4i', '4.8i', '3.0si', '4.8is', '40e',\n",
       "       '4.6is', 'ActiveHybrid', '23i', '35is', '6.2', '4.5', '6.4', '4.6',\n",
       "       '4.1', '8.2', 'ESV', '5.3', '5.7', '7.0', '6-speed', '5-speed',\n",
       "       '1.1', '0.8', '3.4', '4.3', '8.1', '6.2d', 'SS', 'ZL1', '2.2d',\n",
       "       'Stingray', 'Z06', '5.4', '3.8', '1.7', '6.6d', 'Double', '1.0',\n",
       "       'EV', '7.5', '7.4', '6AT', '6.5d', '2.8d', 'EXT', '1.4hyb', 'SRT8',\n",
       "       '3.5', 'Fifth', '6.8', '3.6hyb', 'SWB', 'Grand', '5-doors',\n",
       "       'Донинвест', '1.4d', 'SensoDrive', 'Aircross', 'Triomphe',\n",
       "       'Hydractive', 'CrossTourer', 'XL', '2.1d', 'Best', 'SRT-4', 'R__T',\n",
       "       'Hellcat', 'SRT', '3.9', '4.7', 'Crew', '6.7d', 'SRT-10', '1.8d',\n",
       "       '5.8', '7.3d', '2.3hyb', 'Sport', 'Raptor', 'SVT', 'KAT',\n",
       "       'Electric', 'ST170', 'StreetKa', 'PowerShift', 'ST220', 'Shelby',\n",
       "       '3.2d', 'SHO', 'LWB', 'Type', '0.7', 'Hybrid', 'AMT', 'Shuttle',\n",
       "       nan, 'del', 'Spike', '1.3hyb', 'Spada', 'ТагАЗ', '1.5d', 'Prime',\n",
       "       'Limousine', '1.7d', 'Classic', '2.6d', '2.9d', 'EX25', 'EX35',\n",
       "       'EX37', 'FX37', 'FX35', 'FX50', 'FX45', 'FX30d', 'FX', 'G37',\n",
       "       'G35', 'G25', 'G20', 'I30', 'JX35', 'M37', 'M35', 'M56', 'M25',\n",
       "       'M45', 'Q45', '3.5hyb', '5.6', '2.5hyb', 'SVR', 'R', 'TrailHawk',\n",
       "       'Trackhawk', '3.1d', '5.9', 'Trailhawk', '4-speed', '8-speed',\n",
       "       '2.4hyb', 'GT', 'X-Line', '200h', '250', '200', '300', '350',\n",
       "       '330', '300h', '450h', '430', '460', '470', '250h', '200t', '250C',\n",
       "       '400', '600h', '500', '570', '450d', '450', '270', '400h', '350L',\n",
       "       'Brawny', 'S-Wagon', 'Hard', 'Soft', 'John', 'Cooper', 'One',\n",
       "       'Grandis', 'CZ1', 'CZ2', 'Plus', 'CZ3', '2.3d', 'VR-4', 'Easy',\n",
       "       '2.4d', 'Super', 'Cedia', 'PHEV', 'Cubic', '30kWh', '1.2hyb',\n",
       "       '4.2d', '4.8', 'Joy', 'Latio', 'GTC', '1.3d', 'C16NZ', '16LZ2',\n",
       "       'X16SZR', 'CNG', 'GSi', 'Country', 'L', '+', '7', 'Carrera',\n",
       "       'Turbo', '4', '4S', 'RS', '4.6hyb', 'Diesel', 'GTS', 'E-Hybrid',\n",
       "       '2.9hyb', 'Europa', 'Campus', 'Be', 'Stepway', 'RX4', 'Conquest',\n",
       "       '100', 'Scout', 'DSG7', 'DSG', 'ACT', 'tS', 'STi', 'S-Edition',\n",
       "       'XV', 'XL-7', 'US', 'Japan', 'Gracia', 'Prominent', 'GT-Four',\n",
       "       'Fielder', 'Axio', 'Ceres', 'Runx', 'i', 'SF', 'Premio', '1.8hyb',\n",
       "       'Lucida', 'Emina', '3.3hyb', 'Regius', '4.5d', '3.4d', '105',\n",
       "       'Cygnus', '78', '76', '79', '3.5d', '4.0d', '3.6d', 'Arctic',\n",
       "       'Noah', 'Qualis', 'JDM', 'CrewMax', 'Ardeo', 'Multimode',\n",
       "       'full-time', 'part-time', 'Maxi', 'BiFuel', 'Alltrack', 'EcoFuel',\n",
       "       '4MOTION', 'e-Golf', 'VR6', 'GTI\"35\"', '5-Seater', '4-Seater',\n",
       "       '4.9d', 'Cross', 'Allspace', '3.0hyb', 'Syncro', 'T-5R', 'Bi-Fuel',\n",
       "       'XC', 'G3', 'G5', 'G1', '110', '130', 'Base', '90', 'Ingenium',\n",
       "       'Supercharged', '4.4d', '9-speed', 'HST', '180', '160', '150',\n",
       "       '170', '220', '140', '210', 'C', '63', '53', '43', '230', '240',\n",
       "       '280', '320', '109', '550', '600', '420', '65', 'All-Terrain',\n",
       "       '290', '50', 'Brabus', '560', '650', 'Pullman', '380', '260', 'L1',\n",
       "       'L3', 'L2', 'Marco', '121', '113', '111', '119', '114', '112',\n",
       "       '108', '115', '116', 'Sports'], dtype=object)"
      ]
     },
     "execution_count": 71,
     "metadata": {},
     "output_type": "execute_result"
    }
   ],
   "source": [
    "train.engineDisplacement.unique()"
   ]
  },
  {
   "cell_type": "code",
   "execution_count": 72,
   "metadata": {
    "scrolled": true
   },
   "outputs": [
    {
     "data": {
      "text/plain": [
       "1.60    17032\n",
       "2.00    13446\n",
       "1.40     5649\n",
       "1.80     5102\n",
       "2.40     3272\n",
       "2.50     2887\n",
       "1.50     2145\n",
       "3.00     1171\n",
       "3.50     1170\n",
       "2.30      883\n",
       "1.20      849\n",
       "1.70      706\n",
       "1.30      676\n",
       "3.60      426\n",
       "4.00      371\n",
       "3.20      370\n",
       "0.80      367\n",
       "2.70      352\n",
       "2.80      262\n",
       "4.40      260\n",
       "1.00      214\n",
       "2.20      214\n",
       "4.20      199\n",
       "5.60      185\n",
       "4.70      179\n",
       "3.80      160\n",
       "6.20      157\n",
       "3.70      154\n",
       "5.00      122\n",
       "4.60      115\n",
       "3.30      105\n",
       "3.10       98\n",
       "5.70       93\n",
       "5.30       91\n",
       "0.70       75\n",
       "1.90       73\n",
       "1.10       66\n",
       "2.90       61\n",
       "3.40       37\n",
       "5.20       34\n",
       "2.10       28\n",
       "4.30       26\n",
       "6.00       24\n",
       "2.60       19\n",
       "5.40       18\n",
       "4.50       18\n",
       "4.90        7\n",
       "5.90        5\n",
       "5.80        5\n",
       "4.10        4\n",
       "6.40        4\n",
       "4.80        1\n",
       "3.90        1\n",
       "Name: engineDisplacement, dtype: int64"
      ]
     },
     "execution_count": 72,
     "metadata": {},
     "output_type": "execute_result"
    }
   ],
   "source": [
    "train.engineDisplacement = train.engineDisplacement.apply(\n",
    "    pd.to_numeric, errors='ignore')\n",
    "train.engineDisplacement.loc[train.engineDisplacement.apply(\n",
    "    lambda x: isinstance(x, str))]=100\n",
    "# train.ed = train.ed.str.replace(r'[^0-9.]','', regex=True)\n",
    "#train.ed = train.ed.str.replace(r'[^\\d\\.]','', regex=True).fillna('100')\n",
    "train.engineDisplacement = train.engineDisplacement.apply(\n",
    "    lambda x: None if x > 6.6 else x)\n",
    "train.engineDisplacement.value_counts()"
   ]
  },
  {
   "cell_type": "code",
   "execution_count": 73,
   "metadata": {},
   "outputs": [
    {
     "name": "stdout",
     "output_type": "stream",
     "text": [
      "54 54 51\n"
     ]
    }
   ],
   "source": [
    "intersections(test.engineDisplacement, train.engineDisplacement)"
   ]
  },
  {
   "cell_type": "code",
   "execution_count": 74,
   "metadata": {},
   "outputs": [
    {
     "data": {
      "text/plain": [
       "29390"
      ]
     },
     "execution_count": 74,
     "metadata": {},
     "output_type": "execute_result"
    }
   ],
   "source": [
    "train.engineDisplacement.isna().sum()"
   ]
  },
  {
   "cell_type": "markdown",
   "metadata": {},
   "source": [
    "В датасете очень много пропусков. Данных для замены в других колонках нет. Заполним пропуски с помощью класса  IterativeImputer библиотеки scikit-learn:"
   ]
  },
  {
   "cell_type": "code",
   "execution_count": 75,
   "metadata": {},
   "outputs": [],
   "source": [
    "numeric_columns=['enginePower','engineDisplacement']\n",
    "train_engineDisplacement = imputation_numeric(train[numeric_columns])"
   ]
  },
  {
   "cell_type": "code",
   "execution_count": 76,
   "metadata": {},
   "outputs": [],
   "source": [
    "train.engineDisplacement = train_engineDisplacement.engineDisplacement"
   ]
  },
  {
   "cell_type": "code",
   "execution_count": 77,
   "metadata": {},
   "outputs": [
    {
     "data": {
      "text/plain": [
       "1.60    17032\n",
       "2.00    13446\n",
       "1.40     5649\n",
       "1.80     5102\n",
       "2.40     3272\n",
       "        ...  \n",
       "4.80        1\n",
       "1.02        1\n",
       "2.46        1\n",
       "1.17        1\n",
       "2.01        1\n",
       "Name: engineDisplacement, Length: 167, dtype: int64"
      ]
     },
     "execution_count": 77,
     "metadata": {},
     "output_type": "execute_result"
    }
   ],
   "source": [
    "train.engineDisplacement.value_counts()"
   ]
  },
  {
   "cell_type": "code",
   "execution_count": 78,
   "metadata": {
    "scrolled": true
   },
   "outputs": [
    {
     "data": {
      "text/plain": [
       "1.6       1535\n",
       "2.0        842\n",
       "3.0        222\n",
       "1.4        171\n",
       "2.5        166\n",
       "1.8        103\n",
       "2.4         92\n",
       "2.2         67\n",
       "1.5         61\n",
       "3.5         61\n",
       "4.4         31\n",
       "1.2         25\n",
       "2.1         24\n",
       "1.3         23\n",
       "2.8         18\n",
       "4.0         16\n",
       "3.6         16\n",
       "4.5         15\n",
       "5.5         13\n",
       "3.7         11\n",
       "2.3         11\n",
       "5.0         10\n",
       "2.9          9\n",
       "3.2          9\n",
       "4.7          9\n",
       "1.7          9\n",
       "5.6          9\n",
       "2.7          8\n",
       "6.2          5\n",
       "5.7          5\n",
       "4.2          5\n",
       "0.8          5\n",
       "4.6          4\n",
       "1.1          3\n",
       "109.с.       3\n",
       "3.3          2\n",
       "4.1          2\n",
       "351.с.       2\n",
       "1.0          2\n",
       "6.0          2\n",
       "3.8          2\n",
       "0.7          2\n",
       "299.с.       2\n",
       "6.6          2\n",
       "494.с.       2\n",
       "4.8          2\n",
       "3.4          1\n",
       "5.3          1\n",
       "6.8          1\n",
       "2.6          1\n",
       "795.с.       1\n",
       "Name: engineDisplacement, dtype: int64"
      ]
     },
     "execution_count": 78,
     "metadata": {},
     "output_type": "execute_result"
    }
   ],
   "source": [
    "train_2022.engineDisplacement.value_counts()"
   ]
  },
  {
   "cell_type": "code",
   "execution_count": 79,
   "metadata": {
    "scrolled": true
   },
   "outputs": [
    {
     "data": {
      "text/plain": [
       "1.60    1535\n",
       "2.00     842\n",
       "3.00     222\n",
       "1.40     171\n",
       "2.50     166\n",
       "1.80     103\n",
       "2.40      92\n",
       "2.20      67\n",
       "3.50      61\n",
       "1.50      61\n",
       "4.40      31\n",
       "1.20      25\n",
       "2.10      24\n",
       "1.30      23\n",
       "2.80      18\n",
       "4.00      16\n",
       "3.60      16\n",
       "4.50      15\n",
       "5.50      13\n",
       "2.30      11\n",
       "3.70      11\n",
       "5.00      10\n",
       "2.90       9\n",
       "5.60       9\n",
       "1.70       9\n",
       "4.70       9\n",
       "3.20       9\n",
       "2.70       8\n",
       "6.20       5\n",
       "5.70       5\n",
       "4.20       5\n",
       "0.80       5\n",
       "4.60       4\n",
       "1.10       3\n",
       "3.80       2\n",
       "4.80       2\n",
       "0.70       2\n",
       "6.00       2\n",
       "1.00       2\n",
       "6.60       2\n",
       "3.30       2\n",
       "4.10       2\n",
       "3.40       1\n",
       "2.60       1\n",
       "5.30       1\n",
       "Name: engineDisplacement, dtype: int64"
      ]
     },
     "execution_count": 79,
     "metadata": {},
     "output_type": "execute_result"
    }
   ],
   "source": [
    "train_2022.engineDisplacement = train_2022.engineDisplacement.apply(\n",
    "    pd.to_numeric, errors='ignore')\n",
    "train_2022.engineDisplacement.loc[train_2022.engineDisplacement.apply(\n",
    "    lambda x: isinstance(x, str))]=100\n",
    "train_2022.engineDisplacement = train_2022.engineDisplacement.apply(\n",
    "    lambda x: None if x > 6.6 else x)\n",
    "train_2022.engineDisplacement.value_counts()"
   ]
  },
  {
   "cell_type": "code",
   "execution_count": 80,
   "metadata": {},
   "outputs": [
    {
     "data": {
      "text/plain": [
       "34"
      ]
     },
     "execution_count": 80,
     "metadata": {},
     "output_type": "execute_result"
    }
   ],
   "source": [
    "train_2022.engineDisplacement.isna().sum()"
   ]
  },
  {
   "cell_type": "code",
   "execution_count": 81,
   "metadata": {},
   "outputs": [],
   "source": [
    "train_2022.engineDisplacement = train_2022.engineDisplacement.replace(\n",
    "    np.nan, train_2022.engineDisplacement.mode()[0])"
   ]
  },
  {
   "cell_type": "code",
   "execution_count": 82,
   "metadata": {},
   "outputs": [],
   "source": [
    "num_cols.append('engineDisplacement')"
   ]
  },
  {
   "cell_type": "markdown",
   "metadata": {},
   "source": [
    "### enginePower"
   ]
  },
  {
   "cell_type": "code",
   "execution_count": 83,
   "metadata": {},
   "outputs": [
    {
     "data": {
      "text/plain": [
       "249 N12    1708\n",
       "150 N12    1699\n",
       "110 N12    1039\n",
       "170 N12     977\n",
       "105 N12     955\n",
       "           ... \n",
       "61 N12        1\n",
       "108 N12       1\n",
       "630 N12       1\n",
       "338 N12       1\n",
       "30 N12        1\n",
       "Name: enginePower, Length: 315, dtype: int64"
      ]
     },
     "execution_count": 83,
     "metadata": {},
     "output_type": "execute_result"
    }
   ],
   "source": [
    "test.enginePower.value_counts()"
   ]
  },
  {
   "cell_type": "code",
   "execution_count": 84,
   "metadata": {},
   "outputs": [
    {
     "data": {
      "text/plain": [
       "249    1708\n",
       "150    1699\n",
       "110    1039\n",
       "170     977\n",
       "105     955\n",
       "       ... \n",
       "38        1\n",
       "485       1\n",
       "324       1\n",
       "164       1\n",
       "32        1\n",
       "Name: enginePower, Length: 315, dtype: int64"
      ]
     },
     "execution_count": 84,
     "metadata": {},
     "output_type": "execute_result"
    }
   ],
   "source": [
    "test.enginePower = test.enginePower.apply(lambda x: str(x).split(' ', 1)[0])\n",
    "test.enginePower = test.enginePower.apply(pd.to_numeric, errors='ignore')\n",
    "test.enginePower = test.enginePower.apply(\n",
    "    lambda x: np.nan if isinstance(x, str) else x).astype('int')\n",
    "test.enginePower.value_counts()"
   ]
  },
  {
   "cell_type": "code",
   "execution_count": 85,
   "metadata": {},
   "outputs": [
    {
     "data": {
      "text/plain": [
       "0"
      ]
     },
     "execution_count": 85,
     "metadata": {},
     "output_type": "execute_result"
    }
   ],
   "source": [
    "test.enginePower.isna().sum()"
   ]
  },
  {
   "cell_type": "code",
   "execution_count": 86,
   "metadata": {},
   "outputs": [
    {
     "data": {
      "text/plain": [
       "array([174.,  90., 136., 101., 133., 150., 115., 137., 112., 230.,  70.,\n",
       "        88., 100.,  75., 165., 182., 170., 113.,  80.,  54.,  60.,  71.,\n",
       "       122., 125.,  61., 102., 190., 180., 160., 105., 140., 110., 250.,\n",
       "       200., 130., 120., 225., 163., 211., 249., 255., 143., 220., 239.,\n",
       "       265., 116., 193., 177., 240., 245., 204., 340., 300., 233., 310.,\n",
       "       218., 210., 290., 333., 335., 224., 350., 155., 254., 338., 435.,\n",
       "       372., 460., 275., 500., 260., 450., 420., 280., 326., 285., 408.,\n",
       "       271., 272., 270., 238., 252., 610., 525., 430., 367., 605., 560.,\n",
       "       580., 256., 354., 571., 360., 520., 400., 156., 306., 320., 184.,\n",
       "       129., 258., 231., 118., 192., 286.,  98., 234., 171.,  46.,  51.,\n",
       "       407., 530., 313., 235., 381., 462., 197., 109., 609., 544., 445.,\n",
       "       329., 188., 370., 410., 431., 343., 507., 600., 625., 510., 355.,\n",
       "       269., 264., 347., 555., 575., 321., 276., 226., 175., 203., 311.,\n",
       "       215., 322., 309., 185., 564., 330., 304., 409., 426., 349., 299.,\n",
       "       158., 305., 135., 324., 318., 325., 314.,  94., 126., 119.,  83.,\n",
       "       117.,  68.,  52., 132., 106., 147., 139., 152., 141., 295.,  72.,\n",
       "        84.,  86., 162., 161., 455., 589., 405., 312., 279., 172., 167.,\n",
       "       466., 495., 513., 282., 437., 213., 365., 124., 145., 131., 301.,\n",
       "       323., 294., 149., 345., 121., 315., 403., 288.,  67.,  63., 359.,\n",
       "       273., 396., 425., 253., 164., 237., 228., 154., 257., 214., 287.,\n",
       "       248., 223., 189., 283.,  95.,  82., 114., 138., 127., 207., 178.,\n",
       "        92., 128.,  69.,  38.,  85., 107., 142., 148.,  64.,  41., 173.,\n",
       "       251., 166., 144., 380., 717., 492., 205., 103., 395., 702., 470.,\n",
       "        99., 123., 208., 212., 242., 411., 375., 385.,  96.,  58., 111.,\n",
       "       181., 199.,  40.,  20., 421., 317., 526., 662., 412.,  87.,  66.,\n",
       "       157., 201., 281.,  53.,  44.,  nan,  91., 186., 194.,  78.,  50.,\n",
       "        65., 284., 243., 247.,  93.,  97.,  56., 334., 373.,  81.,  77.,\n",
       "       179., 146., 198., 222., 302., 307., 328., 303., 278., 221., 168.,\n",
       "       262., 550., 196., 298., 416., 268., 363., 468., 352., 241., 202.,\n",
       "       169., 274., 187., 266., 159.,  62.,  73., 424., 108., 195., 261.,\n",
       "       277., 296., 219., 292., 263., 394., 388., 383., 477., 104., 244.,\n",
       "       153.,  48., 227., 209.,  79.,  49., 540., 485.,  45.,  55.,  89.,\n",
       "       480., 475., 608., 382., 440., 570., 521., 761., 680.,  76.,  17.,\n",
       "        11.,  42.,  30.,  74., 151., 232., 183., 236.,  57., 134., 565.,\n",
       "       339., 390., 476., 557., 639., 585., 457., 487., 517., 612., 402.,\n",
       "       514., 401., 422., 700., 800., 558., 469., 630.,  32., 316., 626.,\n",
       "       591.])"
      ]
     },
     "execution_count": 86,
     "metadata": {},
     "output_type": "execute_result"
    }
   ],
   "source": [
    "train.enginePower.unique()"
   ]
  },
  {
   "cell_type": "code",
   "execution_count": 87,
   "metadata": {},
   "outputs": [
    {
     "data": {
      "text/plain": [
       "150    7058\n",
       "249    3721\n",
       "140    2898\n",
       "105    2360\n",
       "123    2302\n",
       "       ... \n",
       "402       1\n",
       "466       1\n",
       "700       1\n",
       "437       1\n",
       "410       1\n",
       "Name: enginePower, Length: 396, dtype: int64"
      ]
     },
     "execution_count": 87,
     "metadata": {},
     "output_type": "execute_result"
    }
   ],
   "source": [
    "train.enginePower = train.enginePower.apply(pd.to_numeric, errors='ignore')\n",
    "train.enginePower = train.enginePower.apply(\n",
    "    lambda x: np.nan if isinstance(x, str) else x)\n",
    "train.enginePower = train.enginePower.fillna(np.nan)\n",
    "train.enginePower = train.enginePower.replace(np.nan, train.enginePower.mean())\n",
    "train.enginePower = train.enginePower.astype('int')\n",
    "train.enginePower.value_counts()"
   ]
  },
  {
   "cell_type": "code",
   "execution_count": 88,
   "metadata": {},
   "outputs": [
    {
     "data": {
      "text/plain": [
       "0"
      ]
     },
     "execution_count": 88,
     "metadata": {},
     "output_type": "execute_result"
    }
   ],
   "source": [
    "train.enginePower.isna().sum()"
   ]
  },
  {
   "cell_type": "code",
   "execution_count": 89,
   "metadata": {},
   "outputs": [
    {
     "data": {
      "text/plain": [
       "123    960\n",
       "150    421\n",
       "110    155\n",
       "249    116\n",
       "149     69\n",
       "      ... \n",
       "138      1\n",
       "195      1\n",
       "201      1\n",
       "221      1\n",
       "625      1\n",
       "Name: enginePower, Length: 204, dtype: int64"
      ]
     },
     "execution_count": 89,
     "metadata": {},
     "output_type": "execute_result"
    }
   ],
   "source": [
    "train_2022.enginePower.value_counts()"
   ]
  },
  {
   "cell_type": "code",
   "execution_count": 90,
   "metadata": {},
   "outputs": [],
   "source": [
    "train_2022.enginePower = train_2022.enginePower.astype('int')"
   ]
  },
  {
   "cell_type": "code",
   "execution_count": 91,
   "metadata": {},
   "outputs": [
    {
     "data": {
      "text/plain": [
       "0"
      ]
     },
     "execution_count": 91,
     "metadata": {},
     "output_type": "execute_result"
    }
   ],
   "source": [
    "train_2022.enginePower.isna().sum()"
   ]
  },
  {
   "cell_type": "code",
   "execution_count": 92,
   "metadata": {},
   "outputs": [],
   "source": [
    "num_cols.append('enginePower')"
   ]
  },
  {
   "cell_type": "markdown",
   "metadata": {},
   "source": [
    "### fuelType"
   ]
  },
  {
   "cell_type": "code",
   "execution_count": 93,
   "metadata": {
    "scrolled": false
   },
   "outputs": [
    {
     "data": {
      "text/plain": [
       "бензин     28601\n",
       "дизель      5800\n",
       "гибрид       223\n",
       "электро       55\n",
       "газ            7\n",
       "Name: fuelType, dtype: int64"
      ]
     },
     "execution_count": 93,
     "metadata": {},
     "output_type": "execute_result"
    }
   ],
   "source": [
    "test.fuelType.value_counts()"
   ]
  },
  {
   "cell_type": "code",
   "execution_count": 94,
   "metadata": {},
   "outputs": [
    {
     "data": {
      "text/plain": [
       "0"
      ]
     },
     "execution_count": 94,
     "metadata": {},
     "output_type": "execute_result"
    }
   ],
   "source": [
    "test.fuelType.isna().sum()"
   ]
  },
  {
   "cell_type": "code",
   "execution_count": 95,
   "metadata": {},
   "outputs": [
    {
     "data": {
      "text/plain": [
       "бензин       75053\n",
       "дизель       13907\n",
       "гибрид         295\n",
       "электро        111\n",
       "газ             11\n",
       "универсал        1\n",
       "Name: fuelType, dtype: int64"
      ]
     },
     "execution_count": 95,
     "metadata": {},
     "output_type": "execute_result"
    }
   ],
   "source": [
    "train.fuelType.value_counts()"
   ]
  },
  {
   "cell_type": "code",
   "execution_count": 96,
   "metadata": {},
   "outputs": [
    {
     "data": {
      "text/plain": [
       "0"
      ]
     },
     "execution_count": 96,
     "metadata": {},
     "output_type": "execute_result"
    }
   ],
   "source": [
    "train.fuelType.isna().sum()"
   ]
  },
  {
   "cell_type": "code",
   "execution_count": 97,
   "metadata": {},
   "outputs": [],
   "source": [
    "train.fuelType = train.fuelType.replace('универсал', train.fuelType.mode()[0])"
   ]
  },
  {
   "cell_type": "code",
   "execution_count": 98,
   "metadata": {},
   "outputs": [
    {
     "data": {
      "text/plain": [
       "Бензин                              1979\n",
       "бензин                              1146\n",
       "Дизель                               483\n",
       "дизель                                12\n",
       "Электро                               10\n",
       "Бензин,газобаллонноеоборудование       7\n",
       "Гибрид                                 6\n",
       "Name: fuelType, dtype: int64"
      ]
     },
     "execution_count": 98,
     "metadata": {},
     "output_type": "execute_result"
    }
   ],
   "source": [
    "train_2022.fuelType.value_counts()"
   ]
  },
  {
   "cell_type": "code",
   "execution_count": 99,
   "metadata": {},
   "outputs": [],
   "source": [
    "train_2022.fuelType = train_2022.fuelType.str.lower()"
   ]
  },
  {
   "cell_type": "code",
   "execution_count": 100,
   "metadata": {},
   "outputs": [],
   "source": [
    "train_2022.fuelType = train_2022.fuelType.replace(\n",
    "    'бензин,газобаллонноеоборудование', 'газ')"
   ]
  },
  {
   "cell_type": "code",
   "execution_count": 101,
   "metadata": {},
   "outputs": [
    {
     "data": {
      "text/plain": [
       "23"
      ]
     },
     "execution_count": 101,
     "metadata": {},
     "output_type": "execute_result"
    }
   ],
   "source": [
    "train_2022.fuelType.isna().sum()"
   ]
  },
  {
   "cell_type": "code",
   "execution_count": 102,
   "metadata": {},
   "outputs": [],
   "source": [
    "train_2022.fuelType = train_2022.fuelType.replace(\n",
    "    np.nan, train_2022.fuelType.mode()[0])"
   ]
  },
  {
   "cell_type": "code",
   "execution_count": 103,
   "metadata": {},
   "outputs": [],
   "source": [
    "cat_cols.append('fuelType')"
   ]
  },
  {
   "cell_type": "markdown",
   "metadata": {},
   "source": [
    "### mileage"
   ]
  },
  {
   "cell_type": "code",
   "execution_count": 104,
   "metadata": {},
   "outputs": [
    {
     "data": {
      "text/plain": [
       "200000    436\n",
       "150000    382\n",
       "300000    381\n",
       "180000    347\n",
       "250000    346\n",
       "         ... \n",
       "109473      1\n",
       "299910      1\n",
       "101253      1\n",
       "23423       1\n",
       "73732       1\n",
       "Name: mileage, Length: 11268, dtype: int64"
      ]
     },
     "execution_count": 104,
     "metadata": {},
     "output_type": "execute_result"
    }
   ],
   "source": [
    "test.mileage.value_counts()"
   ]
  },
  {
   "cell_type": "code",
   "execution_count": 105,
   "metadata": {},
   "outputs": [
    {
     "data": {
      "text/plain": [
       "0"
      ]
     },
     "execution_count": 105,
     "metadata": {},
     "output_type": "execute_result"
    }
   ],
   "source": [
    "test.mileage.isna().sum()"
   ]
  },
  {
   "cell_type": "code",
   "execution_count": 106,
   "metadata": {},
   "outputs": [],
   "source": [
    "test.mileage = test.mileage.astype('int')"
   ]
  },
  {
   "cell_type": "code",
   "execution_count": 107,
   "metadata": {},
   "outputs": [
    {
     "data": {
      "text/plain": [
       "0         13588\n",
       "200000     1136\n",
       "150000     1048\n",
       "180000      897\n",
       "160000      860\n",
       "          ...  \n",
       "109597        1\n",
       "103450        1\n",
       "250898        1\n",
       "117777        1\n",
       "573000        1\n",
       "Name: mileage, Length: 17403, dtype: int64"
      ]
     },
     "execution_count": 107,
     "metadata": {},
     "output_type": "execute_result"
    }
   ],
   "source": [
    "train.mileage.value_counts()"
   ]
  },
  {
   "cell_type": "code",
   "execution_count": 108,
   "metadata": {},
   "outputs": [
    {
     "data": {
      "text/plain": [
       "0"
      ]
     },
     "execution_count": 108,
     "metadata": {},
     "output_type": "execute_result"
    }
   ],
   "source": [
    "train.mileage.isna().sum()"
   ]
  },
  {
   "cell_type": "code",
   "execution_count": 109,
   "metadata": {},
   "outputs": [],
   "source": [
    "train.mileage = train.mileage.astype('int')"
   ]
  },
  {
   "cell_type": "code",
   "execution_count": 110,
   "metadata": {
    "scrolled": false
   },
   "outputs": [
    {
     "data": {
      "text/plain": [
       "142000    13\n",
       "135000    11\n",
       "137000    11\n",
       "180000    11\n",
       "134000    10\n",
       "          ..\n",
       "92465      1\n",
       "65120      1\n",
       "141377     1\n",
       "28500      1\n",
       "14300      1\n",
       "Name: mileage, Length: 1431, dtype: int64"
      ]
     },
     "execution_count": 110,
     "metadata": {},
     "output_type": "execute_result"
    }
   ],
   "source": [
    "train_2022.mileage.value_counts()"
   ]
  },
  {
   "cell_type": "code",
   "execution_count": 111,
   "metadata": {},
   "outputs": [
    {
     "data": {
      "text/plain": [
       "1181"
      ]
     },
     "execution_count": 111,
     "metadata": {},
     "output_type": "execute_result"
    }
   ],
   "source": [
    "train_2022.mileage.isna().sum()"
   ]
  },
  {
   "cell_type": "code",
   "execution_count": 112,
   "metadata": {},
   "outputs": [],
   "source": [
    "train_2022.mileage = train_2022.mileage.apply(pd.to_numeric, errors='ignore')\n",
    "train_2022.mileage = train_2022.mileage.apply(\n",
    "    lambda x: np.nan if isinstance(x, str) else x)\n",
    "train_2022.mileage = train_2022.mileage.fillna(np.nan)\n",
    "train_2022.mileage = train_2022.mileage.replace(\n",
    "    np.nan, train_2022.mileage.mean())\n",
    "train_2022.mileage = train_2022.mileage.astype('int')"
   ]
  },
  {
   "cell_type": "code",
   "execution_count": 113,
   "metadata": {},
   "outputs": [],
   "source": [
    "num_cols.append('mileage')"
   ]
  },
  {
   "cell_type": "markdown",
   "metadata": {},
   "source": [
    "### numberOfDoors"
   ]
  },
  {
   "cell_type": "code",
   "execution_count": 114,
   "metadata": {},
   "outputs": [
    {
     "data": {
      "text/plain": [
       "5    18703\n",
       "4    14126\n",
       "2     1206\n",
       "3      650\n",
       "0        1\n",
       "Name: numberOfDoors, dtype: int64"
      ]
     },
     "execution_count": 114,
     "metadata": {},
     "output_type": "execute_result"
    }
   ],
   "source": [
    "test.numberOfDoors.value_counts()"
   ]
  },
  {
   "cell_type": "code",
   "execution_count": 115,
   "metadata": {},
   "outputs": [
    {
     "data": {
      "text/plain": [
       "0"
      ]
     },
     "execution_count": 115,
     "metadata": {},
     "output_type": "execute_result"
    }
   ],
   "source": [
    "test.numberOfDoors.isna().sum()"
   ]
  },
  {
   "cell_type": "code",
   "execution_count": 116,
   "metadata": {},
   "outputs": [
    {
     "data": {
      "text/plain": [
       "5.00    51625\n",
       "4.00    33647\n",
       "3.00     2211\n",
       "2.00     1893\n",
       "0.00        1\n",
       "Name: numberOfDoors, dtype: int64"
      ]
     },
     "execution_count": 116,
     "metadata": {},
     "output_type": "execute_result"
    }
   ],
   "source": [
    "train.numberOfDoors.value_counts()"
   ]
  },
  {
   "cell_type": "code",
   "execution_count": 117,
   "metadata": {},
   "outputs": [
    {
     "data": {
      "text/plain": [
       "1"
      ]
     },
     "execution_count": 117,
     "metadata": {},
     "output_type": "execute_result"
    }
   ],
   "source": [
    "train.numberOfDoors.isna().sum()"
   ]
  },
  {
   "cell_type": "code",
   "execution_count": 118,
   "metadata": {},
   "outputs": [],
   "source": [
    "train.numberOfDoors = train.numberOfDoors.fillna(train.numberOfDoors.mean())"
   ]
  },
  {
   "cell_type": "code",
   "execution_count": 119,
   "metadata": {
    "scrolled": true
   },
   "outputs": [],
   "source": [
    "train.numberOfDoors = train.numberOfDoors.astype('int')"
   ]
  },
  {
   "cell_type": "code",
   "execution_count": 120,
   "metadata": {},
   "outputs": [],
   "source": [
    "doors_dict = {  'внедорожник': 5,\n",
    "                'седан': 4,\n",
    "                'хэтчбек': 5,\n",
    "                'лифтбек': 5,\n",
    "                'универсал': 5,\n",
    "                'минивэн': 5,\n",
    "                'компактвэн': 5,\n",
    "                'купе': 2,\n",
    "                'фургон': 3,\n",
    "                'пикап': 4,\n",
    "                'кабриолет': 2,\n",
    "                'родстер': 2    \n",
    "            }"
   ]
  },
  {
   "cell_type": "code",
   "execution_count": 121,
   "metadata": {},
   "outputs": [],
   "source": [
    "train_2022['numberOfDoors'] = train_2022.bodyType.map(doors_dict)"
   ]
  },
  {
   "cell_type": "code",
   "execution_count": 122,
   "metadata": {},
   "outputs": [
    {
     "data": {
      "text/plain": [
       "5    2572\n",
       "4    1052\n",
       "2      33\n",
       "3       9\n",
       "Name: numberOfDoors, dtype: int64"
      ]
     },
     "execution_count": 122,
     "metadata": {},
     "output_type": "execute_result"
    }
   ],
   "source": [
    "train_2022.numberOfDoors.value_counts()"
   ]
  },
  {
   "cell_type": "code",
   "execution_count": 123,
   "metadata": {},
   "outputs": [],
   "source": [
    "train_2022.numberOfDoors = train_2022.numberOfDoors.apply(\n",
    "    lambda x: None if x == 'nan' else x)"
   ]
  },
  {
   "cell_type": "code",
   "execution_count": 124,
   "metadata": {},
   "outputs": [
    {
     "data": {
      "text/plain": [
       "array([5, 4, 2, 3], dtype=int64)"
      ]
     },
     "execution_count": 124,
     "metadata": {},
     "output_type": "execute_result"
    }
   ],
   "source": [
    "train_2022.numberOfDoors.unique()"
   ]
  },
  {
   "cell_type": "code",
   "execution_count": 125,
   "metadata": {},
   "outputs": [
    {
     "data": {
      "text/plain": [
       "0"
      ]
     },
     "execution_count": 125,
     "metadata": {},
     "output_type": "execute_result"
    }
   ],
   "source": [
    "train_2022.numberOfDoors.isna().sum()"
   ]
  },
  {
   "cell_type": "code",
   "execution_count": 126,
   "metadata": {},
   "outputs": [],
   "source": [
    "train_2022.numberOfDoors = train_2022.numberOfDoors.astype('int')"
   ]
  },
  {
   "cell_type": "code",
   "execution_count": 127,
   "metadata": {},
   "outputs": [],
   "source": [
    "cat_cols.append('numberOfDoors')"
   ]
  },
  {
   "cell_type": "markdown",
   "metadata": {},
   "source": [
    "### productionDate"
   ]
  },
  {
   "cell_type": "code",
   "execution_count": 128,
   "metadata": {},
   "outputs": [
    {
     "data": {
      "text/plain": [
       "2012    2798\n",
       "2008    2606\n",
       "2011    2589\n",
       "2013    2488\n",
       "2014    2134\n",
       "        ... \n",
       "1936       1\n",
       "1904       1\n",
       "1967       1\n",
       "1960       1\n",
       "1952       1\n",
       "Name: productionDate, Length: 69, dtype: int64"
      ]
     },
     "execution_count": 128,
     "metadata": {},
     "output_type": "execute_result"
    }
   ],
   "source": [
    "test.productionDate.value_counts()"
   ]
  },
  {
   "cell_type": "markdown",
   "metadata": {},
   "source": [
    "Сравним колонки modelDate и productionDate."
   ]
  },
  {
   "cell_type": "code",
   "execution_count": 129,
   "metadata": {},
   "outputs": [
    {
     "name": "stdout",
     "output_type": "stream",
     "text": [
      "Корреляция modelDate и productionDate: 0.9742932794331378\n",
      "Пропуски в modelDate: 0\n",
      "Пропуски в productionDate: 0\n",
      "Количетство набдюдений в modelDate: 34686\n",
      "Количетство набдюдени в productionDate: 34686\n"
     ]
    }
   ],
   "source": [
    "print('Корреляция modelDate и productionDate:',\n",
    "      test.modelDate.corr(test.productionDate))\n",
    "print('Пропуски в modelDate:', test.modelDate.isna().sum())\n",
    "print('Пропуски в productionDate:', test.productionDate.isna().sum())\n",
    "print('Количетство набдюдений в modelDate:',\n",
    "      test.modelDate.value_counts().sum())\n",
    "print('Количетство набдюдени в productionDate:',\n",
    "      test.productionDate.value_counts().sum())"
   ]
  },
  {
   "cell_type": "markdown",
   "metadata": {},
   "source": [
    "Колонку modelDate можно удалить без потерь."
   ]
  },
  {
   "cell_type": "code",
   "execution_count": 130,
   "metadata": {},
   "outputs": [],
   "source": [
    "test.drop(['modelDate'], inplace=True, axis=1)"
   ]
  },
  {
   "cell_type": "code",
   "execution_count": 131,
   "metadata": {},
   "outputs": [
    {
     "data": {
      "text/plain": [
       "2020    12524\n",
       "2008     7043\n",
       "2012     6630\n",
       "2011     6192\n",
       "2013     5601\n",
       "        ...  \n",
       "1960        1\n",
       "1955        1\n",
       "1954        1\n",
       "1948        1\n",
       "1949        1\n",
       "Name: productionDate, Length: 80, dtype: int64"
      ]
     },
     "execution_count": 131,
     "metadata": {},
     "output_type": "execute_result"
    }
   ],
   "source": [
    "train.productionDate.value_counts()"
   ]
  },
  {
   "cell_type": "code",
   "execution_count": 132,
   "metadata": {},
   "outputs": [
    {
     "data": {
      "text/plain": [
       "0"
      ]
     },
     "execution_count": 132,
     "metadata": {},
     "output_type": "execute_result"
    }
   ],
   "source": [
    "train.productionDate.isna().sum()"
   ]
  },
  {
   "cell_type": "code",
   "execution_count": 133,
   "metadata": {},
   "outputs": [
    {
     "name": "stdout",
     "output_type": "stream",
     "text": [
      "Корреляция modelDate и productionDate: 0.969420514821148\n"
     ]
    }
   ],
   "source": [
    "print('Корреляция modelDate и productionDate:',\n",
    "      train.modelDate.corr(train.productionDate))"
   ]
  },
  {
   "cell_type": "code",
   "execution_count": 134,
   "metadata": {},
   "outputs": [],
   "source": [
    "train.drop(['modelDate'], inplace=True, axis=1)"
   ]
  },
  {
   "cell_type": "code",
   "execution_count": 135,
   "metadata": {},
   "outputs": [
    {
     "data": {
      "text/plain": [
       "2018.00    243\n",
       "2013.00    228\n",
       "2017.00    209\n",
       "2012.00    208\n",
       "2020.00    206\n",
       "2019.00    184\n",
       "2021.00    178\n",
       "2014.00    168\n",
       "2011.00    148\n",
       "2016.00    143\n",
       "2015.00    117\n",
       "2008.00    110\n",
       "2010.00     95\n",
       "2007.00     59\n",
       "2006.00     53\n",
       "2009.00     25\n",
       "2002.00     22\n",
       "2004.00     18\n",
       "2005.00     16\n",
       "2003.00     11\n",
       "1998.00     10\n",
       "2001.00      9\n",
       "2022.00      5\n",
       "2000.00      5\n",
       "1996.00      4\n",
       "1997.00      3\n",
       "1988.00      2\n",
       "1999.00      2\n",
       "1991.00      2\n",
       "1994.00      1\n",
       "1992.00      1\n",
       "Name: productionDate, dtype: int64"
      ]
     },
     "execution_count": 135,
     "metadata": {},
     "output_type": "execute_result"
    }
   ],
   "source": [
    "train_2022.productionDate.value_counts()"
   ]
  },
  {
   "cell_type": "code",
   "execution_count": 136,
   "metadata": {},
   "outputs": [
    {
     "data": {
      "text/plain": [
       "1181"
      ]
     },
     "execution_count": 136,
     "metadata": {},
     "output_type": "execute_result"
    }
   ],
   "source": [
    "train_2022.productionDate.isna().sum()"
   ]
  },
  {
   "cell_type": "markdown",
   "metadata": {},
   "source": [
    "Заполним пропуски следующим образом. Чтобы не нарушать структуру данных в признаке, распреденим пропуски пропорционально количеству значений в категории.\n",
    "\n",
    "Для этого найдем доли каждой категории в общем количестве, возьмем общее количество пропусков и умножим на вес каждой категории.\n",
    "\n",
    "В результате мы получим количество дополнительных не NaN значений пропорционально для каждой категории.\n",
    "\n",
    "Функция работает с категориями от 0 и далее. Поэтому преобразуем количество дверей в категории:"
   ]
  },
  {
   "cell_type": "code",
   "execution_count": 137,
   "metadata": {},
   "outputs": [],
   "source": [
    "productionDate_dict = train_2022.productionDate.dropna(\n",
    ").sort_values(ascending=False).unique()\n",
    "productionDate_dict = dict(enumerate(productionDate_dict.flatten(), 0))\n",
    "# поменяем местами ключ-значение\n",
    "productionDate_dict = {v: k for k, v in productionDate_dict.items()}\n",
    "# превратим годы выпуска в категории\n",
    "train_2022.productionDate = train_2022.productionDate.map(productionDate_dict)"
   ]
  },
  {
   "cell_type": "code",
   "execution_count": 138,
   "metadata": {},
   "outputs": [
    {
     "name": "stdout",
     "output_type": "stream",
     "text": [
      "было Nan: 1181\n",
      "было значений в категории: [243 228 209 208 206 184 178 168 148 143 117 110  95  59  53  25  22  18\n",
      "  16  11  10   9   5   5   4   3   2   2   2   1   1]\n",
      "стало значений в категории: [246 313 307 295 321 283 246 224 228 251 216 180 140  71 105  53  47  26\n",
      "  25  16  20  13   7   6   9   4   4   2   2   2   2]\n",
      "разница: [  3  85  98  87 115  99  68  56  80 108  99  70  45  12  52  28  25   8\n",
      "   9   5  10   4   2   1   5   1   2   0   0   1   1]\n",
      "стало не Nan: 1179\n",
      "было Nan: 2\n",
      "было значений в категории: [358 336 308 307 304 271 263 248 218 211 173 162 140  87  78  37  32  27\n",
      "  24  16  15  13   8   7   6   4   3   3   3   1   1]\n",
      "стало значений в категории: [359 336 308 307 304 271 263 248 218 211 173 162 140  87  78  37  32  27\n",
      "  24  16  15  13   8   7   6   4   3   3   3   1   1]\n",
      "разница: [1 0 0 0 0 0 0 0 0 0 0 0 0 0 0 0 0 0 0 0 0 0 0 0 0 0 0 0 0 0 0]\n",
      "стало не Nan: 1\n",
      "было Nan: 1\n",
      "было значений в категории: [358 336 308 307 304 271 263 248 218 211 173 162 140  87  78  37  32  27\n",
      "  24  16  15  13   9   7   6   4   3   3   3   1   1]\n",
      "стало значений в категории: [359 336 308 307 304 271 263 248 218 211 173 162 140  87  78  37  32  27\n",
      "  24  16  15  13   9   7   6   4   3   3   3   1   1]\n",
      "разница: [1 0 0 0 0 0 0 0 0 0 0 0 0 0 0 0 0 0 0 0 0 0 0 0 0 0 0 0 0 0 0]\n",
      "стало не Nan: 1\n"
     ]
    }
   ],
   "source": [
    "fill_nan(train_2022, 'productionDate')\n",
    "fill_nan(train_2022, 'productionDate')\n",
    "fill_nan(train_2022, 'productionDate')"
   ]
  },
  {
   "cell_type": "code",
   "execution_count": 139,
   "metadata": {},
   "outputs": [
    {
     "data": {
      "text/plain": [
       "0"
      ]
     },
     "execution_count": 139,
     "metadata": {},
     "output_type": "execute_result"
    }
   ],
   "source": [
    "train_2022.productionDate.isna().sum()"
   ]
  },
  {
   "cell_type": "code",
   "execution_count": 140,
   "metadata": {},
   "outputs": [
    {
     "data": {
      "text/plain": [
       "2018.00    358\n",
       "2013.00    336\n",
       "2017.00    308\n",
       "2012.00    307\n",
       "2020.00    304\n",
       "2019.00    271\n",
       "2021.00    263\n",
       "2014.00    248\n",
       "2011.00    218\n",
       "2016.00    211\n",
       "2015.00    173\n",
       "2008.00    162\n",
       "2010.00    140\n",
       "2007.00     87\n",
       "2006.00     78\n",
       "2009.00     37\n",
       "2002.00     32\n",
       "2004.00     27\n",
       "2005.00     24\n",
       "2003.00     16\n",
       "1998.00     15\n",
       "2001.00     13\n",
       "2022.00     10\n",
       "2000.00      7\n",
       "1996.00      6\n",
       "1997.00      4\n",
       "1988.00      3\n",
       "1999.00      3\n",
       "1991.00      3\n",
       "1994.00      1\n",
       "1992.00      1\n",
       "Name: productionDate, dtype: int64"
      ]
     },
     "execution_count": 140,
     "metadata": {},
     "output_type": "execute_result"
    }
   ],
   "source": [
    "# заменим обратно категории годами выпуска\n",
    "productionDate_dict = {v: k for k, v in productionDate_dict.items()}\n",
    "train_2022.productionDate = train_2022.productionDate.map(productionDate_dict)\n",
    "train_2022.productionDate.value_counts()"
   ]
  },
  {
   "cell_type": "code",
   "execution_count": 141,
   "metadata": {},
   "outputs": [],
   "source": [
    "num_cols.append('productionDate')"
   ]
  },
  {
   "cell_type": "markdown",
   "metadata": {},
   "source": [
    "### vehicleTransmission"
   ]
  },
  {
   "cell_type": "code",
   "execution_count": 142,
   "metadata": {},
   "outputs": [
    {
     "data": {
      "text/plain": [
       "автоматическая      19596\n",
       "механическая         7209\n",
       "вариатор             3999\n",
       "роботизированная     3882\n",
       "Name: vehicleTransmission, dtype: int64"
      ]
     },
     "execution_count": 142,
     "metadata": {},
     "output_type": "execute_result"
    }
   ],
   "source": [
    "test.vehicleTransmission.value_counts()"
   ]
  },
  {
   "cell_type": "code",
   "execution_count": 143,
   "metadata": {},
   "outputs": [
    {
     "data": {
      "text/plain": [
       "0"
      ]
     },
     "execution_count": 143,
     "metadata": {},
     "output_type": "execute_result"
    }
   ],
   "source": [
    "test.vehicleTransmission.isna().sum()"
   ]
  },
  {
   "cell_type": "code",
   "execution_count": 144,
   "metadata": {},
   "outputs": [],
   "source": [
    "vehicleTransmission_dict = {\n",
    "    'автоматическая': 'AUTOMATIC',\n",
    "    'механическая': 'MECHANICAL',\n",
    "    'вариатор': 'VARIATOR',\n",
    "    'роботизированная': 'ROBOT'\n",
    "}"
   ]
  },
  {
   "cell_type": "code",
   "execution_count": 145,
   "metadata": {},
   "outputs": [],
   "source": [
    "test.vehicleTransmission = test.vehicleTransmission.map(\n",
    "    vehicleTransmission_dict)"
   ]
  },
  {
   "cell_type": "code",
   "execution_count": 146,
   "metadata": {},
   "outputs": [
    {
     "data": {
      "text/plain": [
       "AUTOMATIC     49218\n",
       "MECHANICAL    25264\n",
       "ROBOT          7871\n",
       "VARIATOR       7024\n",
       "Name: vehicleTransmission, dtype: int64"
      ]
     },
     "execution_count": 146,
     "metadata": {},
     "output_type": "execute_result"
    }
   ],
   "source": [
    "train.vehicleTransmission.value_counts()"
   ]
  },
  {
   "cell_type": "code",
   "execution_count": 147,
   "metadata": {},
   "outputs": [
    {
     "data": {
      "text/plain": [
       "1"
      ]
     },
     "execution_count": 147,
     "metadata": {},
     "output_type": "execute_result"
    }
   ],
   "source": [
    "train.vehicleTransmission.isna().sum()"
   ]
  },
  {
   "cell_type": "code",
   "execution_count": 148,
   "metadata": {},
   "outputs": [],
   "source": [
    "train.vehicleTransmission = train.vehicleTransmission.replace(\n",
    "    np.nan, train.vehicleTransmission.mode()[0])"
   ]
  },
  {
   "cell_type": "code",
   "execution_count": 149,
   "metadata": {},
   "outputs": [
    {
     "data": {
      "text/plain": [
       "автоматическая      1449\n",
       "Автоматическая       861\n",
       "механическая         392\n",
       "роботизированная     248\n",
       "вариатор             230\n",
       "Механическая         190\n",
       "передний              83\n",
       "Передний              55\n",
       "полный                55\n",
       "Вариатор              41\n",
       "задний                20\n",
       "Роботизированная      11\n",
       "0 ₽ / год              4\n",
       "Левый                  2\n",
       "7 889 ₽ / год          2\n",
       "Name: vehicleTransmission, dtype: int64"
      ]
     },
     "execution_count": 149,
     "metadata": {},
     "output_type": "execute_result"
    }
   ],
   "source": [
    "train_2022.vehicleTransmission.value_counts()"
   ]
  },
  {
   "cell_type": "code",
   "execution_count": 150,
   "metadata": {},
   "outputs": [],
   "source": [
    "train_2022.vehicleTransmission = train_2022.vehicleTransmission.astype(\n",
    "    'str').apply(lambda x: x.lower())"
   ]
  },
  {
   "cell_type": "code",
   "execution_count": 151,
   "metadata": {},
   "outputs": [],
   "source": [
    "train_2022.vehicleTransmission = train_2022.vehicleTransmission.map(\n",
    "    vehicleTransmission_dict)"
   ]
  },
  {
   "cell_type": "code",
   "execution_count": 152,
   "metadata": {},
   "outputs": [
    {
     "data": {
      "text/plain": [
       "244"
      ]
     },
     "execution_count": 152,
     "metadata": {},
     "output_type": "execute_result"
    }
   ],
   "source": [
    "train_2022.vehicleTransmission.isna().sum()"
   ]
  },
  {
   "cell_type": "code",
   "execution_count": 153,
   "metadata": {},
   "outputs": [
    {
     "data": {
      "text/plain": [
       "array(['ROBOT', 'AUTOMATIC', 'MECHANICAL', 'VARIATOR', nan], dtype=object)"
      ]
     },
     "execution_count": 153,
     "metadata": {},
     "output_type": "execute_result"
    }
   ],
   "source": [
    "train_2022.vehicleTransmission.unique()"
   ]
  },
  {
   "cell_type": "code",
   "execution_count": 154,
   "metadata": {},
   "outputs": [],
   "source": [
    "vehicleTransmission_dct = {'AUTOMATIC': 0,\n",
    "                           'MECHANICAL': 1, 'VARIATOR': 2, 'ROBOT': 3}\n",
    "train_2022.vehicleTransmission = train_2022.vehicleTransmission.map(\n",
    "    vehicleTransmission_dct)"
   ]
  },
  {
   "cell_type": "code",
   "execution_count": 155,
   "metadata": {},
   "outputs": [
    {
     "name": "stdout",
     "output_type": "stream",
     "text": [
      "было Nan: 244\n",
      "было значений в категории: [2310  582  271  259]\n",
      "стало значений в категории: [2476  623  290  277]\n",
      "разница: [166  41  19  18]\n",
      "стало не Nan: 244\n"
     ]
    }
   ],
   "source": [
    "fill_nan(train_2022, 'vehicleTransmission')"
   ]
  },
  {
   "cell_type": "code",
   "execution_count": 156,
   "metadata": {},
   "outputs": [
    {
     "data": {
      "text/plain": [
       "AUTOMATIC     2476\n",
       "MECHANICAL     623\n",
       "VARIATOR       290\n",
       "ROBOT          277\n",
       "Name: vehicleTransmission, dtype: int64"
      ]
     },
     "execution_count": 156,
     "metadata": {},
     "output_type": "execute_result"
    }
   ],
   "source": [
    "vehicleTransmission_dct = {v: k for k, v in vehicleTransmission_dct.items()}\n",
    "train_2022.vehicleTransmission = train_2022.vehicleTransmission.map(\n",
    "    vehicleTransmission_dct)\n",
    "train_2022.vehicleTransmission.value_counts()"
   ]
  },
  {
   "cell_type": "code",
   "execution_count": 157,
   "metadata": {},
   "outputs": [],
   "source": [
    "cat_cols.append('vehicleTransmission')"
   ]
  },
  {
   "cell_type": "markdown",
   "metadata": {},
   "source": [
    "### Владельцы"
   ]
  },
  {
   "cell_type": "code",
   "execution_count": 158,
   "metadata": {},
   "outputs": [
    {
     "data": {
      "text/plain": [
       "array(['3 или более', '1\\xa0владелец', '2\\xa0владельца'], dtype=object)"
      ]
     },
     "execution_count": 158,
     "metadata": {},
     "output_type": "execute_result"
    }
   ],
   "source": [
    "test['Владельцы'].unique()"
   ]
  },
  {
   "cell_type": "code",
   "execution_count": 159,
   "metadata": {},
   "outputs": [],
   "source": [
    "test['Владельцы'] = test['Владельцы'].apply(\n",
    "    lambda x: x.split()[0].split('\\\\')[0]).astype('float')"
   ]
  },
  {
   "cell_type": "code",
   "execution_count": 160,
   "metadata": {},
   "outputs": [],
   "source": [
    "test.rename(columns={'Владельцы': 'owners'}, inplace=True)"
   ]
  },
  {
   "cell_type": "code",
   "execution_count": 161,
   "metadata": {},
   "outputs": [
    {
     "data": {
      "text/plain": [
       "3.00    15957\n",
       "1.00     9459\n",
       "2.00     9270\n",
       "Name: owners, dtype: int64"
      ]
     },
     "execution_count": 161,
     "metadata": {},
     "output_type": "execute_result"
    }
   ],
   "source": [
    "test.owners.value_counts()"
   ]
  },
  {
   "cell_type": "code",
   "execution_count": 162,
   "metadata": {},
   "outputs": [
    {
     "data": {
      "text/plain": [
       "0"
      ]
     },
     "execution_count": 162,
     "metadata": {},
     "output_type": "execute_result"
    }
   ],
   "source": [
    "test.owners.isna().sum()"
   ]
  },
  {
   "cell_type": "code",
   "execution_count": 163,
   "metadata": {},
   "outputs": [
    {
     "data": {
      "text/plain": [
       "array([ 3.,  1.,  2., nan])"
      ]
     },
     "execution_count": 163,
     "metadata": {},
     "output_type": "execute_result"
    }
   ],
   "source": [
    "train['Владельцы'].unique()"
   ]
  },
  {
   "cell_type": "code",
   "execution_count": 164,
   "metadata": {},
   "outputs": [],
   "source": [
    "train.rename(columns={'Владельцы': 'owners'}, inplace=True)"
   ]
  },
  {
   "cell_type": "code",
   "execution_count": 165,
   "metadata": {},
   "outputs": [
    {
     "data": {
      "text/plain": [
       "3.00    36248\n",
       "2.00    21006\n",
       "1.00    18536\n",
       "Name: owners, dtype: int64"
      ]
     },
     "execution_count": 165,
     "metadata": {},
     "output_type": "execute_result"
    }
   ],
   "source": [
    "train.owners.value_counts()"
   ]
  },
  {
   "cell_type": "code",
   "execution_count": 166,
   "metadata": {},
   "outputs": [],
   "source": [
    "train.owners.fillna(np.nan, inplace=True)"
   ]
  },
  {
   "cell_type": "code",
   "execution_count": 167,
   "metadata": {},
   "outputs": [
    {
     "data": {
      "text/plain": [
       "13588"
      ]
     },
     "execution_count": 167,
     "metadata": {},
     "output_type": "execute_result"
    }
   ],
   "source": [
    "train.owners.isna().sum()"
   ]
  },
  {
   "cell_type": "code",
   "execution_count": 168,
   "metadata": {},
   "outputs": [
    {
     "data": {
      "text/plain": [
       "array([ 3.,  1.,  2., nan])"
      ]
     },
     "execution_count": 168,
     "metadata": {},
     "output_type": "execute_result"
    }
   ],
   "source": [
    "train.owners.unique()"
   ]
  },
  {
   "cell_type": "code",
   "execution_count": 169,
   "metadata": {},
   "outputs": [],
   "source": [
    "train.owners = train.owners.replace('nan', None)"
   ]
  },
  {
   "cell_type": "code",
   "execution_count": 170,
   "metadata": {},
   "outputs": [],
   "source": [
    "owners_dct = {3: 0, 2: 1, 1: 2}\n",
    "train.owners = train.owners.map(owners_dct)"
   ]
  },
  {
   "cell_type": "code",
   "execution_count": 171,
   "metadata": {},
   "outputs": [
    {
     "name": "stdout",
     "output_type": "stream",
     "text": [
      "было Nan: 13588\n",
      "было значений в категории: [36248 21006 18536]\n",
      "стало значений в категории: [42747 24772 21859]\n",
      "разница: [6499 3766 3323]\n",
      "стало не Nan: 13588\n"
     ]
    }
   ],
   "source": [
    "fill_nan(train, 'owners')"
   ]
  },
  {
   "cell_type": "code",
   "execution_count": 172,
   "metadata": {},
   "outputs": [],
   "source": [
    "owners_dct = {0: 3, 1: 2, 2: 1}\n",
    "train.owners = train.owners.map(owners_dct)"
   ]
  },
  {
   "cell_type": "code",
   "execution_count": 173,
   "metadata": {},
   "outputs": [
    {
     "data": {
      "text/plain": [
       "1 владелец            1194\n",
       "2 владельца            635\n",
       "3 или более            490\n",
       "Оригинал               140\n",
       "Дубликат                18\n",
       "Не требует ремонта       6\n",
       "7 лет и 8 месяцев        1\n",
       "14 лет и 4 месяца        1\n",
       "Name: owners, dtype: int64"
      ]
     },
     "execution_count": 173,
     "metadata": {},
     "output_type": "execute_result"
    }
   ],
   "source": [
    "train_2022.owners.value_counts()"
   ]
  },
  {
   "cell_type": "code",
   "execution_count": 174,
   "metadata": {},
   "outputs": [],
   "source": [
    "owners_dict = {\n",
    "    '1 владелец': 1,\n",
    "    '2 владельца': 2,\n",
    "    '3 или более': 3\n",
    "}\n",
    "train_2022.owners = train_2022.owners.map(owners_dict)"
   ]
  },
  {
   "cell_type": "code",
   "execution_count": 175,
   "metadata": {},
   "outputs": [
    {
     "data": {
      "text/plain": [
       "1347"
      ]
     },
     "execution_count": 175,
     "metadata": {},
     "output_type": "execute_result"
    }
   ],
   "source": [
    "train_2022.owners.isna().sum()"
   ]
  },
  {
   "cell_type": "code",
   "execution_count": 176,
   "metadata": {},
   "outputs": [
    {
     "data": {
      "text/plain": [
       "array([ 2.,  1.,  3., nan])"
      ]
     },
     "execution_count": 176,
     "metadata": {},
     "output_type": "execute_result"
    }
   ],
   "source": [
    "train_2022.owners.unique()"
   ]
  },
  {
   "cell_type": "code",
   "execution_count": 177,
   "metadata": {},
   "outputs": [],
   "source": [
    "# train_2022.owners = train_2022.owners.fillna(np.nan)"
   ]
  },
  {
   "cell_type": "code",
   "execution_count": 178,
   "metadata": {},
   "outputs": [],
   "source": [
    "owners_dct = {1: 0, 2: 1, 3: 2}\n",
    "train_2022.owners = train_2022.owners.map(owners_dct)"
   ]
  },
  {
   "cell_type": "code",
   "execution_count": 179,
   "metadata": {},
   "outputs": [
    {
     "name": "stdout",
     "output_type": "stream",
     "text": [
      "было Nan: 1347\n",
      "было значений в категории: [1194  635  490]\n",
      "стало значений в категории: [1887 1004  775]\n",
      "разница: [693 369 285]\n",
      "стало не Nan: 1347\n"
     ]
    }
   ],
   "source": [
    "fill_nan(train_2022, 'owners')"
   ]
  },
  {
   "cell_type": "code",
   "execution_count": 180,
   "metadata": {},
   "outputs": [],
   "source": [
    "owners_dct = {0: 1, 1: 2, 2: 3}\n",
    "train_2022.owners = train_2022.owners.map(owners_dct)"
   ]
  },
  {
   "cell_type": "code",
   "execution_count": 181,
   "metadata": {},
   "outputs": [],
   "source": [
    "cat_cols.append('owners')"
   ]
  },
  {
   "cell_type": "markdown",
   "metadata": {},
   "source": [
    "### ПТС"
   ]
  },
  {
   "cell_type": "code",
   "execution_count": 182,
   "metadata": {},
   "outputs": [],
   "source": [
    "test.rename(columns={'ПТС': 'pts'}, inplace=True)"
   ]
  },
  {
   "cell_type": "code",
   "execution_count": 183,
   "metadata": {},
   "outputs": [
    {
     "data": {
      "text/plain": [
       "Оригинал    30098\n",
       "Дубликат     4587\n",
       "Name: pts, dtype: int64"
      ]
     },
     "execution_count": 183,
     "metadata": {},
     "output_type": "execute_result"
    }
   ],
   "source": [
    "test.pts.value_counts()"
   ]
  },
  {
   "cell_type": "code",
   "execution_count": 184,
   "metadata": {},
   "outputs": [
    {
     "data": {
      "text/plain": [
       "1"
      ]
     },
     "execution_count": 184,
     "metadata": {},
     "output_type": "execute_result"
    }
   ],
   "source": [
    "test.pts.isna().sum()"
   ]
  },
  {
   "cell_type": "code",
   "execution_count": 185,
   "metadata": {},
   "outputs": [],
   "source": [
    "test.pts = test.pts.fillna(test.pts.mode()[0])"
   ]
  },
  {
   "cell_type": "code",
   "execution_count": 186,
   "metadata": {},
   "outputs": [],
   "source": [
    "train.rename(columns={'ПТС': 'pts'}, inplace=True)"
   ]
  },
  {
   "cell_type": "code",
   "execution_count": 187,
   "metadata": {},
   "outputs": [
    {
     "data": {
      "text/plain": [
       "ORIGINAL     78597\n",
       "DUPLICATE    10420\n",
       "Name: pts, dtype: int64"
      ]
     },
     "execution_count": 187,
     "metadata": {},
     "output_type": "execute_result"
    }
   ],
   "source": [
    "train.pts.value_counts()"
   ]
  },
  {
   "cell_type": "code",
   "execution_count": 188,
   "metadata": {},
   "outputs": [
    {
     "data": {
      "text/plain": [
       "361"
      ]
     },
     "execution_count": 188,
     "metadata": {},
     "output_type": "execute_result"
    }
   ],
   "source": [
    "train.pts.isna().sum()"
   ]
  },
  {
   "cell_type": "code",
   "execution_count": 189,
   "metadata": {},
   "outputs": [],
   "source": [
    "pts_dict = {'ORIGINAL': 'Оригинал', 'DUPLICATE': 'Дубликат'}"
   ]
  },
  {
   "cell_type": "code",
   "execution_count": 190,
   "metadata": {},
   "outputs": [],
   "source": [
    "train.pts = train.pts.map(pts_dict)"
   ]
  },
  {
   "cell_type": "code",
   "execution_count": 191,
   "metadata": {},
   "outputs": [],
   "source": [
    "pts_dct = {'Оригинал': 0, 'Дубликат': 1}\n",
    "train.pts = train.pts.map(pts_dct)"
   ]
  },
  {
   "cell_type": "code",
   "execution_count": 192,
   "metadata": {},
   "outputs": [
    {
     "name": "stdout",
     "output_type": "stream",
     "text": [
      "было Nan: 361\n",
      "было значений в категории: [78597 10420]\n",
      "стало значений в категории: [78916 10462]\n",
      "разница: [319  42]\n",
      "стало не Nan: 361\n"
     ]
    }
   ],
   "source": [
    "fill_nan(train, 'pts')"
   ]
  },
  {
   "cell_type": "code",
   "execution_count": 193,
   "metadata": {},
   "outputs": [],
   "source": [
    "pts_dct = {0: 'Оригинал', 1: 'Дубликат'}\n",
    "train.pts = train.pts.map(pts_dct)"
   ]
  },
  {
   "cell_type": "code",
   "execution_count": 194,
   "metadata": {},
   "outputs": [
    {
     "data": {
      "text/plain": [
       "Оригинал               2256\n",
       "Растаможен              128\n",
       "Дубликат                 63\n",
       "1 владелец                4\n",
       "1 год и 2 месяца          2\n",
       "3 года и 9 месяцев        2\n",
       "2 года и 4 месяца         2\n",
       "2 месяца                  2\n",
       "11 месяцев                2\n",
       "4 года и 8 месяцев        1\n",
       "3 года и 4 месяца         1\n",
       "3 года и 6 месяцев        1\n",
       "6 лет и 8 месяцев         1\n",
       "5 лет и 10 месяцев        1\n",
       "2 года и 2 месяца         1\n",
       "2 владельца               1\n",
       "9 лет                     1\n",
       "2 года и 9 месяцев        1\n",
       "2 года и 1 месяц          1\n",
       "4 месяца                  1\n",
       "1 год и 5 месяцев         1\n",
       "3 или более               1\n",
       "14 лет и 5 месяцев        1\n",
       "2 года и 8 месяцев        1\n",
       "10 месяцев                1\n",
       "10 лет и 5 месяцев        1\n",
       "5 лет и 4 месяца          1\n",
       "5 лет и 9 месяцев         1\n",
       "1 год и 1 месяц           1\n",
       "4 года и 6 месяцев        1\n",
       "8 лет и 3 месяца          1\n",
       "2 года и 11 месяцев       1\n",
       "10 лет и 3 месяца         1\n",
       "Name: pts, dtype: int64"
      ]
     },
     "execution_count": 194,
     "metadata": {},
     "output_type": "execute_result"
    }
   ],
   "source": [
    "train_2022.pts.value_counts()"
   ]
  },
  {
   "cell_type": "code",
   "execution_count": 195,
   "metadata": {},
   "outputs": [
    {
     "data": {
      "text/plain": [
       "1181"
      ]
     },
     "execution_count": 195,
     "metadata": {},
     "output_type": "execute_result"
    }
   ],
   "source": [
    "train_2022.pts.isna().sum()"
   ]
  },
  {
   "cell_type": "code",
   "execution_count": 196,
   "metadata": {},
   "outputs": [],
   "source": [
    "train_2022.pts.loc[(train_2022.pts.isna())] = None"
   ]
  },
  {
   "cell_type": "code",
   "execution_count": 197,
   "metadata": {},
   "outputs": [],
   "source": [
    "train_2022.pts = train_2022.pts.apply(\n",
    "    lambda x: x if x == 'Оригинал' else None if x == None else 'Дубликат')"
   ]
  },
  {
   "cell_type": "code",
   "execution_count": 198,
   "metadata": {},
   "outputs": [],
   "source": [
    "pts_dct = {'Оригинал': 0, 'Дубликат': 1}\n",
    "train_2022.pts = train_2022.pts.map(pts_dct)"
   ]
  },
  {
   "cell_type": "code",
   "execution_count": 199,
   "metadata": {},
   "outputs": [
    {
     "name": "stdout",
     "output_type": "stream",
     "text": [
      "было Nan: 1181\n",
      "было значений в категории: [2256  229]\n",
      "стало значений в категории: [3328  338]\n",
      "разница: [1072  109]\n",
      "стало не Nan: 1181\n"
     ]
    }
   ],
   "source": [
    "fill_nan(train_2022, 'pts')"
   ]
  },
  {
   "cell_type": "code",
   "execution_count": 200,
   "metadata": {},
   "outputs": [],
   "source": [
    "pts_dct = {0: 'Оригинал', 1: 'Дубликат'}\n",
    "train_2022.pts = train_2022.pts.map(pts_dct)"
   ]
  },
  {
   "cell_type": "code",
   "execution_count": 201,
   "metadata": {},
   "outputs": [],
   "source": [
    "bin_cols.append('pts')"
   ]
  },
  {
   "cell_type": "markdown",
   "metadata": {},
   "source": [
    "### Привод"
   ]
  },
  {
   "cell_type": "code",
   "execution_count": 202,
   "metadata": {},
   "outputs": [],
   "source": [
    "test.rename(columns={'Привод': 'wd'}, inplace=True)"
   ]
  },
  {
   "cell_type": "code",
   "execution_count": 203,
   "metadata": {},
   "outputs": [
    {
     "data": {
      "text/plain": [
       "передний    15565\n",
       "полный      15020\n",
       "задний       4101\n",
       "Name: wd, dtype: int64"
      ]
     },
     "execution_count": 203,
     "metadata": {},
     "output_type": "execute_result"
    }
   ],
   "source": [
    "test.wd.value_counts()"
   ]
  },
  {
   "cell_type": "code",
   "execution_count": 204,
   "metadata": {},
   "outputs": [
    {
     "data": {
      "text/plain": [
       "0"
      ]
     },
     "execution_count": 204,
     "metadata": {},
     "output_type": "execute_result"
    }
   ],
   "source": [
    "test.wd.isna().sum()"
   ]
  },
  {
   "cell_type": "code",
   "execution_count": 205,
   "metadata": {},
   "outputs": [],
   "source": [
    "train.rename(columns={'Привод': 'wd'}, inplace=True)"
   ]
  },
  {
   "cell_type": "code",
   "execution_count": 206,
   "metadata": {},
   "outputs": [
    {
     "data": {
      "text/plain": [
       "передний    47315\n",
       "полный      35001\n",
       "задний       7061\n",
       "Name: wd, dtype: int64"
      ]
     },
     "execution_count": 206,
     "metadata": {},
     "output_type": "execute_result"
    }
   ],
   "source": [
    "train.wd.value_counts()"
   ]
  },
  {
   "cell_type": "code",
   "execution_count": 207,
   "metadata": {},
   "outputs": [
    {
     "data": {
      "text/plain": [
       "1"
      ]
     },
     "execution_count": 207,
     "metadata": {},
     "output_type": "execute_result"
    }
   ],
   "source": [
    "train.wd.isna().sum()"
   ]
  },
  {
   "cell_type": "code",
   "execution_count": 208,
   "metadata": {},
   "outputs": [],
   "source": [
    "train.wd = train.wd.fillna(train.wd.mode()[0])"
   ]
  },
  {
   "cell_type": "code",
   "execution_count": 209,
   "metadata": {},
   "outputs": [
    {
     "data": {
      "text/plain": [
       "передний              1207\n",
       "полный                1015\n",
       "Передний               963\n",
       "Левый                  157\n",
       "Полный                 140\n",
       "задний                  97\n",
       "Чёрный                  16\n",
       "Белый                   12\n",
       "Серебристый              8\n",
       "Серый                    5\n",
       "Бежевый                  4\n",
       "автоматическая           4\n",
       "Синий                    3\n",
       "Красный                  3\n",
       "Коричневый               3\n",
       "Не требует ремонта       2\n",
       "вариатор                 2\n",
       "Оранжевый                1\n",
       "Правый                   1\n",
       "Name: wd, dtype: int64"
      ]
     },
     "execution_count": 209,
     "metadata": {},
     "output_type": "execute_result"
    }
   ],
   "source": [
    "train_2022.wd.value_counts()"
   ]
  },
  {
   "cell_type": "code",
   "execution_count": 210,
   "metadata": {},
   "outputs": [],
   "source": [
    "train_2022.wd = train_2022.wd.apply(lambda x: str(x).strip())"
   ]
  },
  {
   "cell_type": "code",
   "execution_count": 211,
   "metadata": {},
   "outputs": [],
   "source": [
    "train_2022.wd = train_2022.wd.replace('Передний', 'передний')\n",
    "train_2022.wd = train_2022.wd.replace('Полный', 'полный')"
   ]
  },
  {
   "cell_type": "code",
   "execution_count": 212,
   "metadata": {},
   "outputs": [],
   "source": [
    "train_2022.wd = train_2022.wd.apply(\n",
    "    lambda x: x if x in ['передний', 'полный', 'задний'] else None)"
   ]
  },
  {
   "cell_type": "code",
   "execution_count": 213,
   "metadata": {},
   "outputs": [
    {
     "data": {
      "text/plain": [
       "передний    2170\n",
       "полный      1155\n",
       "задний        97\n",
       "Name: wd, dtype: int64"
      ]
     },
     "execution_count": 213,
     "metadata": {},
     "output_type": "execute_result"
    }
   ],
   "source": [
    "train_2022.wd.value_counts()"
   ]
  },
  {
   "cell_type": "code",
   "execution_count": 214,
   "metadata": {},
   "outputs": [
    {
     "data": {
      "text/plain": [
       "244"
      ]
     },
     "execution_count": 214,
     "metadata": {},
     "output_type": "execute_result"
    }
   ],
   "source": [
    "train_2022.wd.isna().sum()"
   ]
  },
  {
   "cell_type": "code",
   "execution_count": 215,
   "metadata": {},
   "outputs": [],
   "source": [
    "wd_dct = {'передний': 0, 'полный': 1, 'задний': 2}\n",
    "train_2022.wd = train_2022.wd.map(wd_dct)"
   ]
  },
  {
   "cell_type": "code",
   "execution_count": 216,
   "metadata": {},
   "outputs": [
    {
     "name": "stdout",
     "output_type": "stream",
     "text": [
      "было Nan: 244\n",
      "было значений в категории: [2170 1155   97]\n",
      "стало значений в категории: [2325 1237  104]\n",
      "разница: [155  82   7]\n",
      "стало не Nan: 244\n"
     ]
    }
   ],
   "source": [
    "fill_nan(train_2022, 'wd')"
   ]
  },
  {
   "cell_type": "code",
   "execution_count": 217,
   "metadata": {},
   "outputs": [],
   "source": [
    "wd_dct = {0: 'передний', 1: 'полный', 2: 'задний'}\n",
    "train_2022.wd = train_2022.wd.map(wd_dct)"
   ]
  },
  {
   "cell_type": "code",
   "execution_count": 218,
   "metadata": {},
   "outputs": [],
   "source": [
    "cat_cols.append('wd')"
   ]
  },
  {
   "cell_type": "markdown",
   "metadata": {},
   "source": [
    "### Руль"
   ]
  },
  {
   "cell_type": "code",
   "execution_count": 219,
   "metadata": {},
   "outputs": [],
   "source": [
    "test.rename(columns={'Руль': 'wheel'}, inplace=True)"
   ]
  },
  {
   "cell_type": "code",
   "execution_count": 220,
   "metadata": {},
   "outputs": [
    {
     "data": {
      "text/plain": [
       "Левый     33287\n",
       "Правый     1399\n",
       "Name: wheel, dtype: int64"
      ]
     },
     "execution_count": 220,
     "metadata": {},
     "output_type": "execute_result"
    }
   ],
   "source": [
    "test.wheel.value_counts()"
   ]
  },
  {
   "cell_type": "code",
   "execution_count": 221,
   "metadata": {},
   "outputs": [
    {
     "data": {
      "text/plain": [
       "0"
      ]
     },
     "execution_count": 221,
     "metadata": {},
     "output_type": "execute_result"
    }
   ],
   "source": [
    "test.wheel.isna().sum()"
   ]
  },
  {
   "cell_type": "code",
   "execution_count": 222,
   "metadata": {},
   "outputs": [],
   "source": [
    "train.rename(columns={'Руль': 'wheel'}, inplace=True)"
   ]
  },
  {
   "cell_type": "code",
   "execution_count": 223,
   "metadata": {},
   "outputs": [
    {
     "data": {
      "text/plain": [
       "LEFT     87589\n",
       "RIGHT     1789\n",
       "Name: wheel, dtype: int64"
      ]
     },
     "execution_count": 223,
     "metadata": {},
     "output_type": "execute_result"
    }
   ],
   "source": [
    "train.wheel.value_counts()"
   ]
  },
  {
   "cell_type": "code",
   "execution_count": 224,
   "metadata": {},
   "outputs": [],
   "source": [
    "wheel_dict = {'LEFT': 'Левый', 'RIGHT': 'Правый'}\n",
    "train.wheel = train.wheel.map(wheel_dict)"
   ]
  },
  {
   "cell_type": "code",
   "execution_count": 225,
   "metadata": {},
   "outputs": [
    {
     "data": {
      "text/plain": [
       "0"
      ]
     },
     "execution_count": 225,
     "metadata": {},
     "output_type": "execute_result"
    }
   ],
   "source": [
    "train.wheel.isna().sum()"
   ]
  },
  {
   "cell_type": "code",
   "execution_count": 226,
   "metadata": {},
   "outputs": [
    {
     "data": {
      "text/plain": [
       "Левый                 2311\n",
       "Не требует ремонта     158\n",
       "Правый                   8\n",
       "передний                 3\n",
       "полный                   3\n",
       "3 или более              1\n",
       "1 владелец               1\n",
       "Name: wheel, dtype: int64"
      ]
     },
     "execution_count": 226,
     "metadata": {},
     "output_type": "execute_result"
    }
   ],
   "source": [
    "train_2022.wheel.value_counts()"
   ]
  },
  {
   "cell_type": "code",
   "execution_count": 227,
   "metadata": {},
   "outputs": [],
   "source": [
    "train_2022.wheel = train_2022.wheel.apply(\n",
    "    lambda x: x if x in ['Левый', 'Правый'] else None)"
   ]
  },
  {
   "cell_type": "code",
   "execution_count": 228,
   "metadata": {},
   "outputs": [
    {
     "data": {
      "text/plain": [
       "1347"
      ]
     },
     "execution_count": 228,
     "metadata": {},
     "output_type": "execute_result"
    }
   ],
   "source": [
    "train_2022.wheel.isna().sum()"
   ]
  },
  {
   "cell_type": "code",
   "execution_count": 229,
   "metadata": {},
   "outputs": [],
   "source": [
    "wheel_dict = {'Левый': 0, 'Правый': 1}\n",
    "train_2022.wheel = train_2022.wheel.map(wheel_dict)"
   ]
  },
  {
   "cell_type": "code",
   "execution_count": 230,
   "metadata": {},
   "outputs": [
    {
     "name": "stdout",
     "output_type": "stream",
     "text": [
      "было Nan: 1347\n",
      "было значений в категории: [2311    8]\n",
      "стало значений в категории: [3653   13]\n",
      "разница: [1342    5]\n",
      "стало не Nan: 1347\n"
     ]
    }
   ],
   "source": [
    "fill_nan(train_2022, 'wheel')"
   ]
  },
  {
   "cell_type": "code",
   "execution_count": 231,
   "metadata": {},
   "outputs": [],
   "source": [
    "wheel_dict = {0: 'Левый', 1: 'Правый'}\n",
    "train_2022.wheel = train_2022.wheel.map(wheel_dict)"
   ]
  },
  {
   "cell_type": "code",
   "execution_count": 232,
   "metadata": {},
   "outputs": [],
   "source": [
    "bin_cols.append('wheel')"
   ]
  },
  {
   "cell_type": "markdown",
   "metadata": {},
   "source": [
    "### Таможня"
   ]
  },
  {
   "cell_type": "markdown",
   "metadata": {},
   "source": [
    "В датасетах в данном столбце содержится только одно знаечение: Растаможен. Поэтому данный признак можно удалить, как не влияющий на целевую переменную."
   ]
  },
  {
   "cell_type": "code",
   "execution_count": 233,
   "metadata": {},
   "outputs": [],
   "source": [
    "test.drop(['Таможня'], inplace=True, axis=1)\n",
    "train.drop(['Таможня'], inplace=True, axis=1)\n",
    "train_2022.drop(['customs'], inplace=True, axis=1)"
   ]
  },
  {
   "cell_type": "markdown",
   "metadata": {},
   "source": [
    "### Состояние"
   ]
  },
  {
   "cell_type": "markdown",
   "metadata": {},
   "source": [
    "В датасетах в данном столбце содержится только либо одно значение (Не требует ремонта), либо пустые строки. Поэтому данный признак можно удалить, как не влияющий на целевую переменную."
   ]
  },
  {
   "cell_type": "code",
   "execution_count": 234,
   "metadata": {},
   "outputs": [],
   "source": [
    "test.drop(['Состояние'], inplace=True, axis=1)\n",
    "train.drop(['Состояние'], inplace=True, axis=1)\n",
    "train_2022.drop(['state'], inplace=True, axis=1)"
   ]
  },
  {
   "cell_type": "markdown",
   "metadata": {},
   "source": [
    "### Владение"
   ]
  },
  {
   "cell_type": "markdown",
   "metadata": {},
   "source": [
    "Признак 'Владение' содержит очень большое количество пропусков в обоих датасетах. Кроме того, он период с даты выпуска до даты публикации объявления, т.е. коррелирует с датой выпуска. Удаляем данный признак."
   ]
  },
  {
   "cell_type": "code",
   "execution_count": 235,
   "metadata": {},
   "outputs": [],
   "source": [
    "test.drop(['Владение'], inplace=True, axis=1)\n",
    "train.drop(['Владение'], inplace=True, axis=1)"
   ]
  },
  {
   "cell_type": "markdown",
   "metadata": {},
   "source": [
    "### vendor"
   ]
  },
  {
   "cell_type": "markdown",
   "metadata": {},
   "source": [
    "Данный признак присутствует только в датасете test. В других датасетах его можно создать написав словари для каждого бренда. Однако, признак отражает ту же информацию, что и бренд, только урезанную до бинарного формата. Удаляем данный признак. "
   ]
  },
  {
   "cell_type": "code",
   "execution_count": 236,
   "metadata": {},
   "outputs": [],
   "source": [
    "test.drop(['vendor'], inplace=True, axis=1)"
   ]
  },
  {
   "cell_type": "markdown",
   "metadata": {},
   "source": [
    "### car_url"
   ]
  },
  {
   "cell_type": "markdown",
   "metadata": {},
   "source": [
    "Данный признак присутствует только в датасете test. Важной информации он не несет. "
   ]
  },
  {
   "cell_type": "code",
   "execution_count": 237,
   "metadata": {},
   "outputs": [],
   "source": [
    "test.drop(['car_url'], inplace=True, axis=1)"
   ]
  },
  {
   "cell_type": "markdown",
   "metadata": {},
   "source": [
    "### model_info"
   ]
  },
  {
   "cell_type": "markdown",
   "metadata": {},
   "source": [
    "Признак содержит в себе название модели. Удаляем его."
   ]
  },
  {
   "cell_type": "code",
   "execution_count": 238,
   "metadata": {},
   "outputs": [],
   "source": [
    "test.drop(['model_info'], inplace=True, axis=1)"
   ]
  },
  {
   "cell_type": "markdown",
   "metadata": {},
   "source": [
    "### image"
   ]
  },
  {
   "cell_type": "markdown",
   "metadata": {},
   "source": [
    "Данный признак присутствует только в датасете test. Пригодной к применению информации он не несет."
   ]
  },
  {
   "cell_type": "code",
   "execution_count": 239,
   "metadata": {},
   "outputs": [],
   "source": [
    "test.drop(['image'], inplace=True, axis=1)"
   ]
  },
  {
   "cell_type": "markdown",
   "metadata": {},
   "source": [
    "### priceCurrency"
   ]
  },
  {
   "cell_type": "markdown",
   "metadata": {},
   "source": [
    "Данный признак присутствует только в датасете test. Содержит в себе только одно значение. Удаляем признак."
   ]
  },
  {
   "cell_type": "code",
   "execution_count": 240,
   "metadata": {},
   "outputs": [],
   "source": [
    "test.drop(['priceCurrency'], inplace=True, axis=1)"
   ]
  },
  {
   "cell_type": "markdown",
   "metadata": {},
   "source": [
    "### vehicleConfiguration"
   ]
  },
  {
   "cell_type": "markdown",
   "metadata": {},
   "source": [
    "В обоих датасетах признак содержит информацию о кузове, количестве дверей, трансмиссии и литраже. Все эти данные уже имеются в других признаках. Удаляем столбец."
   ]
  },
  {
   "cell_type": "code",
   "execution_count": 241,
   "metadata": {},
   "outputs": [],
   "source": [
    "test.drop(['vehicleConfiguration'], inplace=True, axis=1)\n",
    "train.drop(['vehicleConfiguration'], inplace=True, axis=1)"
   ]
  },
  {
   "cell_type": "markdown",
   "metadata": {},
   "source": [
    "### name"
   ]
  },
  {
   "cell_type": "markdown",
   "metadata": {},
   "source": [
    "В обоих датасетах признак содержит информацию об объеме двигателя и мощности. Все эти данные уже имеются в других признаках. Удаляем столбец."
   ]
  },
  {
   "cell_type": "code",
   "execution_count": 242,
   "metadata": {},
   "outputs": [],
   "source": [
    "test.drop(['name'], inplace=True, axis=1)\n",
    "train.drop(['name'], inplace=True, axis=1)"
   ]
  },
  {
   "cell_type": "markdown",
   "metadata": {},
   "source": [
    "### sell_id"
   ]
  },
  {
   "cell_type": "markdown",
   "metadata": {},
   "source": [
    "Данный признак не содержит полезной инфрмации. Удаляем."
   ]
  },
  {
   "cell_type": "code",
   "execution_count": 243,
   "metadata": {},
   "outputs": [],
   "source": [
    "test.drop(['sell_id'], inplace=True, axis=1)"
   ]
  },
  {
   "cell_type": "markdown",
   "metadata": {},
   "source": [
    "### description"
   ]
  },
  {
   "cell_type": "markdown",
   "metadata": {},
   "source": [
    "В обоих датасетах признак содержит, в основном, повторяющуюся рекламную информацию. Удаляем."
   ]
  },
  {
   "cell_type": "code",
   "execution_count": 244,
   "metadata": {},
   "outputs": [],
   "source": [
    "test.drop(['description'], inplace=True, axis=1)\n",
    "train.drop(['description'], inplace=True, axis=1)"
   ]
  },
  {
   "cell_type": "markdown",
   "metadata": {},
   "source": [
    "### complectation_dict, Комплектация, equipment_dict, super_gen"
   ]
  },
  {
   "cell_type": "markdown",
   "metadata": {},
   "source": [
    "В данных столбцах содержится информация об оснащении автомобиля и доп.опциях. Обработка данных требует трудозатрат, сопоставимых с выполнением отдельного проекта. В рамках данной работы столбцы удаляем."
   ]
  },
  {
   "cell_type": "code",
   "execution_count": 245,
   "metadata": {},
   "outputs": [],
   "source": [
    "test.drop(['complectation_dict'], inplace=True, axis=1)\n",
    "test.drop(['equipment_dict'], inplace=True, axis=1)\n",
    "test.drop(['super_gen'], inplace=True, axis=1)\n",
    "train.drop(['Комплектация'], inplace=True, axis=1)"
   ]
  },
  {
   "cell_type": "markdown",
   "metadata": {},
   "source": [
    "### parsing_unixtime, hidden, start_date"
   ]
  },
  {
   "cell_type": "code",
   "execution_count": 246,
   "metadata": {},
   "outputs": [],
   "source": [
    "test.drop(['parsing_unixtime'], inplace=True, axis=1)\n",
    "train.drop(['hidden'], inplace=True, axis=1)\n",
    "train.drop(['start_date'], inplace=True, axis=1)"
   ]
  },
  {
   "cell_type": "markdown",
   "metadata": {},
   "source": [
    "### tax, Unnamed: 0"
   ]
  },
  {
   "cell_type": "markdown",
   "metadata": {},
   "source": [
    "Есть только в спарсеном датасете. Удаляем."
   ]
  },
  {
   "cell_type": "code",
   "execution_count": 247,
   "metadata": {
    "scrolled": true
   },
   "outputs": [],
   "source": [
    "train_2022.drop(['tax'], inplace=True, axis=1)"
   ]
  },
  {
   "cell_type": "code",
   "execution_count": 248,
   "metadata": {},
   "outputs": [],
   "source": [
    "train_2022.drop(['Unnamed: 0'], inplace=True, axis=1)"
   ]
  },
  {
   "cell_type": "markdown",
   "metadata": {},
   "source": [
    "### price"
   ]
  },
  {
   "cell_type": "code",
   "execution_count": 251,
   "metadata": {},
   "outputs": [
    {
     "data": {
      "text/plain": [
       "410"
      ]
     },
     "execution_count": 251,
     "metadata": {},
     "output_type": "execute_result"
    }
   ],
   "source": [
    "train.price.isna().sum()"
   ]
  },
  {
   "cell_type": "code",
   "execution_count": 252,
   "metadata": {},
   "outputs": [],
   "source": [
    "train = train.loc[~(train.price.isna())]"
   ]
  },
  {
   "cell_type": "code",
   "execution_count": 253,
   "metadata": {},
   "outputs": [
    {
     "data": {
      "text/plain": [
       "450000.00     1212\n",
       "350000.00     1045\n",
       "250000.00      994\n",
       "550000.00      967\n",
       "650000.00      942\n",
       "              ... \n",
       "2026467.00       1\n",
       "309999.00        1\n",
       "4052800.00       1\n",
       "2996000.00       1\n",
       "3670000.00       1\n",
       "Name: price, Length: 8168, dtype: int64"
      ]
     },
     "execution_count": 253,
     "metadata": {},
     "output_type": "execute_result"
    }
   ],
   "source": [
    "train.price.value_counts()"
   ]
  },
  {
   "cell_type": "code",
   "execution_count": 254,
   "metadata": {},
   "outputs": [
    {
     "data": {
      "text/plain": [
       "0         200000\n",
       "1          60000\n",
       "2          99000\n",
       "3          65000\n",
       "4         100000\n",
       "          ...   \n",
       "89373     450000\n",
       "89374     485000\n",
       "89375    1090000\n",
       "89376    1180000\n",
       "89377    1075000\n",
       "Name: price, Length: 88968, dtype: int32"
      ]
     },
     "execution_count": 254,
     "metadata": {},
     "output_type": "execute_result"
    }
   ],
   "source": [
    "train.price.astype('int')"
   ]
  },
  {
   "cell_type": "code",
   "execution_count": 255,
   "metadata": {},
   "outputs": [
    {
     "data": {
      "text/plain": [
       "2129900₽       17\n",
       "1465900₽       16\n",
       "1245000₽       14\n",
       "650000₽        13\n",
       "1195000₽       12\n",
       "               ..\n",
       "от 1880900₽     1\n",
       "1919000₽        1\n",
       "6056000₽        1\n",
       "3790000₽        1\n",
       "925000₽         1\n",
       "Name: price, Length: 1581, dtype: int64"
      ]
     },
     "execution_count": 255,
     "metadata": {},
     "output_type": "execute_result"
    }
   ],
   "source": [
    "train_2022.price.value_counts()"
   ]
  },
  {
   "cell_type": "code",
   "execution_count": 256,
   "metadata": {},
   "outputs": [],
   "source": [
    "train_2022 = train_2022.loc[~(train_2022.price.isna())]"
   ]
  },
  {
   "cell_type": "code",
   "execution_count": 257,
   "metadata": {},
   "outputs": [],
   "source": [
    "# приведем целевую переменную к числовому типу\n",
    "train_2022.price = train_2022.price.apply(lambda x: str(x))\n",
    "train_2022.price = train_2022.price.apply(\n",
    "    lambda x: (\"\".join(filter(str.isdigit, x)))).astype('int')"
   ]
  },
  {
   "cell_type": "code",
   "execution_count": 258,
   "metadata": {},
   "outputs": [
    {
     "data": {
      "text/plain": [
       "1130000     18\n",
       "2129900     17\n",
       "1465900     16\n",
       "1195000     15\n",
       "1245000     14\n",
       "            ..\n",
       "8200000      1\n",
       "3045000      1\n",
       "11295000     1\n",
       "2180000      1\n",
       "1024000      1\n",
       "Name: price, Length: 1523, dtype: int64"
      ]
     },
     "execution_count": 258,
     "metadata": {},
     "output_type": "execute_result"
    }
   ],
   "source": [
    "train_2022.price.value_counts()"
   ]
  },
  {
   "cell_type": "code",
   "execution_count": 259,
   "metadata": {},
   "outputs": [
    {
     "data": {
      "text/plain": [
       "0"
      ]
     },
     "execution_count": 259,
     "metadata": {},
     "output_type": "execute_result"
    }
   ],
   "source": [
    "train_2022.price.isna().sum()"
   ]
  },
  {
   "cell_type": "markdown",
   "metadata": {},
   "source": [
    "## Feacher engineering"
   ]
  },
  {
   "cell_type": "markdown",
   "metadata": {},
   "source": [
    "Создадим признак 'возраст автомобиля'. Назовем его 'age'."
   ]
  },
  {
   "cell_type": "code",
   "execution_count": 260,
   "metadata": {},
   "outputs": [],
   "source": [
    "test['age'] = 2020 - test.productionDate\n",
    "train['age'] = 2020 - train.productionDate\n",
    "train_2022['age'] = 2022 - train_2022.productionDate"
   ]
  },
  {
   "cell_type": "code",
   "execution_count": 261,
   "metadata": {},
   "outputs": [
    {
     "data": {
      "text/plain": [
       "<AxesSubplot:>"
      ]
     },
     "execution_count": 261,
     "metadata": {},
     "output_type": "execute_result"
    },
    {
     "data": {
      "image/png": "[encoded data removed]",
      "text/plain": [
       "<Figure size 432x288 with 1 Axes>"
      ]
     },
     "metadata": {
      "needs_background": "light"
     },
     "output_type": "display_data"
    }
   ],
   "source": [
    "test.age.hist()"
   ]
  },
  {
   "cell_type": "code",
   "execution_count": 262,
   "metadata": {},
   "outputs": [
    {
     "data": {
      "text/plain": [
       "<AxesSubplot:>"
      ]
     },
     "execution_count": 262,
     "metadata": {},
     "output_type": "execute_result"
    },
    {
     "data": {
      "image/png": "[encoded data removed]",
      "text/plain": [
       "<Figure size 432x288 with 1 Axes>"
      ]
     },
     "metadata": {
      "needs_background": "light"
     },
     "output_type": "display_data"
    }
   ],
   "source": [
    "train.age.hist()"
   ]
  },
  {
   "cell_type": "code",
   "execution_count": 263,
   "metadata": {},
   "outputs": [
    {
     "data": {
      "text/plain": [
       "<AxesSubplot:>"
      ]
     },
     "execution_count": 263,
     "metadata": {},
     "output_type": "execute_result"
    },
    {
     "data": {
      "image/png": "[encoded data removed]",
      "text/plain": [
       "<Figure size 432x288 with 1 Axes>"
      ]
     },
     "metadata": {
      "needs_background": "light"
     },
     "output_type": "display_data"
    }
   ],
   "source": [
    "train_2022.age.hist()"
   ]
  },
  {
   "cell_type": "code",
   "execution_count": 264,
   "metadata": {},
   "outputs": [],
   "source": [
    "num_cols.append('age')"
   ]
  },
  {
   "cell_type": "markdown",
   "metadata": {},
   "source": [
    "Все датасеты содержат одинаковые столбцы, кроме price, отсутствующий в test."
   ]
  },
  {
   "cell_type": "code",
   "execution_count": 265,
   "metadata": {},
   "outputs": [
    {
     "data": {
      "text/plain": [
       "{'price'}"
      ]
     },
     "execution_count": 265,
     "metadata": {},
     "output_type": "execute_result"
    }
   ],
   "source": [
    "set(train.columns).difference(test.columns)"
   ]
  },
  {
   "cell_type": "code",
   "execution_count": 266,
   "metadata": {},
   "outputs": [
    {
     "data": {
      "text/plain": [
       "set()"
      ]
     },
     "execution_count": 266,
     "metadata": {},
     "output_type": "execute_result"
    }
   ],
   "source": [
    "set(train_2022.columns).difference(train.columns)"
   ]
  },
  {
   "cell_type": "code",
   "execution_count": 267,
   "metadata": {},
   "outputs": [
    {
     "data": {
      "text/plain": [
       "set()"
      ]
     },
     "execution_count": 267,
     "metadata": {},
     "output_type": "execute_result"
    }
   ],
   "source": [
    "set(train.columns).difference(train_2022.columns)"
   ]
  },
  {
   "cell_type": "markdown",
   "metadata": {},
   "source": [
    "Добавим столбец price в test с нулевыми значениями."
   ]
  },
  {
   "cell_type": "code",
   "execution_count": 268,
   "metadata": {},
   "outputs": [],
   "source": [
    "test['price'] = 0"
   ]
  },
  {
   "cell_type": "code",
   "execution_count": 269,
   "metadata": {},
   "outputs": [
    {
     "name": "stdout",
     "output_type": "stream",
     "text": [
      "<class 'pandas.core.frame.DataFrame'>\n",
      "Int64Index: 88968 entries, 0 to 89377\n",
      "Data columns (total 17 columns):\n",
      " #   Column               Non-Null Count  Dtype  \n",
      "---  ------               --------------  -----  \n",
      " 0   bodyType             88968 non-null  object \n",
      " 1   brand                88968 non-null  object \n",
      " 2   color                88968 non-null  object \n",
      " 3   fuelType             88968 non-null  object \n",
      " 4   numberOfDoors        88968 non-null  int32  \n",
      " 5   productionDate       88968 non-null  int64  \n",
      " 6   vehicleTransmission  88968 non-null  object \n",
      " 7   engineDisplacement   88968 non-null  float64\n",
      " 8   enginePower          88968 non-null  int32  \n",
      " 9   mileage              88968 non-null  int32  \n",
      " 10  wd                   88968 non-null  object \n",
      " 11  wheel                88968 non-null  object \n",
      " 12  owners               88968 non-null  int64  \n",
      " 13  pts                  88968 non-null  object \n",
      " 14  price                88968 non-null  float64\n",
      " 15  model_name           88968 non-null  object \n",
      " 16  age                  88968 non-null  int64  \n",
      "dtypes: float64(2), int32(3), int64(3), object(9)\n",
      "memory usage: 11.2+ MB\n"
     ]
    }
   ],
   "source": [
    "train.info()"
   ]
  },
  {
   "cell_type": "code",
   "execution_count": 270,
   "metadata": {
    "scrolled": false
   },
   "outputs": [
    {
     "name": "stdout",
     "output_type": "stream",
     "text": [
      "<class 'pandas.core.frame.DataFrame'>\n",
      "RangeIndex: 34686 entries, 0 to 34685\n",
      "Data columns (total 17 columns):\n",
      " #   Column               Non-Null Count  Dtype  \n",
      "---  ------               --------------  -----  \n",
      " 0   bodyType             34686 non-null  object \n",
      " 1   brand                34686 non-null  object \n",
      " 2   color                34686 non-null  object \n",
      " 3   engineDisplacement   34686 non-null  float64\n",
      " 4   enginePower          34686 non-null  int32  \n",
      " 5   fuelType             34686 non-null  object \n",
      " 6   mileage              34686 non-null  int32  \n",
      " 7   model_name           34686 non-null  object \n",
      " 8   numberOfDoors        34686 non-null  int64  \n",
      " 9   productionDate       34686 non-null  int64  \n",
      " 10  vehicleTransmission  34686 non-null  object \n",
      " 11  owners               34686 non-null  float64\n",
      " 12  pts                  34686 non-null  object \n",
      " 13  wd                   34686 non-null  object \n",
      " 14  wheel                34686 non-null  object \n",
      " 15  age                  34686 non-null  int64  \n",
      " 16  price                34686 non-null  int64  \n",
      "dtypes: float64(2), int32(2), int64(4), object(9)\n",
      "memory usage: 4.2+ MB\n"
     ]
    }
   ],
   "source": [
    "test.info()"
   ]
  },
  {
   "cell_type": "code",
   "execution_count": 271,
   "metadata": {},
   "outputs": [
    {
     "data": {
      "text/plain": [
       "Index(['bodyType', 'brand', 'color', 'engineDisplacement', 'enginePower',\n",
       "       'fuelType', 'mileage', 'model_name', 'numberOfDoors', 'productionDate',\n",
       "       'vehicleTransmission', 'owners', 'pts', 'wd', 'wheel', 'age', 'price'],\n",
       "      dtype='object')"
      ]
     },
     "execution_count": 271,
     "metadata": {},
     "output_type": "execute_result"
    }
   ],
   "source": [
    "test.columns"
   ]
  },
  {
   "cell_type": "markdown",
   "metadata": {},
   "source": [
    "Изменим порядок столбцов:"
   ]
  },
  {
   "cell_type": "code",
   "execution_count": 273,
   "metadata": {},
   "outputs": [],
   "source": [
    "train_2022 = train_2022[['bodyType', 'brand', 'color', 'engineDisplacement', 'enginePower',\n",
    "                         'fuelType', 'mileage', 'model_name', 'numberOfDoors', 'productionDate',\n",
    "                         'vehicleTransmission', 'owners', 'pts', 'wd', 'wheel', 'age', 'price']]"
   ]
  },
  {
   "cell_type": "code",
   "execution_count": 274,
   "metadata": {},
   "outputs": [
    {
     "name": "stdout",
     "output_type": "stream",
     "text": [
      "<class 'pandas.core.frame.DataFrame'>\n",
      "Int64Index: 3508 entries, 0 to 3665\n",
      "Data columns (total 17 columns):\n",
      " #   Column               Non-Null Count  Dtype  \n",
      "---  ------               --------------  -----  \n",
      " 0   bodyType             3508 non-null   object \n",
      " 1   brand                3508 non-null   object \n",
      " 2   color                3508 non-null   object \n",
      " 3   engineDisplacement   3508 non-null   float64\n",
      " 4   enginePower          3508 non-null   int32  \n",
      " 5   fuelType             3508 non-null   object \n",
      " 6   mileage              3508 non-null   int32  \n",
      " 7   model_name           3508 non-null   object \n",
      " 8   numberOfDoors        3508 non-null   int32  \n",
      " 9   productionDate       3508 non-null   float64\n",
      " 10  vehicleTransmission  3508 non-null   object \n",
      " 11  owners               3508 non-null   int64  \n",
      " 12  pts                  3508 non-null   object \n",
      " 13  wd                   3508 non-null   object \n",
      " 14  wheel                3508 non-null   object \n",
      " 15  age                  3508 non-null   float64\n",
      " 16  price                3508 non-null   int32  \n",
      "dtypes: float64(3), int32(4), int64(1), object(9)\n",
      "memory usage: 438.5+ KB\n"
     ]
    }
   ],
   "source": [
    "train_2022.info()"
   ]
  },
  {
   "cell_type": "markdown",
   "metadata": {},
   "source": [
    "## Удаление дубликатов"
   ]
  },
  {
   "cell_type": "code",
   "execution_count": 275,
   "metadata": {},
   "outputs": [
    {
     "name": "stdout",
     "output_type": "stream",
     "text": [
      "6436\n"
     ]
    }
   ],
   "source": [
    "print(sum(train.duplicated()))"
   ]
  },
  {
   "cell_type": "code",
   "execution_count": 276,
   "metadata": {},
   "outputs": [
    {
     "name": "stdout",
     "output_type": "stream",
     "text": [
      "152\n"
     ]
    }
   ],
   "source": [
    "print(sum(test.duplicated()))"
   ]
  },
  {
   "cell_type": "code",
   "execution_count": 277,
   "metadata": {},
   "outputs": [
    {
     "name": "stdout",
     "output_type": "stream",
     "text": [
      "846\n"
     ]
    }
   ],
   "source": [
    "print(sum(train_2022.duplicated()))"
   ]
  },
  {
   "cell_type": "code",
   "execution_count": 278,
   "metadata": {},
   "outputs": [],
   "source": [
    "train.drop_duplicates(inplace=True)\n",
    "train_2022.drop_duplicates(inplace=True)"
   ]
  },
  {
   "cell_type": "markdown",
   "metadata": {},
   "source": [
    "В тестовом датасете сокращать количество наблюдений нельзя."
   ]
  },
  {
   "cell_type": "markdown",
   "metadata": {},
   "source": [
    "## Учет роста стоимость автомобилей"
   ]
  },
  {
   "cell_type": "markdown",
   "metadata": {},
   "source": [
    "Тестовый и тренеровочный датасеты были формированы в 2020 году. Новые данные были получены в феврале 2022 года. За этот период цены значительно изменились. \n",
    "\n",
    "Расчитаем поправку исходя из средних цен по моделям:"
   ]
  },
  {
   "cell_type": "code",
   "execution_count": 279,
   "metadata": {},
   "outputs": [],
   "source": [
    "brands = train_2022.brand.unique()"
   ]
  },
  {
   "cell_type": "code",
   "execution_count": 280,
   "metadata": {},
   "outputs": [],
   "source": [
    "inf = []\n",
    "for brand in brands:\n",
    "    price_2022 = train_2022[train_2022['brand'] == brand].price.mean()\n",
    "    price_2020 = train[train['brand'] == brand].price.mean()\n",
    "    inf.append((price_2022 - price_2020)/price_2020)"
   ]
  },
  {
   "cell_type": "code",
   "execution_count": 281,
   "metadata": {},
   "outputs": [],
   "source": [
    "inf_mean = np.nanmean(inf)"
   ]
  },
  {
   "cell_type": "code",
   "execution_count": 282,
   "metadata": {},
   "outputs": [],
   "source": [
    "train_2022.price = train_2022.price.apply(lambda x: round(x / (1+inf_mean), 0))"
   ]
  },
  {
   "cell_type": "code",
   "execution_count": 283,
   "metadata": {},
   "outputs": [
    {
     "data": {
      "text/plain": [
       "1027307.6686701728"
      ]
     },
     "execution_count": 283,
     "metadata": {},
     "output_type": "execute_result"
    }
   ],
   "source": [
    "train_2022.price.mean()"
   ]
  },
  {
   "cell_type": "code",
   "execution_count": 284,
   "metadata": {},
   "outputs": [
    {
     "data": {
      "text/plain": [
       "1143629.240161392"
      ]
     },
     "execution_count": 284,
     "metadata": {},
     "output_type": "execute_result"
    }
   ],
   "source": [
    "train.price.mean()"
   ]
  },
  {
   "cell_type": "markdown",
   "metadata": {},
   "source": [
    "## Объединение датасетов"
   ]
  },
  {
   "cell_type": "code",
   "execution_count": 285,
   "metadata": {},
   "outputs": [],
   "source": [
    "# ВАЖНО! дря корректной обработки признаков объединяем трейн и тест в один датасет\n",
    "train['sample'] = 1  # помечаем где у нас трейн\n",
    "train_2022['sample'] = 1  # помечаем где у нас трейн\n",
    "test['sample'] = 0  # помечаем где у нас тест\n",
    "\n",
    "data = test.append(train, sort=False).reset_index(drop=True)  # объединяем\n",
    "data = data.append(train_2022, sort=False).reset_index(drop=True)  # объединяем"
   ]
  },
  {
   "cell_type": "code",
   "execution_count": 286,
   "metadata": {},
   "outputs": [
    {
     "name": "stdout",
     "output_type": "stream",
     "text": [
      "<class 'pandas.core.frame.DataFrame'>\n",
      "RangeIndex: 119880 entries, 0 to 119879\n",
      "Data columns (total 18 columns):\n",
      " #   Column               Non-Null Count   Dtype  \n",
      "---  ------               --------------   -----  \n",
      " 0   bodyType             119880 non-null  object \n",
      " 1   brand                119880 non-null  object \n",
      " 2   color                119880 non-null  object \n",
      " 3   engineDisplacement   119880 non-null  float64\n",
      " 4   enginePower          119880 non-null  int32  \n",
      " 5   fuelType             119880 non-null  object \n",
      " 6   mileage              119880 non-null  int32  \n",
      " 7   model_name           119880 non-null  object \n",
      " 8   numberOfDoors        119880 non-null  int64  \n",
      " 9   productionDate       119880 non-null  float64\n",
      " 10  vehicleTransmission  119880 non-null  object \n",
      " 11  owners               119880 non-null  float64\n",
      " 12  pts                  119880 non-null  object \n",
      " 13  wd                   119880 non-null  object \n",
      " 14  wheel                119880 non-null  object \n",
      " 15  age                  119880 non-null  float64\n",
      " 16  price                119880 non-null  float64\n",
      " 17  sample               119880 non-null  int64  \n",
      "dtypes: float64(5), int32(2), int64(2), object(9)\n",
      "memory usage: 15.5+ MB\n"
     ]
    }
   ],
   "source": [
    "data.info()"
   ]
  },
  {
   "cell_type": "markdown",
   "metadata": {},
   "source": [
    "## Бинарные признаки"
   ]
  },
  {
   "cell_type": "code",
   "execution_count": 287,
   "metadata": {},
   "outputs": [
    {
     "data": {
      "text/plain": [
       "['pts', 'wheel']"
      ]
     },
     "execution_count": 287,
     "metadata": {},
     "output_type": "execute_result"
    }
   ],
   "source": [
    "bin_cols"
   ]
  },
  {
   "cell_type": "markdown",
   "metadata": {},
   "source": [
    "Преобразуем значения бинарных признаков в числа:"
   ]
  },
  {
   "cell_type": "code",
   "execution_count": 288,
   "metadata": {},
   "outputs": [],
   "source": [
    "lble_encod(data, bin_cols)"
   ]
  },
  {
   "cell_type": "code",
   "execution_count": 289,
   "metadata": {
    "scrolled": true
   },
   "outputs": [
    {
     "data": {
      "text/html": [
       "<div>\n",
       "<style scoped>\n",
       "    .dataframe tbody tr th:only-of-type {\n",
       "        vertical-align: middle;\n",
       "    }\n",
       "\n",
       "    .dataframe tbody tr th {\n",
       "        vertical-align: top;\n",
       "    }\n",
       "\n",
       "    .dataframe thead th {\n",
       "        text-align: right;\n",
       "    }\n",
       "</style>\n",
       "<table border=\"1\" class=\"dataframe\">\n",
       "  <thead>\n",
       "    <tr style=\"text-align: right;\">\n",
       "      <th></th>\n",
       "      <th>bodyType</th>\n",
       "      <th>brand</th>\n",
       "      <th>color</th>\n",
       "      <th>engineDisplacement</th>\n",
       "      <th>enginePower</th>\n",
       "      <th>fuelType</th>\n",
       "      <th>mileage</th>\n",
       "      <th>model_name</th>\n",
       "      <th>numberOfDoors</th>\n",
       "      <th>productionDate</th>\n",
       "      <th>vehicleTransmission</th>\n",
       "      <th>owners</th>\n",
       "      <th>pts</th>\n",
       "      <th>wd</th>\n",
       "      <th>wheel</th>\n",
       "      <th>age</th>\n",
       "      <th>price</th>\n",
       "      <th>sample</th>\n",
       "    </tr>\n",
       "  </thead>\n",
       "  <tbody>\n",
       "    <tr>\n",
       "      <th>0</th>\n",
       "      <td>лифтбек</td>\n",
       "      <td>SKODA</td>\n",
       "      <td>синий</td>\n",
       "      <td>1.20</td>\n",
       "      <td>105</td>\n",
       "      <td>бензин</td>\n",
       "      <td>74000</td>\n",
       "      <td>OCTAVIA</td>\n",
       "      <td>5</td>\n",
       "      <td>2014.00</td>\n",
       "      <td>ROBOT</td>\n",
       "      <td>3.00</td>\n",
       "      <td>1</td>\n",
       "      <td>передний</td>\n",
       "      <td>0</td>\n",
       "      <td>6.00</td>\n",
       "      <td>0.00</td>\n",
       "      <td>0</td>\n",
       "    </tr>\n",
       "    <tr>\n",
       "      <th>1</th>\n",
       "      <td>лифтбек</td>\n",
       "      <td>SKODA</td>\n",
       "      <td>чёрный</td>\n",
       "      <td>1.60</td>\n",
       "      <td>110</td>\n",
       "      <td>бензин</td>\n",
       "      <td>60563</td>\n",
       "      <td>OCTAVIA</td>\n",
       "      <td>5</td>\n",
       "      <td>2017.00</td>\n",
       "      <td>MECHANICAL</td>\n",
       "      <td>1.00</td>\n",
       "      <td>1</td>\n",
       "      <td>передний</td>\n",
       "      <td>0</td>\n",
       "      <td>3.00</td>\n",
       "      <td>0.00</td>\n",
       "      <td>0</td>\n",
       "    </tr>\n",
       "    <tr>\n",
       "      <th>2</th>\n",
       "      <td>лифтбек</td>\n",
       "      <td>SKODA</td>\n",
       "      <td>серый</td>\n",
       "      <td>1.80</td>\n",
       "      <td>152</td>\n",
       "      <td>бензин</td>\n",
       "      <td>88000</td>\n",
       "      <td>SUPERB</td>\n",
       "      <td>5</td>\n",
       "      <td>2014.00</td>\n",
       "      <td>ROBOT</td>\n",
       "      <td>1.00</td>\n",
       "      <td>1</td>\n",
       "      <td>передний</td>\n",
       "      <td>0</td>\n",
       "      <td>6.00</td>\n",
       "      <td>0.00</td>\n",
       "      <td>0</td>\n",
       "    </tr>\n",
       "    <tr>\n",
       "      <th>3</th>\n",
       "      <td>лифтбек</td>\n",
       "      <td>SKODA</td>\n",
       "      <td>коричневый</td>\n",
       "      <td>1.60</td>\n",
       "      <td>110</td>\n",
       "      <td>бензин</td>\n",
       "      <td>95000</td>\n",
       "      <td>OCTAVIA</td>\n",
       "      <td>5</td>\n",
       "      <td>2014.00</td>\n",
       "      <td>AUTOMATIC</td>\n",
       "      <td>1.00</td>\n",
       "      <td>1</td>\n",
       "      <td>передний</td>\n",
       "      <td>0</td>\n",
       "      <td>6.00</td>\n",
       "      <td>0.00</td>\n",
       "      <td>0</td>\n",
       "    </tr>\n",
       "    <tr>\n",
       "      <th>4</th>\n",
       "      <td>лифтбек</td>\n",
       "      <td>SKODA</td>\n",
       "      <td>белый</td>\n",
       "      <td>1.80</td>\n",
       "      <td>152</td>\n",
       "      <td>бензин</td>\n",
       "      <td>58536</td>\n",
       "      <td>OCTAVIA</td>\n",
       "      <td>5</td>\n",
       "      <td>2012.00</td>\n",
       "      <td>AUTOMATIC</td>\n",
       "      <td>1.00</td>\n",
       "      <td>1</td>\n",
       "      <td>передний</td>\n",
       "      <td>0</td>\n",
       "      <td>8.00</td>\n",
       "      <td>0.00</td>\n",
       "      <td>0</td>\n",
       "    </tr>\n",
       "    <tr>\n",
       "      <th>...</th>\n",
       "      <td>...</td>\n",
       "      <td>...</td>\n",
       "      <td>...</td>\n",
       "      <td>...</td>\n",
       "      <td>...</td>\n",
       "      <td>...</td>\n",
       "      <td>...</td>\n",
       "      <td>...</td>\n",
       "      <td>...</td>\n",
       "      <td>...</td>\n",
       "      <td>...</td>\n",
       "      <td>...</td>\n",
       "      <td>...</td>\n",
       "      <td>...</td>\n",
       "      <td>...</td>\n",
       "      <td>...</td>\n",
       "      <td>...</td>\n",
       "      <td>...</td>\n",
       "    </tr>\n",
       "    <tr>\n",
       "      <th>119875</th>\n",
       "      <td>седан</td>\n",
       "      <td>KIA</td>\n",
       "      <td>серый</td>\n",
       "      <td>2.00</td>\n",
       "      <td>150</td>\n",
       "      <td>бензин</td>\n",
       "      <td>106812</td>\n",
       "      <td>K5</td>\n",
       "      <td>4</td>\n",
       "      <td>2022.00</td>\n",
       "      <td>AUTOMATIC</td>\n",
       "      <td>3.00</td>\n",
       "      <td>0</td>\n",
       "      <td>передний</td>\n",
       "      <td>1</td>\n",
       "      <td>0.00</td>\n",
       "      <td>1401650.00</td>\n",
       "      <td>1</td>\n",
       "    </tr>\n",
       "    <tr>\n",
       "      <th>119876</th>\n",
       "      <td>хэтчбек</td>\n",
       "      <td>RENAULT</td>\n",
       "      <td>белый</td>\n",
       "      <td>1.40</td>\n",
       "      <td>75</td>\n",
       "      <td>бензин</td>\n",
       "      <td>117620</td>\n",
       "      <td>SANDERO</td>\n",
       "      <td>5</td>\n",
       "      <td>2012.00</td>\n",
       "      <td>MECHANICAL</td>\n",
       "      <td>3.00</td>\n",
       "      <td>1</td>\n",
       "      <td>передний</td>\n",
       "      <td>0</td>\n",
       "      <td>10.00</td>\n",
       "      <td>226895.00</td>\n",
       "      <td>1</td>\n",
       "    </tr>\n",
       "    <tr>\n",
       "      <th>119877</th>\n",
       "      <td>хэтчбек</td>\n",
       "      <td>CITROEN</td>\n",
       "      <td>серебристый</td>\n",
       "      <td>1.40</td>\n",
       "      <td>90</td>\n",
       "      <td>бензин</td>\n",
       "      <td>88373</td>\n",
       "      <td>C3</td>\n",
       "      <td>5</td>\n",
       "      <td>2009.00</td>\n",
       "      <td>ROBOT</td>\n",
       "      <td>1.00</td>\n",
       "      <td>1</td>\n",
       "      <td>передний</td>\n",
       "      <td>0</td>\n",
       "      <td>13.00</td>\n",
       "      <td>197325.00</td>\n",
       "      <td>1</td>\n",
       "    </tr>\n",
       "    <tr>\n",
       "      <th>119878</th>\n",
       "      <td>седан</td>\n",
       "      <td>KIA</td>\n",
       "      <td>серый</td>\n",
       "      <td>2.50</td>\n",
       "      <td>194</td>\n",
       "      <td>бензин</td>\n",
       "      <td>106812</td>\n",
       "      <td>K5</td>\n",
       "      <td>4</td>\n",
       "      <td>2022.00</td>\n",
       "      <td>AUTOMATIC</td>\n",
       "      <td>3.00</td>\n",
       "      <td>0</td>\n",
       "      <td>передний</td>\n",
       "      <td>1</td>\n",
       "      <td>0.00</td>\n",
       "      <td>1467295.00</td>\n",
       "      <td>1</td>\n",
       "    </tr>\n",
       "    <tr>\n",
       "      <th>119879</th>\n",
       "      <td>внедорожник</td>\n",
       "      <td>MERCEDES</td>\n",
       "      <td>белый</td>\n",
       "      <td>3.00</td>\n",
       "      <td>258</td>\n",
       "      <td>дизель</td>\n",
       "      <td>171013</td>\n",
       "      <td>M-КЛАСС</td>\n",
       "      <td>5</td>\n",
       "      <td>2012.00</td>\n",
       "      <td>AUTOMATIC</td>\n",
       "      <td>3.00</td>\n",
       "      <td>1</td>\n",
       "      <td>полный</td>\n",
       "      <td>0</td>\n",
       "      <td>10.00</td>\n",
       "      <td>1193615.00</td>\n",
       "      <td>1</td>\n",
       "    </tr>\n",
       "  </tbody>\n",
       "</table>\n",
       "<p>119880 rows × 18 columns</p>\n",
       "</div>"
      ],
      "text/plain": [
       "           bodyType     brand        color  engineDisplacement  enginePower  \\\n",
       "0           лифтбек     SKODA        синий                1.20          105   \n",
       "1           лифтбек     SKODA       чёрный                1.60          110   \n",
       "2           лифтбек     SKODA        серый                1.80          152   \n",
       "3           лифтбек     SKODA   коричневый                1.60          110   \n",
       "4           лифтбек     SKODA        белый                1.80          152   \n",
       "...             ...       ...          ...                 ...          ...   \n",
       "119875        седан       KIA        серый                2.00          150   \n",
       "119876      хэтчбек   RENAULT        белый                1.40           75   \n",
       "119877      хэтчбек   CITROEN  серебристый                1.40           90   \n",
       "119878        седан       KIA        серый                2.50          194   \n",
       "119879  внедорожник  MERCEDES        белый                3.00          258   \n",
       "\n",
       "       fuelType  mileage model_name  numberOfDoors  productionDate  \\\n",
       "0        бензин    74000    OCTAVIA              5         2014.00   \n",
       "1        бензин    60563    OCTAVIA              5         2017.00   \n",
       "2        бензин    88000     SUPERB              5         2014.00   \n",
       "3        бензин    95000    OCTAVIA              5         2014.00   \n",
       "4        бензин    58536    OCTAVIA              5         2012.00   \n",
       "...         ...      ...        ...            ...             ...   \n",
       "119875   бензин   106812         K5              4         2022.00   \n",
       "119876   бензин   117620    SANDERO              5         2012.00   \n",
       "119877   бензин    88373         C3              5         2009.00   \n",
       "119878   бензин   106812         K5              4         2022.00   \n",
       "119879   дизель   171013    M-КЛАСС              5         2012.00   \n",
       "\n",
       "       vehicleTransmission  owners  pts        wd  wheel   age      price  \\\n",
       "0                    ROBOT    3.00    1  передний      0  6.00       0.00   \n",
       "1               MECHANICAL    1.00    1  передний      0  3.00       0.00   \n",
       "2                    ROBOT    1.00    1  передний      0  6.00       0.00   \n",
       "3                AUTOMATIC    1.00    1  передний      0  6.00       0.00   \n",
       "4                AUTOMATIC    1.00    1  передний      0  8.00       0.00   \n",
       "...                    ...     ...  ...       ...    ...   ...        ...   \n",
       "119875           AUTOMATIC    3.00    0  передний      1  0.00 1401650.00   \n",
       "119876          MECHANICAL    3.00    1  передний      0 10.00  226895.00   \n",
       "119877               ROBOT    1.00    1  передний      0 13.00  197325.00   \n",
       "119878           AUTOMATIC    3.00    0  передний      1  0.00 1467295.00   \n",
       "119879           AUTOMATIC    3.00    1    полный      0 10.00 1193615.00   \n",
       "\n",
       "        sample  \n",
       "0            0  \n",
       "1            0  \n",
       "2            0  \n",
       "3            0  \n",
       "4            0  \n",
       "...        ...  \n",
       "119875       1  \n",
       "119876       1  \n",
       "119877       1  \n",
       "119878       1  \n",
       "119879       1  \n",
       "\n",
       "[119880 rows x 18 columns]"
      ]
     },
     "execution_count": 289,
     "metadata": {},
     "output_type": "execute_result"
    }
   ],
   "source": [
    "data"
   ]
  },
  {
   "cell_type": "markdown",
   "metadata": {},
   "source": [
    "### Значимость бинарных признаков"
   ]
  },
  {
   "cell_type": "code",
   "execution_count": 290,
   "metadata": {},
   "outputs": [
    {
     "data": {
      "text/plain": [
       "<AxesSubplot:>"
      ]
     },
     "execution_count": 290,
     "metadata": {},
     "output_type": "execute_result"
    },
    {
     "data": {
      "image/png": "[encoded data removed]",
      "text/plain": [
       "<Figure size 432x288 with 1 Axes>"
      ]
     },
     "metadata": {
      "needs_background": "light"
     },
     "output_type": "display_data"
    }
   ],
   "source": [
    "imp_cat = pd.Series(mutual_info_classif(data[bin_cols], data['price'],\n",
    "                                        discrete_features=True), index=bin_cols)\n",
    "imp_cat.sort_values(inplace=True)\n",
    "imp_cat.plot(kind='barh')"
   ]
  },
  {
   "cell_type": "markdown",
   "metadata": {},
   "source": [
    "## Категориальные признаки"
   ]
  },
  {
   "cell_type": "code",
   "execution_count": 291,
   "metadata": {},
   "outputs": [
    {
     "data": {
      "text/plain": [
       "['bodyType',\n",
       " 'brand',\n",
       " 'color',\n",
       " 'model_name',\n",
       " 'fuelType',\n",
       " 'numberOfDoors',\n",
       " 'vehicleTransmission',\n",
       " 'owners',\n",
       " 'wd']"
      ]
     },
     "execution_count": 291,
     "metadata": {},
     "output_type": "execute_result"
    }
   ],
   "source": [
    "cat_cols"
   ]
  },
  {
   "cell_type": "code",
   "execution_count": 292,
   "metadata": {
    "scrolled": false
   },
   "outputs": [
    {
     "data": {
      "image/png": "[encoded data removed]",
      "text/plain": [
       "<Figure size 432x288 with 1 Axes>"
      ]
     },
     "metadata": {
      "needs_background": "light"
     },
     "output_type": "display_data"
    },
    {
     "data": {
      "image/png": "[encoded data removed]",
      "text/plain": [
       "<Figure size 432x288 with 1 Axes>"
      ]
     },
     "metadata": {
      "needs_background": "light"
     },
     "output_type": "display_data"
    },
    {
     "data": {
      "image/png": "[encoded data removed]",
      "text/plain": [
       "<Figure size 432x288 with 1 Axes>"
      ]
     },
     "metadata": {
      "needs_background": "light"
     },
     "output_type": "display_data"
    },
    {
     "data": {
      "image/png": "[encoded data removed]",
      "text/plain": [
       "<Figure size 432x288 with 1 Axes>"
      ]
     },
     "metadata": {
      "needs_background": "light"
     },
     "output_type": "display_data"
    },
    {
     "data": {
      "image/png": "[encoded data removed]",
      "text/plain": [
       "<Figure size 432x288 with 1 Axes>"
      ]
     },
     "metadata": {
      "needs_background": "light"
     },
     "output_type": "display_data"
    },
    {
     "data": {
      "image/png": "[encoded data removed]",
      "text/plain": [
       "<Figure size 432x288 with 1 Axes>"
      ]
     },
     "metadata": {
      "needs_background": "light"
     },
     "output_type": "display_data"
    },
    {
     "data": {
      "image/png": "[encoded data removed]",
      "text/plain": [
       "<Figure size 432x288 with 1 Axes>"
      ]
     },
     "metadata": {
      "needs_background": "light"
     },
     "output_type": "display_data"
    },
    {
     "data": {
      "image/png": "[encoded data removed]",
      "text/plain": [
       "<Figure size 432x288 with 1 Axes>"
      ]
     },
     "metadata": {
      "needs_background": "light"
     },
     "output_type": "display_data"
    },
    {
     "data": {
      "image/png": "[encoded data removed]",
      "text/plain": [
       "<Figure size 432x288 with 1 Axes>"
      ]
     },
     "metadata": {
      "needs_background": "light"
     },
     "output_type": "display_data"
    }
   ],
   "source": [
    "for col in cat_cols:\n",
    "    count_plot(data[col], data)"
   ]
  },
  {
   "cell_type": "code",
   "execution_count": 293,
   "metadata": {},
   "outputs": [],
   "source": [
    "lble_encod(data, cat_cols)"
   ]
  },
  {
   "cell_type": "markdown",
   "metadata": {},
   "source": [
    "### Значимость категорийных признаков"
   ]
  },
  {
   "cell_type": "code",
   "execution_count": 294,
   "metadata": {},
   "outputs": [
    {
     "data": {
      "text/plain": [
       "<AxesSubplot:>"
      ]
     },
     "execution_count": 294,
     "metadata": {},
     "output_type": "execute_result"
    },
    {
     "data": {
      "image/png": "[encoded data removed]",
      "text/plain": [
       "<Figure size 432x288 with 1 Axes>"
      ]
     },
     "metadata": {
      "needs_background": "light"
     },
     "output_type": "display_data"
    }
   ],
   "source": [
    "imp_cat = pd.Series(mutual_info_classif(data[cat_cols], data['price'],\n",
    "                                        discrete_features=True), index=cat_cols)\n",
    "imp_cat.sort_values(inplace=True)\n",
    "imp_cat.plot(kind='barh')"
   ]
  },
  {
   "cell_type": "markdown",
   "metadata": {},
   "source": [
    "## Числовые признаки"
   ]
  },
  {
   "cell_type": "code",
   "execution_count": null,
   "metadata": {},
   "outputs": [],
   "source": []
  },
  {
   "cell_type": "code",
   "execution_count": 295,
   "metadata": {},
   "outputs": [
    {
     "data": {
      "image/png": "[encoded data removed]",
      "text/plain": [
       "<Figure size 1080x360 with 2 Axes>"
      ]
     },
     "metadata": {
      "needs_background": "light"
     },
     "output_type": "display_data"
    },
    {
     "data": {
      "image/png": "[encoded data removed]",
      "text/plain": [
       "<Figure size 1080x360 with 2 Axes>"
      ]
     },
     "metadata": {
      "needs_background": "light"
     },
     "output_type": "display_data"
    },
    {
     "data": {
      "image/png": "[encoded data removed]",
      "text/plain": [
       "<Figure size 1080x360 with 2 Axes>"
      ]
     },
     "metadata": {
      "needs_background": "light"
     },
     "output_type": "display_data"
    },
    {
     "data": {
      "image/png": "[encoded data removed]",
      "text/plain": [
       "<Figure size 1080x360 with 2 Axes>"
      ]
     },
     "metadata": {
      "needs_background": "light"
     },
     "output_type": "display_data"
    },
    {
     "data": {
      "image/png": "[encoded data removed]",
      "text/plain": [
       "<Figure size 1080x360 with 2 Axes>"
      ]
     },
     "metadata": {
      "needs_background": "light"
     },
     "output_type": "display_data"
    }
   ],
   "source": [
    "for col in num_cols:\n",
    "    graph_plot(col, data[col])"
   ]
  },
  {
   "cell_type": "code",
   "execution_count": 296,
   "metadata": {},
   "outputs": [
    {
     "data": {
      "image/png": "[encoded data removed]",
      "text/plain": [
       "<Figure size 1080x360 with 2 Axes>"
      ]
     },
     "metadata": {
      "needs_background": "light"
     },
     "output_type": "display_data"
    },
    {
     "data": {
      "image/png": "[encoded data removed]",
      "text/plain": [
       "<Figure size 1080x360 with 2 Axes>"
      ]
     },
     "metadata": {
      "needs_background": "light"
     },
     "output_type": "display_data"
    },
    {
     "data": {
      "image/png": "[encoded data removed]",
      "text/plain": [
       "<Figure size 1080x360 with 2 Axes>"
      ]
     },
     "metadata": {
      "needs_background": "light"
     },
     "output_type": "display_data"
    },
    {
     "data": {
      "image/png": "[encoded data removed]",
      "text/plain": [
       "<Figure size 1080x360 with 2 Axes>"
      ]
     },
     "metadata": {
      "needs_background": "light"
     },
     "output_type": "display_data"
    },
    {
     "data": {
      "image/png": "[encoded data removed]",
      "text/plain": [
       "<Figure size 1080x360 with 2 Axes>"
      ]
     },
     "metadata": {
      "needs_background": "light"
     },
     "output_type": "display_data"
    }
   ],
   "source": [
    "for col in num_cols:\n",
    "    graph_plot(col, np.log(data[col]+1))"
   ]
  },
  {
   "cell_type": "markdown",
   "metadata": {},
   "source": [
    "Логарифрмирование очищает признаки от выбросов и нормализует их распределение. Однако, в данном проекте преобразование признаков делать не будем."
   ]
  },
  {
   "cell_type": "markdown",
   "metadata": {},
   "source": [
    "### Корреляция числовых признаков"
   ]
  },
  {
   "cell_type": "code",
   "execution_count": 297,
   "metadata": {},
   "outputs": [
    {
     "data": {
      "text/plain": [
       "<AxesSubplot:>"
      ]
     },
     "execution_count": 297,
     "metadata": {},
     "output_type": "execute_result"
    },
    {
     "data": {
      "image/png": "[encoded data removed]",
      "text/plain": [
       "<Figure size 432x288 with 2 Axes>"
      ]
     },
     "metadata": {
      "needs_background": "light"
     },
     "output_type": "display_data"
    }
   ],
   "source": [
    "sns.heatmap(data[num_cols].corr().abs(), vmin=0, vmax=1, annot=True)"
   ]
  },
  {
   "cell_type": "markdown",
   "metadata": {},
   "source": [
    "Вполне закономерно проявляется относительно высокая корреляция между мощностью и объемом двигателя, а также между пробегом и возрастом. \n",
    "\n",
    "В связи с ограниченностью времени проблему мультиколлинеарности в этом проекте решать не будем."
   ]
  },
  {
   "cell_type": "markdown",
   "metadata": {},
   "source": [
    "### Значимость числовых признаков"
   ]
  },
  {
   "cell_type": "code",
   "execution_count": 298,
   "metadata": {},
   "outputs": [
    {
     "data": {
      "text/plain": [
       "<AxesSubplot:>"
      ]
     },
     "execution_count": 298,
     "metadata": {},
     "output_type": "execute_result"
    },
    {
     "data": {
      "image/png": "[encoded data removed]",
      "text/plain": [
       "<Figure size 432x288 with 1 Axes>"
      ]
     },
     "metadata": {
      "needs_background": "light"
     },
     "output_type": "display_data"
    }
   ],
   "source": [
    "imp_num = pd.Series(f_classif(data[num_cols], data['price'])[\n",
    "                    0], index=num_cols)\n",
    "imp_num.sort_values(inplace=True)\n",
    "imp_num.plot(kind='barh')"
   ]
  },
  {
   "cell_type": "code",
   "execution_count": 299,
   "metadata": {},
   "outputs": [],
   "source": [
    "# Сохраним очищенные данные, чтобы не проводить обработку заново, если что\n",
    "#test.to_csv('test_backup.csv', index=False)\n",
    "#train.to_csv('train_backup.csv', index=False)\n",
    "#train_2022.to_csv('train_2022_backup.csv', index=False)"
   ]
  },
  {
   "cell_type": "markdown",
   "metadata": {
    "papermill": {
     "duration": 0.033402,
     "end_time": "2020-10-26T12:47:02.866506",
     "exception": false,
     "start_time": "2020-10-26T12:47:02.833104",
     "status": "completed"
    },
    "tags": []
   },
   "source": [
    "## Обучение"
   ]
  },
  {
   "cell_type": "code",
   "execution_count": 300,
   "metadata": {},
   "outputs": [],
   "source": [
    "df = data.query('sample == 1').drop(['sample'], axis=1)\n",
    "X_test = data.query('sample == 0').drop(['sample', 'price'], axis=1).values"
   ]
  },
  {
   "cell_type": "code",
   "execution_count": 301,
   "metadata": {
    "execution": {
     "iopub.execute_input": "2022-02-18T07:37:21.316728Z",
     "iopub.status.busy": "2022-02-18T07:37:21.316447Z",
     "iopub.status.idle": "2022-02-18T07:37:21.355880Z",
     "shell.execute_reply": "2022-02-18T07:37:21.354819Z",
     "shell.execute_reply.started": "2022-02-18T07:37:21.316702Z"
    },
    "papermill": {
     "duration": 0.10809,
     "end_time": "2020-10-26T12:47:03.549533",
     "exception": false,
     "start_time": "2020-10-26T12:47:03.441443",
     "status": "completed"
    },
    "tags": []
   },
   "outputs": [],
   "source": [
    "train, validation = train_test_split(\n",
    "    df, test_size=VAL_SIZE, shuffle=True, random_state=RANDOM_SEED)\n",
    "X_train = train.drop(['price'], axis=1).values\n",
    "y_train = train['price'].values\n",
    "X_validation = validation.drop(['price'], axis=1).values\n",
    "y_true = validation['price'].values"
   ]
  },
  {
   "cell_type": "code",
   "execution_count": 302,
   "metadata": {
    "execution": {
     "iopub.execute_input": "2022-02-18T07:37:21.357788Z",
     "iopub.status.busy": "2022-02-18T07:37:21.357493Z",
     "iopub.status.idle": "2022-02-18T07:37:21.378107Z",
     "shell.execute_reply": "2022-02-18T07:37:21.377238Z",
     "shell.execute_reply.started": "2022-02-18T07:37:21.357762Z"
    },
    "papermill": {
     "duration": 0.06183,
     "end_time": "2020-10-26T12:47:03.646867",
     "exception": false,
     "start_time": "2020-10-26T12:47:03.585037",
     "status": "completed"
    },
    "tags": []
   },
   "outputs": [],
   "source": [
    "# Выгрузка датасетов в DataSphere для подбора параметров и стекинга.\n",
    "# Для персонального компьютера - это слишком сложная задача."
   ]
  },
  {
   "cell_type": "code",
   "execution_count": 303,
   "metadata": {
    "execution": {
     "iopub.execute_input": "2022-02-18T07:37:21.379386Z",
     "iopub.status.busy": "2022-02-18T07:37:21.379141Z",
     "iopub.status.idle": "2022-02-18T07:37:21.402504Z",
     "shell.execute_reply": "2022-02-18T07:37:21.401511Z",
     "shell.execute_reply.started": "2022-02-18T07:37:21.379362Z"
    },
    "papermill": {
     "duration": 0.071275,
     "end_time": "2020-10-26T12:47:03.754",
     "exception": false,
     "start_time": "2020-10-26T12:47:03.682725",
     "status": "completed"
    },
    "tags": []
   },
   "outputs": [],
   "source": [
    "#pd.DataFrame(X_train).to_csv('X_train.csv', index=False)\n",
    "#pd.DataFrame(y_train).to_csv('y_train.csv', index=False)\n",
    "#pd.DataFrame(X_validation).to_csv('X_validation.csv', index=False)\n",
    "#pd.DataFrame(y_true).to_csv('y_true.csv', index=False)"
   ]
  },
  {
   "cell_type": "markdown",
   "metadata": {
    "papermill": {
     "duration": 0.037164,
     "end_time": "2020-10-26T12:47:03.997616",
     "exception": false,
     "start_time": "2020-10-26T12:47:03.960452",
     "status": "completed"
    },
    "tags": []
   },
   "source": [
    "### CatBoost\n",
    "\n",
    "У нас в данных много категориальных признаков. Специально для работы с такими данными была создана очень удобная библиотека CatBoost от Яндекса. [https://catboost.ai](http://)     \n",
    "На данный момент **CatBoost является одной из лучших библиотек для табличных данных!**\n"
   ]
  },
  {
   "cell_type": "markdown",
   "metadata": {
    "papermill": {
     "duration": 0.035833,
     "end_time": "2020-10-26T12:47:04.149539",
     "exception": false,
     "start_time": "2020-10-26T12:47:04.113706",
     "status": "completed"
    },
    "tags": []
   },
   "source": [
    "#### Fit"
   ]
  },
  {
   "cell_type": "code",
   "execution_count": 304,
   "metadata": {
    "execution": {
     "iopub.execute_input": "2022-02-18T07:37:21.448011Z",
     "iopub.status.busy": "2022-02-18T07:37:21.447493Z",
     "iopub.status.idle": "2022-02-18T07:38:07.259797Z",
     "shell.execute_reply": "2022-02-18T07:38:07.258931Z",
     "shell.execute_reply.started": "2022-02-18T07:37:21.447967Z"
    },
    "papermill": {
     "duration": 67.991521,
     "end_time": "2020-10-26T12:48:12.178488",
     "exception": false,
     "start_time": "2020-10-26T12:47:04.186967",
     "status": "completed"
    },
    "tags": []
   },
   "outputs": [],
   "source": [
    "model = CatBoostRegressor(iterations = 5000,\n",
    "                          random_seed = RANDOM_SEED,\n",
    "                          eval_metric='MAPE',\n",
    "                          custom_metric=['R2', 'MAE'],\n",
    "                          silent=True,\n",
    "                         )\n",
    "model.fit(X_train, y_train,\n",
    "         #cat_features=cat_features_ids,\n",
    "         eval_set=(X_validation, y_true),\n",
    "         verbose_eval=0,\n",
    "         use_best_model=True,\n",
    "         #plot=True\n",
    "         )\n",
    "\n",
    "model.save_model('catboost_single_model_baseline.model')"
   ]
  },
  {
   "cell_type": "code",
   "execution_count": 305,
   "metadata": {
    "execution": {
     "iopub.execute_input": "2022-02-18T07:38:07.262660Z",
     "iopub.status.busy": "2022-02-18T07:38:07.262309Z",
     "iopub.status.idle": "2022-02-18T07:38:07.316826Z",
     "shell.execute_reply": "2022-02-18T07:38:07.315812Z",
     "shell.execute_reply.started": "2022-02-18T07:38:07.262628Z"
    }
   },
   "outputs": [
    {
     "name": "stdout",
     "output_type": "stream",
     "text": [
      "Точность модели по метрике MAPE: 16.71%\n"
     ]
    }
   ],
   "source": [
    "# оцениваем точность\n",
    "predict = model.predict(X_validation)\n",
    "print(f\"Точность модели по метрике MAPE: {(mape(y_true, predict))*100:0.2f}%\")"
   ]
  },
  {
   "cell_type": "markdown",
   "metadata": {},
   "source": [
    "#### Log Traget\n",
    "Попробуем взять таргет в логорифм - это позволит уменьшить влияние выбросов на обучение модели (используем для этого np.log и np.exp).    \n",
    "В принциепе мы можем использовать любое приобразование на целевую переменную. Например деление на курс доллара, евро или гречки :) в дату сбора данных, смотрим дату парсинга в тесте в **parsing_unixtime**"
   ]
  },
  {
   "cell_type": "code",
   "execution_count": 306,
   "metadata": {
    "execution": {
     "iopub.execute_input": "2022-02-18T07:38:07.329748Z",
     "iopub.status.busy": "2022-02-18T07:38:07.329383Z",
     "iopub.status.idle": "2022-02-18T07:38:53.677836Z",
     "shell.execute_reply": "2022-02-18T07:38:53.676879Z",
     "shell.execute_reply.started": "2022-02-18T07:38:07.329708Z"
    }
   },
   "outputs": [],
   "source": [
    "model = CatBoostRegressor(iterations = 5000,\n",
    "                          random_seed = RANDOM_SEED,\n",
    "                          eval_metric='MAPE',\n",
    "                          custom_metric=['R2', 'MAE'],\n",
    "                          silent=True,\n",
    "                         )\n",
    "model.fit(X_train, np.log(y_train),\n",
    "         #cat_features=cat_features_ids,\n",
    "         eval_set=(X_validation, np.log(y_true)),\n",
    "         verbose_eval=0,\n",
    "         use_best_model=True,\n",
    "         #plot=True\n",
    "         )\n",
    "\n",
    "model.save_model('catboost_single_model_2_baseline.model')"
   ]
  },
  {
   "cell_type": "code",
   "execution_count": 307,
   "metadata": {
    "execution": {
     "iopub.execute_input": "2022-02-18T07:38:53.679640Z",
     "iopub.status.busy": "2022-02-18T07:38:53.679221Z",
     "iopub.status.idle": "2022-02-18T07:38:53.815103Z",
     "shell.execute_reply": "2022-02-18T07:38:53.814213Z",
     "shell.execute_reply.started": "2022-02-18T07:38:53.679600Z"
    }
   },
   "outputs": [],
   "source": [
    "VERSION = 1\n",
    "predict_test = np.exp(model.predict(X_validation))\n",
    "predict_submission = np.exp(model.predict(X_test))"
   ]
  },
  {
   "cell_type": "code",
   "execution_count": 308,
   "metadata": {
    "execution": {
     "iopub.execute_input": "2022-02-18T07:38:53.816932Z",
     "iopub.status.busy": "2022-02-18T07:38:53.816512Z",
     "iopub.status.idle": "2022-02-18T07:38:53.824236Z",
     "shell.execute_reply": "2022-02-18T07:38:53.823580Z",
     "shell.execute_reply.started": "2022-02-18T07:38:53.816889Z"
    }
   },
   "outputs": [
    {
     "name": "stdout",
     "output_type": "stream",
     "text": [
      "Точность модели по метрике MAPE: 13.44%\n"
     ]
    }
   ],
   "source": [
    "print(\n",
    "    f\"Точность модели по метрике MAPE: {(mape(y_true, predict_test))*100:0.2f}%\")"
   ]
  },
  {
   "cell_type": "code",
   "execution_count": 309,
   "metadata": {},
   "outputs": [
    {
     "name": "stdout",
     "output_type": "stream",
     "text": [
      "Точность модели по метрике RMSE: 350820.19\n",
      "Точность модели по метрике R2: 0.95\n"
     ]
    }
   ],
   "source": [
    "print(\n",
    "    f\"Точность модели по метрике RMSE: {(RMSE(y_true, predict_test,squared=False)):0.2f}\")\n",
    "print(\n",
    "    f\"Точность модели по метрике R2: {(r2_score(y_true, predict_test)):0.2f}\")"
   ]
  },
  {
   "cell_type": "markdown",
   "metadata": {},
   "source": [
    "### Lazy Predict"
   ]
  },
  {
   "cell_type": "code",
   "execution_count": null,
   "metadata": {},
   "outputs": [],
   "source": [
    "# !pip install --user lazypredict"
   ]
  },
  {
   "cell_type": "markdown",
   "metadata": {},
   "source": [
    "Посмотрим, какие модели порекомендует пакет Lazy Predict. Работает данный модуль довольно долго, поэтому прикладываем здесь скриншот с результатами."
   ]
  },
  {
   "cell_type": "code",
   "execution_count": null,
   "metadata": {},
   "outputs": [],
   "source": [
    "# reg = LazyRegressor(verbose=0, ignore_warnings=False, custom_metric=None)\n",
    "# models,predictions = reg.fit(X_train, X_validation, y_train, y_true)\n",
    "# print(models)"
   ]
  },
  {
   "attachments": {
    "FireShot%20Capture%20017%20-%20mk-sf-dst-car-price-prediction-v16%20-%20Jupyter%20Notebook%20-%20localhost.png": {
     "image/png": "[encoded data removed]"
    }
   },
   "cell_type": "markdown",
   "metadata": {},
   "source": [
    "![FireShot%20Capture%20017%20-%20mk-sf-dst-car-price-prediction-v16%20-%20Jupyter%20Notebook%20-%20localhost.png](attachment:FireShot%20Capture%20017%20-%20mk-sf-dst-car-price-prediction-v16%20-%20Jupyter%20Notebook%20-%20localhost.png)"
   ]
  },
  {
   "cell_type": "markdown",
   "metadata": {},
   "source": [
    "### ExtraTreesRegressor"
   ]
  },
  {
   "cell_type": "code",
   "execution_count": 310,
   "metadata": {},
   "outputs": [
    {
     "name": "stderr",
     "output_type": "stream",
     "text": [
      "[Parallel(n_jobs=-1)]: Using backend ThreadingBackend with 8 concurrent workers.\n",
      "[Parallel(n_jobs=-1)]: Done  34 tasks      | elapsed:    1.8s\n",
      "[Parallel(n_jobs=-1)]: Done 100 out of 100 | elapsed:    4.9s finished\n",
      "[Parallel(n_jobs=8)]: Using backend ThreadingBackend with 8 concurrent workers.\n",
      "[Parallel(n_jobs=8)]: Done  34 tasks      | elapsed:    0.0s\n",
      "[Parallel(n_jobs=8)]: Done 100 out of 100 | elapsed:    0.2s finished\n",
      "[Parallel(n_jobs=8)]: Using backend ThreadingBackend with 8 concurrent workers.\n",
      "[Parallel(n_jobs=8)]: Done  34 tasks      | elapsed:    0.0s\n"
     ]
    },
    {
     "name": "stdout",
     "output_type": "stream",
     "text": [
      "Точность модели по метрике MAPE: 14.49%\n"
     ]
    },
    {
     "name": "stderr",
     "output_type": "stream",
     "text": [
      "[Parallel(n_jobs=8)]: Done 100 out of 100 | elapsed:    0.1s finished\n"
     ]
    }
   ],
   "source": [
    "VERSION = 2\n",
    "et = ExtraTreesRegressor(random_state=RANDOM_SEED,\n",
    "                         n_jobs=-1, verbose=1).fit(X_train, np.log(y_train))\n",
    "predict_submission = np.exp(et.predict(X_test))\n",
    "print(\n",
    "    f\"Точность модели по метрике MAPE: {(mape(y_true, np.exp(et.predict(X_validation)))) * 100:0.2f}%\")"
   ]
  },
  {
   "cell_type": "markdown",
   "metadata": {},
   "source": [
    "### RandomForestRegressor"
   ]
  },
  {
   "cell_type": "code",
   "execution_count": 311,
   "metadata": {},
   "outputs": [
    {
     "name": "stderr",
     "output_type": "stream",
     "text": [
      "[Parallel(n_jobs=-1)]: Using backend ThreadingBackend with 8 concurrent workers.\n",
      "[Parallel(n_jobs=-1)]: Done  34 tasks      | elapsed:    2.6s\n",
      "[Parallel(n_jobs=-1)]: Done 100 out of 100 | elapsed:    6.6s finished\n",
      "[Parallel(n_jobs=8)]: Using backend ThreadingBackend with 8 concurrent workers.\n",
      "[Parallel(n_jobs=8)]: Done  34 tasks      | elapsed:    0.0s\n",
      "[Parallel(n_jobs=8)]: Done 100 out of 100 | elapsed:    0.1s finished\n",
      "[Parallel(n_jobs=8)]: Using backend ThreadingBackend with 8 concurrent workers.\n",
      "[Parallel(n_jobs=8)]: Done  34 tasks      | elapsed:    0.0s\n",
      "[Parallel(n_jobs=8)]: Done 100 out of 100 | elapsed:    0.1s finished\n"
     ]
    },
    {
     "name": "stdout",
     "output_type": "stream",
     "text": [
      "Точность модели по метрике MAPE: 14.16%\n"
     ]
    }
   ],
   "source": [
    "VERSION = 3\n",
    "rf = RandomForestRegressor(random_state=RANDOM_SEED,\n",
    "                           n_jobs=-1, verbose=1).fit(X_train, np.log(y_train))\n",
    "predict_submission = np.exp(rf.predict(X_test))\n",
    "print(\n",
    "    f\"Точность модели по метрике MAPE: {(mape(y_true, np.exp(rf.predict(X_validation)))) * 100:0.2f}%\")"
   ]
  },
  {
   "cell_type": "markdown",
   "metadata": {},
   "source": [
    "### XGBRegressor"
   ]
  },
  {
   "cell_type": "code",
   "execution_count": 312,
   "metadata": {},
   "outputs": [
    {
     "name": "stdout",
     "output_type": "stream",
     "text": [
      "Точность модели по метрике MAPE: 12.93%\n"
     ]
    }
   ],
   "source": [
    "VERSION = 4\n",
    "xb = xgb.XGBRegressor(objective='reg:squarederror', colsample_bytree=0.5,\n",
    "                      learning_rate=0.03, max_depth=12, alpha=1, n_jobs=-1, n_estimators=1000)\n",
    "xb.fit(X_train, np.log(y_train+1))\n",
    "predict_test = np.exp(xb.predict(X_validation))\n",
    "predict_submission = np.exp(xb.predict(X_test))\n",
    "print(\n",
    "    f\"Точность модели по метрике MAPE: {(mape(y_true, predict_test)) * 100:0.2f}%\")"
   ]
  },
  {
   "cell_type": "markdown",
   "metadata": {},
   "source": [
    "### RandomForestRegressor с подобром параметров"
   ]
  },
  {
   "cell_type": "markdown",
   "metadata": {},
   "source": [
    "Оптимизируем параметры для RandomForestRegressor. \n",
    "\n",
    "Данная задача сложна для ПК, колаб и пр. Поэтому такие \"тяжелевосеные\" расчеты проводились в DataSphere от Yandex. Здесь приводятся только скриншоты с результатами."
   ]
  },
  {
   "cell_type": "code",
   "execution_count": 314,
   "metadata": {},
   "outputs": [],
   "source": [
    "n_estimators = [int(x) for x in np.linspace(start=200, stop=2000, num=200)]\n",
    "max_features = ['auto', 'sqrt']\n",
    "max_depth = [int(x) for x in np.linspace(10, 100, num=30)]\n",
    "max_depth.append(None)\n",
    "min_samples_split = [2, 5, 10]\n",
    "min_samples_leaf = [1, 2, 4]\n",
    "bootstrap = [True, False]\n",
    "random_grid = {'n_estimators': n_estimators,\n",
    "               'max_features': max_features,\n",
    "               'max_depth': max_depth,\n",
    "               'min_samples_split': min_samples_split,\n",
    "               'min_samples_leaf': min_samples_leaf,\n",
    "               'bootstrap': bootstrap}"
   ]
  },
  {
   "cell_type": "code",
   "execution_count": null,
   "metadata": {},
   "outputs": [],
   "source": [
    "#rf = RandomForestRegressor(random_state=RANDOM_SEED)\n",
    "#rf_random = RandomizedSearchCV(estimator=rf, param_distributions=random_grid, n_iter=100, \n",
    "#                               cv=3, verbose=2, random_state=RANDOM_SEED, n_jobs=-1)\n",
    "#rf_random.fit(X_train, y_train)"
   ]
  },
  {
   "cell_type": "code",
   "execution_count": null,
   "metadata": {},
   "outputs": [],
   "source": [
    "#rf_random.best_params_"
   ]
  },
  {
   "attachments": {
    "FireShot%20Capture%20019%20-%20cv-and-stacking%20-%20yds.yandexcloud.net.png": {
     "image/png": "[encoded data removed]"
    }
   },
   "cell_type": "markdown",
   "metadata": {},
   "source": [
    "![FireShot%20Capture%20019%20-%20cv-and-stacking%20-%20yds.yandexcloud.net.png](attachment:FireShot%20Capture%20019%20-%20cv-and-stacking%20-%20yds.yandexcloud.net.png)"
   ]
  },
  {
   "cell_type": "code",
   "execution_count": 316,
   "metadata": {},
   "outputs": [
    {
     "name": "stdout",
     "output_type": "stream",
     "text": [
      "Точность модели по метрике MAPE: 13.72%\n"
     ]
    }
   ],
   "source": [
    "VERSION = 5\n",
    "rf = RandomForestRegressor(n_estimators=300, min_samples_split=2, min_samples_leaf=1,\n",
    "                           max_features='sqrt', max_depth=19, bootstrap=False, random_state=RANDOM_SEED).fit(X_train, np.log(y_train))\n",
    "predict_submission = np.exp(rf.predict(X_test))\n",
    "print(\n",
    "    f\"Точность модели по метрике MAPE: {(mape(y_true, np.exp(rf.predict(X_validation)))) * 100:0.2f}%\")"
   ]
  },
  {
   "cell_type": "markdown",
   "metadata": {},
   "source": [
    "### GradientBoostingRegressor с подобром параметров"
   ]
  },
  {
   "cell_type": "markdown",
   "metadata": {},
   "source": [
    "Подбор параметров для GradientBoostingRegressor также проводился в DataSphere от Yandex. Здесь приводится только скриншот с результатами."
   ]
  },
  {
   "cell_type": "code",
   "execution_count": null,
   "metadata": {},
   "outputs": [],
   "source": [
    "n_estimators = [100, 200, 1000]\n",
    "learning_rate = [0.01, 0.02, 0.03, 0.04]\n",
    "max_depth = [5, 10, 15]\n",
    "min_samples_split = [2, 5, 10]\n",
    "\n",
    "random_grid = {'n_estimators': n_estimators,\n",
    "               'learning_rate': learning_rate,\n",
    "               'max_depth': max_depth,\n",
    "               'min_samples_split': min_samples_split\n",
    "               }"
   ]
  },
  {
   "cell_type": "code",
   "execution_count": null,
   "metadata": {},
   "outputs": [],
   "source": [
    "#gb = GradientBoostingRegressor(random_state=RANDOM_SEED)\n",
    "#gb_random = RandomizedSearchCV(estimator=gb, param_distributions=random_grid, n_iter=100, \n",
    "                               cv=3, verbose=2, random_state=RANDOM_SEED, n_jobs=-1)\n",
    "#gb_random.fit(X_train, y_train)"
   ]
  },
  {
   "cell_type": "code",
   "execution_count": null,
   "metadata": {},
   "outputs": [],
   "source": [
    "#gb_random.best_params_"
   ]
  },
  {
   "attachments": {
    "FireShot%20Capture%20018%20-%20mk-sf-dst-car-price-prediction-v16%20-%20Jupyter%20Notebook%20-%20localhost.png": {
     "image/png": "[encoded data removed]"
    }
   },
   "cell_type": "markdown",
   "metadata": {},
   "source": [
    "![FireShot%20Capture%20018%20-%20mk-sf-dst-car-price-prediction-v16%20-%20Jupyter%20Notebook%20-%20localhost.png](attachment:FireShot%20Capture%20018%20-%20mk-sf-dst-car-price-prediction-v16%20-%20Jupyter%20Notebook%20-%20localhost.png)"
   ]
  },
  {
   "cell_type": "code",
   "execution_count": 317,
   "metadata": {},
   "outputs": [
    {
     "name": "stdout",
     "output_type": "stream",
     "text": [
      "Точность модели по метрике MAPE: 14.64%\n"
     ]
    }
   ],
   "source": [
    "VERSION = 6\n",
    "gb = GradientBoostingRegressor(min_samples_split=2, learning_rate=0.04,\n",
    "                               max_depth=5, n_estimators=1000).fit(X_train, np.log(y_train))\n",
    "predict_submission = np.exp(gb.predict(X_test))\n",
    "print(\n",
    "    f\"Точность модели по метрике MAPE: {(mape(y_true, np.exp(gb.predict(X_validation)))) * 100:0.2f}%\")"
   ]
  },
  {
   "cell_type": "markdown",
   "metadata": {},
   "source": [
    "### Стекинг"
   ]
  },
  {
   "cell_type": "markdown",
   "metadata": {},
   "source": [
    "Стекинг проводился в DataSphere от Yandex. Здесь приводится только скриншот с результатами."
   ]
  },
  {
   "cell_type": "code",
   "execution_count": null,
   "metadata": {},
   "outputs": [],
   "source": [
    "VERSION = 7\n",
    "'''\n",
    "estimators = [('gb', GradientBoostingRegressor(min_samples_split=2, learning_rate=0.03, max_depth=10, n_estimators=300)),\n",
    "              ('rf', RandomForestRegressor(random_state = RANDOM_SEED, n_jobs=-1, verbose=1, max_depth=5, n_estimators=200)),\n",
    "              ('et', ExtraTreesRegressor(random_state = RANDOM_SEED, n_jobs = -1, verbose = 1))\n",
    "             ]\n",
    "\n",
    "reg = StackingRegressor(estimators=estimators, final_estimator=LinearRegression())\n",
    "\n",
    "# оцениваем точность\n",
    "reg.fit(X_train, np.log(y_train))\n",
    "y_pred = np.exp(reg.predict(X_validation))\n",
    "print(f\"Точность модели по метрике MAPE: {(mape(y_true, y_pred))*100:0.2f}%\")\n",
    "'''"
   ]
  },
  {
   "attachments": {
    "image.png": {
     "image/png": "[encoded data removed]"
    }
   },
   "cell_type": "markdown",
   "metadata": {},
   "source": [
    "![image.png](attachment:image.png)"
   ]
  },
  {
   "cell_type": "markdown",
   "metadata": {
    "papermill": {
     "duration": 0.085876,
     "end_time": "2020-10-26T12:48:12.734207",
     "exception": false,
     "start_time": "2020-10-26T12:48:12.648331",
     "status": "completed"
    },
    "tags": []
   },
   "source": [
    "# Submission"
   ]
  },
  {
   "cell_type": "code",
   "execution_count": 313,
   "metadata": {
    "execution": {
     "iopub.execute_input": "2022-02-18T07:38:53.825461Z",
     "iopub.status.busy": "2022-02-18T07:38:53.825191Z",
     "iopub.status.idle": "2022-02-18T07:38:54.502306Z",
     "shell.execute_reply": "2022-02-18T07:38:54.501258Z",
     "shell.execute_reply.started": "2022-02-18T07:38:53.825434Z"
    },
    "papermill": {
     "duration": 0.628302,
     "end_time": "2020-10-26T12:48:13.763488",
     "exception": false,
     "start_time": "2020-10-26T12:48:13.135186",
     "status": "completed"
    },
    "tags": []
   },
   "outputs": [
    {
     "data": {
      "text/html": [
       "<div>\n",
       "<style scoped>\n",
       "    .dataframe tbody tr th:only-of-type {\n",
       "        vertical-align: middle;\n",
       "    }\n",
       "\n",
       "    .dataframe tbody tr th {\n",
       "        vertical-align: top;\n",
       "    }\n",
       "\n",
       "    .dataframe thead th {\n",
       "        text-align: right;\n",
       "    }\n",
       "</style>\n",
       "<table border=\"1\" class=\"dataframe\">\n",
       "  <thead>\n",
       "    <tr style=\"text-align: right;\">\n",
       "      <th></th>\n",
       "      <th>sell_id</th>\n",
       "      <th>price</th>\n",
       "    </tr>\n",
       "  </thead>\n",
       "  <tbody>\n",
       "    <tr>\n",
       "      <th>0</th>\n",
       "      <td>1100575026</td>\n",
       "      <td>596364.81</td>\n",
       "    </tr>\n",
       "    <tr>\n",
       "      <th>1</th>\n",
       "      <td>1100549428</td>\n",
       "      <td>908970.56</td>\n",
       "    </tr>\n",
       "    <tr>\n",
       "      <th>2</th>\n",
       "      <td>1100658222</td>\n",
       "      <td>847282.00</td>\n",
       "    </tr>\n",
       "    <tr>\n",
       "      <th>3</th>\n",
       "      <td>1100937408</td>\n",
       "      <td>709222.62</td>\n",
       "    </tr>\n",
       "    <tr>\n",
       "      <th>4</th>\n",
       "      <td>1101037972</td>\n",
       "      <td>701398.62</td>\n",
       "    </tr>\n",
       "    <tr>\n",
       "      <th>5</th>\n",
       "      <td>1100912634</td>\n",
       "      <td>774565.62</td>\n",
       "    </tr>\n",
       "    <tr>\n",
       "      <th>6</th>\n",
       "      <td>1101228730</td>\n",
       "      <td>599294.12</td>\n",
       "    </tr>\n",
       "    <tr>\n",
       "      <th>7</th>\n",
       "      <td>1100165896</td>\n",
       "      <td>370734.41</td>\n",
       "    </tr>\n",
       "    <tr>\n",
       "      <th>8</th>\n",
       "      <td>1100768262</td>\n",
       "      <td>1751518.62</td>\n",
       "    </tr>\n",
       "    <tr>\n",
       "      <th>9</th>\n",
       "      <td>1101218501</td>\n",
       "      <td>792550.62</td>\n",
       "    </tr>\n",
       "  </tbody>\n",
       "</table>\n",
       "</div>"
      ],
      "text/plain": [
       "      sell_id      price\n",
       "0  1100575026  596364.81\n",
       "1  1100549428  908970.56\n",
       "2  1100658222  847282.00\n",
       "3  1100937408  709222.62\n",
       "4  1101037972  701398.62\n",
       "5  1100912634  774565.62\n",
       "6  1101228730  599294.12\n",
       "7  1100165896  370734.41\n",
       "8  1100768262 1751518.62\n",
       "9  1101218501  792550.62"
      ]
     },
     "execution_count": 313,
     "metadata": {},
     "output_type": "execute_result"
    }
   ],
   "source": [
    "sample_submission['price'] = predict_submission\n",
    "sample_submission.to_csv(f'submission_2_v{VERSION}.csv', index=False)\n",
    "sample_submission.head(10)"
   ]
  },
  {
   "cell_type": "code",
   "execution_count": 319,
   "metadata": {},
   "outputs": [
    {
     "data": {
      "text/plain": [
       "(34686, 2)"
      ]
     },
     "execution_count": 319,
     "metadata": {},
     "output_type": "execute_result"
    }
   ],
   "source": [
    "sample_submission.shape"
   ]
  },
  {
   "cell_type": "markdown",
   "metadata": {
    "papermill": {
     "duration": 0.087712,
     "end_time": "2020-10-26T12:48:14.104388",
     "exception": false,
     "start_time": "2020-10-26T12:48:14.016676",
     "status": "completed"
    },
    "tags": []
   },
   "source": [
    "# Выводы\n",
    "\n",
    "95% времени заняли парсинг и очистка данных. Из-за этого, к сожалению, остальные разделы проекта пришлось \"скомкать\". Тем не менее некоторые моменты можно отметить.\n",
    "\n",
    "* CatBoost выдает лучшие метрики (RMSE и коэф.детерминации), нежели модели, рекомендуемые Lazy Predict. Однако, метрика МАРЕ у CatBoost получается ниже, чем у XGBRegressor.\n",
    "* Лучший результат дала модель на основе XGBRegressor: 12.93% на валидационной выборке и 13.16% на ЛБ в Kaggle.\n",
    "\n",
    "Что можно улучшить:\n",
    "* Спарсить больше свежих данных (времени хватило примерно на 3600 записей).\n",
    "* Очистку начать с целевой переменной. Удаляем строки с пропусками в целевой переменной = удаляем потенциальный мусор в других переменных. \n",
    "* Поиграть с преобразованием переменных: логарифмирование, стандартизация, очистка от выбросов и пр.\n",
    "* Убрать мультиколлинеарность.\n"
   ]
  },
  {
   "cell_type": "code",
   "execution_count": null,
   "metadata": {
    "papermill": {
     "duration": 0.082055,
     "end_time": "2020-10-26T12:48:14.270602",
     "exception": false,
     "start_time": "2020-10-26T12:48:14.188547",
     "status": "completed"
    },
    "tags": []
   },
   "outputs": [],
   "source": []
  },
  {
   "cell_type": "code",
   "execution_count": null,
   "metadata": {
    "papermill": {
     "duration": 0.08168,
     "end_time": "2020-10-26T12:48:14.435554",
     "exception": false,
     "start_time": "2020-10-26T12:48:14.353874",
     "status": "completed"
    },
    "tags": []
   },
   "outputs": [],
   "source": []
  },
  {
   "cell_type": "code",
   "execution_count": null,
   "metadata": {
    "papermill": {
     "duration": 0.080788,
     "end_time": "2020-10-26T12:48:14.596978",
     "exception": false,
     "start_time": "2020-10-26T12:48:14.51619",
     "status": "completed"
    },
    "tags": []
   },
   "outputs": [],
   "source": []
  }
 ],
 "metadata": {
  "kernelspec": {
   "display_name": "Python 3 (ipykernel)",
   "language": "python",
   "name": "python3"
  },
  "language_info": {
   "codemirror_mode": {
    "name": "ipython",
    "version": 3
   },
   "file_extension": ".py",
   "mimetype": "text/x-python",
   "name": "python",
   "nbconvert_exporter": "python",
   "pygments_lexer": "ipython3",
   "version": "3.8.8"
  }
 },
 "nbformat": 4,
 "nbformat_minor": 4
}
